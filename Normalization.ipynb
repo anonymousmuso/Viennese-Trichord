{
 "cells": [
  {
   "cell_type": "markdown",
   "metadata": {},
   "source": [
    "# Introduction\n",
    "This normalises and linear & vertical values and provides various comparisons between them"
   ]
  },
  {
   "cell_type": "markdown",
   "metadata": {},
   "source": [
    "## Setup"
   ]
  },
  {
   "cell_type": "code",
   "execution_count": 140,
   "metadata": {},
   "outputs": [
    {
     "data": {
      "text/html": [
       "        <script type=\"text/javascript\">\n",
       "        window.PlotlyConfig = {MathJaxConfig: 'local'};\n",
       "        if (window.MathJax) {MathJax.Hub.Config({SVG: {font: \"STIX-Web\"}});}\n",
       "        if (typeof require !== 'undefined') {\n",
       "        require.undef(\"plotly\");\n",
       "        requirejs.config({\n",
       "            paths: {\n",
       "                'plotly': ['https://cdn.plot.ly/plotly-latest.min']\n",
       "            }\n",
       "        });\n",
       "        require(['plotly'], function(Plotly) {\n",
       "            window._Plotly = Plotly;\n",
       "        });\n",
       "        }\n",
       "        </script>\n",
       "        "
      ]
     },
     "metadata": {},
     "output_type": "display_data"
    },
    {
     "data": {
      "text/html": [
       "        <script type=\"text/javascript\">\n",
       "        window.PlotlyConfig = {MathJaxConfig: 'local'};\n",
       "        if (window.MathJax) {MathJax.Hub.Config({SVG: {font: \"STIX-Web\"}});}\n",
       "        if (typeof require !== 'undefined') {\n",
       "        require.undef(\"plotly\");\n",
       "        requirejs.config({\n",
       "            paths: {\n",
       "                'plotly': ['https://cdn.plot.ly/plotly-latest.min']\n",
       "            }\n",
       "        });\n",
       "        require(['plotly'], function(Plotly) {\n",
       "            window._Plotly = Plotly;\n",
       "        });\n",
       "        }\n",
       "        </script>\n",
       "        "
      ]
     },
     "metadata": {},
     "output_type": "display_data"
    }
   ],
   "source": [
    "from music21 import *\n",
    "import os\n",
    "import csv\n",
    "import itertools as it\n",
    "import statistics\n",
    "import numpy as np\n",
    "import pandas as pd\n",
    "import chart_studio.plotly as py\n",
    "import plotly.graph_objects as go\n",
    "from plotly.offline import iplot, init_notebook_mode\n",
    "import cufflinks\n",
    "cufflinks.go_offline(connected=True)\n",
    "init_notebook_mode(connected=True)\n",
    "from IPython.display import Image\n",
    "import math\n",
    "import statsmodels.api as sm"
   ]
  },
  {
   "cell_type": "code",
   "execution_count": 141,
   "metadata": {},
   "outputs": [],
   "source": [
    "metadata_url = 'https://raw.githubusercontent.com/anonymousmuso/Viennese-Trichord/main/Data/Metadata.csv'\n",
    "metadata = pd.read_csv(metadata_url, error_bad_lines=False, index_col='Title')\n",
    "verticalities_url_pf = 'https://raw.githubusercontent.com/anonymousmuso/Viennese-Trichord/main/Data/Verticalities%20-%20Prime%20Form.csv'\n",
    "verticalities_pf = pd.read_csv(verticalities_url_pf, error_bad_lines=False)\n",
    "linear_units_pf_url = 'https://raw.githubusercontent.com/anonymousmuso/Viennese-Trichord/main/Data/Linear%20Harmonies%20-%20Prime%20Form.csv'\n",
    "linear_units_pf = pd.read_csv(linear_units_pf_url, error_bad_lines=False)\n",
    "verticalities_pf = verticalities_pf.set_index('Title').iloc[:, 11:12]\n",
    "linear_units_pf = linear_units_pf.iloc[:, 11:12].drop('Total')\n"
   ]
  },
  {
   "cell_type": "code",
   "execution_count": 142,
   "metadata": {},
   "outputs": [
    {
     "data": {
      "text/html": [
       "<div>\n",
       "<style scoped>\n",
       "    .dataframe tbody tr th:only-of-type {\n",
       "        vertical-align: middle;\n",
       "    }\n",
       "\n",
       "    .dataframe tbody tr th {\n",
       "        vertical-align: top;\n",
       "    }\n",
       "\n",
       "    .dataframe thead th {\n",
       "        text-align: right;\n",
       "    }\n",
       "</style>\n",
       "<table border=\"1\" class=\"dataframe\">\n",
       "  <thead>\n",
       "    <tr style=\"text-align: right;\">\n",
       "      <th></th>\n",
       "      <th>Vertical Normalised Total</th>\n",
       "      <th>Linear Normalised Total</th>\n",
       "      <th>Combined Normalised Total</th>\n",
       "    </tr>\n",
       "    <tr>\n",
       "      <th>Title</th>\n",
       "      <th></th>\n",
       "      <th></th>\n",
       "      <th></th>\n",
       "    </tr>\n",
       "  </thead>\n",
       "  <tbody>\n",
       "    <tr>\n",
       "      <th>Op. 11 iii</th>\n",
       "      <td>0.000000</td>\n",
       "      <td>0.000000</td>\n",
       "      <td>0.000000</td>\n",
       "    </tr>\n",
       "    <tr>\n",
       "      <th>Op. 31 iv</th>\n",
       "      <td>0.000000</td>\n",
       "      <td>0.000000</td>\n",
       "      <td>0.000000</td>\n",
       "    </tr>\n",
       "    <tr>\n",
       "      <th>Op. 6 vi</th>\n",
       "      <td>0.000000</td>\n",
       "      <td>0.022464</td>\n",
       "      <td>0.022464</td>\n",
       "    </tr>\n",
       "    <tr>\n",
       "      <th>Op. 6 v</th>\n",
       "      <td>0.000000</td>\n",
       "      <td>0.034637</td>\n",
       "      <td>0.034637</td>\n",
       "    </tr>\n",
       "    <tr>\n",
       "      <th>Op. 26</th>\n",
       "      <td>0.038986</td>\n",
       "      <td>0.007488</td>\n",
       "      <td>0.046474</td>\n",
       "    </tr>\n",
       "    <tr>\n",
       "      <th>...</th>\n",
       "      <td>...</td>\n",
       "      <td>...</td>\n",
       "      <td>...</td>\n",
       "    </tr>\n",
       "    <tr>\n",
       "      <th>Op. 20 i</th>\n",
       "      <td>0.887852</td>\n",
       "      <td>0.254297</td>\n",
       "      <td>1.142149</td>\n",
       "    </tr>\n",
       "    <tr>\n",
       "      <th>Op. 16 i</th>\n",
       "      <td>0.820505</td>\n",
       "      <td>0.339416</td>\n",
       "      <td>1.159921</td>\n",
       "    </tr>\n",
       "    <tr>\n",
       "      <th>Op. 27 ii</th>\n",
       "      <td>0.883621</td>\n",
       "      <td>0.290625</td>\n",
       "      <td>1.174246</td>\n",
       "    </tr>\n",
       "    <tr>\n",
       "      <th>Op. 27 i</th>\n",
       "      <td>0.886700</td>\n",
       "      <td>0.310000</td>\n",
       "      <td>1.196700</td>\n",
       "    </tr>\n",
       "    <tr>\n",
       "      <th>Op. 5 iv</th>\n",
       "      <td>1.000000</td>\n",
       "      <td>0.430556</td>\n",
       "      <td>1.430556</td>\n",
       "    </tr>\n",
       "  </tbody>\n",
       "</table>\n",
       "<p>107 rows × 3 columns</p>\n",
       "</div>"
      ],
      "text/plain": [
       "            Vertical Normalised Total  Linear Normalised Total  \\\n",
       "Title                                                            \n",
       "Op. 11 iii                   0.000000                 0.000000   \n",
       "Op. 31 iv                    0.000000                 0.000000   \n",
       "Op. 6 vi                     0.000000                 0.022464   \n",
       "Op. 6 v                      0.000000                 0.034637   \n",
       "Op. 26                       0.038986                 0.007488   \n",
       "...                               ...                      ...   \n",
       "Op. 20 i                     0.887852                 0.254297   \n",
       "Op. 16 i                     0.820505                 0.339416   \n",
       "Op. 27 ii                    0.883621                 0.290625   \n",
       "Op. 27 i                     0.886700                 0.310000   \n",
       "Op. 5 iv                     1.000000                 0.430556   \n",
       "\n",
       "            Combined Normalised Total  \n",
       "Title                                  \n",
       "Op. 11 iii                   0.000000  \n",
       "Op. 31 iv                    0.000000  \n",
       "Op. 6 vi                     0.022464  \n",
       "Op. 6 v                      0.034637  \n",
       "Op. 26                       0.046474  \n",
       "...                               ...  \n",
       "Op. 20 i                     1.142149  \n",
       "Op. 16 i                     1.159921  \n",
       "Op. 27 ii                    1.174246  \n",
       "Op. 27 i                     1.196700  \n",
       "Op. 5 iv                     1.430556  \n",
       "\n",
       "[107 rows x 3 columns]"
      ]
     },
     "execution_count": 142,
     "metadata": {},
     "output_type": "execute_result"
    }
   ],
   "source": [
    "## this normalises the vertical and linear values for comparison\n",
    "\n",
    "list_of_titles = []\n",
    "for i in verticalities_pf.index.values:\n",
    "    list_of_titles.append(i)\n",
    "list_of_values = []\n",
    "for j in list_of_titles:\n",
    "    temp = [j]\n",
    "    for k in range(0, len(verticalities_pf.index)):\n",
    "        if verticalities_pf.iloc[k:k+1].index.values == j:\n",
    "            temp.append(float(verticalities_pf.iloc[k:k+1, :].values))\n",
    "    for l in range(0, len(linear_units_pf)):\n",
    "        if linear_units_pf.iloc[l:l+1].index.values == j:\n",
    "            temp.append(float(linear_units_pf.iloc[l:l+1, :].values))\n",
    "    list_of_values.append(temp)\n",
    "    \n",
    "new_df = pd.DataFrame(list_of_values, columns = ['Title', 'Vertical Value', 'Linear Value']).set_index('Title')\n",
    "\n",
    "\n",
    "list_of_normalised_vertical_values = []\n",
    "temp_df = new_df[\"Vertical Value\"].values\n",
    "for j in temp_df:\n",
    "    normalised_value = (j-min(temp_df))/(max(temp_df)-min(temp_df))\n",
    "    list_of_normalised_vertical_values.append(normalised_value)\n",
    "    \n",
    "list_of_normalised_linear_values = []\n",
    "temp_df = new_df[\"Linear Value\"].values\n",
    "for j in temp_df:\n",
    "    normalised_value = (j-min(temp_df))/(max(temp_df)-min(temp_df))\n",
    "    list_of_normalised_linear_values.append(normalised_value)\n",
    "    \n",
    "new_df['Vertical Normalised Total'] = list_of_normalised_vertical_values\n",
    "new_df['Linear Normalised Total'] = list_of_normalised_linear_values\n",
    "linear_df = new_df.transpose().drop(['Vertical Value', 'Linear Value']).transpose()\n",
    "\n",
    "\n",
    "vertical_total = linear_df[\"Vertical Normalised Total\"].values\n",
    "linear_total = linear_df[\"Linear Normalised Total\"].values\n",
    "\n",
    "combined_total = []\n",
    "vertical_higher_pf = []\n",
    "linear_higher_pf = []\n",
    "the_same_pf = []\n",
    "for i in range(0, len(vertical_total)):\n",
    "    vertical_value = float(vertical_total[i])\n",
    "    linear_value = float(linear_total[i])\n",
    "    combined_value = vertical_value+linear_value\n",
    "    combined_total.append(combined_value)\n",
    "    if vertical_value > linear_value:\n",
    "        vertical_higher_pf.append(list_of_titles[i])\n",
    "    if linear_value > vertical_value:\n",
    "        linear_higher_pf.append(list_of_titles[i])\n",
    "    if linear_value == vertical_value:\n",
    "        the_same_pf.append(list_of_titles[i])\n",
    "\n",
    "linear_df[\"Combined Normalised Total\"] = combined_total\n",
    "linear_df = linear_df.sort_values(by = 'Combined Normalised Total')\n",
    "linear_df"
   ]
  },
  {
   "cell_type": "code",
   "execution_count": 143,
   "metadata": {},
   "outputs": [
    {
     "name": "stderr",
     "output_type": "stream",
     "text": [
      "/opt/anaconda3/lib/python3.7/site-packages/ipykernel_launcher.py:9: DeprecationWarning:\n",
      "\n",
      "The truth value of an empty array is ambiguous. Returning False, but in future this will result in an error. Use `array.size > 0` to check that an array is not empty.\n",
      "\n",
      "/opt/anaconda3/lib/python3.7/site-packages/ipykernel_launcher.py:25: DeprecationWarning:\n",
      "\n",
      "The truth value of an empty array is ambiguous. Returning False, but in future this will result in an error. Use `array.size > 0` to check that an array is not empty.\n",
      "\n"
     ]
    },
    {
     "data": {
      "application/vnd.plotly.v1+json": {
       "config": {
        "plotlyServerURL": "https://plot.ly"
       },
       "data": [
        {
         "marker": {
          "color": "rgb(3,3,255)",
          "line": {
           "color": "rgb(9,19,6)",
           "width": 1.5
          },
          "size": 5
         },
         "mode": "markers",
         "name": "Linear Anomalies",
         "opacity": 0.6,
         "text": [
          "3 ii",
          "7 iii"
         ],
         "textfont": {
          "size": 14
         },
         "textposition": "top center",
         "type": "scatter",
         "x": [
          0.09276857634175041,
          0.10670136629798319
         ],
         "y": [
          0.6549295774647886,
          1
         ]
        },
        {
         "marker": {
          "color": "rgb(3,3,255)",
          "line": {
           "color": "rgb(9,19,6)",
           "width": 1.5
          },
          "size": 5
         },
         "mode": "text",
         "name": "Linear Anomalies",
         "opacity": 0.6,
         "showlegend": false,
         "text": [
          "3 ii",
          "7 iii"
         ],
         "textfont": {
          "size": 14
         },
         "textposition": "top center",
         "type": "scatter",
         "x": [
          0.09276857634175041,
          0.10670136629798319
         ],
         "y": [
          0.6549295774647886,
          1
         ]
        },
        {
         "marker": {
          "color": "rgb(255,0,13)",
          "line": {
           "color": "rgb(19,0,0)",
           "width": 1.5
          },
          "size": 5
         },
         "mode": "markers",
         "name": "Vertical Anomalies",
         "opacity": 0.6,
         "text": [
          "19 ii",
          "29 ii",
          "13 iv",
          "18 i",
          "14 vi",
          "14 i",
          "13 iii",
          "20 ii",
          "5 iv"
         ],
         "textfont": {
          "size": 14
         },
         "textposition": "top center",
         "type": "scatter",
         "x": [
          0.31842187014600815,
          0.5135603805908445,
          0.2296232684912066,
          0.500314911037631,
          0.4790905714108837,
          0.34946407294400395,
          0.6704824202780051,
          0.52953894265864,
          1
         ],
         "y": [
          0.11654135338345865,
          0,
          0.3173228346456693,
          0.252442996742671,
          0.34008438818565406,
          0.510248447204969,
          0.3346031746031746,
          0.5579339723109691,
          0.43055555555555564
         ]
        },
        {
         "marker": {
          "color": "rgb(255,0,13)",
          "line": {
           "color": "rgb(19,0,0)",
           "width": 1.5
          },
          "size": 5
         },
         "mode": "text",
         "name": "Vertical Anomalies",
         "opacity": 0.6,
         "showlegend": false,
         "text": [
          "19 ii",
          "29 ii",
          "13 iv",
          "18 i",
          "14 vi",
          "14 i",
          "13 iii",
          "20 ii",
          "5 iv"
         ],
         "textfont": {
          "size": 14
         },
         "textposition": "top center",
         "type": "scatter",
         "x": [
          0.31842187014600815,
          0.5135603805908445,
          0.2296232684912066,
          0.500314911037631,
          0.4790905714108837,
          0.34946407294400395,
          0.6704824202780051,
          0.52953894265864,
          1
         ],
         "y": [
          0.11654135338345865,
          0,
          0.3173228346456693,
          0.252442996742671,
          0.34008438818565406,
          0.510248447204969,
          0.3346031746031746,
          0.5579339723109691,
          0.43055555555555564
         ]
        },
        {
         "marker": {
          "color": "rgb(3,199,45)",
          "line": {
           "color": "rgb(3,35,134)",
           "width": 1.5
          },
          "size": 5
         },
         "mode": "markers",
         "name": "Other",
         "opacity": 0.6,
         "text": [
          "Op. 11 iii",
          "Op. 31 iv",
          "Op. 6 vi",
          "Op. 6 v",
          "Op. 26",
          "Op. 29 i",
          "Op. 6 iv",
          "Op. 10 iii",
          "Op. 28 ii",
          "Op. 16 ii",
          "Op. 31 v",
          "Op. 25 i",
          "Op. 6 ii",
          "Op. 28 iii",
          "Op. 1",
          "Op. 5 v",
          "Op. 6 i",
          "Op. 31 iii",
          "Op. 28 i",
          "Op. 30",
          "Op. 29 iii",
          "Op. 31 i",
          "Op. 4 v",
          "Op. 19 i",
          "Op. 25 iii",
          "Op. 9 ii",
          "Op. 11 ii",
          "Op. 31 ii",
          "Op. 10 i",
          "Op. 7 i",
          "Op. 2",
          "Op. 15 i",
          "Op. 5 i",
          "Op. 23 ii",
          "Op. 3 iv",
          "Op. 23 i",
          "Op. 4 i",
          "Op. 3 i",
          "Op. 31 vi",
          "Op. 4 iv",
          "Op. 3 iii",
          "Op. 13 ii",
          "Op. 25 ii",
          "Op. 3 v",
          "Op. 10 ii",
          "Op. 5 ii",
          "Op. 24 ii",
          "Op. 23 iii",
          "Op. 6 iii",
          "Op. 12 i",
          "Op. 27 iii",
          "Op. 7 ii",
          "Op. 10 v",
          "Op. 16 iv",
          "Op. 9 iii",
          "Op. 17 i",
          "Op. 5 iii",
          "Op. 24 iii",
          "Op. 8 ii",
          "Op. 4 iii",
          "Op. 12 iii",
          "Op. 13 i",
          "Op. 24 i",
          "Op. 14 ii",
          "Op. 8 i",
          "Op. 4 ii",
          "Op. 10 iv",
          "Op. 7 iv",
          "Op. 14 iv",
          "Op. 15 iv",
          "Op. 9 i",
          "Op. 12 iv",
          "Op. 17 iii",
          "Op. 11 i",
          "Op. 15 iii",
          "Op. 22 ii",
          "Op. 9 iv",
          "Op. 12 ii",
          "Op. 21 i",
          "Op. 15 v",
          "Op. 21 ii",
          "Op. 14 v",
          "Op. 18 ii",
          "Op. 16 iii",
          "Op. 17 ii",
          "Op. 18 iii",
          "Op. 14 iii",
          "Op. 22 i",
          "Op. 9 v",
          "Op. 9 vi",
          "Op. 15 ii",
          "Op. 16 v",
          "Op. 20 i",
          "Op. 16 i",
          "Op. 27 ii",
          "Op. 27 i"
         ],
         "textfont": {
          "size": 14
         },
         "textposition": "top center",
         "type": "scatter",
         "x": [
          0,
          0,
          0,
          0,
          0.03898562048226778,
          0.05594784266158389,
          0,
          0.03334417696811972,
          0.06549225684105327,
          0,
          0.06264962053685116,
          0,
          0.009237459022857079,
          0.09303718764466154,
          0.00223705177896133,
          0,
          0.06016140865737344,
          0.1142170646562607,
          0.13132825660039152,
          0.1267326424362708,
          0.15016830174773135,
          0,
          0.06784036005030115,
          0.03326572008113593,
          0.0583207880418678,
          0.07162979624817102,
          0.18951650180271787,
          0.19575596816976137,
          0.20564263322884013,
          0.22988505747126445,
          0.16338871629643537,
          0.029454022988505742,
          0.09816644240024047,
          0.16222199642209417,
          0.05923714120593328,
          0.08577106795439489,
          0.005970410065237663,
          0,
          0.29868868382710106,
          0,
          0,
          0.03309905659615753,
          0.3059461157803788,
          0,
          0,
          0.07287593316743692,
          0.27807524809024065,
          0.13684825797549535,
          0.2618135376756063,
          0.17609522640814823,
          0.2229757645425387,
          0.17993591782008994,
          0.10577005761458425,
          0,
          0.2052932761087266,
          0.27799302595893,
          0.333010358459712,
          0.19068500431864974,
          0.06877540636200476,
          0.09450488659413611,
          0.0882848197482375,
          0.06048691745018514,
          0.4224650827203557,
          0.16385971308774255,
          0.18954149298976883,
          0.1956313800279189,
          0.2577227011494253,
          0.2740516095518922,
          0.16751759255507376,
          0.2152984421494837,
          0.4943791449470996,
          0.12938924070606558,
          0.3524691947654981,
          0.23881640260950618,
          0.3290952289218519,
          0.26847704521152893,
          0.6041850869437079,
          0.19968829144749659,
          0.20074141428271425,
          0.3904370489174018,
          0.5664170704782406,
          0.3710315402004327,
          0.3384079236977256,
          0.2376122862938279,
          0.22213927952225013,
          0.6161660943335254,
          0.44392261311150166,
          0.10903288715539478,
          0.8910460736018546,
          0.39515956307560524,
          0.597300187115744,
          0.3287198069973162,
          0.8878521213583297,
          0.8205049261083746,
          0.8836206896551725,
          0.8866995073891627
         ],
         "y": [
          0,
          0,
          0.02246376811594203,
          0.03463687150837989,
          0.00748792270531401,
          0,
          0.062311557788944705,
          0.03009708737864077,
          0,
          0.07380952380952381,
          0.011397058823529411,
          0.0808695652173913,
          0.07380952380952381,
          0,
          0.09204932662664288,
          0.11071428571428571,
          0.05344827586206897,
          0.016103896103896103,
          0,
          0.015736040609137057,
          0,
          0.1530864197530864,
          0.09207920792079208,
          0.1306791569086651,
          0.1127272727272727,
          0.1,
          0,
          0,
          0,
          0,
          0.07449168207024029,
          0.20984615384615382,
          0.1496551724137931,
          0.08985507246376812,
          0.19787234042553192,
          0.1787139689578714,
          0.2624713958810069,
          0.28396946564885495,
          0,
          0.31,
          0.31632653061224486,
          0.2924528301886793,
          0.02066666666666667,
          0.32700421940928276,
          0.33818181818181814,
          0.26724137931034486,
          0.07045454545454546,
          0.21558752997601915,
          0.10333333333333332,
          0.19375,
          0.15630252100840336,
          0.20286298568507158,
          0.2924528301886793,
          0.40259740259740256,
          0.2101694915254237,
          0.14588235294117646,
          0.09935897435897435,
          0.2646341463414634,
          0.3875,
          0.36186770428015563,
          0.3792553191489362,
          0.44285714285714284,
          0.09908675799086758,
          0.37139364303178485,
          0.3522727272727273,
          0.34785478547854787,
          0.31,
          0.2936842105263158,
          0.436530612244898,
          0.39680000000000004,
          0.124,
          0.4925233644859812,
          0.27125,
          0.3875,
          0.3444444444444444,
          0.40581818181818186,
          0.09253731343283583,
          0.49738805970149247,
          0.50375,
          0.32700421940928276,
          0.16198198198198197,
          0.37439613526570054,
          0.416628701594533,
          0.5636363636363637,
          0.5861344537815126,
          0.22842105263157889,
          0.4299270072992701,
          0.7701863354037267,
          0,
          0.5166666666666666,
          0.41680672268907565,
          0.7482758620689656,
          0.254296875,
          0.3394160583941606,
          0.290625,
          0.31
         ]
        }
       ],
       "layout": {
        "autosize": false,
        "font": {
         "color": "rgb(0,0,0)",
         "family": "Baskerville, monospace",
         "size": 12
        },
        "height": 500,
        "legend": {
         "x": 0.99,
         "xanchor": "right",
         "y": 0.99,
         "yanchor": "top"
        },
        "margin": {
         "b": 0,
         "l": 0,
         "r": 0,
         "t": 0
        },
        "template": {
         "data": {
          "bar": [
           {
            "error_x": {
             "color": "#2a3f5f"
            },
            "error_y": {
             "color": "#2a3f5f"
            },
            "marker": {
             "line": {
              "color": "#E5ECF6",
              "width": 0.5
             }
            },
            "type": "bar"
           }
          ],
          "barpolar": [
           {
            "marker": {
             "line": {
              "color": "#E5ECF6",
              "width": 0.5
             }
            },
            "type": "barpolar"
           }
          ],
          "carpet": [
           {
            "aaxis": {
             "endlinecolor": "#2a3f5f",
             "gridcolor": "white",
             "linecolor": "white",
             "minorgridcolor": "white",
             "startlinecolor": "#2a3f5f"
            },
            "baxis": {
             "endlinecolor": "#2a3f5f",
             "gridcolor": "white",
             "linecolor": "white",
             "minorgridcolor": "white",
             "startlinecolor": "#2a3f5f"
            },
            "type": "carpet"
           }
          ],
          "choropleth": [
           {
            "colorbar": {
             "outlinewidth": 0,
             "ticks": ""
            },
            "type": "choropleth"
           }
          ],
          "contour": [
           {
            "colorbar": {
             "outlinewidth": 0,
             "ticks": ""
            },
            "colorscale": [
             [
              0,
              "#0d0887"
             ],
             [
              0.1111111111111111,
              "#46039f"
             ],
             [
              0.2222222222222222,
              "#7201a8"
             ],
             [
              0.3333333333333333,
              "#9c179e"
             ],
             [
              0.4444444444444444,
              "#bd3786"
             ],
             [
              0.5555555555555556,
              "#d8576b"
             ],
             [
              0.6666666666666666,
              "#ed7953"
             ],
             [
              0.7777777777777778,
              "#fb9f3a"
             ],
             [
              0.8888888888888888,
              "#fdca26"
             ],
             [
              1,
              "#f0f921"
             ]
            ],
            "type": "contour"
           }
          ],
          "contourcarpet": [
           {
            "colorbar": {
             "outlinewidth": 0,
             "ticks": ""
            },
            "type": "contourcarpet"
           }
          ],
          "heatmap": [
           {
            "colorbar": {
             "outlinewidth": 0,
             "ticks": ""
            },
            "colorscale": [
             [
              0,
              "#0d0887"
             ],
             [
              0.1111111111111111,
              "#46039f"
             ],
             [
              0.2222222222222222,
              "#7201a8"
             ],
             [
              0.3333333333333333,
              "#9c179e"
             ],
             [
              0.4444444444444444,
              "#bd3786"
             ],
             [
              0.5555555555555556,
              "#d8576b"
             ],
             [
              0.6666666666666666,
              "#ed7953"
             ],
             [
              0.7777777777777778,
              "#fb9f3a"
             ],
             [
              0.8888888888888888,
              "#fdca26"
             ],
             [
              1,
              "#f0f921"
             ]
            ],
            "type": "heatmap"
           }
          ],
          "heatmapgl": [
           {
            "colorbar": {
             "outlinewidth": 0,
             "ticks": ""
            },
            "colorscale": [
             [
              0,
              "#0d0887"
             ],
             [
              0.1111111111111111,
              "#46039f"
             ],
             [
              0.2222222222222222,
              "#7201a8"
             ],
             [
              0.3333333333333333,
              "#9c179e"
             ],
             [
              0.4444444444444444,
              "#bd3786"
             ],
             [
              0.5555555555555556,
              "#d8576b"
             ],
             [
              0.6666666666666666,
              "#ed7953"
             ],
             [
              0.7777777777777778,
              "#fb9f3a"
             ],
             [
              0.8888888888888888,
              "#fdca26"
             ],
             [
              1,
              "#f0f921"
             ]
            ],
            "type": "heatmapgl"
           }
          ],
          "histogram": [
           {
            "marker": {
             "colorbar": {
              "outlinewidth": 0,
              "ticks": ""
             }
            },
            "type": "histogram"
           }
          ],
          "histogram2d": [
           {
            "colorbar": {
             "outlinewidth": 0,
             "ticks": ""
            },
            "colorscale": [
             [
              0,
              "#0d0887"
             ],
             [
              0.1111111111111111,
              "#46039f"
             ],
             [
              0.2222222222222222,
              "#7201a8"
             ],
             [
              0.3333333333333333,
              "#9c179e"
             ],
             [
              0.4444444444444444,
              "#bd3786"
             ],
             [
              0.5555555555555556,
              "#d8576b"
             ],
             [
              0.6666666666666666,
              "#ed7953"
             ],
             [
              0.7777777777777778,
              "#fb9f3a"
             ],
             [
              0.8888888888888888,
              "#fdca26"
             ],
             [
              1,
              "#f0f921"
             ]
            ],
            "type": "histogram2d"
           }
          ],
          "histogram2dcontour": [
           {
            "colorbar": {
             "outlinewidth": 0,
             "ticks": ""
            },
            "colorscale": [
             [
              0,
              "#0d0887"
             ],
             [
              0.1111111111111111,
              "#46039f"
             ],
             [
              0.2222222222222222,
              "#7201a8"
             ],
             [
              0.3333333333333333,
              "#9c179e"
             ],
             [
              0.4444444444444444,
              "#bd3786"
             ],
             [
              0.5555555555555556,
              "#d8576b"
             ],
             [
              0.6666666666666666,
              "#ed7953"
             ],
             [
              0.7777777777777778,
              "#fb9f3a"
             ],
             [
              0.8888888888888888,
              "#fdca26"
             ],
             [
              1,
              "#f0f921"
             ]
            ],
            "type": "histogram2dcontour"
           }
          ],
          "mesh3d": [
           {
            "colorbar": {
             "outlinewidth": 0,
             "ticks": ""
            },
            "type": "mesh3d"
           }
          ],
          "parcoords": [
           {
            "line": {
             "colorbar": {
              "outlinewidth": 0,
              "ticks": ""
             }
            },
            "type": "parcoords"
           }
          ],
          "pie": [
           {
            "automargin": true,
            "type": "pie"
           }
          ],
          "scatter": [
           {
            "marker": {
             "colorbar": {
              "outlinewidth": 0,
              "ticks": ""
             }
            },
            "type": "scatter"
           }
          ],
          "scatter3d": [
           {
            "line": {
             "colorbar": {
              "outlinewidth": 0,
              "ticks": ""
             }
            },
            "marker": {
             "colorbar": {
              "outlinewidth": 0,
              "ticks": ""
             }
            },
            "type": "scatter3d"
           }
          ],
          "scattercarpet": [
           {
            "marker": {
             "colorbar": {
              "outlinewidth": 0,
              "ticks": ""
             }
            },
            "type": "scattercarpet"
           }
          ],
          "scattergeo": [
           {
            "marker": {
             "colorbar": {
              "outlinewidth": 0,
              "ticks": ""
             }
            },
            "type": "scattergeo"
           }
          ],
          "scattergl": [
           {
            "marker": {
             "colorbar": {
              "outlinewidth": 0,
              "ticks": ""
             }
            },
            "type": "scattergl"
           }
          ],
          "scattermapbox": [
           {
            "marker": {
             "colorbar": {
              "outlinewidth": 0,
              "ticks": ""
             }
            },
            "type": "scattermapbox"
           }
          ],
          "scatterpolar": [
           {
            "marker": {
             "colorbar": {
              "outlinewidth": 0,
              "ticks": ""
             }
            },
            "type": "scatterpolar"
           }
          ],
          "scatterpolargl": [
           {
            "marker": {
             "colorbar": {
              "outlinewidth": 0,
              "ticks": ""
             }
            },
            "type": "scatterpolargl"
           }
          ],
          "scatterternary": [
           {
            "marker": {
             "colorbar": {
              "outlinewidth": 0,
              "ticks": ""
             }
            },
            "type": "scatterternary"
           }
          ],
          "surface": [
           {
            "colorbar": {
             "outlinewidth": 0,
             "ticks": ""
            },
            "colorscale": [
             [
              0,
              "#0d0887"
             ],
             [
              0.1111111111111111,
              "#46039f"
             ],
             [
              0.2222222222222222,
              "#7201a8"
             ],
             [
              0.3333333333333333,
              "#9c179e"
             ],
             [
              0.4444444444444444,
              "#bd3786"
             ],
             [
              0.5555555555555556,
              "#d8576b"
             ],
             [
              0.6666666666666666,
              "#ed7953"
             ],
             [
              0.7777777777777778,
              "#fb9f3a"
             ],
             [
              0.8888888888888888,
              "#fdca26"
             ],
             [
              1,
              "#f0f921"
             ]
            ],
            "type": "surface"
           }
          ],
          "table": [
           {
            "cells": {
             "fill": {
              "color": "#EBF0F8"
             },
             "line": {
              "color": "white"
             }
            },
            "header": {
             "fill": {
              "color": "#C8D4E3"
             },
             "line": {
              "color": "white"
             }
            },
            "type": "table"
           }
          ]
         },
         "layout": {
          "annotationdefaults": {
           "arrowcolor": "#2a3f5f",
           "arrowhead": 0,
           "arrowwidth": 1
          },
          "coloraxis": {
           "colorbar": {
            "outlinewidth": 0,
            "ticks": ""
           }
          },
          "colorscale": {
           "diverging": [
            [
             0,
             "#8e0152"
            ],
            [
             0.1,
             "#c51b7d"
            ],
            [
             0.2,
             "#de77ae"
            ],
            [
             0.3,
             "#f1b6da"
            ],
            [
             0.4,
             "#fde0ef"
            ],
            [
             0.5,
             "#f7f7f7"
            ],
            [
             0.6,
             "#e6f5d0"
            ],
            [
             0.7,
             "#b8e186"
            ],
            [
             0.8,
             "#7fbc41"
            ],
            [
             0.9,
             "#4d9221"
            ],
            [
             1,
             "#276419"
            ]
           ],
           "sequential": [
            [
             0,
             "#0d0887"
            ],
            [
             0.1111111111111111,
             "#46039f"
            ],
            [
             0.2222222222222222,
             "#7201a8"
            ],
            [
             0.3333333333333333,
             "#9c179e"
            ],
            [
             0.4444444444444444,
             "#bd3786"
            ],
            [
             0.5555555555555556,
             "#d8576b"
            ],
            [
             0.6666666666666666,
             "#ed7953"
            ],
            [
             0.7777777777777778,
             "#fb9f3a"
            ],
            [
             0.8888888888888888,
             "#fdca26"
            ],
            [
             1,
             "#f0f921"
            ]
           ],
           "sequentialminus": [
            [
             0,
             "#0d0887"
            ],
            [
             0.1111111111111111,
             "#46039f"
            ],
            [
             0.2222222222222222,
             "#7201a8"
            ],
            [
             0.3333333333333333,
             "#9c179e"
            ],
            [
             0.4444444444444444,
             "#bd3786"
            ],
            [
             0.5555555555555556,
             "#d8576b"
            ],
            [
             0.6666666666666666,
             "#ed7953"
            ],
            [
             0.7777777777777778,
             "#fb9f3a"
            ],
            [
             0.8888888888888888,
             "#fdca26"
            ],
            [
             1,
             "#f0f921"
            ]
           ]
          },
          "colorway": [
           "#636efa",
           "#EF553B",
           "#00cc96",
           "#ab63fa",
           "#FFA15A",
           "#19d3f3",
           "#FF6692",
           "#B6E880",
           "#FF97FF",
           "#FECB52"
          ],
          "font": {
           "color": "#2a3f5f"
          },
          "geo": {
           "bgcolor": "white",
           "lakecolor": "white",
           "landcolor": "#E5ECF6",
           "showlakes": true,
           "showland": true,
           "subunitcolor": "white"
          },
          "hoverlabel": {
           "align": "left"
          },
          "hovermode": "closest",
          "mapbox": {
           "style": "light"
          },
          "paper_bgcolor": "white",
          "plot_bgcolor": "#E5ECF6",
          "polar": {
           "angularaxis": {
            "gridcolor": "white",
            "linecolor": "white",
            "ticks": ""
           },
           "bgcolor": "#E5ECF6",
           "radialaxis": {
            "gridcolor": "white",
            "linecolor": "white",
            "ticks": ""
           }
          },
          "scene": {
           "xaxis": {
            "backgroundcolor": "#E5ECF6",
            "gridcolor": "white",
            "gridwidth": 2,
            "linecolor": "white",
            "showbackground": true,
            "ticks": "",
            "zerolinecolor": "white"
           },
           "yaxis": {
            "backgroundcolor": "#E5ECF6",
            "gridcolor": "white",
            "gridwidth": 2,
            "linecolor": "white",
            "showbackground": true,
            "ticks": "",
            "zerolinecolor": "white"
           },
           "zaxis": {
            "backgroundcolor": "#E5ECF6",
            "gridcolor": "white",
            "gridwidth": 2,
            "linecolor": "white",
            "showbackground": true,
            "ticks": "",
            "zerolinecolor": "white"
           }
          },
          "shapedefaults": {
           "line": {
            "color": "#2a3f5f"
           }
          },
          "ternary": {
           "aaxis": {
            "gridcolor": "white",
            "linecolor": "white",
            "ticks": ""
           },
           "baxis": {
            "gridcolor": "white",
            "linecolor": "white",
            "ticks": ""
           },
           "bgcolor": "#E5ECF6",
           "caxis": {
            "gridcolor": "white",
            "linecolor": "white",
            "ticks": ""
           }
          },
          "title": {
           "x": 0.05
          },
          "xaxis": {
           "automargin": true,
           "gridcolor": "white",
           "linecolor": "white",
           "ticks": "",
           "title": {
            "standoff": 15
           },
           "zerolinecolor": "white",
           "zerolinewidth": 2
          },
          "yaxis": {
           "automargin": true,
           "gridcolor": "white",
           "linecolor": "white",
           "ticks": "",
           "title": {
            "standoff": 15
           },
           "zerolinecolor": "white",
           "zerolinewidth": 2
          }
         }
        },
        "width": 500,
        "xaxis": {
         "title": {
          "text": "Normalised Vertical Proportion"
         }
        },
        "yaxis": {
         "title": {
          "text": "Normalised Linear Proportion"
         }
        }
       }
      },
      "text/html": [
       "<div>\n",
       "        \n",
       "        \n",
       "            <div id=\"de399776-38f0-43e1-98a7-2786009bf516\" class=\"plotly-graph-div\" style=\"height:500px; width:500px;\"></div>\n",
       "            <script type=\"text/javascript\">\n",
       "                require([\"plotly\"], function(Plotly) {\n",
       "                    window.PLOTLYENV=window.PLOTLYENV || {};\n",
       "                    \n",
       "                if (document.getElementById(\"de399776-38f0-43e1-98a7-2786009bf516\")) {\n",
       "                    Plotly.newPlot(\n",
       "                        'de399776-38f0-43e1-98a7-2786009bf516',\n",
       "                        [{\"marker\": {\"color\": \"rgb(3,3,255)\", \"line\": {\"color\": \"rgb(9,19,6)\", \"width\": 1.5}, \"size\": 5}, \"mode\": \"markers\", \"name\": \"Linear Anomalies\", \"opacity\": 0.6, \"text\": [\"3 ii\", \"7 iii\"], \"textfont\": {\"size\": 14}, \"textposition\": \"top center\", \"type\": \"scatter\", \"x\": [0.09276857634175041, 0.10670136629798319], \"y\": [0.6549295774647886, 1.0]}, {\"marker\": {\"color\": \"rgb(3,3,255)\", \"line\": {\"color\": \"rgb(9,19,6)\", \"width\": 1.5}, \"size\": 5}, \"mode\": \"text\", \"name\": \"Linear Anomalies\", \"opacity\": 0.6, \"showlegend\": false, \"text\": [\"3 ii\", \"7 iii\"], \"textfont\": {\"size\": 14}, \"textposition\": \"top center\", \"type\": \"scatter\", \"x\": [0.09276857634175041, 0.10670136629798319], \"y\": [0.6549295774647886, 1.0]}, {\"marker\": {\"color\": \"rgb(255,0,13)\", \"line\": {\"color\": \"rgb(19,0,0)\", \"width\": 1.5}, \"size\": 5}, \"mode\": \"markers\", \"name\": \"Vertical Anomalies\", \"opacity\": 0.6, \"text\": [\"19 ii\", \"29 ii\", \"13 iv\", \"18 i\", \"14 vi\", \"14 i\", \"13 iii\", \"20 ii\", \"5 iv\"], \"textfont\": {\"size\": 14}, \"textposition\": \"top center\", \"type\": \"scatter\", \"x\": [0.31842187014600815, 0.5135603805908445, 0.2296232684912066, 0.500314911037631, 0.4790905714108837, 0.34946407294400395, 0.6704824202780051, 0.52953894265864, 1.0], \"y\": [0.11654135338345865, 0.0, 0.3173228346456693, 0.252442996742671, 0.34008438818565406, 0.510248447204969, 0.3346031746031746, 0.5579339723109691, 0.43055555555555564]}, {\"marker\": {\"color\": \"rgb(255,0,13)\", \"line\": {\"color\": \"rgb(19,0,0)\", \"width\": 1.5}, \"size\": 5}, \"mode\": \"text\", \"name\": \"Vertical Anomalies\", \"opacity\": 0.6, \"showlegend\": false, \"text\": [\"19 ii\", \"29 ii\", \"13 iv\", \"18 i\", \"14 vi\", \"14 i\", \"13 iii\", \"20 ii\", \"5 iv\"], \"textfont\": {\"size\": 14}, \"textposition\": \"top center\", \"type\": \"scatter\", \"x\": [0.31842187014600815, 0.5135603805908445, 0.2296232684912066, 0.500314911037631, 0.4790905714108837, 0.34946407294400395, 0.6704824202780051, 0.52953894265864, 1.0], \"y\": [0.11654135338345865, 0.0, 0.3173228346456693, 0.252442996742671, 0.34008438818565406, 0.510248447204969, 0.3346031746031746, 0.5579339723109691, 0.43055555555555564]}, {\"marker\": {\"color\": \"rgb(3,199,45)\", \"line\": {\"color\": \"rgb(3,35,134)\", \"width\": 1.5}, \"size\": 5}, \"mode\": \"markers\", \"name\": \"Other\", \"opacity\": 0.6, \"text\": [\"Op. 11 iii\", \"Op. 31 iv\", \"Op. 6 vi\", \"Op. 6 v\", \"Op. 26\", \"Op. 29 i\", \"Op. 6 iv\", \"Op. 10 iii\", \"Op. 28 ii\", \"Op. 16 ii\", \"Op. 31 v\", \"Op. 25 i\", \"Op. 6 ii\", \"Op. 28 iii\", \"Op. 1\", \"Op. 5 v\", \"Op. 6 i\", \"Op. 31 iii\", \"Op. 28 i\", \"Op. 30\", \"Op. 29 iii\", \"Op. 31 i\", \"Op. 4 v\", \"Op. 19 i\", \"Op. 25 iii\", \"Op. 9 ii\", \"Op. 11 ii\", \"Op. 31 ii\", \"Op. 10 i\", \"Op. 7 i\", \"Op. 2\", \"Op. 15 i\", \"Op. 5 i\", \"Op. 23 ii\", \"Op. 3 iv\", \"Op. 23 i\", \"Op. 4 i\", \"Op. 3 i\", \"Op. 31 vi\", \"Op. 4 iv\", \"Op. 3 iii\", \"Op. 13 ii\", \"Op. 25 ii\", \"Op. 3 v\", \"Op. 10 ii\", \"Op. 5 ii\", \"Op. 24 ii\", \"Op. 23 iii\", \"Op. 6 iii\", \"Op. 12 i\", \"Op. 27 iii\", \"Op. 7 ii\", \"Op. 10 v\", \"Op. 16 iv\", \"Op. 9 iii\", \"Op. 17 i\", \"Op. 5 iii\", \"Op. 24 iii\", \"Op. 8 ii\", \"Op. 4 iii\", \"Op. 12 iii\", \"Op. 13 i\", \"Op. 24 i\", \"Op. 14 ii\", \"Op. 8 i\", \"Op. 4 ii\", \"Op. 10 iv\", \"Op. 7 iv\", \"Op. 14 iv\", \"Op. 15 iv\", \"Op. 9 i\", \"Op. 12 iv\", \"Op. 17 iii\", \"Op. 11 i\", \"Op. 15 iii\", \"Op. 22 ii\", \"Op. 9 iv\", \"Op. 12 ii\", \"Op. 21 i\", \"Op. 15 v\", \"Op. 21 ii\", \"Op. 14 v\", \"Op. 18 ii\", \"Op. 16 iii\", \"Op. 17 ii\", \"Op. 18 iii\", \"Op. 14 iii\", \"Op. 22 i\", \"Op. 9 v\", \"Op. 9 vi\", \"Op. 15 ii\", \"Op. 16 v\", \"Op. 20 i\", \"Op. 16 i\", \"Op. 27 ii\", \"Op. 27 i\"], \"textfont\": {\"size\": 14}, \"textposition\": \"top center\", \"type\": \"scatter\", \"x\": [0.0, 0.0, 0.0, 0.0, 0.03898562048226778, 0.05594784266158389, 0.0, 0.03334417696811972, 0.06549225684105327, 0.0, 0.06264962053685116, 0.0, 0.009237459022857079, 0.09303718764466154, 0.00223705177896133, 0.0, 0.06016140865737344, 0.1142170646562607, 0.13132825660039152, 0.1267326424362708, 0.15016830174773135, 0.0, 0.06784036005030115, 0.03326572008113593, 0.0583207880418678, 0.07162979624817102, 0.18951650180271787, 0.19575596816976137, 0.20564263322884013, 0.22988505747126445, 0.16338871629643537, 0.029454022988505742, 0.09816644240024047, 0.16222199642209417, 0.05923714120593328, 0.08577106795439489, 0.005970410065237663, 0.0, 0.29868868382710106, 0.0, 0.0, 0.03309905659615753, 0.3059461157803788, 0.0, 0.0, 0.07287593316743692, 0.27807524809024065, 0.13684825797549535, 0.2618135376756063, 0.17609522640814823, 0.2229757645425387, 0.17993591782008994, 0.10577005761458425, 0.0, 0.2052932761087266, 0.27799302595893, 0.333010358459712, 0.19068500431864974, 0.06877540636200476, 0.09450488659413611, 0.0882848197482375, 0.06048691745018514, 0.4224650827203557, 0.16385971308774255, 0.18954149298976883, 0.1956313800279189, 0.2577227011494253, 0.2740516095518922, 0.16751759255507376, 0.2152984421494837, 0.4943791449470996, 0.12938924070606558, 0.3524691947654981, 0.23881640260950618, 0.3290952289218519, 0.26847704521152893, 0.6041850869437079, 0.19968829144749659, 0.20074141428271425, 0.3904370489174018, 0.5664170704782406, 0.3710315402004327, 0.3384079236977256, 0.2376122862938279, 0.22213927952225013, 0.6161660943335254, 0.44392261311150166, 0.10903288715539478, 0.8910460736018546, 0.39515956307560524, 0.597300187115744, 0.3287198069973162, 0.8878521213583297, 0.8205049261083746, 0.8836206896551725, 0.8866995073891627], \"y\": [0.0, 0.0, 0.02246376811594203, 0.03463687150837989, 0.00748792270531401, 0.0, 0.062311557788944705, 0.03009708737864077, 0.0, 0.07380952380952381, 0.011397058823529411, 0.0808695652173913, 0.07380952380952381, 0.0, 0.09204932662664288, 0.11071428571428571, 0.05344827586206897, 0.016103896103896103, 0.0, 0.015736040609137057, 0.0, 0.1530864197530864, 0.09207920792079208, 0.1306791569086651, 0.1127272727272727, 0.1, 0.0, 0.0, 0.0, 0.0, 0.07449168207024029, 0.20984615384615382, 0.1496551724137931, 0.08985507246376812, 0.19787234042553192, 0.1787139689578714, 0.2624713958810069, 0.28396946564885495, 0.0, 0.31, 0.31632653061224486, 0.2924528301886793, 0.02066666666666667, 0.32700421940928276, 0.33818181818181814, 0.26724137931034486, 0.07045454545454546, 0.21558752997601915, 0.10333333333333332, 0.19375, 0.15630252100840336, 0.20286298568507158, 0.2924528301886793, 0.40259740259740256, 0.2101694915254237, 0.14588235294117646, 0.09935897435897435, 0.2646341463414634, 0.3875, 0.36186770428015563, 0.3792553191489362, 0.44285714285714284, 0.09908675799086758, 0.37139364303178485, 0.3522727272727273, 0.34785478547854787, 0.31, 0.2936842105263158, 0.436530612244898, 0.39680000000000004, 0.124, 0.4925233644859812, 0.27125, 0.3875, 0.3444444444444444, 0.40581818181818186, 0.09253731343283583, 0.49738805970149247, 0.50375, 0.32700421940928276, 0.16198198198198197, 0.37439613526570054, 0.416628701594533, 0.5636363636363637, 0.5861344537815126, 0.22842105263157889, 0.4299270072992701, 0.7701863354037267, 0.0, 0.5166666666666666, 0.41680672268907565, 0.7482758620689656, 0.254296875, 0.3394160583941606, 0.290625, 0.31]}],\n",
       "                        {\"autosize\": false, \"font\": {\"color\": \"rgb(0,0,0)\", \"family\": \"Baskerville, monospace\", \"size\": 12}, \"height\": 500, \"legend\": {\"x\": 0.99, \"xanchor\": \"right\", \"y\": 0.99, \"yanchor\": \"top\"}, \"margin\": {\"b\": 0, \"l\": 0, \"r\": 0, \"t\": 0}, \"template\": {\"data\": {\"bar\": [{\"error_x\": {\"color\": \"#2a3f5f\"}, \"error_y\": {\"color\": \"#2a3f5f\"}, \"marker\": {\"line\": {\"color\": \"#E5ECF6\", \"width\": 0.5}}, \"type\": \"bar\"}], \"barpolar\": [{\"marker\": {\"line\": {\"color\": \"#E5ECF6\", \"width\": 0.5}}, \"type\": \"barpolar\"}], \"carpet\": [{\"aaxis\": {\"endlinecolor\": \"#2a3f5f\", \"gridcolor\": \"white\", \"linecolor\": \"white\", \"minorgridcolor\": \"white\", \"startlinecolor\": \"#2a3f5f\"}, \"baxis\": {\"endlinecolor\": \"#2a3f5f\", \"gridcolor\": \"white\", \"linecolor\": \"white\", \"minorgridcolor\": \"white\", \"startlinecolor\": \"#2a3f5f\"}, \"type\": \"carpet\"}], \"choropleth\": [{\"colorbar\": {\"outlinewidth\": 0, \"ticks\": \"\"}, \"type\": \"choropleth\"}], \"contour\": [{\"colorbar\": {\"outlinewidth\": 0, \"ticks\": \"\"}, \"colorscale\": [[0.0, \"#0d0887\"], [0.1111111111111111, \"#46039f\"], [0.2222222222222222, \"#7201a8\"], [0.3333333333333333, \"#9c179e\"], [0.4444444444444444, \"#bd3786\"], [0.5555555555555556, \"#d8576b\"], [0.6666666666666666, \"#ed7953\"], [0.7777777777777778, \"#fb9f3a\"], [0.8888888888888888, \"#fdca26\"], [1.0, \"#f0f921\"]], \"type\": \"contour\"}], \"contourcarpet\": [{\"colorbar\": {\"outlinewidth\": 0, \"ticks\": \"\"}, \"type\": \"contourcarpet\"}], \"heatmap\": [{\"colorbar\": {\"outlinewidth\": 0, \"ticks\": \"\"}, \"colorscale\": [[0.0, \"#0d0887\"], [0.1111111111111111, \"#46039f\"], [0.2222222222222222, \"#7201a8\"], [0.3333333333333333, \"#9c179e\"], [0.4444444444444444, \"#bd3786\"], [0.5555555555555556, \"#d8576b\"], [0.6666666666666666, \"#ed7953\"], [0.7777777777777778, \"#fb9f3a\"], [0.8888888888888888, \"#fdca26\"], [1.0, \"#f0f921\"]], \"type\": \"heatmap\"}], \"heatmapgl\": [{\"colorbar\": {\"outlinewidth\": 0, \"ticks\": \"\"}, \"colorscale\": [[0.0, \"#0d0887\"], [0.1111111111111111, \"#46039f\"], [0.2222222222222222, \"#7201a8\"], [0.3333333333333333, \"#9c179e\"], [0.4444444444444444, \"#bd3786\"], [0.5555555555555556, \"#d8576b\"], [0.6666666666666666, \"#ed7953\"], [0.7777777777777778, \"#fb9f3a\"], [0.8888888888888888, \"#fdca26\"], [1.0, \"#f0f921\"]], \"type\": \"heatmapgl\"}], \"histogram\": [{\"marker\": {\"colorbar\": {\"outlinewidth\": 0, \"ticks\": \"\"}}, \"type\": \"histogram\"}], \"histogram2d\": [{\"colorbar\": {\"outlinewidth\": 0, \"ticks\": \"\"}, \"colorscale\": [[0.0, \"#0d0887\"], [0.1111111111111111, \"#46039f\"], [0.2222222222222222, \"#7201a8\"], [0.3333333333333333, \"#9c179e\"], [0.4444444444444444, \"#bd3786\"], [0.5555555555555556, \"#d8576b\"], [0.6666666666666666, \"#ed7953\"], [0.7777777777777778, \"#fb9f3a\"], [0.8888888888888888, \"#fdca26\"], [1.0, \"#f0f921\"]], \"type\": \"histogram2d\"}], \"histogram2dcontour\": [{\"colorbar\": {\"outlinewidth\": 0, \"ticks\": \"\"}, \"colorscale\": [[0.0, \"#0d0887\"], [0.1111111111111111, \"#46039f\"], [0.2222222222222222, \"#7201a8\"], [0.3333333333333333, \"#9c179e\"], [0.4444444444444444, \"#bd3786\"], [0.5555555555555556, \"#d8576b\"], [0.6666666666666666, \"#ed7953\"], [0.7777777777777778, \"#fb9f3a\"], [0.8888888888888888, \"#fdca26\"], [1.0, \"#f0f921\"]], \"type\": \"histogram2dcontour\"}], \"mesh3d\": [{\"colorbar\": {\"outlinewidth\": 0, \"ticks\": \"\"}, \"type\": \"mesh3d\"}], \"parcoords\": [{\"line\": {\"colorbar\": {\"outlinewidth\": 0, \"ticks\": \"\"}}, \"type\": \"parcoords\"}], \"pie\": [{\"automargin\": true, \"type\": \"pie\"}], \"scatter\": [{\"marker\": {\"colorbar\": {\"outlinewidth\": 0, \"ticks\": \"\"}}, \"type\": \"scatter\"}], \"scatter3d\": [{\"line\": {\"colorbar\": {\"outlinewidth\": 0, \"ticks\": \"\"}}, \"marker\": {\"colorbar\": {\"outlinewidth\": 0, \"ticks\": \"\"}}, \"type\": \"scatter3d\"}], \"scattercarpet\": [{\"marker\": {\"colorbar\": {\"outlinewidth\": 0, \"ticks\": \"\"}}, \"type\": \"scattercarpet\"}], \"scattergeo\": [{\"marker\": {\"colorbar\": {\"outlinewidth\": 0, \"ticks\": \"\"}}, \"type\": \"scattergeo\"}], \"scattergl\": [{\"marker\": {\"colorbar\": {\"outlinewidth\": 0, \"ticks\": \"\"}}, \"type\": \"scattergl\"}], \"scattermapbox\": [{\"marker\": {\"colorbar\": {\"outlinewidth\": 0, \"ticks\": \"\"}}, \"type\": \"scattermapbox\"}], \"scatterpolar\": [{\"marker\": {\"colorbar\": {\"outlinewidth\": 0, \"ticks\": \"\"}}, \"type\": \"scatterpolar\"}], \"scatterpolargl\": [{\"marker\": {\"colorbar\": {\"outlinewidth\": 0, \"ticks\": \"\"}}, \"type\": \"scatterpolargl\"}], \"scatterternary\": [{\"marker\": {\"colorbar\": {\"outlinewidth\": 0, \"ticks\": \"\"}}, \"type\": \"scatterternary\"}], \"surface\": [{\"colorbar\": {\"outlinewidth\": 0, \"ticks\": \"\"}, \"colorscale\": [[0.0, \"#0d0887\"], [0.1111111111111111, \"#46039f\"], [0.2222222222222222, \"#7201a8\"], [0.3333333333333333, \"#9c179e\"], [0.4444444444444444, \"#bd3786\"], [0.5555555555555556, \"#d8576b\"], [0.6666666666666666, \"#ed7953\"], [0.7777777777777778, \"#fb9f3a\"], [0.8888888888888888, \"#fdca26\"], [1.0, \"#f0f921\"]], \"type\": \"surface\"}], \"table\": [{\"cells\": {\"fill\": {\"color\": \"#EBF0F8\"}, \"line\": {\"color\": \"white\"}}, \"header\": {\"fill\": {\"color\": \"#C8D4E3\"}, \"line\": {\"color\": \"white\"}}, \"type\": \"table\"}]}, \"layout\": {\"annotationdefaults\": {\"arrowcolor\": \"#2a3f5f\", \"arrowhead\": 0, \"arrowwidth\": 1}, \"coloraxis\": {\"colorbar\": {\"outlinewidth\": 0, \"ticks\": \"\"}}, \"colorscale\": {\"diverging\": [[0, \"#8e0152\"], [0.1, \"#c51b7d\"], [0.2, \"#de77ae\"], [0.3, \"#f1b6da\"], [0.4, \"#fde0ef\"], [0.5, \"#f7f7f7\"], [0.6, \"#e6f5d0\"], [0.7, \"#b8e186\"], [0.8, \"#7fbc41\"], [0.9, \"#4d9221\"], [1, \"#276419\"]], \"sequential\": [[0.0, \"#0d0887\"], [0.1111111111111111, \"#46039f\"], [0.2222222222222222, \"#7201a8\"], [0.3333333333333333, \"#9c179e\"], [0.4444444444444444, \"#bd3786\"], [0.5555555555555556, \"#d8576b\"], [0.6666666666666666, \"#ed7953\"], [0.7777777777777778, \"#fb9f3a\"], [0.8888888888888888, \"#fdca26\"], [1.0, \"#f0f921\"]], \"sequentialminus\": [[0.0, \"#0d0887\"], [0.1111111111111111, \"#46039f\"], [0.2222222222222222, \"#7201a8\"], [0.3333333333333333, \"#9c179e\"], [0.4444444444444444, \"#bd3786\"], [0.5555555555555556, \"#d8576b\"], [0.6666666666666666, \"#ed7953\"], [0.7777777777777778, \"#fb9f3a\"], [0.8888888888888888, \"#fdca26\"], [1.0, \"#f0f921\"]]}, \"colorway\": [\"#636efa\", \"#EF553B\", \"#00cc96\", \"#ab63fa\", \"#FFA15A\", \"#19d3f3\", \"#FF6692\", \"#B6E880\", \"#FF97FF\", \"#FECB52\"], \"font\": {\"color\": \"#2a3f5f\"}, \"geo\": {\"bgcolor\": \"white\", \"lakecolor\": \"white\", \"landcolor\": \"#E5ECF6\", \"showlakes\": true, \"showland\": true, \"subunitcolor\": \"white\"}, \"hoverlabel\": {\"align\": \"left\"}, \"hovermode\": \"closest\", \"mapbox\": {\"style\": \"light\"}, \"paper_bgcolor\": \"white\", \"plot_bgcolor\": \"#E5ECF6\", \"polar\": {\"angularaxis\": {\"gridcolor\": \"white\", \"linecolor\": \"white\", \"ticks\": \"\"}, \"bgcolor\": \"#E5ECF6\", \"radialaxis\": {\"gridcolor\": \"white\", \"linecolor\": \"white\", \"ticks\": \"\"}}, \"scene\": {\"xaxis\": {\"backgroundcolor\": \"#E5ECF6\", \"gridcolor\": \"white\", \"gridwidth\": 2, \"linecolor\": \"white\", \"showbackground\": true, \"ticks\": \"\", \"zerolinecolor\": \"white\"}, \"yaxis\": {\"backgroundcolor\": \"#E5ECF6\", \"gridcolor\": \"white\", \"gridwidth\": 2, \"linecolor\": \"white\", \"showbackground\": true, \"ticks\": \"\", \"zerolinecolor\": \"white\"}, \"zaxis\": {\"backgroundcolor\": \"#E5ECF6\", \"gridcolor\": \"white\", \"gridwidth\": 2, \"linecolor\": \"white\", \"showbackground\": true, \"ticks\": \"\", \"zerolinecolor\": \"white\"}}, \"shapedefaults\": {\"line\": {\"color\": \"#2a3f5f\"}}, \"ternary\": {\"aaxis\": {\"gridcolor\": \"white\", \"linecolor\": \"white\", \"ticks\": \"\"}, \"baxis\": {\"gridcolor\": \"white\", \"linecolor\": \"white\", \"ticks\": \"\"}, \"bgcolor\": \"#E5ECF6\", \"caxis\": {\"gridcolor\": \"white\", \"linecolor\": \"white\", \"ticks\": \"\"}}, \"title\": {\"x\": 0.05}, \"xaxis\": {\"automargin\": true, \"gridcolor\": \"white\", \"linecolor\": \"white\", \"ticks\": \"\", \"title\": {\"standoff\": 15}, \"zerolinecolor\": \"white\", \"zerolinewidth\": 2}, \"yaxis\": {\"automargin\": true, \"gridcolor\": \"white\", \"linecolor\": \"white\", \"ticks\": \"\", \"title\": {\"standoff\": 15}, \"zerolinecolor\": \"white\", \"zerolinewidth\": 2}}}, \"width\": 500, \"xaxis\": {\"title\": {\"text\": \"Normalised Vertical Proportion\"}}, \"yaxis\": {\"title\": {\"text\": \"Normalised Linear Proportion\"}}},\n",
       "                        {\"responsive\": true}\n",
       "                    ).then(function(){\n",
       "                            \n",
       "var gd = document.getElementById('de399776-38f0-43e1-98a7-2786009bf516');\n",
       "var x = new MutationObserver(function (mutations, observer) {{\n",
       "        var display = window.getComputedStyle(gd).display;\n",
       "        if (!display || display === 'none') {{\n",
       "            console.log([gd, 'removed!']);\n",
       "            Plotly.purge(gd);\n",
       "            observer.disconnect();\n",
       "        }}\n",
       "}});\n",
       "\n",
       "// Listen for the removal of the full notebook cells\n",
       "var notebookContainer = gd.closest('#notebook-container');\n",
       "if (notebookContainer) {{\n",
       "    x.observe(notebookContainer, {childList: true});\n",
       "}}\n",
       "\n",
       "// Listen for the clearing of the current output cell\n",
       "var outputEl = gd.closest('.output');\n",
       "if (outputEl) {{\n",
       "    x.observe(outputEl, {childList: true});\n",
       "}}\n",
       "\n",
       "                        })\n",
       "                };\n",
       "                });\n",
       "            </script>\n",
       "        </div>"
      ]
     },
     "metadata": {},
     "output_type": "display_data"
    },
    {
     "data": {
      "image/png": "[encoded data removed]",
      "text/plain": [
       "<IPython.core.display.Image object>"
      ]
     },
     "execution_count": 143,
     "metadata": {},
     "output_type": "execute_result"
    }
   ],
   "source": [
    "## this plots the normalised values\n",
    "\n",
    "graph_df = linear_df\n",
    "linear_anomaly_titles = [['Op. 3 ii'], ['Op. 7 iii']]\n",
    "linear_anomalies = []\n",
    "for i in range(0, len(graph_df.index.values)-1):\n",
    "    temp_df = graph_df.iloc[i:i+1, :]\n",
    "    for j in linear_anomaly_titles:\n",
    "        if j == temp_df.index.values:\n",
    "            list_of_values = []\n",
    "            for k in temp_df.index.values:\n",
    "                list_of_values.append(str(k.replace(\"Op. \", \"\")))\n",
    "            for l in temp_df.values.flat:\n",
    "                list_of_values.append(l)\n",
    "            linear_anomalies.append(list_of_values)\n",
    "            graph_df = graph_df.drop(temp_df.index.values)\n",
    "linear_anomalies_df = pd.DataFrame(linear_anomalies, columns = ['Title', 'Vertical Normalised Total', 'Linear Normalised Total', 'Combined Normalised Total'])\n",
    "linear_anomalies_df = linear_anomalies_df.set_index('Title')\n",
    "\n",
    "vertical_anomaly_titles = [['Op. 5 iv'], ['Op. 12/ii'], ['Op. 13 iii'], ['Op. 13 iv'], ['Op. 14 i'], ['Op. 14 iii'], ['Op. 14 vi'], ['Op. 15 ii'], ['Op. 18 i'], ['Op. 18 iii'], ['Op. 19 ii'], ['Op. 20 i'], ['Op. 20 ii'], ['Op. 29 ii']]\n",
    "vertical_anomalies = []\n",
    "for i in range(0, len(graph_df.index.values)-1):\n",
    "    temp_df = graph_df.iloc[i:i+1, :]\n",
    "    for j in vertical_anomaly_titles:\n",
    "        if j == temp_df.index.values:\n",
    "            list_of_values = []\n",
    "            for k in temp_df.index.values:\n",
    "                list_of_values.append(str(k.replace(\"Op. \", \"\")))\n",
    "            for l in temp_df.values.flat:\n",
    "                list_of_values.append(l)\n",
    "            vertical_anomalies.append(list_of_values)\n",
    "            graph_df = graph_df.drop(temp_df.index.values)\n",
    "vertical_anomalies_df = pd.DataFrame(vertical_anomalies, columns = ['Title', 'Vertical Normalised Total', 'Linear Normalised Total', 'Combined Normalised Total'])\n",
    "vertical_anomalies_df = vertical_anomalies_df.set_index('Title')\n",
    "\n",
    "fig = go.Figure()\n",
    "fig.add_trace(go.Scatter(x = linear_anomalies_df['Vertical Normalised Total'], y = linear_anomalies_df['Linear Normalised Total'], mode='markers', text=linear_anomalies_df.index.values, textposition=\"top center\", textfont_size=14, marker_color='rgb(3,3,255)', marker_line_color='rgb(9,19,6)', marker_line_width=1.5, opacity=0.6, name='Linear Anomalies'))\n",
    "fig.add_trace(go.Scatter(x = linear_anomalies_df['Vertical Normalised Total'], y = linear_anomalies_df['Linear Normalised Total'], mode='text', text=linear_anomalies_df.index.values, textposition=\"top center\", textfont_size=14, marker_color='rgb(3,3,255)', marker_line_color='rgb(9,19,6)', marker_line_width=1.5, opacity=0.6, name='Linear Anomalies', showlegend= False))\n",
    "\n",
    "fig.add_trace(go.Scatter(x = vertical_anomalies_df['Vertical Normalised Total'], y = vertical_anomalies_df['Linear Normalised Total'], mode='markers', text=vertical_anomalies_df.index.values, textposition=\"top center\", textfont_size=14, marker_color='rgb(255,0,13)', marker_line_color='rgb(19,0,0)', marker_line_width=1.5, opacity=0.6, name='Vertical Anomalies'))\n",
    "fig.add_trace(go.Scatter(x = vertical_anomalies_df['Vertical Normalised Total'], y = vertical_anomalies_df['Linear Normalised Total'], mode='text', text=vertical_anomalies_df.index.values, textposition=\"top center\", textfont_size=14, marker_color='rgb(255,0,13)', marker_line_color='rgb(19,0,0)', marker_line_width=1.5, opacity=0.6, name='Vertical Anomalies', showlegend= False))\n",
    "\n",
    "fig.add_trace(go.Scatter(x = graph_df['Vertical Normalised Total'], y = graph_df['Linear Normalised Total'], mode='markers', text=graph_df.index.values, textposition=\"top center\", textfont_size=14, marker_color='rgb(3,199,45)', marker_line_color='rgb(3,35,134)', marker_line_width=1.5, opacity=0.6, name='Other'))\n",
    "fig.update_layout(xaxis=(dict(title={'text': 'Normalised Vertical Proportion'})))\n",
    "fig.update_layout(yaxis=(dict(title={'text': 'Normalised Linear Proportion'})))\n",
    "fig.update_traces(marker_size=5, selector=dict(type='scatter')) \n",
    "#fig.update_layout(title={'text': 'Comparative Proportions Chart', 'font':dict(family=\"Big Caslon, monospace\", size=20, color='rgb(0,0,0)'), 'y':0.95, 'x':0.5, 'xanchor': 'center', 'yanchor': 'top'})\n",
    "fig.update_layout(font=dict(family=\"Baskerville, monospace\", size=12, color='rgb(0,0,0)'))\n",
    "fig.update_layout(autosize=False, width=500, height=500)\n",
    "fig.update_layout(margin={'l': 0, 'r': 0, 't': 0, 'b': 0})\n",
    "fig.update_layout(legend=dict(yanchor=\"top\", y=0.99, xanchor=\"right\", x=0.99))\n",
    "fig.show()\n",
    "img_bytes = fig.to_image(format=\"png\", width=500, height=500, scale=3)\n",
    "Image(img_bytes)"
   ]
  },
  {
   "cell_type": "code",
   "execution_count": 144,
   "metadata": {},
   "outputs": [],
   "source": [
    "combined_values = linear_df"
   ]
  },
  {
   "cell_type": "code",
   "execution_count": 145,
   "metadata": {},
   "outputs": [
    {
     "name": "stdout",
     "output_type": "stream",
     "text": [
      "Vertical median: 0.17609522640814823\n",
      "Linear median: 0.21558752997601915\n",
      "Linear higher in 61 movements ( 57.009345794392516 % )\n",
      "Vertical higher in 44 movements ( 41.1214953271028 % )\n",
      "Equal in 2 movements ( 1.8691588785046727 %)\n"
     ]
    }
   ],
   "source": [
    "## this returns some comparative statistics\n",
    "\n",
    "print('Vertical median:', np.median(combined_values['Vertical Normalised Total'].values.flat))\n",
    "print('Linear median:', np.median(combined_values['Linear Normalised Total'].values.flat))\n",
    "\n",
    "print('Linear higher in', len(linear_higher_pf), 'movements (',len(linear_higher_pf)/107*100,'% )')\n",
    "print('Vertical higher in', len(vertical_higher_pf), 'movements (',len(vertical_higher_pf)/107*100,'% )')\n",
    "print('Equal in', len(the_same_pf), 'movements (',len(the_same_pf)/107*100,'%)')"
   ]
  },
  {
   "cell_type": "code",
   "execution_count": 146,
   "metadata": {},
   "outputs": [
    {
     "data": {
      "text/html": [
       "<div>\n",
       "<style scoped>\n",
       "    .dataframe tbody tr th:only-of-type {\n",
       "        vertical-align: middle;\n",
       "    }\n",
       "\n",
       "    .dataframe tbody tr th {\n",
       "        vertical-align: top;\n",
       "    }\n",
       "\n",
       "    .dataframe thead th {\n",
       "        text-align: right;\n",
       "    }\n",
       "</style>\n",
       "<table border=\"1\" class=\"dataframe\">\n",
       "  <thead>\n",
       "    <tr style=\"text-align: right;\">\n",
       "      <th></th>\n",
       "      <th>Vertical Normalised Total</th>\n",
       "      <th>Linear Normalised Total</th>\n",
       "      <th>Combined Normalised Total</th>\n",
       "      <th>Difference Value</th>\n",
       "    </tr>\n",
       "    <tr>\n",
       "      <th>Title</th>\n",
       "      <th></th>\n",
       "      <th></th>\n",
       "      <th></th>\n",
       "      <th></th>\n",
       "    </tr>\n",
       "  </thead>\n",
       "  <tbody>\n",
       "    <tr>\n",
       "      <th>Op. 11 iii</th>\n",
       "      <td>0.000000</td>\n",
       "      <td>0.000000</td>\n",
       "      <td>0.000000</td>\n",
       "      <td>0.000000</td>\n",
       "    </tr>\n",
       "    <tr>\n",
       "      <th>Op. 31 iv</th>\n",
       "      <td>0.000000</td>\n",
       "      <td>0.000000</td>\n",
       "      <td>0.000000</td>\n",
       "      <td>0.000000</td>\n",
       "    </tr>\n",
       "    <tr>\n",
       "      <th>Op. 6 vi</th>\n",
       "      <td>0.000000</td>\n",
       "      <td>0.022464</td>\n",
       "      <td>0.022464</td>\n",
       "      <td>0.022464</td>\n",
       "    </tr>\n",
       "    <tr>\n",
       "      <th>Op. 6 v</th>\n",
       "      <td>0.000000</td>\n",
       "      <td>0.034637</td>\n",
       "      <td>0.034637</td>\n",
       "      <td>0.034637</td>\n",
       "    </tr>\n",
       "    <tr>\n",
       "      <th>Op. 26</th>\n",
       "      <td>0.038986</td>\n",
       "      <td>0.007488</td>\n",
       "      <td>0.046474</td>\n",
       "      <td>0.031498</td>\n",
       "    </tr>\n",
       "    <tr>\n",
       "      <th>...</th>\n",
       "      <td>...</td>\n",
       "      <td>...</td>\n",
       "      <td>...</td>\n",
       "      <td>...</td>\n",
       "    </tr>\n",
       "    <tr>\n",
       "      <th>Op. 20 i</th>\n",
       "      <td>0.887852</td>\n",
       "      <td>0.254297</td>\n",
       "      <td>1.142149</td>\n",
       "      <td>0.633555</td>\n",
       "    </tr>\n",
       "    <tr>\n",
       "      <th>Op. 16 i</th>\n",
       "      <td>0.820505</td>\n",
       "      <td>0.339416</td>\n",
       "      <td>1.159921</td>\n",
       "      <td>0.481089</td>\n",
       "    </tr>\n",
       "    <tr>\n",
       "      <th>Op. 27 ii</th>\n",
       "      <td>0.883621</td>\n",
       "      <td>0.290625</td>\n",
       "      <td>1.174246</td>\n",
       "      <td>0.592996</td>\n",
       "    </tr>\n",
       "    <tr>\n",
       "      <th>Op. 27 i</th>\n",
       "      <td>0.886700</td>\n",
       "      <td>0.310000</td>\n",
       "      <td>1.196700</td>\n",
       "      <td>0.576700</td>\n",
       "    </tr>\n",
       "    <tr>\n",
       "      <th>Op. 5 iv</th>\n",
       "      <td>1.000000</td>\n",
       "      <td>0.430556</td>\n",
       "      <td>1.430556</td>\n",
       "      <td>0.569444</td>\n",
       "    </tr>\n",
       "  </tbody>\n",
       "</table>\n",
       "<p>107 rows × 4 columns</p>\n",
       "</div>"
      ],
      "text/plain": [
       "            Vertical Normalised Total  Linear Normalised Total  \\\n",
       "Title                                                            \n",
       "Op. 11 iii                   0.000000                 0.000000   \n",
       "Op. 31 iv                    0.000000                 0.000000   \n",
       "Op. 6 vi                     0.000000                 0.022464   \n",
       "Op. 6 v                      0.000000                 0.034637   \n",
       "Op. 26                       0.038986                 0.007488   \n",
       "...                               ...                      ...   \n",
       "Op. 20 i                     0.887852                 0.254297   \n",
       "Op. 16 i                     0.820505                 0.339416   \n",
       "Op. 27 ii                    0.883621                 0.290625   \n",
       "Op. 27 i                     0.886700                 0.310000   \n",
       "Op. 5 iv                     1.000000                 0.430556   \n",
       "\n",
       "            Combined Normalised Total  Difference Value  \n",
       "Title                                                    \n",
       "Op. 11 iii                   0.000000          0.000000  \n",
       "Op. 31 iv                    0.000000          0.000000  \n",
       "Op. 6 vi                     0.022464          0.022464  \n",
       "Op. 6 v                      0.034637          0.034637  \n",
       "Op. 26                       0.046474          0.031498  \n",
       "...                               ...               ...  \n",
       "Op. 20 i                     1.142149          0.633555  \n",
       "Op. 16 i                     1.159921          0.481089  \n",
       "Op. 27 ii                    1.174246          0.592996  \n",
       "Op. 27 i                     1.196700          0.576700  \n",
       "Op. 5 iv                     1.430556          0.569444  \n",
       "\n",
       "[107 rows x 4 columns]"
      ]
     },
     "execution_count": 146,
     "metadata": {},
     "output_type": "execute_result"
    }
   ],
   "source": [
    "## this shows the movements ordered by combined normalised total\n",
    "\n",
    "difference_values_list = []\n",
    "for i in range(0, len(combined_values.index.values)):\n",
    "    temp_df = combined_values.iloc[i:i+1, 0:2]\n",
    "    difference_value = max(temp_df.values.flat)-min(temp_df.values.flat)\n",
    "    difference_values_list.append(difference_value)\n",
    "combined_values['Difference Value'] = difference_values_list\n",
    "combined_values"
   ]
  },
  {
   "cell_type": "code",
   "execution_count": 147,
   "metadata": {},
   "outputs": [],
   "source": [
    "combined_values = combined_values.sort_values(by='Difference Value')\n",
    "chronological_position = []\n",
    "for i in range(0, len(combined_values.index.values)):\n",
    "    temp_df = combined_values.iloc[i:i+1, :]\n",
    "    title = temp_df.index\n",
    "    for j in range(0, len(metadata.index.values)):\n",
    "        if metadata.iloc[j:j+1].index == title:\n",
    "            chronological_position.append(float(metadata.iloc[j:j+1, 8:].values[0]))\n",
    "combined_values['Chronological Position'] = chronological_position"
   ]
  },
  {
   "cell_type": "code",
   "execution_count": 148,
   "metadata": {},
   "outputs": [
    {
     "data": {
      "text/html": [
       "<div>\n",
       "<style scoped>\n",
       "    .dataframe tbody tr th:only-of-type {\n",
       "        vertical-align: middle;\n",
       "    }\n",
       "\n",
       "    .dataframe tbody tr th {\n",
       "        vertical-align: top;\n",
       "    }\n",
       "\n",
       "    .dataframe thead th {\n",
       "        text-align: right;\n",
       "    }\n",
       "</style>\n",
       "<table border=\"1\" class=\"dataframe\">\n",
       "  <thead>\n",
       "    <tr style=\"text-align: right;\">\n",
       "      <th></th>\n",
       "      <th>Vertical Normalised Total</th>\n",
       "      <th>Linear Normalised Total</th>\n",
       "      <th>Combined Normalised Total</th>\n",
       "      <th>Difference Value</th>\n",
       "      <th>Chronological Position</th>\n",
       "    </tr>\n",
       "  </thead>\n",
       "  <tbody>\n",
       "    <tr>\n",
       "      <th>Vertical Normalised Total</th>\n",
       "      <td>1.000000</td>\n",
       "      <td>0.247657</td>\n",
       "      <td>0.778407</td>\n",
       "      <td>0.304186</td>\n",
       "      <td>0.230277</td>\n",
       "    </tr>\n",
       "    <tr>\n",
       "      <th>Linear Normalised Total</th>\n",
       "      <td>0.247657</td>\n",
       "      <td>1.000000</td>\n",
       "      <td>0.759975</td>\n",
       "      <td>0.350984</td>\n",
       "      <td>-0.214040</td>\n",
       "    </tr>\n",
       "    <tr>\n",
       "      <th>Combined Normalised Total</th>\n",
       "      <td>0.778407</td>\n",
       "      <td>0.759975</td>\n",
       "      <td>1.000000</td>\n",
       "      <td>0.534256</td>\n",
       "      <td>-0.002410</td>\n",
       "    </tr>\n",
       "    <tr>\n",
       "      <th>Difference Value</th>\n",
       "      <td>0.304186</td>\n",
       "      <td>0.350984</td>\n",
       "      <td>0.534256</td>\n",
       "      <td>1.000000</td>\n",
       "      <td>-0.018104</td>\n",
       "    </tr>\n",
       "    <tr>\n",
       "      <th>Chronological Position</th>\n",
       "      <td>0.230277</td>\n",
       "      <td>-0.214040</td>\n",
       "      <td>-0.002410</td>\n",
       "      <td>-0.018104</td>\n",
       "      <td>1.000000</td>\n",
       "    </tr>\n",
       "  </tbody>\n",
       "</table>\n",
       "</div>"
      ],
      "text/plain": [
       "                           Vertical Normalised Total  Linear Normalised Total  \\\n",
       "Vertical Normalised Total                   1.000000                 0.247657   \n",
       "Linear Normalised Total                     0.247657                 1.000000   \n",
       "Combined Normalised Total                   0.778407                 0.759975   \n",
       "Difference Value                            0.304186                 0.350984   \n",
       "Chronological Position                      0.230277                -0.214040   \n",
       "\n",
       "                           Combined Normalised Total  Difference Value  \\\n",
       "Vertical Normalised Total                   0.778407          0.304186   \n",
       "Linear Normalised Total                     0.759975          0.350984   \n",
       "Combined Normalised Total                   1.000000          0.534256   \n",
       "Difference Value                            0.534256          1.000000   \n",
       "Chronological Position                     -0.002410         -0.018104   \n",
       "\n",
       "                           Chronological Position  \n",
       "Vertical Normalised Total                0.230277  \n",
       "Linear Normalised Total                 -0.214040  \n",
       "Combined Normalised Total               -0.002410  \n",
       "Difference Value                        -0.018104  \n",
       "Chronological Position                   1.000000  "
      ]
     },
     "execution_count": 148,
     "metadata": {},
     "output_type": "execute_result"
    }
   ],
   "source": [
    "## provides some correlations with other pertinent variables\n",
    "\n",
    "corr = combined_values.corr(method='spearman')\n",
    "corr"
   ]
  },
  {
   "cell_type": "code",
   "execution_count": 149,
   "metadata": {},
   "outputs": [
    {
     "name": "stdout",
     "output_type": "stream",
     "text": [
      "Pre-Dodecaphonic Median: 0.1804934644266683\n",
      "Dodecaphonic Median: 0.13171946480907254\n"
     ]
    }
   ],
   "source": [
    "## this calculates the median normalized combined values of the pre-dodecaphonic and dodecaphonic music\n",
    "\n",
    "combined_values = combined_values.sort_values(by='Chronological Position')\n",
    "linear_df_part_two = combined_values.iloc[65:, :].transpose().drop(columns=['Op. 16 v', 'Op. 16 i']).transpose()\n",
    "linear_df_part_one = combined_values.iloc[:68, :].transpose().drop(columns=['Op. 17 i']).transpose()\n",
    "\n",
    "print(\"Pre-Dodecaphonic Median:\", statistics.median(linear_df_part_one['Difference Value'].values.flat))\n",
    "print(\"Dodecaphonic Median:\", statistics.median(linear_df_part_two['Difference Value'].values.flat))"
   ]
  },
  {
   "cell_type": "code",
   "execution_count": null,
   "metadata": {},
   "outputs": [],
   "source": []
  }
 ],
 "metadata": {
  "kernelspec": {
   "display_name": "Python 3",
   "language": "python",
   "name": "python3"
  },
  "language_info": {
   "codemirror_mode": {
    "name": "ipython",
    "version": 3
   },
   "file_extension": ".py",
   "mimetype": "text/x-python",
   "name": "python",
   "nbconvert_exporter": "python",
   "pygments_lexer": "ipython3",
   "version": "3.7.4"
  }
 },
 "nbformat": 4,
 "nbformat_minor": 2
}

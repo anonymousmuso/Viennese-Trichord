{
 "cells": [
  {
   "cell_type": "markdown",
   "metadata": {},
   "source": [
    "# Introduction\n",
    "This uses keyword analysis (as in Gries, 'A new approach to (key) keywords analysis') to look for key verticalities in the corpus."
   ]
  },
  {
   "cell_type": "markdown",
   "metadata": {},
   "source": [
    "### Imports\n",
    "Import libraries and write settings here."
   ]
  },
  {
   "cell_type": "code",
   "execution_count": 17,
   "metadata": {},
   "outputs": [
    {
     "data": {
      "text/html": [
       "        <script type=\"text/javascript\">\n",
       "        window.PlotlyConfig = {MathJaxConfig: 'local'};\n",
       "        if (window.MathJax) {MathJax.Hub.Config({SVG: {font: \"STIX-Web\"}});}\n",
       "        if (typeof require !== 'undefined') {\n",
       "        require.undef(\"plotly\");\n",
       "        requirejs.config({\n",
       "            paths: {\n",
       "                'plotly': ['https://cdn.plot.ly/plotly-latest.min']\n",
       "            }\n",
       "        });\n",
       "        require(['plotly'], function(Plotly) {\n",
       "            window._Plotly = Plotly;\n",
       "        });\n",
       "        }\n",
       "        </script>\n",
       "        "
      ]
     },
     "metadata": {},
     "output_type": "display_data"
    },
    {
     "data": {
      "text/html": [
       "        <script type=\"text/javascript\">\n",
       "        window.PlotlyConfig = {MathJaxConfig: 'local'};\n",
       "        if (window.MathJax) {MathJax.Hub.Config({SVG: {font: \"STIX-Web\"}});}\n",
       "        if (typeof require !== 'undefined') {\n",
       "        require.undef(\"plotly\");\n",
       "        requirejs.config({\n",
       "            paths: {\n",
       "                'plotly': ['https://cdn.plot.ly/plotly-latest.min']\n",
       "            }\n",
       "        });\n",
       "        require(['plotly'], function(Plotly) {\n",
       "            window._Plotly = Plotly;\n",
       "        });\n",
       "        }\n",
       "        </script>\n",
       "        "
      ]
     },
     "metadata": {},
     "output_type": "display_data"
    }
   ],
   "source": [
    "from music21 import *\n",
    "import os\n",
    "import csv\n",
    "import itertools as it\n",
    "from collections import Counter\n",
    "import pandas as pd\n",
    "import chart_studio.plotly as py\n",
    "import plotly.graph_objects as go\n",
    "from plotly.offline import iplot, init_notebook_mode\n",
    "import cufflinks\n",
    "cufflinks.go_offline(connected=True)\n",
    "init_notebook_mode(connected=True)\n",
    "from IPython.display import Image\n",
    "import math"
   ]
  },
  {
   "cell_type": "code",
   "execution_count": 18,
   "metadata": {},
   "outputs": [
    {
     "name": "stderr",
     "output_type": "stream",
     "text": [
      "/opt/anaconda3/lib/python3.7/site-packages/music21/corpus/corpora.py: WARNING: DPhilCorpus_Linear_Trigrams metadata cache: starting processing of paths: 107\n",
      "/opt/anaconda3/lib/python3.7/site-packages/music21/corpus/corpora.py: WARNING: cache: filename: /var/folders/cr/p20lv70n2wbf2w8jfmxbh69w0000gp/T/music21/local-DPhilCorpus_Linear_Trigrams.p.gz\n",
      "bundles.py: WARNING: MetadataBundle Modification Time: 1608735871.2726376\n",
      "bundles.py: WARNING: Skipped 107 sources already in cache.\n",
      "/opt/anaconda3/lib/python3.7/site-packages/music21/corpus/corpora.py: WARNING: cache: writing time: 0.137 md items: 107\n",
      "\n",
      "/opt/anaconda3/lib/python3.7/site-packages/music21/corpus/corpora.py: WARNING: cache: filename: /var/folders/cr/p20lv70n2wbf2w8jfmxbh69w0000gp/T/music21/local-DPhilCorpus_Linear_Trigrams.p.gz\n"
     ]
    },
    {
     "data": {
      "text/plain": [
       "True"
      ]
     },
     "execution_count": 18,
     "metadata": {},
     "output_type": "execute_result"
    }
   ],
   "source": [
    "## loads corpus\n",
    "\n",
    "linear_corpus_trigrams = corpus.corpora.LocalCorpus('DPhilCorpus_Linear_Trigrams')\n",
    "linear_corpus_trigrams.existsInSettings\n",
    "\n",
    "linear_corpus_trigrams.addPath('~/Desktop/Oxford/Corpus/Sounding Corpus (Movements) Linear/Trigrams/XML/')\n",
    "linear_corpus_trigrams.directoryPaths\n",
    "\n",
    "linear_corpus_trigrams.save()\n",
    "linear_corpus_trigrams.existsInSettings"
   ]
  },
  {
   "cell_type": "code",
   "execution_count": 19,
   "metadata": {},
   "outputs": [],
   "source": [
    "## organises corpus\n",
    "\n",
    "pieceName = []\n",
    "\n",
    "listOfWorks = linear_corpus_trigrams.search('Op. ')\n",
    "for el in listOfWorks:\n",
    "    pieceName.append(el.sourcePath)"
   ]
  },
  {
   "cell_type": "markdown",
   "metadata": {},
   "source": [
    "# Data Collection\n",
    "Counts total durations of each verticality (normal order) but does not convert this into proportions for each movement."
   ]
  },
  {
   "cell_type": "code",
   "execution_count": 20,
   "metadata": {},
   "outputs": [],
   "source": [
    "## counts total durations\n",
    "\n",
    "combined_list_of_counts = []\n",
    "for el in pieceName:\n",
    "    thePiece = corpus.parse(el)\n",
    "    fileTitle = str(el).replace(\"/Users/joshua ballance/Desktop/Oxford/Corpus/Sounding Corpus (Movements) Linear/XML/\", \"\").replace(\".xml\", \"\").replace(\".mxl\", \"\")\n",
    "    opusNumber = fileTitle.replace(\"Op.\", \"\").replace(\" \", \"\").replace(\"i\", \"\").replace(\"v\", \"\")\n",
    "    movementNumber = fileTitle.replace(\"Op.\", \"\").replace(\" \", \"\").replace(\"1\", \"\").replace(\"2\", \"\").replace(\"3\", \"\").replace(\"4\", \"\").replace(\"5\", \"\").replace(\"6\", \"\").replace(\"7\", \"\").replace(\"8\", \"\").replace(\"9\", \"\").replace(\"0\", \"\")\n",
    "    \n",
    "    three_note_list = []\n",
    "    for h in range(0,len(thePiece.parts)):\n",
    "        current_part = thePiece.parts[h]\n",
    "        listOfNotes = current_part.flat.getElementsByClass(note.Note)\n",
    "        listOfRests = current_part.flat.getElementsByClass(note.Rest)\n",
    "        \n",
    "        for i in range(0,len(listOfNotes)-2):\n",
    "            temp_list_of_notes = []\n",
    "            firstNote = listOfNotes[i]\n",
    "            secondNote = listOfNotes[i+1]\n",
    "            thirdNote = listOfNotes[i+2]\n",
    "            rhythmicDifference = secondNote.offset-firstNote.offset\n",
    "            if firstNote.quarterLength == rhythmicDifference:\n",
    "                if 'start' in str(firstNote.tie):\n",
    "                    pass\n",
    "                elif 'stop' in str(secondNote.tie):\n",
    "                    pass\n",
    "                elif 'continue' in str(firstNote.tie):\n",
    "                    pass\n",
    "                elif 'continue' in str(secondNote.tie):\n",
    "                    pass\n",
    "                else:\n",
    "                    temp_list_of_notes.append(firstNote)\n",
    "                    temp_list_of_notes.append(secondNote)\n",
    "                    rhythmicDifference = thirdNote.offset-secondNote.offset\n",
    "                    if secondNote.quarterLength == rhythmicDifference:\n",
    "                        if 'start' in str(secondNote.tie):\n",
    "                            pass\n",
    "                        elif 'stop' in str(thirdNote.tie):\n",
    "                            pass\n",
    "                        elif 'continue' in str(secondNote.tie):\n",
    "                            pass\n",
    "                        elif 'continue' in str(thirdNote.tie):\n",
    "                            pass\n",
    "                        else:\n",
    "                            temp_list_of_notes.append(thirdNote)\n",
    "                    else:\n",
    "                        barNumber = thirdNote.measureNumber\n",
    "                        singleBar = current_part.measure(barNumber)\n",
    "                        barLength = singleBar.quarterLength\n",
    "                        if rhythmicDifference < barLength/2:\n",
    "                            temp_list_of_notes.append(thirdNote)\n",
    "            else:\n",
    "                barNumber = secondNote.measureNumber\n",
    "                singleBar = current_part.measure(barNumber)\n",
    "                barLength = singleBar.quarterLength\n",
    "                if rhythmicDifference < barLength/2:\n",
    "                    temp_list_of_notes.append(firstNote)\n",
    "                    temp_list_of_notes.append(secondNote)\n",
    "                    rhythmicDifference = thirdNote.offset-secondNote.offset\n",
    "                    if secondNote.quarterLength == rhythmicDifference:\n",
    "                        if 'start' in str(secondNote.tie):\n",
    "                            pass\n",
    "                        elif 'stop' in str(thirdNote.tie):\n",
    "                            pass\n",
    "                        elif 'continue' in str(secondNote.tie):\n",
    "                            pass\n",
    "                        elif 'continue' in str(thirdNote.tie):\n",
    "                            pass\n",
    "                        else:\n",
    "                            temp_list_of_notes.append(thirdNote)\n",
    "                    else:\n",
    "                        barNumber = thirdNote.measureNumber\n",
    "                        singleBar = current_part.measure(barNumber)\n",
    "                        barLength = singleBar.quarterLength\n",
    "                        if rhythmicDifference < barLength/2:\n",
    "                            temp_list_of_notes.append(thirdNote)\n",
    "            if len(temp_list_of_notes) == 3:\n",
    "                three_note_list.append(temp_list_of_notes)\n",
    "    normal_order_list = []\n",
    "    for j in three_note_list:\n",
    "        temp_chord = chord.Chord(j)\n",
    "        temp = []\n",
    "        transposedNormalOrder = []\n",
    "        for k in temp_chord.normalOrder:\n",
    "            if k >= temp_chord.normalOrder[0]: \n",
    "                transposedNormalOrder.append(k-temp_chord.normalOrder[0])\n",
    "            else:\n",
    "                transposedNormalOrder.append(k+12-temp_chord.normalOrder[0])\n",
    "        normal_order_list.append(str(transposedNormalOrder))\n",
    "    normal_order_set = set(normal_order_list)\n",
    "    c = Counter(normal_order_list)\n",
    "\n",
    "    listOfCounts = [fileTitle]\n",
    "    for l in normal_order_set:\n",
    "        info = [l, c[l]]\n",
    "        listOfCounts.append(info)    \n",
    "    \n",
    "    combined_list_of_counts.append(listOfCounts)"
   ]
  },
  {
   "cell_type": "code",
   "execution_count": 21,
   "metadata": {},
   "outputs": [],
   "source": [
    "## organises data and counts total number of trigrams per movement\n",
    "\n",
    "complete_normal_order_list = []\n",
    "for i in combined_list_of_counts:\n",
    "    for j in i:\n",
    "        if len(j) == 2:\n",
    "            complete_normal_order_list.append(j[0])\n",
    "complete_normal_order_set = set(complete_normal_order_list)\n",
    "sorted_complete_normal_order_set = sorted(complete_normal_order_set, key = lambda item: (len(item), item))\n",
    "\n",
    "list_of_titles = []\n",
    "list_of_results  = []\n",
    "for i in combined_list_of_counts:\n",
    "    list_of_titles.append(i[0])\n",
    "    list_of_just_counts = []\n",
    "    temp_list_of_normal_orders = []\n",
    "    list_of_only_counts = []\n",
    "    for j in i:\n",
    "        if len(j) == 2:\n",
    "            list_of_only_counts.append(j[1])\n",
    "            temp_list_of_normal_orders.append(j[0])\n",
    "    for k in sorted_complete_normal_order_set:\n",
    "        if k in temp_list_of_normal_orders:\n",
    "            for l in i:\n",
    "                if len(l) == 2:\n",
    "                    if l[0] == k:\n",
    "                        list_of_just_counts.append(l[1])\n",
    "        else:\n",
    "            list_of_just_counts.append(0)\n",
    "    list_of_results.append(list_of_just_counts)\n",
    "df = pd.DataFrame(list_of_results, columns = sorted_complete_normal_order_set, index = list_of_titles)\n",
    "\n",
    "total_df = df\n",
    "list_of_vals = []\n",
    "for i in range(0, len(total_df.index)):\n",
    "    temp_value = sum(total_df.iloc[i:i+1, :].values.flat)\n",
    "    list_of_vals.append(temp_value)\n",
    "total_df['Total'] = list_of_vals\n",
    "data2 = total_df"
   ]
  },
  {
   "cell_type": "code",
   "execution_count": 22,
   "metadata": {},
   "outputs": [],
   "source": [
    "## loads proportions data\n",
    "\n",
    "proportions_data2 = pd.read_csv('/Users/joshua ballance/Desktop/Linear Interval Content - Total - Three Notes.csv', index_col = 0)"
   ]
  },
  {
   "cell_type": "markdown",
   "metadata": {},
   "source": [
    "# Keyword Analysis"
   ]
  },
  {
   "cell_type": "code",
   "execution_count": 23,
   "metadata": {},
   "outputs": [],
   "source": [
    "## calculates DKL values by using proportions data weighted by total number of trigrams in each movement to facilitate inter-movement comparison\n",
    "\n",
    "DKL_values = []\n",
    "corpus_duration = sum(data2.iloc[:, len(data2.columns)-1:].values.flat)\n",
    "for i in range(0,len(data2.columns)-1):\n",
    "    list_of_plog_values = []\n",
    "    summed_verticality_durations = sum(data2.iloc[:, i:i+1].values.flat)\n",
    "    for j in range(0, len(data2.index)):\n",
    "        movement_duration = float(data2.iloc[j:j+1, len(data2.columns)-1:].values)\n",
    "        verticality_duration = float(data2.iloc[j:j+1, i:i+1].values)\n",
    "        verticality_proportion = verticality_duration/summed_verticality_durations\n",
    "        movement_proportion = movement_duration/corpus_duration\n",
    "        if verticality_proportion == 0:\n",
    "            list_of_plog_values.append(0)\n",
    "        else:\n",
    "            plog2pq_value = verticality_proportion*(math.log2(verticality_proportion/movement_proportion))\n",
    "            list_of_plog_values.append(plog2pq_value)\n",
    "    verticality_plog_value = sum(list_of_plog_values)\n",
    "    DKL_value = 1-(math.exp(-verticality_plog_value))\n",
    "    DKL_values.append(DKL_value)     \n",
    "    \n",
    "totals = []\n",
    "for k in range(0, len(proportions_data2.columns)):\n",
    "    summed_proportion = sum(proportions_data2.iloc[:, k:k+1].values.flat)\n",
    "    totals.append(summed_proportion)\n",
    "total_proportions = []\n",
    "for j in totals:\n",
    "    new_total = j/sum(totals)*100\n",
    "    total_proportions.append(new_total)\n",
    "    \n",
    "proportions_data2 = proportions_data2.transpose()\n",
    "proportions_data2['Total'] = total_proportions\n",
    "proportions_data2['DKL Value'] = DKL_values"
   ]
  },
  {
   "cell_type": "code",
   "execution_count": 27,
   "metadata": {},
   "outputs": [
    {
     "data": {
      "application/vnd.plotly.v1+json": {
       "config": {
        "plotlyServerURL": "https://plot.ly"
       },
       "data": [
        {
         "mode": "markers+text",
         "text": [
          "[0]",
          "[0, 1]",
          "[0, 2]",
          "[0, 3]",
          "[0, 4]",
          "[0, 5]",
          "[0, 6]",
          "[0, 1, 2]",
          "[0, 1, 3]",
          "[0, 1, 4]",
          "[0, 1, 5]",
          "[0, 1, 6]",
          "[0, 2, 3]",
          "[0, 2, 4]",
          "[0, 2, 5]",
          "[0, 2, 6]",
          "[0, 2, 7]",
          "[0, 3, 4]",
          "[0, 3, 5]",
          "[0, 3, 6]",
          "[0, 3, 7]",
          "[0, 4, 5]",
          "[0, 4, 6]",
          "[0, 4, 7]",
          "[0, 4, 8]",
          "[0, 5, 6]"
         ],
         "textfont": {
          "size": 14
         },
         "textposition": "bottom center",
         "type": "scatter",
         "x": [
          6.302840806416822,
          8.503802214023782,
          3.831660990474713,
          2.411160397170975,
          2.3155756440158037,
          1.326396489844085,
          0.9888681210219191,
          10.261328389697555,
          6.206189289758662,
          9.074114820648093,
          5.388518220147699,
          3.6961451931213274,
          5.808286095185411,
          1.9599385501074946,
          1.363195117219327,
          2.114642880336351,
          0.916740468979994,
          8.848211239685172,
          1.258101260855715,
          1.7631070394790642,
          1.2846980230839649,
          4.945623306864197,
          2.374132001237661,
          1.226787467726642,
          1.8393095128673038,
          3.9906264600302643
         ],
         "y": [
          0.7511750830746707,
          0.2704249724719525,
          0.5300343042670996,
          0.4021532119793524,
          0.376698549648695,
          0.5403208208625743,
          0.5368482292882538,
          0.21066887069163787,
          0.318225892286491,
          0.248672810811554,
          0.20751608858002923,
          0.3712145969431392,
          0.32116551965723206,
          0.43526607009038343,
          0.4909779547572707,
          0.3591968293925464,
          0.5458855585362794,
          0.3230606319373227,
          0.43435345891477095,
          0.47953758516254397,
          0.45076708398227305,
          0.2550953647844877,
          0.4059755884500763,
          0.45428929751402547,
          0.6579839260020762,
          0.421380561259059
         ]
        }
       ],
       "layout": {
        "font": {
         "color": "rgb(0,0,0)",
         "family": "Baskerville, monospace",
         "size": 12
        },
        "template": {
         "data": {
          "bar": [
           {
            "error_x": {
             "color": "#2a3f5f"
            },
            "error_y": {
             "color": "#2a3f5f"
            },
            "marker": {
             "line": {
              "color": "#E5ECF6",
              "width": 0.5
             }
            },
            "type": "bar"
           }
          ],
          "barpolar": [
           {
            "marker": {
             "line": {
              "color": "#E5ECF6",
              "width": 0.5
             }
            },
            "type": "barpolar"
           }
          ],
          "carpet": [
           {
            "aaxis": {
             "endlinecolor": "#2a3f5f",
             "gridcolor": "white",
             "linecolor": "white",
             "minorgridcolor": "white",
             "startlinecolor": "#2a3f5f"
            },
            "baxis": {
             "endlinecolor": "#2a3f5f",
             "gridcolor": "white",
             "linecolor": "white",
             "minorgridcolor": "white",
             "startlinecolor": "#2a3f5f"
            },
            "type": "carpet"
           }
          ],
          "choropleth": [
           {
            "colorbar": {
             "outlinewidth": 0,
             "ticks": ""
            },
            "type": "choropleth"
           }
          ],
          "contour": [
           {
            "colorbar": {
             "outlinewidth": 0,
             "ticks": ""
            },
            "colorscale": [
             [
              0,
              "#0d0887"
             ],
             [
              0.1111111111111111,
              "#46039f"
             ],
             [
              0.2222222222222222,
              "#7201a8"
             ],
             [
              0.3333333333333333,
              "#9c179e"
             ],
             [
              0.4444444444444444,
              "#bd3786"
             ],
             [
              0.5555555555555556,
              "#d8576b"
             ],
             [
              0.6666666666666666,
              "#ed7953"
             ],
             [
              0.7777777777777778,
              "#fb9f3a"
             ],
             [
              0.8888888888888888,
              "#fdca26"
             ],
             [
              1,
              "#f0f921"
             ]
            ],
            "type": "contour"
           }
          ],
          "contourcarpet": [
           {
            "colorbar": {
             "outlinewidth": 0,
             "ticks": ""
            },
            "type": "contourcarpet"
           }
          ],
          "heatmap": [
           {
            "colorbar": {
             "outlinewidth": 0,
             "ticks": ""
            },
            "colorscale": [
             [
              0,
              "#0d0887"
             ],
             [
              0.1111111111111111,
              "#46039f"
             ],
             [
              0.2222222222222222,
              "#7201a8"
             ],
             [
              0.3333333333333333,
              "#9c179e"
             ],
             [
              0.4444444444444444,
              "#bd3786"
             ],
             [
              0.5555555555555556,
              "#d8576b"
             ],
             [
              0.6666666666666666,
              "#ed7953"
             ],
             [
              0.7777777777777778,
              "#fb9f3a"
             ],
             [
              0.8888888888888888,
              "#fdca26"
             ],
             [
              1,
              "#f0f921"
             ]
            ],
            "type": "heatmap"
           }
          ],
          "heatmapgl": [
           {
            "colorbar": {
             "outlinewidth": 0,
             "ticks": ""
            },
            "colorscale": [
             [
              0,
              "#0d0887"
             ],
             [
              0.1111111111111111,
              "#46039f"
             ],
             [
              0.2222222222222222,
              "#7201a8"
             ],
             [
              0.3333333333333333,
              "#9c179e"
             ],
             [
              0.4444444444444444,
              "#bd3786"
             ],
             [
              0.5555555555555556,
              "#d8576b"
             ],
             [
              0.6666666666666666,
              "#ed7953"
             ],
             [
              0.7777777777777778,
              "#fb9f3a"
             ],
             [
              0.8888888888888888,
              "#fdca26"
             ],
             [
              1,
              "#f0f921"
             ]
            ],
            "type": "heatmapgl"
           }
          ],
          "histogram": [
           {
            "marker": {
             "colorbar": {
              "outlinewidth": 0,
              "ticks": ""
             }
            },
            "type": "histogram"
           }
          ],
          "histogram2d": [
           {
            "colorbar": {
             "outlinewidth": 0,
             "ticks": ""
            },
            "colorscale": [
             [
              0,
              "#0d0887"
             ],
             [
              0.1111111111111111,
              "#46039f"
             ],
             [
              0.2222222222222222,
              "#7201a8"
             ],
             [
              0.3333333333333333,
              "#9c179e"
             ],
             [
              0.4444444444444444,
              "#bd3786"
             ],
             [
              0.5555555555555556,
              "#d8576b"
             ],
             [
              0.6666666666666666,
              "#ed7953"
             ],
             [
              0.7777777777777778,
              "#fb9f3a"
             ],
             [
              0.8888888888888888,
              "#fdca26"
             ],
             [
              1,
              "#f0f921"
             ]
            ],
            "type": "histogram2d"
           }
          ],
          "histogram2dcontour": [
           {
            "colorbar": {
             "outlinewidth": 0,
             "ticks": ""
            },
            "colorscale": [
             [
              0,
              "#0d0887"
             ],
             [
              0.1111111111111111,
              "#46039f"
             ],
             [
              0.2222222222222222,
              "#7201a8"
             ],
             [
              0.3333333333333333,
              "#9c179e"
             ],
             [
              0.4444444444444444,
              "#bd3786"
             ],
             [
              0.5555555555555556,
              "#d8576b"
             ],
             [
              0.6666666666666666,
              "#ed7953"
             ],
             [
              0.7777777777777778,
              "#fb9f3a"
             ],
             [
              0.8888888888888888,
              "#fdca26"
             ],
             [
              1,
              "#f0f921"
             ]
            ],
            "type": "histogram2dcontour"
           }
          ],
          "mesh3d": [
           {
            "colorbar": {
             "outlinewidth": 0,
             "ticks": ""
            },
            "type": "mesh3d"
           }
          ],
          "parcoords": [
           {
            "line": {
             "colorbar": {
              "outlinewidth": 0,
              "ticks": ""
             }
            },
            "type": "parcoords"
           }
          ],
          "pie": [
           {
            "automargin": true,
            "type": "pie"
           }
          ],
          "scatter": [
           {
            "marker": {
             "colorbar": {
              "outlinewidth": 0,
              "ticks": ""
             }
            },
            "type": "scatter"
           }
          ],
          "scatter3d": [
           {
            "line": {
             "colorbar": {
              "outlinewidth": 0,
              "ticks": ""
             }
            },
            "marker": {
             "colorbar": {
              "outlinewidth": 0,
              "ticks": ""
             }
            },
            "type": "scatter3d"
           }
          ],
          "scattercarpet": [
           {
            "marker": {
             "colorbar": {
              "outlinewidth": 0,
              "ticks": ""
             }
            },
            "type": "scattercarpet"
           }
          ],
          "scattergeo": [
           {
            "marker": {
             "colorbar": {
              "outlinewidth": 0,
              "ticks": ""
             }
            },
            "type": "scattergeo"
           }
          ],
          "scattergl": [
           {
            "marker": {
             "colorbar": {
              "outlinewidth": 0,
              "ticks": ""
             }
            },
            "type": "scattergl"
           }
          ],
          "scattermapbox": [
           {
            "marker": {
             "colorbar": {
              "outlinewidth": 0,
              "ticks": ""
             }
            },
            "type": "scattermapbox"
           }
          ],
          "scatterpolar": [
           {
            "marker": {
             "colorbar": {
              "outlinewidth": 0,
              "ticks": ""
             }
            },
            "type": "scatterpolar"
           }
          ],
          "scatterpolargl": [
           {
            "marker": {
             "colorbar": {
              "outlinewidth": 0,
              "ticks": ""
             }
            },
            "type": "scatterpolargl"
           }
          ],
          "scatterternary": [
           {
            "marker": {
             "colorbar": {
              "outlinewidth": 0,
              "ticks": ""
             }
            },
            "type": "scatterternary"
           }
          ],
          "surface": [
           {
            "colorbar": {
             "outlinewidth": 0,
             "ticks": ""
            },
            "colorscale": [
             [
              0,
              "#0d0887"
             ],
             [
              0.1111111111111111,
              "#46039f"
             ],
             [
              0.2222222222222222,
              "#7201a8"
             ],
             [
              0.3333333333333333,
              "#9c179e"
             ],
             [
              0.4444444444444444,
              "#bd3786"
             ],
             [
              0.5555555555555556,
              "#d8576b"
             ],
             [
              0.6666666666666666,
              "#ed7953"
             ],
             [
              0.7777777777777778,
              "#fb9f3a"
             ],
             [
              0.8888888888888888,
              "#fdca26"
             ],
             [
              1,
              "#f0f921"
             ]
            ],
            "type": "surface"
           }
          ],
          "table": [
           {
            "cells": {
             "fill": {
              "color": "#EBF0F8"
             },
             "line": {
              "color": "white"
             }
            },
            "header": {
             "fill": {
              "color": "#C8D4E3"
             },
             "line": {
              "color": "white"
             }
            },
            "type": "table"
           }
          ]
         },
         "layout": {
          "annotationdefaults": {
           "arrowcolor": "#2a3f5f",
           "arrowhead": 0,
           "arrowwidth": 1
          },
          "coloraxis": {
           "colorbar": {
            "outlinewidth": 0,
            "ticks": ""
           }
          },
          "colorscale": {
           "diverging": [
            [
             0,
             "#8e0152"
            ],
            [
             0.1,
             "#c51b7d"
            ],
            [
             0.2,
             "#de77ae"
            ],
            [
             0.3,
             "#f1b6da"
            ],
            [
             0.4,
             "#fde0ef"
            ],
            [
             0.5,
             "#f7f7f7"
            ],
            [
             0.6,
             "#e6f5d0"
            ],
            [
             0.7,
             "#b8e186"
            ],
            [
             0.8,
             "#7fbc41"
            ],
            [
             0.9,
             "#4d9221"
            ],
            [
             1,
             "#276419"
            ]
           ],
           "sequential": [
            [
             0,
             "#0d0887"
            ],
            [
             0.1111111111111111,
             "#46039f"
            ],
            [
             0.2222222222222222,
             "#7201a8"
            ],
            [
             0.3333333333333333,
             "#9c179e"
            ],
            [
             0.4444444444444444,
             "#bd3786"
            ],
            [
             0.5555555555555556,
             "#d8576b"
            ],
            [
             0.6666666666666666,
             "#ed7953"
            ],
            [
             0.7777777777777778,
             "#fb9f3a"
            ],
            [
             0.8888888888888888,
             "#fdca26"
            ],
            [
             1,
             "#f0f921"
            ]
           ],
           "sequentialminus": [
            [
             0,
             "#0d0887"
            ],
            [
             0.1111111111111111,
             "#46039f"
            ],
            [
             0.2222222222222222,
             "#7201a8"
            ],
            [
             0.3333333333333333,
             "#9c179e"
            ],
            [
             0.4444444444444444,
             "#bd3786"
            ],
            [
             0.5555555555555556,
             "#d8576b"
            ],
            [
             0.6666666666666666,
             "#ed7953"
            ],
            [
             0.7777777777777778,
             "#fb9f3a"
            ],
            [
             0.8888888888888888,
             "#fdca26"
            ],
            [
             1,
             "#f0f921"
            ]
           ]
          },
          "colorway": [
           "#636efa",
           "#EF553B",
           "#00cc96",
           "#ab63fa",
           "#FFA15A",
           "#19d3f3",
           "#FF6692",
           "#B6E880",
           "#FF97FF",
           "#FECB52"
          ],
          "font": {
           "color": "#2a3f5f"
          },
          "geo": {
           "bgcolor": "white",
           "lakecolor": "white",
           "landcolor": "#E5ECF6",
           "showlakes": true,
           "showland": true,
           "subunitcolor": "white"
          },
          "hoverlabel": {
           "align": "left"
          },
          "hovermode": "closest",
          "mapbox": {
           "style": "light"
          },
          "paper_bgcolor": "white",
          "plot_bgcolor": "#E5ECF6",
          "polar": {
           "angularaxis": {
            "gridcolor": "white",
            "linecolor": "white",
            "ticks": ""
           },
           "bgcolor": "#E5ECF6",
           "radialaxis": {
            "gridcolor": "white",
            "linecolor": "white",
            "ticks": ""
           }
          },
          "scene": {
           "xaxis": {
            "backgroundcolor": "#E5ECF6",
            "gridcolor": "white",
            "gridwidth": 2,
            "linecolor": "white",
            "showbackground": true,
            "ticks": "",
            "zerolinecolor": "white"
           },
           "yaxis": {
            "backgroundcolor": "#E5ECF6",
            "gridcolor": "white",
            "gridwidth": 2,
            "linecolor": "white",
            "showbackground": true,
            "ticks": "",
            "zerolinecolor": "white"
           },
           "zaxis": {
            "backgroundcolor": "#E5ECF6",
            "gridcolor": "white",
            "gridwidth": 2,
            "linecolor": "white",
            "showbackground": true,
            "ticks": "",
            "zerolinecolor": "white"
           }
          },
          "shapedefaults": {
           "line": {
            "color": "#2a3f5f"
           }
          },
          "ternary": {
           "aaxis": {
            "gridcolor": "white",
            "linecolor": "white",
            "ticks": ""
           },
           "baxis": {
            "gridcolor": "white",
            "linecolor": "white",
            "ticks": ""
           },
           "bgcolor": "#E5ECF6",
           "caxis": {
            "gridcolor": "white",
            "linecolor": "white",
            "ticks": ""
           }
          },
          "title": {
           "x": 0.05
          },
          "xaxis": {
           "automargin": true,
           "gridcolor": "white",
           "linecolor": "white",
           "ticks": "",
           "title": {
            "standoff": 15
           },
           "zerolinecolor": "white",
           "zerolinewidth": 2
          },
          "yaxis": {
           "automargin": true,
           "gridcolor": "white",
           "linecolor": "white",
           "ticks": "",
           "title": {
            "standoff": 15
           },
           "zerolinecolor": "white",
           "zerolinewidth": 2
          }
         }
        },
        "title": {
         "font": {
          "color": "rgb(0,0,0)",
          "family": "Big Caslon, monospace",
          "size": 20
         },
         "text": "Frequency—Dispersion Chart",
         "x": 0.5,
         "xanchor": "center",
         "y": 0.95,
         "yanchor": "top"
        },
        "xaxis": {
         "title": {
          "text": "Frequency Proportion"
         }
        },
        "yaxis": {
         "title": {
          "text": "Dispersion Value"
         }
        }
       }
      },
      "text/html": [
       "<div>\n",
       "        \n",
       "        \n",
       "            <div id=\"20205448-79a8-4d3c-b684-b1da1683c114\" class=\"plotly-graph-div\" style=\"height:525px; width:100%;\"></div>\n",
       "            <script type=\"text/javascript\">\n",
       "                require([\"plotly\"], function(Plotly) {\n",
       "                    window.PLOTLYENV=window.PLOTLYENV || {};\n",
       "                    \n",
       "                if (document.getElementById(\"20205448-79a8-4d3c-b684-b1da1683c114\")) {\n",
       "                    Plotly.newPlot(\n",
       "                        '20205448-79a8-4d3c-b684-b1da1683c114',\n",
       "                        [{\"mode\": \"markers+text\", \"text\": [\"[0]\", \"[0, 1]\", \"[0, 2]\", \"[0, 3]\", \"[0, 4]\", \"[0, 5]\", \"[0, 6]\", \"[0, 1, 2]\", \"[0, 1, 3]\", \"[0, 1, 4]\", \"[0, 1, 5]\", \"[0, 1, 6]\", \"[0, 2, 3]\", \"[0, 2, 4]\", \"[0, 2, 5]\", \"[0, 2, 6]\", \"[0, 2, 7]\", \"[0, 3, 4]\", \"[0, 3, 5]\", \"[0, 3, 6]\", \"[0, 3, 7]\", \"[0, 4, 5]\", \"[0, 4, 6]\", \"[0, 4, 7]\", \"[0, 4, 8]\", \"[0, 5, 6]\"], \"textfont\": {\"size\": 14}, \"textposition\": \"bottom center\", \"type\": \"scatter\", \"x\": [6.302840806416822, 8.503802214023782, 3.831660990474713, 2.411160397170975, 2.3155756440158037, 1.326396489844085, 0.9888681210219191, 10.261328389697555, 6.206189289758662, 9.074114820648093, 5.388518220147699, 3.6961451931213274, 5.808286095185411, 1.9599385501074946, 1.363195117219327, 2.114642880336351, 0.916740468979994, 8.848211239685172, 1.258101260855715, 1.7631070394790642, 1.2846980230839649, 4.945623306864197, 2.374132001237661, 1.226787467726642, 1.8393095128673038, 3.9906264600302643], \"y\": [0.7511750830746707, 0.2704249724719525, 0.5300343042670996, 0.4021532119793524, 0.376698549648695, 0.5403208208625743, 0.5368482292882538, 0.21066887069163787, 0.318225892286491, 0.248672810811554, 0.20751608858002923, 0.3712145969431392, 0.32116551965723206, 0.43526607009038343, 0.4909779547572707, 0.3591968293925464, 0.5458855585362794, 0.3230606319373227, 0.43435345891477095, 0.47953758516254397, 0.45076708398227305, 0.2550953647844877, 0.4059755884500763, 0.45428929751402547, 0.6579839260020762, 0.421380561259059]}],\n",
       "                        {\"font\": {\"color\": \"rgb(0,0,0)\", \"family\": \"Baskerville, monospace\", \"size\": 12}, \"template\": {\"data\": {\"bar\": [{\"error_x\": {\"color\": \"#2a3f5f\"}, \"error_y\": {\"color\": \"#2a3f5f\"}, \"marker\": {\"line\": {\"color\": \"#E5ECF6\", \"width\": 0.5}}, \"type\": \"bar\"}], \"barpolar\": [{\"marker\": {\"line\": {\"color\": \"#E5ECF6\", \"width\": 0.5}}, \"type\": \"barpolar\"}], \"carpet\": [{\"aaxis\": {\"endlinecolor\": \"#2a3f5f\", \"gridcolor\": \"white\", \"linecolor\": \"white\", \"minorgridcolor\": \"white\", \"startlinecolor\": \"#2a3f5f\"}, \"baxis\": {\"endlinecolor\": \"#2a3f5f\", \"gridcolor\": \"white\", \"linecolor\": \"white\", \"minorgridcolor\": \"white\", \"startlinecolor\": \"#2a3f5f\"}, \"type\": \"carpet\"}], \"choropleth\": [{\"colorbar\": {\"outlinewidth\": 0, \"ticks\": \"\"}, \"type\": \"choropleth\"}], \"contour\": [{\"colorbar\": {\"outlinewidth\": 0, \"ticks\": \"\"}, \"colorscale\": [[0.0, \"#0d0887\"], [0.1111111111111111, \"#46039f\"], [0.2222222222222222, \"#7201a8\"], [0.3333333333333333, \"#9c179e\"], [0.4444444444444444, \"#bd3786\"], [0.5555555555555556, \"#d8576b\"], [0.6666666666666666, \"#ed7953\"], [0.7777777777777778, \"#fb9f3a\"], [0.8888888888888888, \"#fdca26\"], [1.0, \"#f0f921\"]], \"type\": \"contour\"}], \"contourcarpet\": [{\"colorbar\": {\"outlinewidth\": 0, \"ticks\": \"\"}, \"type\": \"contourcarpet\"}], \"heatmap\": [{\"colorbar\": {\"outlinewidth\": 0, \"ticks\": \"\"}, \"colorscale\": [[0.0, \"#0d0887\"], [0.1111111111111111, \"#46039f\"], [0.2222222222222222, \"#7201a8\"], [0.3333333333333333, \"#9c179e\"], [0.4444444444444444, \"#bd3786\"], [0.5555555555555556, \"#d8576b\"], [0.6666666666666666, \"#ed7953\"], [0.7777777777777778, \"#fb9f3a\"], [0.8888888888888888, \"#fdca26\"], [1.0, \"#f0f921\"]], \"type\": \"heatmap\"}], \"heatmapgl\": [{\"colorbar\": {\"outlinewidth\": 0, \"ticks\": \"\"}, \"colorscale\": [[0.0, \"#0d0887\"], [0.1111111111111111, \"#46039f\"], [0.2222222222222222, \"#7201a8\"], [0.3333333333333333, \"#9c179e\"], [0.4444444444444444, \"#bd3786\"], [0.5555555555555556, \"#d8576b\"], [0.6666666666666666, \"#ed7953\"], [0.7777777777777778, \"#fb9f3a\"], [0.8888888888888888, \"#fdca26\"], [1.0, \"#f0f921\"]], \"type\": \"heatmapgl\"}], \"histogram\": [{\"marker\": {\"colorbar\": {\"outlinewidth\": 0, \"ticks\": \"\"}}, \"type\": \"histogram\"}], \"histogram2d\": [{\"colorbar\": {\"outlinewidth\": 0, \"ticks\": \"\"}, \"colorscale\": [[0.0, \"#0d0887\"], [0.1111111111111111, \"#46039f\"], [0.2222222222222222, \"#7201a8\"], [0.3333333333333333, \"#9c179e\"], [0.4444444444444444, \"#bd3786\"], [0.5555555555555556, \"#d8576b\"], [0.6666666666666666, \"#ed7953\"], [0.7777777777777778, \"#fb9f3a\"], [0.8888888888888888, \"#fdca26\"], [1.0, \"#f0f921\"]], \"type\": \"histogram2d\"}], \"histogram2dcontour\": [{\"colorbar\": {\"outlinewidth\": 0, \"ticks\": \"\"}, \"colorscale\": [[0.0, \"#0d0887\"], [0.1111111111111111, \"#46039f\"], [0.2222222222222222, \"#7201a8\"], [0.3333333333333333, \"#9c179e\"], [0.4444444444444444, \"#bd3786\"], [0.5555555555555556, \"#d8576b\"], [0.6666666666666666, \"#ed7953\"], [0.7777777777777778, \"#fb9f3a\"], [0.8888888888888888, \"#fdca26\"], [1.0, \"#f0f921\"]], \"type\": \"histogram2dcontour\"}], \"mesh3d\": [{\"colorbar\": {\"outlinewidth\": 0, \"ticks\": \"\"}, \"type\": \"mesh3d\"}], \"parcoords\": [{\"line\": {\"colorbar\": {\"outlinewidth\": 0, \"ticks\": \"\"}}, \"type\": \"parcoords\"}], \"pie\": [{\"automargin\": true, \"type\": \"pie\"}], \"scatter\": [{\"marker\": {\"colorbar\": {\"outlinewidth\": 0, \"ticks\": \"\"}}, \"type\": \"scatter\"}], \"scatter3d\": [{\"line\": {\"colorbar\": {\"outlinewidth\": 0, \"ticks\": \"\"}}, \"marker\": {\"colorbar\": {\"outlinewidth\": 0, \"ticks\": \"\"}}, \"type\": \"scatter3d\"}], \"scattercarpet\": [{\"marker\": {\"colorbar\": {\"outlinewidth\": 0, \"ticks\": \"\"}}, \"type\": \"scattercarpet\"}], \"scattergeo\": [{\"marker\": {\"colorbar\": {\"outlinewidth\": 0, \"ticks\": \"\"}}, \"type\": \"scattergeo\"}], \"scattergl\": [{\"marker\": {\"colorbar\": {\"outlinewidth\": 0, \"ticks\": \"\"}}, \"type\": \"scattergl\"}], \"scattermapbox\": [{\"marker\": {\"colorbar\": {\"outlinewidth\": 0, \"ticks\": \"\"}}, \"type\": \"scattermapbox\"}], \"scatterpolar\": [{\"marker\": {\"colorbar\": {\"outlinewidth\": 0, \"ticks\": \"\"}}, \"type\": \"scatterpolar\"}], \"scatterpolargl\": [{\"marker\": {\"colorbar\": {\"outlinewidth\": 0, \"ticks\": \"\"}}, \"type\": \"scatterpolargl\"}], \"scatterternary\": [{\"marker\": {\"colorbar\": {\"outlinewidth\": 0, \"ticks\": \"\"}}, \"type\": \"scatterternary\"}], \"surface\": [{\"colorbar\": {\"outlinewidth\": 0, \"ticks\": \"\"}, \"colorscale\": [[0.0, \"#0d0887\"], [0.1111111111111111, \"#46039f\"], [0.2222222222222222, \"#7201a8\"], [0.3333333333333333, \"#9c179e\"], [0.4444444444444444, \"#bd3786\"], [0.5555555555555556, \"#d8576b\"], [0.6666666666666666, \"#ed7953\"], [0.7777777777777778, \"#fb9f3a\"], [0.8888888888888888, \"#fdca26\"], [1.0, \"#f0f921\"]], \"type\": \"surface\"}], \"table\": [{\"cells\": {\"fill\": {\"color\": \"#EBF0F8\"}, \"line\": {\"color\": \"white\"}}, \"header\": {\"fill\": {\"color\": \"#C8D4E3\"}, \"line\": {\"color\": \"white\"}}, \"type\": \"table\"}]}, \"layout\": {\"annotationdefaults\": {\"arrowcolor\": \"#2a3f5f\", \"arrowhead\": 0, \"arrowwidth\": 1}, \"coloraxis\": {\"colorbar\": {\"outlinewidth\": 0, \"ticks\": \"\"}}, \"colorscale\": {\"diverging\": [[0, \"#8e0152\"], [0.1, \"#c51b7d\"], [0.2, \"#de77ae\"], [0.3, \"#f1b6da\"], [0.4, \"#fde0ef\"], [0.5, \"#f7f7f7\"], [0.6, \"#e6f5d0\"], [0.7, \"#b8e186\"], [0.8, \"#7fbc41\"], [0.9, \"#4d9221\"], [1, \"#276419\"]], \"sequential\": [[0.0, \"#0d0887\"], [0.1111111111111111, \"#46039f\"], [0.2222222222222222, \"#7201a8\"], [0.3333333333333333, \"#9c179e\"], [0.4444444444444444, \"#bd3786\"], [0.5555555555555556, \"#d8576b\"], [0.6666666666666666, \"#ed7953\"], [0.7777777777777778, \"#fb9f3a\"], [0.8888888888888888, \"#fdca26\"], [1.0, \"#f0f921\"]], \"sequentialminus\": [[0.0, \"#0d0887\"], [0.1111111111111111, \"#46039f\"], [0.2222222222222222, \"#7201a8\"], [0.3333333333333333, \"#9c179e\"], [0.4444444444444444, \"#bd3786\"], [0.5555555555555556, \"#d8576b\"], [0.6666666666666666, \"#ed7953\"], [0.7777777777777778, \"#fb9f3a\"], [0.8888888888888888, \"#fdca26\"], [1.0, \"#f0f921\"]]}, \"colorway\": [\"#636efa\", \"#EF553B\", \"#00cc96\", \"#ab63fa\", \"#FFA15A\", \"#19d3f3\", \"#FF6692\", \"#B6E880\", \"#FF97FF\", \"#FECB52\"], \"font\": {\"color\": \"#2a3f5f\"}, \"geo\": {\"bgcolor\": \"white\", \"lakecolor\": \"white\", \"landcolor\": \"#E5ECF6\", \"showlakes\": true, \"showland\": true, \"subunitcolor\": \"white\"}, \"hoverlabel\": {\"align\": \"left\"}, \"hovermode\": \"closest\", \"mapbox\": {\"style\": \"light\"}, \"paper_bgcolor\": \"white\", \"plot_bgcolor\": \"#E5ECF6\", \"polar\": {\"angularaxis\": {\"gridcolor\": \"white\", \"linecolor\": \"white\", \"ticks\": \"\"}, \"bgcolor\": \"#E5ECF6\", \"radialaxis\": {\"gridcolor\": \"white\", \"linecolor\": \"white\", \"ticks\": \"\"}}, \"scene\": {\"xaxis\": {\"backgroundcolor\": \"#E5ECF6\", \"gridcolor\": \"white\", \"gridwidth\": 2, \"linecolor\": \"white\", \"showbackground\": true, \"ticks\": \"\", \"zerolinecolor\": \"white\"}, \"yaxis\": {\"backgroundcolor\": \"#E5ECF6\", \"gridcolor\": \"white\", \"gridwidth\": 2, \"linecolor\": \"white\", \"showbackground\": true, \"ticks\": \"\", \"zerolinecolor\": \"white\"}, \"zaxis\": {\"backgroundcolor\": \"#E5ECF6\", \"gridcolor\": \"white\", \"gridwidth\": 2, \"linecolor\": \"white\", \"showbackground\": true, \"ticks\": \"\", \"zerolinecolor\": \"white\"}}, \"shapedefaults\": {\"line\": {\"color\": \"#2a3f5f\"}}, \"ternary\": {\"aaxis\": {\"gridcolor\": \"white\", \"linecolor\": \"white\", \"ticks\": \"\"}, \"baxis\": {\"gridcolor\": \"white\", \"linecolor\": \"white\", \"ticks\": \"\"}, \"bgcolor\": \"#E5ECF6\", \"caxis\": {\"gridcolor\": \"white\", \"linecolor\": \"white\", \"ticks\": \"\"}}, \"title\": {\"x\": 0.05}, \"xaxis\": {\"automargin\": true, \"gridcolor\": \"white\", \"linecolor\": \"white\", \"ticks\": \"\", \"title\": {\"standoff\": 15}, \"zerolinecolor\": \"white\", \"zerolinewidth\": 2}, \"yaxis\": {\"automargin\": true, \"gridcolor\": \"white\", \"linecolor\": \"white\", \"ticks\": \"\", \"title\": {\"standoff\": 15}, \"zerolinecolor\": \"white\", \"zerolinewidth\": 2}}}, \"title\": {\"font\": {\"color\": \"rgb(0,0,0)\", \"family\": \"Big Caslon, monospace\", \"size\": 20}, \"text\": \"Frequency\\u2014Dispersion Chart\", \"x\": 0.5, \"xanchor\": \"center\", \"y\": 0.95, \"yanchor\": \"top\"}, \"xaxis\": {\"title\": {\"text\": \"Frequency Proportion\"}}, \"yaxis\": {\"title\": {\"text\": \"Dispersion Value\"}}},\n",
       "                        {\"responsive\": true}\n",
       "                    ).then(function(){\n",
       "                            \n",
       "var gd = document.getElementById('20205448-79a8-4d3c-b684-b1da1683c114');\n",
       "var x = new MutationObserver(function (mutations, observer) {{\n",
       "        var display = window.getComputedStyle(gd).display;\n",
       "        if (!display || display === 'none') {{\n",
       "            console.log([gd, 'removed!']);\n",
       "            Plotly.purge(gd);\n",
       "            observer.disconnect();\n",
       "        }}\n",
       "}});\n",
       "\n",
       "// Listen for the removal of the full notebook cells\n",
       "var notebookContainer = gd.closest('#notebook-container');\n",
       "if (notebookContainer) {{\n",
       "    x.observe(notebookContainer, {childList: true});\n",
       "}}\n",
       "\n",
       "// Listen for the clearing of the current output cell\n",
       "var outputEl = gd.closest('.output');\n",
       "if (outputEl) {{\n",
       "    x.observe(outputEl, {childList: true});\n",
       "}}\n",
       "\n",
       "                        })\n",
       "                };\n",
       "                });\n",
       "            </script>\n",
       "        </div>"
      ]
     },
     "metadata": {},
     "output_type": "display_data"
    },
    {
     "data": {
      "image/png": "[encoded data removed]",
      "text/plain": [
       "<IPython.core.display.Image object>"
      ]
     },
     "execution_count": 27,
     "metadata": {},
     "output_type": "execute_result"
    }
   ],
   "source": [
    "## plots DKL against frequency\n",
    "\n",
    "fig = go.Figure()\n",
    "fig.add_trace(go.Scatter(x = proportions_data2['Total'], y = proportions_data2['DKL Value'], mode='markers+text', text=proportions_data2.index.values, textposition=\"bottom center\", textfont_size=14))\n",
    "fig.update_layout(xaxis=(dict(title={'text': 'Frequency Proportion'})))\n",
    "fig.update_layout(yaxis=(dict(title={'text': 'Dispersion Value'})))\n",
    "fig.update_layout(title={'text': 'Frequency—Dispersion Chart', 'font':dict(family=\"Big Caslon, monospace\", size=20, color='rgb(0,0,0)'), 'y':0.95, 'x':0.5, 'xanchor': 'center', 'yanchor': 'top'})\n",
    "fig.update_layout(font=dict(family=\"Baskerville, monospace\", size=12, color='rgb(0,0,0)'))\n",
    "img_bytes = fig.to_image(format='png', scale=1)\n",
    "fig.show()\n",
    "Image(img_bytes)"
   ]
  },
  {
   "cell_type": "code",
   "execution_count": 25,
   "metadata": {},
   "outputs": [
    {
     "data": {
      "text/html": [
       "<div>\n",
       "<style scoped>\n",
       "    .dataframe tbody tr th:only-of-type {\n",
       "        vertical-align: middle;\n",
       "    }\n",
       "\n",
       "    .dataframe tbody tr th {\n",
       "        vertical-align: top;\n",
       "    }\n",
       "\n",
       "    .dataframe thead th {\n",
       "        text-align: right;\n",
       "    }\n",
       "</style>\n",
       "<table border=\"1\" class=\"dataframe\">\n",
       "  <thead>\n",
       "    <tr style=\"text-align: right;\">\n",
       "      <th></th>\n",
       "      <th>DKL Value</th>\n",
       "    </tr>\n",
       "  </thead>\n",
       "  <tbody>\n",
       "    <tr>\n",
       "      <th>[0, 1, 5]</th>\n",
       "      <td>0.207516</td>\n",
       "    </tr>\n",
       "    <tr>\n",
       "      <th>[0, 1, 2]</th>\n",
       "      <td>0.210669</td>\n",
       "    </tr>\n",
       "    <tr>\n",
       "      <th>[0, 1, 4]</th>\n",
       "      <td>0.248673</td>\n",
       "    </tr>\n",
       "    <tr>\n",
       "      <th>[0, 4, 5]</th>\n",
       "      <td>0.255095</td>\n",
       "    </tr>\n",
       "    <tr>\n",
       "      <th>[0, 1]</th>\n",
       "      <td>0.270425</td>\n",
       "    </tr>\n",
       "    <tr>\n",
       "      <th>[0, 1, 3]</th>\n",
       "      <td>0.318226</td>\n",
       "    </tr>\n",
       "    <tr>\n",
       "      <th>[0, 2, 3]</th>\n",
       "      <td>0.321166</td>\n",
       "    </tr>\n",
       "    <tr>\n",
       "      <th>[0, 3, 4]</th>\n",
       "      <td>0.323061</td>\n",
       "    </tr>\n",
       "    <tr>\n",
       "      <th>[0, 2, 6]</th>\n",
       "      <td>0.359197</td>\n",
       "    </tr>\n",
       "    <tr>\n",
       "      <th>[0, 1, 6]</th>\n",
       "      <td>0.371215</td>\n",
       "    </tr>\n",
       "    <tr>\n",
       "      <th>[0, 4]</th>\n",
       "      <td>0.376699</td>\n",
       "    </tr>\n",
       "    <tr>\n",
       "      <th>[0, 3]</th>\n",
       "      <td>0.402153</td>\n",
       "    </tr>\n",
       "    <tr>\n",
       "      <th>[0, 4, 6]</th>\n",
       "      <td>0.405976</td>\n",
       "    </tr>\n",
       "    <tr>\n",
       "      <th>[0, 5, 6]</th>\n",
       "      <td>0.421381</td>\n",
       "    </tr>\n",
       "    <tr>\n",
       "      <th>[0, 3, 5]</th>\n",
       "      <td>0.434353</td>\n",
       "    </tr>\n",
       "    <tr>\n",
       "      <th>[0, 2, 4]</th>\n",
       "      <td>0.435266</td>\n",
       "    </tr>\n",
       "    <tr>\n",
       "      <th>[0, 3, 7]</th>\n",
       "      <td>0.450767</td>\n",
       "    </tr>\n",
       "    <tr>\n",
       "      <th>[0, 4, 7]</th>\n",
       "      <td>0.454289</td>\n",
       "    </tr>\n",
       "    <tr>\n",
       "      <th>[0, 3, 6]</th>\n",
       "      <td>0.479538</td>\n",
       "    </tr>\n",
       "    <tr>\n",
       "      <th>[0, 2, 5]</th>\n",
       "      <td>0.490978</td>\n",
       "    </tr>\n",
       "    <tr>\n",
       "      <th>[0, 2]</th>\n",
       "      <td>0.530034</td>\n",
       "    </tr>\n",
       "    <tr>\n",
       "      <th>[0, 6]</th>\n",
       "      <td>0.536848</td>\n",
       "    </tr>\n",
       "    <tr>\n",
       "      <th>[0, 5]</th>\n",
       "      <td>0.540321</td>\n",
       "    </tr>\n",
       "    <tr>\n",
       "      <th>[0, 2, 7]</th>\n",
       "      <td>0.545886</td>\n",
       "    </tr>\n",
       "    <tr>\n",
       "      <th>[0, 4, 8]</th>\n",
       "      <td>0.657984</td>\n",
       "    </tr>\n",
       "    <tr>\n",
       "      <th>[0]</th>\n",
       "      <td>0.751175</td>\n",
       "    </tr>\n",
       "  </tbody>\n",
       "</table>\n",
       "</div>"
      ],
      "text/plain": [
       "           DKL Value\n",
       "[0, 1, 5]   0.207516\n",
       "[0, 1, 2]   0.210669\n",
       "[0, 1, 4]   0.248673\n",
       "[0, 4, 5]   0.255095\n",
       "[0, 1]      0.270425\n",
       "[0, 1, 3]   0.318226\n",
       "[0, 2, 3]   0.321166\n",
       "[0, 3, 4]   0.323061\n",
       "[0, 2, 6]   0.359197\n",
       "[0, 1, 6]   0.371215\n",
       "[0, 4]      0.376699\n",
       "[0, 3]      0.402153\n",
       "[0, 4, 6]   0.405976\n",
       "[0, 5, 6]   0.421381\n",
       "[0, 3, 5]   0.434353\n",
       "[0, 2, 4]   0.435266\n",
       "[0, 3, 7]   0.450767\n",
       "[0, 4, 7]   0.454289\n",
       "[0, 3, 6]   0.479538\n",
       "[0, 2, 5]   0.490978\n",
       "[0, 2]      0.530034\n",
       "[0, 6]      0.536848\n",
       "[0, 5]      0.540321\n",
       "[0, 2, 7]   0.545886\n",
       "[0, 4, 8]   0.657984\n",
       "[0]         0.751175"
      ]
     },
     "execution_count": 25,
     "metadata": {},
     "output_type": "execute_result"
    }
   ],
   "source": [
    "## returns sorted DKL values\n",
    "\n",
    "temp_df = proportions_data2.iloc[:, 108:109]\n",
    "temp_df = temp_df.sort_values(by = 'DKL Value')\n",
    "temp_df"
   ]
  }
 ],
 "metadata": {
  "kernelspec": {
   "display_name": "Python 3",
   "language": "python",
   "name": "python3"
  },
  "language_info": {
   "codemirror_mode": {
    "name": "ipython",
    "version": 3
   },
   "file_extension": ".py",
   "mimetype": "text/x-python",
   "name": "python",
   "nbconvert_exporter": "python",
   "pygments_lexer": "ipython3",
   "version": "3.7.4"
  }
 },
 "nbformat": 4,
 "nbformat_minor": 2
}

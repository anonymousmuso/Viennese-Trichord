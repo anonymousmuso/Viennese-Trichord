{
 "cells": [
  {
   "cell_type": "markdown",
   "metadata": {},
   "source": [
    "# Introduction\n",
    "This uses keyword analysis (as in Gries, 'A new approach to (key) keywords analysis') to look for key verticalities in the corpus."
   ]
  },
  {
   "cell_type": "markdown",
   "metadata": {},
   "source": [
    "### Imports\n",
    "Import libraries and write settings here."
   ]
  },
  {
   "cell_type": "code",
   "execution_count": 1,
   "metadata": {},
   "outputs": [
    {
     "data": {
      "text/html": [
       "        <script type=\"text/javascript\">\n",
       "        window.PlotlyConfig = {MathJaxConfig: 'local'};\n",
       "        if (window.MathJax) {MathJax.Hub.Config({SVG: {font: \"STIX-Web\"}});}\n",
       "        if (typeof require !== 'undefined') {\n",
       "        require.undef(\"plotly\");\n",
       "        requirejs.config({\n",
       "            paths: {\n",
       "                'plotly': ['https://cdn.plot.ly/plotly-latest.min']\n",
       "            }\n",
       "        });\n",
       "        require(['plotly'], function(Plotly) {\n",
       "            window._Plotly = Plotly;\n",
       "        });\n",
       "        }\n",
       "        </script>\n",
       "        "
      ]
     },
     "metadata": {},
     "output_type": "display_data"
    },
    {
     "data": {
      "text/html": [
       "        <script type=\"text/javascript\">\n",
       "        window.PlotlyConfig = {MathJaxConfig: 'local'};\n",
       "        if (window.MathJax) {MathJax.Hub.Config({SVG: {font: \"STIX-Web\"}});}\n",
       "        if (typeof require !== 'undefined') {\n",
       "        require.undef(\"plotly\");\n",
       "        requirejs.config({\n",
       "            paths: {\n",
       "                'plotly': ['https://cdn.plot.ly/plotly-latest.min']\n",
       "            }\n",
       "        });\n",
       "        require(['plotly'], function(Plotly) {\n",
       "            window._Plotly = Plotly;\n",
       "        });\n",
       "        }\n",
       "        </script>\n",
       "        "
      ]
     },
     "metadata": {},
     "output_type": "display_data"
    }
   ],
   "source": [
    "from music21 import *\n",
    "import os\n",
    "import csv\n",
    "import itertools as it\n",
    "from collections import Counter\n",
    "import pandas as pd\n",
    "import chart_studio.plotly as py\n",
    "import plotly.graph_objects as go\n",
    "from plotly.offline import iplot, init_notebook_mode\n",
    "import cufflinks\n",
    "cufflinks.go_offline(connected=True)\n",
    "init_notebook_mode(connected=True)\n",
    "from IPython.display import Image\n",
    "import math"
   ]
  },
  {
   "cell_type": "code",
   "execution_count": 2,
   "metadata": {},
   "outputs": [
    {
     "name": "stderr",
     "output_type": "stream",
     "text": [
      "/opt/anaconda3/lib/python3.7/site-packages/music21/corpus/corpora.py: WARNING: DPhilCorpus metadata cache: starting processing of paths: 107\n",
      "/opt/anaconda3/lib/python3.7/site-packages/music21/corpus/corpora.py: WARNING: cache: filename: /var/folders/cr/p20lv70n2wbf2w8jfmxbh69w0000gp/T/music21/local-DPhilCorpus.p.gz\n",
      "bundles.py: WARNING: MetadataBundle Modification Time: 1608726170.1268575\n",
      "bundles.py: WARNING: Skipped 107 sources already in cache.\n",
      "/opt/anaconda3/lib/python3.7/site-packages/music21/corpus/corpora.py: WARNING: cache: writing time: 0.145 md items: 107\n",
      "\n",
      "/opt/anaconda3/lib/python3.7/site-packages/music21/corpus/corpora.py: WARNING: cache: filename: /var/folders/cr/p20lv70n2wbf2w8jfmxbh69w0000gp/T/music21/local-DPhilCorpus.p.gz\n"
     ]
    },
    {
     "data": {
      "text/plain": [
       "True"
      ]
     },
     "execution_count": 2,
     "metadata": {},
     "output_type": "execute_result"
    }
   ],
   "source": [
    "## loads corpus\n",
    "\n",
    "properCorpus = corpus.corpora.LocalCorpus('DPhilCorpus')\n",
    "properCorpus.existsInSettings\n",
    "\n",
    "properCorpus.addPath('~/Desktop/Oxford/Corpus/Sounding Corpus (Movements)/XML/')\n",
    "properCorpus.directoryPaths\n",
    "\n",
    "properCorpus.save()\n",
    "properCorpus.existsInSettings"
   ]
  },
  {
   "cell_type": "code",
   "execution_count": 3,
   "metadata": {},
   "outputs": [],
   "source": [
    "## organises corpus\n",
    "\n",
    "pieceName = []\n",
    "\n",
    "listOfWorks = properCorpus.search('Op.')\n",
    "for el in listOfWorks:\n",
    "    pieceName.append(el.sourcePath)"
   ]
  },
  {
   "cell_type": "markdown",
   "metadata": {},
   "source": [
    "# Data Collection\n",
    "Counts total durations of each verticality (normal order) but does not convert this into proportions for each movement."
   ]
  },
  {
   "cell_type": "code",
   "execution_count": 4,
   "metadata": {},
   "outputs": [],
   "source": [
    "## counts total durations\n",
    "\n",
    "listOfAllVerticalities = []\n",
    "listOfTotalResults = []\n",
    "for el in pieceName:\n",
    "    thePiece = corpus.parse(el)\n",
    "    fileTitle = str(el).replace(\"/Users/joshua ballance/Desktop/Oxford/Corpus/Sounding Corpus (Movements)/XML/\", \"\").replace(\".xml\", \"\").replace(\".mxl\", \"\")\n",
    "    opusNumber = fileTitle.replace(\"Op.\", \"\").replace(\" \", \"\").replace(\"i\", \"\").replace(\"v\", \"\")\n",
    "    movementNumber = fileTitle.replace(\"Op.\", \"\").replace(\" \", \"\").replace(\"1\", \"\").replace(\"2\", \"\").replace(\"3\", \"\").replace(\"4\", \"\").replace(\"5\", \"\").replace(\"6\", \"\").replace(\"7\", \"\").replace(\"8\", \"\").replace(\"9\", \"\").replace(\"0\", \"\")\n",
    "    chordifiedPiece = thePiece.chordify()\n",
    "    chords = chordifiedPiece.flat.recurse().getElementsByClass('Chord')\n",
    "    listOfNO = []\n",
    "    listOfDurations = []\n",
    "    listOfNOAndDuration = []\n",
    "    for el in chords:\n",
    "        temp = []\n",
    "        transposedNormalOrder = []\n",
    "        for i in el.normalOrder:\n",
    "            if i >= el.normalOrder[0]: \n",
    "                transposedNormalOrder.append(i-el.normalOrder[0])\n",
    "            else:\n",
    "                transposedNormalOrder.append(i+12-el.normalOrder[0])\n",
    "        temp.append(transposedNormalOrder)\n",
    "        temp.append(el.seconds)\n",
    "        listOfNO.append(str(transposedNormalOrder))\n",
    "        listOfDurations.append(el.seconds)\n",
    "        listOfNOAndDuration.append(temp)\n",
    "        listOfAllVerticalities.append(transposedNormalOrder)\n",
    "    summarisedListOfNO = list(dict.fromkeys(listOfNO))\n",
    "    summarisedListOfNOAndDuration = []\n",
    "    for el in summarisedListOfNO:\n",
    "        temp = []\n",
    "        for i in listOfNOAndDuration:\n",
    "            if el == str(i[0]):\n",
    "                temp.append(i[1])\n",
    "        newTemp = []\n",
    "        newTemp.append(el)\n",
    "        newTemp.append(sum(temp))\n",
    "        summarisedListOfNOAndDuration.append(newTemp)\n",
    "    temp = []\n",
    "    temp.append(fileTitle)\n",
    "    temp.append(opusNumber)\n",
    "    temp.append(sum(listOfDurations))\n",
    "    temp.append(summarisedListOfNOAndDuration)\n",
    "    listOfTotalResults.append(temp)"
   ]
  },
  {
   "cell_type": "code",
   "execution_count": 11,
   "metadata": {},
   "outputs": [],
   "source": [
    "## organises data and writes to CSV\n",
    "\n",
    "newListOfAllVerticalities = []\n",
    "for el in listOfAllVerticalities:\n",
    "    if el in newListOfAllVerticalities:\n",
    "        pass\n",
    "    else:\n",
    "        newListOfAllVerticalities.append(el)\n",
    "\n",
    "newNewListOfAllVerticalities = sorted(newListOfAllVerticalities, key=len) \n",
    "\n",
    "newNewListOfAllVerticalities.sort(key=lambda x: x)\n",
    "newNewListOfAllVerticalities = sorted(newNewListOfAllVerticalities, key=len)\n",
    "\n",
    "finalListForCSV = []\n",
    "firstLine = ['Title', 'Duration']\n",
    "for el in newNewListOfAllVerticalities:\n",
    "    firstLine.append(str(el).replace(\",\", \"\"))\n",
    "finalListForCSV.append(firstLine)\n",
    "\n",
    "listOfTotalResults.sort(key=lambda x: int(x[1]))\n",
    "for el in listOfTotalResults:\n",
    "    newLine = []\n",
    "    newLine.append(el[0])\n",
    "    newLine.append(el[2])\n",
    "    tempListOfNO = []\n",
    "    for j in el[3]:\n",
    "        tempListOfNO.append(j[0])\n",
    "    for i in newNewListOfAllVerticalities:\n",
    "        if str(i) in tempListOfNO:\n",
    "            for j in el[3]:\n",
    "                if j[0] == str(i):\n",
    "                    newLine.append(j[1])\n",
    "        else:\n",
    "            newLine.append(0)\n",
    "    finalListForCSV.append(newLine)\n",
    "    \n",
    "csvOut=open(\"/Users/joshua ballance/Desktop/verticalities_no_absolute_values.csv\", \"w\") #open csv file, n.b. this is overwriting the file\n",
    "titleWriter = csv.writer(csvOut, delimiter=',', quotechar='|')\n",
    "csvOut.close()\n",
    "\n",
    "for el in finalListForCSV:\n",
    "    csvOut=open(\"/Users/joshua ballance/Desktop/verticalities_no_absolute_values.csv\", \"a\") #open csv file, n.b. this is appending the file\n",
    "    barlineWriter = csv.writer(csvOut, delimiter=',', quotechar='|')\n",
    "    barlineWriter.writerow(el)\n",
    "    csvOut.close()"
   ]
  },
  {
   "cell_type": "code",
   "execution_count": 12,
   "metadata": {},
   "outputs": [
    {
     "data": {
      "text/html": [
       "<div>\n",
       "<style scoped>\n",
       "    .dataframe tbody tr th:only-of-type {\n",
       "        vertical-align: middle;\n",
       "    }\n",
       "\n",
       "    .dataframe tbody tr th {\n",
       "        vertical-align: top;\n",
       "    }\n",
       "\n",
       "    .dataframe thead th {\n",
       "        text-align: right;\n",
       "    }\n",
       "</style>\n",
       "<table border=\"1\" class=\"dataframe\">\n",
       "  <thead>\n",
       "    <tr style=\"text-align: right;\">\n",
       "      <th></th>\n",
       "      <th>Duration</th>\n",
       "      <th>[0]</th>\n",
       "      <th>[0 1]</th>\n",
       "      <th>[0 2]</th>\n",
       "      <th>[0 3]</th>\n",
       "      <th>[0 4]</th>\n",
       "      <th>[0 5]</th>\n",
       "      <th>[0 6]</th>\n",
       "      <th>[0 1 2]</th>\n",
       "      <th>[0 1 3]</th>\n",
       "      <th>...</th>\n",
       "      <th>[0 1 3 4 5 6 7 8 9]</th>\n",
       "      <th>[0 2 3 4 5 6 7 8 9]</th>\n",
       "      <th>[0 2 3 4 6 7 8 9 10]</th>\n",
       "      <th>[0 1 2 3 4 5 6 7 8 9]</th>\n",
       "      <th>[0 1 2 3 4 5 6 7 8 10]</th>\n",
       "      <th>[0 1 2 3 4 5 6 7 9 10]</th>\n",
       "      <th>[0 1 2 3 4 5 6 8 9 10]</th>\n",
       "      <th>[0 1 2 3 4 5 7 8 9 10]</th>\n",
       "      <th>[0 1 2 3 4 5 6 7 8 9 10]</th>\n",
       "      <th>[0 1 2 3 4 5 6 7 8 9 10 11]</th>\n",
       "    </tr>\n",
       "    <tr>\n",
       "      <th>Title</th>\n",
       "      <th></th>\n",
       "      <th></th>\n",
       "      <th></th>\n",
       "      <th></th>\n",
       "      <th></th>\n",
       "      <th></th>\n",
       "      <th></th>\n",
       "      <th></th>\n",
       "      <th></th>\n",
       "      <th></th>\n",
       "      <th></th>\n",
       "      <th></th>\n",
       "      <th></th>\n",
       "      <th></th>\n",
       "      <th></th>\n",
       "      <th></th>\n",
       "      <th></th>\n",
       "      <th></th>\n",
       "      <th></th>\n",
       "      <th></th>\n",
       "      <th></th>\n",
       "    </tr>\n",
       "  </thead>\n",
       "  <tbody>\n",
       "    <tr>\n",
       "      <th>Op. 1</th>\n",
       "      <td>528.889469</td>\n",
       "      <td>31.574412</td>\n",
       "      <td>0.909091</td>\n",
       "      <td>1.490476</td>\n",
       "      <td>6.176439</td>\n",
       "      <td>13.203229</td>\n",
       "      <td>3.539268</td>\n",
       "      <td>1.662804</td>\n",
       "      <td>0.000000</td>\n",
       "      <td>0.217391</td>\n",
       "      <td>...</td>\n",
       "      <td>0.0</td>\n",
       "      <td>0.0</td>\n",
       "      <td>0.0</td>\n",
       "      <td>0.000000</td>\n",
       "      <td>0.0</td>\n",
       "      <td>0.0</td>\n",
       "      <td>0.0</td>\n",
       "      <td>0.0</td>\n",
       "      <td>0.0</td>\n",
       "      <td>0.0</td>\n",
       "    </tr>\n",
       "    <tr>\n",
       "      <th>Op. 2</th>\n",
       "      <td>108.247619</td>\n",
       "      <td>3.141026</td>\n",
       "      <td>0.000000</td>\n",
       "      <td>0.000000</td>\n",
       "      <td>4.325275</td>\n",
       "      <td>10.250549</td>\n",
       "      <td>1.333333</td>\n",
       "      <td>0.555556</td>\n",
       "      <td>0.000000</td>\n",
       "      <td>0.000000</td>\n",
       "      <td>...</td>\n",
       "      <td>0.0</td>\n",
       "      <td>0.0</td>\n",
       "      <td>0.0</td>\n",
       "      <td>0.000000</td>\n",
       "      <td>0.0</td>\n",
       "      <td>0.0</td>\n",
       "      <td>0.0</td>\n",
       "      <td>0.0</td>\n",
       "      <td>0.0</td>\n",
       "      <td>0.0</td>\n",
       "    </tr>\n",
       "    <tr>\n",
       "      <th>Op. 3 i</th>\n",
       "      <td>46.500000</td>\n",
       "      <td>14.250000</td>\n",
       "      <td>0.450000</td>\n",
       "      <td>0.133333</td>\n",
       "      <td>0.625000</td>\n",
       "      <td>2.033333</td>\n",
       "      <td>0.000000</td>\n",
       "      <td>0.000000</td>\n",
       "      <td>0.000000</td>\n",
       "      <td>0.125000</td>\n",
       "      <td>...</td>\n",
       "      <td>0.0</td>\n",
       "      <td>0.0</td>\n",
       "      <td>0.0</td>\n",
       "      <td>0.000000</td>\n",
       "      <td>0.0</td>\n",
       "      <td>0.0</td>\n",
       "      <td>0.0</td>\n",
       "      <td>0.0</td>\n",
       "      <td>0.0</td>\n",
       "      <td>0.0</td>\n",
       "    </tr>\n",
       "    <tr>\n",
       "      <th>Op. 3 ii</th>\n",
       "      <td>19.050000</td>\n",
       "      <td>2.200000</td>\n",
       "      <td>0.760714</td>\n",
       "      <td>1.435714</td>\n",
       "      <td>1.229286</td>\n",
       "      <td>1.757857</td>\n",
       "      <td>1.042857</td>\n",
       "      <td>0.228571</td>\n",
       "      <td>0.100000</td>\n",
       "      <td>0.380000</td>\n",
       "      <td>...</td>\n",
       "      <td>0.0</td>\n",
       "      <td>0.0</td>\n",
       "      <td>0.0</td>\n",
       "      <td>0.000000</td>\n",
       "      <td>0.0</td>\n",
       "      <td>0.0</td>\n",
       "      <td>0.0</td>\n",
       "      <td>0.0</td>\n",
       "      <td>0.0</td>\n",
       "      <td>0.0</td>\n",
       "    </tr>\n",
       "    <tr>\n",
       "      <th>Op. 3 iii</th>\n",
       "      <td>23.277778</td>\n",
       "      <td>4.583333</td>\n",
       "      <td>1.111111</td>\n",
       "      <td>0.277778</td>\n",
       "      <td>0.666667</td>\n",
       "      <td>0.888889</td>\n",
       "      <td>0.944444</td>\n",
       "      <td>0.833333</td>\n",
       "      <td>0.000000</td>\n",
       "      <td>0.000000</td>\n",
       "      <td>...</td>\n",
       "      <td>0.0</td>\n",
       "      <td>0.0</td>\n",
       "      <td>0.0</td>\n",
       "      <td>0.000000</td>\n",
       "      <td>0.0</td>\n",
       "      <td>0.0</td>\n",
       "      <td>0.0</td>\n",
       "      <td>0.0</td>\n",
       "      <td>0.0</td>\n",
       "      <td>0.0</td>\n",
       "    </tr>\n",
       "    <tr>\n",
       "      <th>...</th>\n",
       "      <td>...</td>\n",
       "      <td>...</td>\n",
       "      <td>...</td>\n",
       "      <td>...</td>\n",
       "      <td>...</td>\n",
       "      <td>...</td>\n",
       "      <td>...</td>\n",
       "      <td>...</td>\n",
       "      <td>...</td>\n",
       "      <td>...</td>\n",
       "      <td>...</td>\n",
       "      <td>...</td>\n",
       "      <td>...</td>\n",
       "      <td>...</td>\n",
       "      <td>...</td>\n",
       "      <td>...</td>\n",
       "      <td>...</td>\n",
       "      <td>...</td>\n",
       "      <td>...</td>\n",
       "      <td>...</td>\n",
       "      <td>...</td>\n",
       "    </tr>\n",
       "    <tr>\n",
       "      <th>Op. 31 ii</th>\n",
       "      <td>116.071429</td>\n",
       "      <td>36.428571</td>\n",
       "      <td>11.071429</td>\n",
       "      <td>12.857143</td>\n",
       "      <td>8.214286</td>\n",
       "      <td>7.857143</td>\n",
       "      <td>8.571429</td>\n",
       "      <td>1.428571</td>\n",
       "      <td>1.785714</td>\n",
       "      <td>2.500000</td>\n",
       "      <td>...</td>\n",
       "      <td>0.0</td>\n",
       "      <td>0.0</td>\n",
       "      <td>0.0</td>\n",
       "      <td>0.000000</td>\n",
       "      <td>0.0</td>\n",
       "      <td>0.0</td>\n",
       "      <td>0.0</td>\n",
       "      <td>0.0</td>\n",
       "      <td>0.0</td>\n",
       "      <td>0.0</td>\n",
       "    </tr>\n",
       "    <tr>\n",
       "      <th>Op. 31 iii</th>\n",
       "      <td>84.878571</td>\n",
       "      <td>18.957143</td>\n",
       "      <td>1.192857</td>\n",
       "      <td>4.900000</td>\n",
       "      <td>4.350000</td>\n",
       "      <td>2.442857</td>\n",
       "      <td>2.921429</td>\n",
       "      <td>0.657143</td>\n",
       "      <td>0.000000</td>\n",
       "      <td>1.314286</td>\n",
       "      <td>...</td>\n",
       "      <td>0.0</td>\n",
       "      <td>0.0</td>\n",
       "      <td>0.0</td>\n",
       "      <td>0.178571</td>\n",
       "      <td>0.0</td>\n",
       "      <td>0.0</td>\n",
       "      <td>0.0</td>\n",
       "      <td>0.0</td>\n",
       "      <td>0.0</td>\n",
       "      <td>0.0</td>\n",
       "    </tr>\n",
       "    <tr>\n",
       "      <th>Op. 31 iv</th>\n",
       "      <td>41.071429</td>\n",
       "      <td>21.714286</td>\n",
       "      <td>0.500000</td>\n",
       "      <td>1.357143</td>\n",
       "      <td>0.500000</td>\n",
       "      <td>0.500000</td>\n",
       "      <td>2.000000</td>\n",
       "      <td>0.000000</td>\n",
       "      <td>0.000000</td>\n",
       "      <td>0.000000</td>\n",
       "      <td>...</td>\n",
       "      <td>0.0</td>\n",
       "      <td>0.0</td>\n",
       "      <td>0.0</td>\n",
       "      <td>0.000000</td>\n",
       "      <td>0.0</td>\n",
       "      <td>0.0</td>\n",
       "      <td>0.0</td>\n",
       "      <td>0.0</td>\n",
       "      <td>0.0</td>\n",
       "      <td>0.0</td>\n",
       "    </tr>\n",
       "    <tr>\n",
       "      <th>Op. 31 v</th>\n",
       "      <td>120.892857</td>\n",
       "      <td>30.803571</td>\n",
       "      <td>2.678571</td>\n",
       "      <td>1.875000</td>\n",
       "      <td>1.964286</td>\n",
       "      <td>6.160714</td>\n",
       "      <td>3.839286</td>\n",
       "      <td>1.785714</td>\n",
       "      <td>0.714286</td>\n",
       "      <td>0.178571</td>\n",
       "      <td>...</td>\n",
       "      <td>0.0</td>\n",
       "      <td>0.0</td>\n",
       "      <td>0.0</td>\n",
       "      <td>0.000000</td>\n",
       "      <td>0.0</td>\n",
       "      <td>0.0</td>\n",
       "      <td>0.0</td>\n",
       "      <td>0.0</td>\n",
       "      <td>0.0</td>\n",
       "      <td>0.0</td>\n",
       "    </tr>\n",
       "    <tr>\n",
       "      <th>Op. 31 vi</th>\n",
       "      <td>76.071429</td>\n",
       "      <td>8.571429</td>\n",
       "      <td>0.000000</td>\n",
       "      <td>4.285714</td>\n",
       "      <td>1.071429</td>\n",
       "      <td>1.071429</td>\n",
       "      <td>4.285714</td>\n",
       "      <td>2.142857</td>\n",
       "      <td>0.000000</td>\n",
       "      <td>3.214286</td>\n",
       "      <td>...</td>\n",
       "      <td>0.0</td>\n",
       "      <td>0.0</td>\n",
       "      <td>0.0</td>\n",
       "      <td>0.000000</td>\n",
       "      <td>0.0</td>\n",
       "      <td>0.0</td>\n",
       "      <td>0.0</td>\n",
       "      <td>0.0</td>\n",
       "      <td>0.0</td>\n",
       "      <td>0.0</td>\n",
       "    </tr>\n",
       "  </tbody>\n",
       "</table>\n",
       "<p>107 rows × 342 columns</p>\n",
       "</div>"
      ],
      "text/plain": [
       "              Duration        [0]      [0 1]      [0 2]     [0 3]      [0 4]  \\\n",
       "Title                                                                          \n",
       "Op. 1       528.889469  31.574412   0.909091   1.490476  6.176439  13.203229   \n",
       "Op. 2       108.247619   3.141026   0.000000   0.000000  4.325275  10.250549   \n",
       "Op. 3 i      46.500000  14.250000   0.450000   0.133333  0.625000   2.033333   \n",
       "Op. 3 ii     19.050000   2.200000   0.760714   1.435714  1.229286   1.757857   \n",
       "Op. 3 iii    23.277778   4.583333   1.111111   0.277778  0.666667   0.888889   \n",
       "...                ...        ...        ...        ...       ...        ...   \n",
       "Op. 31 ii   116.071429  36.428571  11.071429  12.857143  8.214286   7.857143   \n",
       "Op. 31 iii   84.878571  18.957143   1.192857   4.900000  4.350000   2.442857   \n",
       "Op. 31 iv    41.071429  21.714286   0.500000   1.357143  0.500000   0.500000   \n",
       "Op. 31 v    120.892857  30.803571   2.678571   1.875000  1.964286   6.160714   \n",
       "Op. 31 vi    76.071429   8.571429   0.000000   4.285714  1.071429   1.071429   \n",
       "\n",
       "               [0 5]     [0 6]   [0 1 2]   [0 1 3]  ...  [0 1 3 4 5 6 7 8 9]  \\\n",
       "Title                                               ...                        \n",
       "Op. 1       3.539268  1.662804  0.000000  0.217391  ...                  0.0   \n",
       "Op. 2       1.333333  0.555556  0.000000  0.000000  ...                  0.0   \n",
       "Op. 3 i     0.000000  0.000000  0.000000  0.125000  ...                  0.0   \n",
       "Op. 3 ii    1.042857  0.228571  0.100000  0.380000  ...                  0.0   \n",
       "Op. 3 iii   0.944444  0.833333  0.000000  0.000000  ...                  0.0   \n",
       "...              ...       ...       ...       ...  ...                  ...   \n",
       "Op. 31 ii   8.571429  1.428571  1.785714  2.500000  ...                  0.0   \n",
       "Op. 31 iii  2.921429  0.657143  0.000000  1.314286  ...                  0.0   \n",
       "Op. 31 iv   2.000000  0.000000  0.000000  0.000000  ...                  0.0   \n",
       "Op. 31 v    3.839286  1.785714  0.714286  0.178571  ...                  0.0   \n",
       "Op. 31 vi   4.285714  2.142857  0.000000  3.214286  ...                  0.0   \n",
       "\n",
       "            [0 2 3 4 5 6 7 8 9]  [0 2 3 4 6 7 8 9 10]  [0 1 2 3 4 5 6 7 8 9]  \\\n",
       "Title                                                                          \n",
       "Op. 1                       0.0                   0.0               0.000000   \n",
       "Op. 2                       0.0                   0.0               0.000000   \n",
       "Op. 3 i                     0.0                   0.0               0.000000   \n",
       "Op. 3 ii                    0.0                   0.0               0.000000   \n",
       "Op. 3 iii                   0.0                   0.0               0.000000   \n",
       "...                         ...                   ...                    ...   \n",
       "Op. 31 ii                   0.0                   0.0               0.000000   \n",
       "Op. 31 iii                  0.0                   0.0               0.178571   \n",
       "Op. 31 iv                   0.0                   0.0               0.000000   \n",
       "Op. 31 v                    0.0                   0.0               0.000000   \n",
       "Op. 31 vi                   0.0                   0.0               0.000000   \n",
       "\n",
       "            [0 1 2 3 4 5 6 7 8 10]  [0 1 2 3 4 5 6 7 9 10]  \\\n",
       "Title                                                        \n",
       "Op. 1                          0.0                     0.0   \n",
       "Op. 2                          0.0                     0.0   \n",
       "Op. 3 i                        0.0                     0.0   \n",
       "Op. 3 ii                       0.0                     0.0   \n",
       "Op. 3 iii                      0.0                     0.0   \n",
       "...                            ...                     ...   \n",
       "Op. 31 ii                      0.0                     0.0   \n",
       "Op. 31 iii                     0.0                     0.0   \n",
       "Op. 31 iv                      0.0                     0.0   \n",
       "Op. 31 v                       0.0                     0.0   \n",
       "Op. 31 vi                      0.0                     0.0   \n",
       "\n",
       "            [0 1 2 3 4 5 6 8 9 10]  [0 1 2 3 4 5 7 8 9 10]  \\\n",
       "Title                                                        \n",
       "Op. 1                          0.0                     0.0   \n",
       "Op. 2                          0.0                     0.0   \n",
       "Op. 3 i                        0.0                     0.0   \n",
       "Op. 3 ii                       0.0                     0.0   \n",
       "Op. 3 iii                      0.0                     0.0   \n",
       "...                            ...                     ...   \n",
       "Op. 31 ii                      0.0                     0.0   \n",
       "Op. 31 iii                     0.0                     0.0   \n",
       "Op. 31 iv                      0.0                     0.0   \n",
       "Op. 31 v                       0.0                     0.0   \n",
       "Op. 31 vi                      0.0                     0.0   \n",
       "\n",
       "            [0 1 2 3 4 5 6 7 8 9 10]  [0 1 2 3 4 5 6 7 8 9 10 11]  \n",
       "Title                                                              \n",
       "Op. 1                            0.0                          0.0  \n",
       "Op. 2                            0.0                          0.0  \n",
       "Op. 3 i                          0.0                          0.0  \n",
       "Op. 3 ii                         0.0                          0.0  \n",
       "Op. 3 iii                        0.0                          0.0  \n",
       "...                              ...                          ...  \n",
       "Op. 31 ii                        0.0                          0.0  \n",
       "Op. 31 iii                       0.0                          0.0  \n",
       "Op. 31 iv                        0.0                          0.0  \n",
       "Op. 31 v                         0.0                          0.0  \n",
       "Op. 31 vi                        0.0                          0.0  \n",
       "\n",
       "[107 rows x 342 columns]"
      ]
     },
     "execution_count": 12,
     "metadata": {},
     "output_type": "execute_result"
    }
   ],
   "source": [
    "## loads data\n",
    "\n",
    "verticalities_url = 'https://raw.githubusercontent.com/anonymousmuso/Viennese-Trichord/main/Data/Verticalities%20-%20Normal%20Order%20(Absolute%20Values).csv'\n",
    "data2 = pd.read_csv(verticalities_url, error_bad_lines=False)\n",
    "proportions_url = 'https://raw.githubusercontent.com/anonymousmuso/Viennese-Trichord/main/Data/Verticalities%20-%20Normal%20Order.csv'\n",
    "proportions_data2 = pd.read_csv(proportions_url, error_bad_lines=False)\n"
   ]
  },
  {
   "cell_type": "markdown",
   "metadata": {},
   "source": [
    "# DKL Analysis"
   ]
  },
  {
   "cell_type": "code",
   "execution_count": 7,
   "metadata": {},
   "outputs": [],
   "source": [
    "## calculates DKL values by using proportions data weighted by total number of trigrams in each movement to facilitate inter-movement comparison\n",
    "\n",
    "DKL_values = []\n",
    "corpus_duration = sum(data2.iloc[:, 0:1].values.flat)\n",
    "for i in range(1,len(data2.columns)):\n",
    "    list_of_plog_values = []\n",
    "    summed_verticality_durations = sum(data2.iloc[:, i:i+1].values.flat)\n",
    "    for j in range(0, len(data2.index)):\n",
    "        movement_duration = float(data2.iloc[j:j+1, 0:1].values)\n",
    "        verticality_duration = float(data2.iloc[j:j+1, i:i+1].values)\n",
    "        verticality_proportion = verticality_duration/summed_verticality_durations\n",
    "        movement_proportion = movement_duration/corpus_duration\n",
    "        if verticality_proportion == 0:\n",
    "            list_of_plog_values.append(0)\n",
    "        else:\n",
    "            plog2pq_value = verticality_proportion*(math.log2(verticality_proportion/movement_proportion))\n",
    "            list_of_plog_values.append(plog2pq_value)\n",
    "    verticality_plog_value = sum(list_of_plog_values)\n",
    "    DKL_value = 1-(math.exp(-verticality_plog_value))\n",
    "    DKL_values.append(DKL_value)     \n",
    "    \n",
    "totals = []\n",
    "for k in range(0, len(proportions_data2.columns)):\n",
    "    summed_proportion = sum(proportions_data2.iloc[:, k:k+1].values.flat)\n",
    "    totals.append(summed_proportion)\n",
    "total_proportions = []\n",
    "for j in totals:\n",
    "    new_total = j/sum(totals)\n",
    "    total_proportions.append(new_total)\n",
    "    \n",
    "proportions_data2 = proportions_data2.transpose()\n",
    "proportions_data2['Total'] = total_proportions\n",
    "proportions_data2['DKL Value'] = DKL_values"
   ]
  },
  {
   "cell_type": "code",
   "execution_count": 8,
   "metadata": {},
   "outputs": [
    {
     "data": {
      "application/vnd.plotly.v1+json": {
       "config": {
        "plotlyServerURL": "https://plot.ly"
       },
       "data": [
        {
         "mode": "markers+text",
         "text": [
          "[0]",
          "[0 1]",
          "[0 2]",
          "[0 3]",
          "[0 4]",
          "[0 5]",
          "[0 6]",
          "[0 1 2]",
          "[0 1 3]",
          "[0 1 4]",
          "[0 1 5]",
          "[0 1 6]",
          "[0 2 3]",
          "[0 2 4]",
          "[0 2 5]",
          "[0 2 6]",
          "[0 2 7]",
          "[0 3 4]",
          "[0 3 5]",
          "[0 3 6]",
          "[0 3 7]",
          "[0 4 5]",
          "[0 4 6]",
          "[0 4 7]",
          "[0 4 8]",
          "[0 5 6]",
          "[0 1 2 3]",
          "[0 1 2 4]",
          "[0 1 2 5]",
          "[0 1 2 6]",
          "[0 1 2 7]",
          "[0 1 3 4]",
          "[0 1 3 5]",
          "[0 1 3 6]",
          "[0 1 3 7]",
          "[0 1 4 5]",
          "[0 1 4 6]",
          "[0 1 4 7]",
          "[0 1 4 8]",
          "[0 1 5 6]",
          "[0 1 5 7]",
          "[0 1 5 8]",
          "[0 1 6 7]",
          "[0 2 3 4]",
          "[0 2 3 5]",
          "[0 2 3 6]",
          "[0 2 3 7]",
          "[0 2 4 5]",
          "[0 2 4 6]",
          "[0 2 4 7]",
          "[0 2 4 8]",
          "[0 2 5 6]",
          "[0 2 5 7]",
          "[0 2 5 8]",
          "[0 2 6 7]",
          "[0 2 6 8]",
          "[0 3 4 5]",
          "[0 3 4 6]",
          "[0 3 4 7]",
          "[0 3 5 6]",
          "[0 3 5 7]",
          "[0 3 5 8]",
          "[0 3 6 7]",
          "[0 3 6 8]",
          "[0 3 6 9]",
          "[0 4 5 6]",
          "[0 4 5 7]",
          "[0 4 6 7]",
          "[0 4 7 8]",
          "[0 1 2 3 4]",
          "[0 1 2 3 5]",
          "[0 1 2 3 6]",
          "[0 1 2 3 7]",
          "[0 1 2 4 5]",
          "[0 1 2 4 6]",
          "[0 1 2 4 7]",
          "[0 1 2 4 8]",
          "[0 1 2 5 6]",
          "[0 1 2 5 7]",
          "[0 1 2 5 8]",
          "[0 1 2 6 7]",
          "[0 1 2 6 8]",
          "[0 1 3 4 5]",
          "[0 1 3 4 6]",
          "[0 1 3 4 7]",
          "[0 1 3 4 8]",
          "[0 1 3 5 6]",
          "[0 1 3 5 7]",
          "[0 1 3 5 8]",
          "[0 1 3 6 7]",
          "[0 1 3 6 8]",
          "[0 1 3 6 9]",
          "[0 1 3 7 8]",
          "[0 1 4 5 6]",
          "[0 1 4 5 7]",
          "[0 1 4 5 8]",
          "[0 1 4 6 7]",
          "[0 1 4 6 8]",
          "[0 1 4 6 9]",
          "[0 1 4 7 8]",
          "[0 1 5 6 7]",
          "[0 1 5 7 8]",
          "[0 2 3 4 5]",
          "[0 2 3 4 6]",
          "[0 2 3 4 7]",
          "[0 2 3 5 6]",
          "[0 2 3 5 7]",
          "[0 2 3 5 8]",
          "[0 2 3 6 7]",
          "[0 2 3 6 8]",
          "[0 2 4 5 6]",
          "[0 2 4 5 7]",
          "[0 2 4 5 8]",
          "[0 2 4 6 7]",
          "[0 2 4 6 8]",
          "[0 2 4 6 9]",
          "[0 2 4 7 8]",
          "[0 2 4 7 9]",
          "[0 2 5 6 7]",
          "[0 2 5 6 8]",
          "[0 2 5 7 8]",
          "[0 3 4 5 6]",
          "[0 3 4 5 7]",
          "[0 3 4 5 8]",
          "[0 3 4 6 7]",
          "[0 3 4 6 8]",
          "[0 3 4 7 8]",
          "[0 3 5 6 7]",
          "[0 3 5 6 8]",
          "[0 3 5 7 8]",
          "[0 3 5 8 9]",
          "[0 3 6 7 8]",
          "[0 3 6 8 9]",
          "[0 4 5 6 7]",
          "[0 4 6 7 8]",
          "[0 1 2 3 4 5]",
          "[0 1 2 3 4 6]",
          "[0 1 2 3 4 7]",
          "[0 1 2 3 4 8]",
          "[0 1 2 3 5 6]",
          "[0 1 2 3 5 7]",
          "[0 1 2 3 5 8]",
          "[0 1 2 3 6 7]",
          "[0 1 2 3 6 8]",
          "[0 1 2 3 6 9]",
          "[0 1 2 3 7 8]",
          "[0 1 2 4 5 6]",
          "[0 1 2 4 5 7]",
          "[0 1 2 4 5 8]",
          "[0 1 2 4 6 7]",
          "[0 1 2 4 6 8]",
          "[0 1 2 4 6 9]",
          "[0 1 2 4 7 8]",
          "[0 1 2 4 7 9]",
          "[0 1 2 5 6 7]",
          "[0 1 2 5 6 8]",
          "[0 1 2 5 6 9]",
          "[0 1 2 5 7 8]",
          "[0 1 2 5 7 9]",
          "[0 1 2 6 7 8]",
          "[0 1 3 4 5 6]",
          "[0 1 3 4 5 7]",
          "[0 1 3 4 5 8]",
          "[0 1 3 4 6 7]",
          "[0 1 3 4 6 8]",
          "[0 1 3 4 6 9]",
          "[0 1 3 4 7 8]",
          "[0 1 3 4 7 9]",
          "[0 1 3 5 6 7]",
          "[0 1 3 5 6 8]",
          "[0 1 3 5 6 9]",
          "[0 1 3 5 7 8]",
          "[0 1 3 5 7 9]",
          "[0 1 3 5 8 9]",
          "[0 1 3 6 7 8]",
          "[0 1 3 6 7 9]",
          "[0 1 3 6 8 9]",
          "[0 1 4 5 6 7]",
          "[0 1 4 5 6 8]",
          "[0 1 4 5 7 8]",
          "[0 1 4 5 8 9]",
          "[0 1 4 6 7 8]",
          "[0 1 4 6 7 9]",
          "[0 1 4 6 8 9]",
          "[0 2 3 4 5 6]",
          "[0 2 3 4 5 7]",
          "[0 2 3 4 5 8]",
          "[0 2 3 4 6 7]",
          "[0 2 3 4 6 8]",
          "[0 2 3 4 6 9]",
          "[0 2 3 4 7 8]",
          "[0 2 3 5 6 7]",
          "[0 2 3 5 6 8]",
          "[0 2 3 5 7 8]",
          "[0 2 3 5 7 9]",
          "[0 2 3 6 7 8]",
          "[0 2 3 6 8 9]",
          "[0 2 4 5 6 7]",
          "[0 2 4 5 6 8]",
          "[0 2 4 5 7 8]",
          "[0 2 4 5 7 9]",
          "[0 2 4 6 7 8]",
          "[0 2 4 6 7 9]",
          "[0 2 4 6 8 9]",
          "[0 2 4 6 8 10]",
          "[0 2 5 6 7 8]",
          "[0 2 5 7 8 9]",
          "[0 3 4 5 6 7]",
          "[0 3 4 5 6 8]",
          "[0 3 4 5 7 8]",
          "[0 3 4 6 7 8]",
          "[0 3 4 7 8 9]",
          "[0 3 5 6 7 8]",
          "[0 3 5 6 8 9]",
          "[0 3 5 7 8 9]",
          "[0 1 2 3 4 5 6]",
          "[0 1 2 3 4 5 7]",
          "[0 1 2 3 4 5 8]",
          "[0 1 2 3 4 6 7]",
          "[0 1 2 3 4 6 8]",
          "[0 1 2 3 4 6 9]",
          "[0 1 2 3 4 7 8]",
          "[0 1 2 3 4 7 9]",
          "[0 1 2 3 5 6 7]",
          "[0 1 2 3 5 6 8]",
          "[0 1 2 3 5 6 9]",
          "[0 1 2 3 5 7 8]",
          "[0 1 2 3 5 7 9]",
          "[0 1 2 3 5 8 9]",
          "[0 1 2 3 6 7 8]",
          "[0 1 2 3 6 7 9]",
          "[0 1 2 4 5 6 7]",
          "[0 1 2 4 5 6 8]",
          "[0 1 2 4 5 6 9]",
          "[0 1 2 4 5 7 8]",
          "[0 1 2 4 5 7 9]",
          "[0 1 2 4 5 8 9]",
          "[0 1 2 4 6 7 8]",
          "[0 1 2 4 6 7 9]",
          "[0 1 2 4 6 8 9]",
          "[0 1 2 4 6 8 10]",
          "[0 1 2 4 7 8 9]",
          "[0 1 2 5 6 7 8]",
          "[0 1 2 5 6 8 9]",
          "[0 1 2 5 7 8 9]",
          "[0 1 3 4 5 6 7]",
          "[0 1 3 4 5 6 8]",
          "[0 1 3 4 5 7 8]",
          "[0 1 3 4 5 7 9]",
          "[0 1 3 4 6 7 8]",
          "[0 1 3 4 6 7 9]",
          "[0 1 3 4 6 8 9]",
          "[0 1 3 4 6 8 10]",
          "[0 1 3 5 6 7 8]",
          "[0 1 3 5 6 7 9]",
          "[0 1 3 5 6 8 9]",
          "[0 1 3 5 6 8 10]",
          "[0 1 3 5 7 8 9]",
          "[0 1 4 5 6 7 8]",
          "[0 1 4 5 7 8 9]",
          "[0 1 4 6 7 8 9]",
          "[0 2 3 4 5 6 7]",
          "[0 2 3 4 5 6 8]",
          "[0 2 3 4 5 7 8]",
          "[0 2 3 4 5 7 9]",
          "[0 2 3 4 6 7 8]",
          "[0 2 3 4 6 7 9]",
          "[0 2 3 4 6 8 9]",
          "[0 2 3 5 6 7 8]",
          "[0 2 3 5 6 7 9]",
          "[0 2 3 5 6 8 9]",
          "[0 2 3 5 7 8 9]",
          "[0 2 3 6 7 8 9]",
          "[0 2 4 5 6 7 8]",
          "[0 2 4 5 6 7 9]",
          "[0 2 4 5 6 8 9]",
          "[0 2 4 5 7 8 9]",
          "[0 2 4 6 7 8 9]",
          "[0 3 4 5 6 7 8]",
          "[0 3 4 6 7 8 9]",
          "[0 3 5 6 7 8 9]",
          "[0 1 2 3 4 5 6 7]",
          "[0 1 2 3 4 5 6 8]",
          "[0 1 2 3 4 5 6 9]",
          "[0 1 2 3 4 5 7 8]",
          "[0 1 2 3 4 5 8 9]",
          "[0 1 2 3 4 6 8 9]",
          "[0 1 2 3 4 6 8 10]",
          "[0 1 2 3 4 7 8 9]",
          "[0 1 2 3 5 6 7 8]",
          "[0 1 2 3 5 6 7 9]",
          "[0 1 2 3 5 6 8 9]",
          "[0 1 2 3 5 6 8 10]",
          "[0 1 2 3 5 7 8 9]",
          "[0 1 2 3 5 7 8 10]",
          "[0 1 2 3 6 7 8 9]",
          "[0 1 2 4 5 6 7 8]",
          "[0 1 2 4 5 6 7 9]",
          "[0 1 2 4 5 6 8 9]",
          "[0 1 2 4 5 6 8 10]",
          "[0 1 2 4 5 7 8 9]",
          "[0 1 2 4 5 7 8 10]",
          "[0 1 2 4 5 7 9 10]",
          "[0 1 2 4 6 7 8 9]",
          "[0 1 2 4 6 7 8 10]",
          "[0 1 3 4 5 6 7 8]",
          "[0 1 3 4 5 6 8 9]",
          "[0 1 3 4 5 7 8 9]",
          "[0 1 3 4 6 7 8 9]",
          "[0 1 3 5 6 7 8 9]",
          "[0 2 3 4 5 6 7 8]",
          "[0 2 3 4 5 6 7 9]",
          "[0 2 3 4 5 6 8 9]",
          "[0 2 3 4 5 7 8 9]",
          "[0 2 3 4 6 7 8 9]",
          "[0 2 3 5 6 7 8 9]",
          "[0 2 3 5 6 8 9 10]",
          "[0 2 4 5 6 7 8 9]",
          "[0 2 4 5 7 8 9 10]",
          "[0 1 2 3 4 5 6 7 9]",
          "[0 1 2 3 4 5 6 8 9]",
          "[0 1 2 3 4 5 6 8 10]",
          "[0 1 2 3 4 5 7 8 9]",
          "[0 1 2 3 4 5 7 8 10]",
          "[0 1 2 3 4 6 7 8 9]",
          "[0 1 2 3 4 6 7 8 10]",
          "[0 1 2 3 4 6 7 9 10]",
          "[0 1 2 3 5 6 7 8 9]",
          "[0 1 2 3 5 6 7 8 10]",
          "[0 1 2 4 5 6 7 8 9]",
          "[0 1 2 4 5 6 8 9 10]",
          "[0 1 3 4 5 6 7 8 9]",
          "[0 2 3 4 5 6 7 8 9]",
          "[0 2 3 4 6 7 8 9 10]",
          "[0 1 2 3 4 5 6 7 8 9]",
          "[0 1 2 3 4 5 6 7 8 10]",
          "[0 1 2 3 4 5 6 7 9 10]",
          "[0 1 2 3 4 5 6 8 9 10]",
          "[0 1 2 3 4 5 7 8 9 10]",
          "[0 1 2 3 4 5 6 7 8 9 10]",
          "[0 1 2 3 4 5 6 7 8 9 10 11]"
         ],
         "textfont": {
          "size": 14
         },
         "textposition": "bottom center",
         "type": "scatter",
         "x": [
          0.26840186626247464,
          0.06366513777557199,
          0.02915241744357314,
          0.03616211094627927,
          0.03495853491720611,
          0.03801670345126206,
          0.016807880248943634,
          0.013918164232468378,
          0.007953600841574216,
          0.015219581598332399,
          0.010056032840819691,
          0.014252505347839619,
          0.00792773969885489,
          0.0049883289979139695,
          0.005417235746613009,
          0.005928174626203407,
          0.00618438609118734,
          0.015960093591446727,
          0.007011062734985109,
          0.009007147717214283,
          0.009680170093601703,
          0.011894778686048138,
          0.006417059749783054,
          0.008207601813185755,
          0.0041109228353817745,
          0.018167498553451886,
          0.002695269481600819,
          0.0037750472405496836,
          0.004021477096425273,
          0.0028933037218810916,
          0.0034428674097574086,
          0.004822695510096066,
          0.0031045116972678944,
          0.0019349034187989124,
          0.00281189149541854,
          0.01069104995061167,
          0.0050809534589912045,
          0.005852978713465733,
          0.005701503545741689,
          0.007262367274654642,
          0.0048334480300901905,
          0.0036494615155000464,
          0.0032041320351868826,
          0.0018975332115150497,
          0.0036148183970945266,
          0.003811767226724194,
          0.0026873073297947665,
          0.002257427835252379,
          0.001490376227227755,
          0.0022787119278397535,
          0.0023520044324387367,
          0.006089300284236672,
          0.002192345753078649,
          0.0027725160495923862,
          0.0029773089961404216,
          0.0014259611130109876,
          0.0038699114301577906,
          0.004040019976852729,
          0.005647912339951067,
          0.00270339181225891,
          0.0012548743518427136,
          0.0029756882324675172,
          0.005583116762581037,
          0.003342468671130002,
          0.0005332019244360226,
          0.005352371955918227,
          0.0026523464751938503,
          0.0032249742598925353,
          0.0046175412853226,
          0.0017883370096845434,
          0.0011086288718208702,
          0.0006145248781596882,
          0.000703158253537709,
          0.0032423401344679847,
          0.0007219785114889143,
          0.0009076366147174157,
          0.0013062223523854421,
          0.0017672493969723764,
          0.0008286094665962246,
          0.0014699642418213134,
          0.002743165971393861,
          0.0011925426394379258,
          0.0019220852331339436,
          0.0015899119450741893,
          0.0015906523659113294,
          0.0015025734150562505,
          0.001745913627900797,
          0.0008027117987008106,
          0.0005540653569243613,
          0.0014832673054708452,
          0.0003865838845366339,
          0.0008855674567055141,
          0.0007410732944256786,
          0.001575886058171392,
          0.0026584120478806727,
          0.002662544071790758,
          0.0012055814200825409,
          0.0009983003573416892,
          0.0023992850563209303,
          0.002595460313153809,
          0.0033860552766976706,
          0.002629472879976165,
          0.001114609094633378,
          0.001687914603797166,
          0.0007152075306157456,
          0.0007249899336128408,
          0.0013712020457950676,
          0.0002889774642628246,
          0.0018452717062398029,
          0.0008268481647816097,
          0.0012093452892308087,
          0.0015249832516760348,
          0.0009064315522026328,
          0.0008567895281513436,
          0.0011061119585562295,
          0.000738403001106099,
          0.002074146468257453,
          0.0004541998353515837,
          0.0010950604838654194,
          0.0017415144666873134,
          0.00119056847012035,
          0.0016602547319309337,
          0.0004949575006323586,
          0.0014663562758345462,
          0.0029103187721462977,
          0.0017610733933580078,
          0.0027411683568114398,
          0.001958944144962753,
          0.0009979903104002299,
          0.000599934176500541,
          0.0019788433406405267,
          0.0015329023144661552,
          0.001013234309226472,
          0.0005778421701698657,
          0.0014435311260716168,
          0.0010144130007447112,
          0.00023670216165900211,
          0.00027112249573748887,
          0.00030492655516191634,
          0.001665246164907732,
          0.0007235983393368502,
          0.0002606068741781098,
          0.0005680571517709223,
          0.0002123700932623365,
          0.0010360919219071882,
          0.0012888617947143,
          0.00042334442241603854,
          0.0003752398206270021,
          0.0006780695846517164,
          0.0006209551930671451,
          0.0003112372052380611,
          0.0001097948396121425,
          0.001743281747266706,
          0.0006023695081177161,
          0.000581711078381086,
          0.0010206643261242443,
          0.00044108205198773245,
          0.0003045899143605445,
          0.0003072216769798441,
          0.00029110286178180467,
          0.00071960265475261,
          0.0011916290546567382,
          0.0003148475274694725,
          0.0016881417046032425,
          0.0010797273514368624,
          0.0005226000349572546,
          0.003062389505153807,
          0.0009156752511213285,
          0.00057103884412165,
          0.00037477972933155923,
          0.0003740871408396895,
          0.00010277072149440814,
          0.0002989704397130252,
          0.0013135411845864777,
          0.0002521353441136585,
          0.00021141988289892207,
          0.0003037096888553621,
          0.0012608227677162295,
          0.0004125014243352922,
          0.0010292038243718904,
          0.0006863757981906233,
          0.0006431033162719151,
          0.0004961111114718143,
          0.00048347948323242736,
          0.00016611770337417433,
          6.622220820981094e-05,
          0.000328610288036141,
          0.0010400417202903573,
          0.0005063555352472611,
          0.00020648922585827254,
          0.0008904202590665708,
          0.0006819348830456026,
          0.00048153019475089605,
          0.0004544018033164842,
          0.0003869604195825389,
          0.0008599195662669118,
          0.0003691246245878248,
          0.00034217487891485365,
          0.000283912050844017,
          0.0007390986554291025,
          0.00022045453383660784,
          0.0001174547249614946,
          0.0006386307328017444,
          0.00037691537691146706,
          5.25515053045004e-05,
          0.0002496659678707756,
          0.00018281067646359618,
          0.0007704158713398434,
          0.0001593794330294571,
          0.0006103810522776588,
          0.0011477468774681433,
          0.00044284224996173955,
          0.0005917318562133285,
          0.0004997075970985834,
          0.00017305603886307407,
          0.0003619360485146326,
          0.00018457060809432885,
          0.00036721031748570215,
          9.343197007691217e-05,
          0.00040351177556177984,
          0.0003506807768955651,
          0.0004275296399542505,
          0.0002144702147696464,
          0.00038051302373489634,
          0.0009910391655550616,
          0.0008124606393196756,
          6.148562460930752e-05,
          2.5074666422569416e-05,
          0.001265340395071317,
          0.00015351749615998567,
          0.00010479882751243523,
          9.275218043772221e-05,
          0.0018878384537136116,
          0.00012991475160935775,
          0.00011696786150413761,
          0.00010855105444896263,
          0.0005592738807733581,
          0.00036335411714475085,
          4.054574573762853e-05,
          0.00020362336476200402,
          0.0001861138887400026,
          4.054574573762853e-05,
          0.00015786588371125208,
          0.00015624581201923167,
          0.00036232034087097735,
          0.000591367351847316,
          0.0002515189470922004,
          0.000539043319332889,
          0.0006006233257640549,
          0.000617188954010733,
          4.783922711721285e-05,
          0.0009244255756339557,
          0.00013445431097753102,
          0.00010637710366380871,
          0.00030885223083978753,
          3.417672533425066e-05,
          2.0939545889339944e-05,
          0.00010364001720063933,
          0.00015277283991125848,
          0.0003603439194499071,
          0.00014032724313098172,
          0.0005223890325335253,
          0.0001276696057091373,
          0.0001950095867890446,
          6.998635887667477e-05,
          0.0001526614204055957,
          0.0002111492074783494,
          0.00023100577297774738,
          0.0001977429866551215,
          0.00037914180010456934,
          0.0005344909943741945,
          0.00017830789787294426,
          6.87607573995861e-05,
          7.114199499657693e-05,
          0.00013355511023398916,
          0.00014895298097074115,
          0.00012793717301688742,
          4.5462003964721915e-05,
          0.0003695974548485551,
          0.00019268210663646058,
          0.00021139557181527286,
          0.0001122617945047854,
          0.0007058240238448927,
          2.199010445299621e-05,
          3.445231400083176e-05,
          0.0004588123937171115,
          0.00010783040787959661,
          3.298515667949432e-05,
          2.0272872868814264e-05,
          1.1503578044155888e-05,
          0.00010995052226498107,
          4.5064103687495494e-05,
          5.9075997298695855e-05,
          6.759385829222995e-05,
          4.2072857804330854e-06,
          0.00023638074810129379,
          0.00010149149129473232,
          3.528426432856291e-05,
          0.00047479882257726684,
          0.0002727345853667201,
          2.199010445299621e-05,
          1.0756017560411537e-06,
          7.710521327623294e-05,
          5.9075997298695855e-05,
          2.6795267686438208e-05,
          6.033818303282578e-05,
          6.322604275879835e-05,
          0.00032994849009405463,
          0.0002514721577485489,
          2.0369624607792386e-05,
          4.398020890599242e-05,
          0.00025025057503672086,
          3.0567798698694456e-05,
          3.495933064534932e-05,
          1.502136789583183e-05,
          8.419634587858903e-05,
          2.806544862619635e-05,
          1.9242032970401766e-06,
          0.00010087939312698594,
          1.3294159875566707e-05,
          0.0007948742653434836,
          5.317663950226683e-05,
          5.478305770934129e-05,
          0.00012248251727582833,
          0.00019963984220103514,
          2.199010445299621e-05,
          4.398020890599242e-05,
          6.857198925772395e-05,
          2.199010445299621e-05,
          0.00011336735686049118,
          3.06779705943948e-05,
          0.00022255824536549784,
          3.988247962670013e-05,
          8.304070975868689e-05,
          0.0007960633407501669,
          3.298515667949432e-05,
          0.0003795837888832319,
          0.0010788176986893483,
          2.199010445299621e-05,
          0.002593690199099033,
          0.00014452259369881522
         ],
         "y": [
          0.205033855709285,
          0.40183402698667237,
          0.4171699989646639,
          0.3812172012337287,
          0.33278383838666525,
          0.45407728789418456,
          0.4214979679868285,
          0.7074137845192916,
          0.6230748342136507,
          0.535503946574647,
          0.5404813633576597,
          0.617760821648677,
          0.6064883446019822,
          0.7526801202838405,
          0.6623679647887457,
          0.7232394663641114,
          0.7104301541470488,
          0.5617577470840427,
          0.6116949959266437,
          0.7151461707197364,
          0.743479059492898,
          0.5178511414652864,
          0.5904383540239719,
          0.6898020670610145,
          0.806701132968835,
          0.6662346527710001,
          0.9098847900521051,
          0.9501762587936016,
          0.8737933045351566,
          0.7987655430558549,
          0.8652797605823858,
          0.8088711571782554,
          0.8114693896991019,
          0.8583397817126218,
          0.8480850817152965,
          0.7512468749090155,
          0.6535396482431228,
          0.7889319520683392,
          0.7973771067539313,
          0.7298110989048286,
          0.8378816993989973,
          0.7761008259746217,
          0.9100819931275391,
          0.8584560455614999,
          0.9142655179426159,
          0.800813819567594,
          0.850042376429757,
          0.9218715387046206,
          0.8534718408899467,
          0.9421409626322712,
          0.8869121241094533,
          0.9589440355760636,
          0.922199712217422,
          0.8916503800029904,
          0.8296582812415741,
          0.9131992646346282,
          0.8804592731022505,
          0.8146958468620578,
          0.744668978179154,
          0.8791622790328883,
          0.9116200578298481,
          0.8846740348233211,
          0.7308387073325004,
          0.868242692041024,
          0.9476034138217144,
          0.9138780934692172,
          0.8499095484160959,
          0.8406901504454825,
          0.7411202636652251,
          0.9714613362262466,
          0.9271091337276909,
          0.9616573125362495,
          0.9428998992872539,
          0.9392620781753408,
          0.9444138571763804,
          0.9557260106988043,
          0.9776498764862629,
          0.9507815678277338,
          0.9709696053274397,
          0.9288919048297742,
          0.9794636659805482,
          0.9273602942904507,
          0.9362072641133615,
          0.9104776684835424,
          0.9396282999858593,
          0.9001564901072727,
          0.9849148091178039,
          0.9475665424562436,
          0.9381150240394426,
          0.9481709301967317,
          0.9355625939697815,
          0.9443610443561959,
          0.9316010844698659,
          0.9104893376410716,
          0.8295884427707231,
          0.8952623369947348,
          0.9689632402714788,
          0.9548798237010605,
          0.9325133748447805,
          0.9431584902985408,
          0.9228192652099344,
          0.9638043042040803,
          0.9459354621646194,
          0.9670793182004385,
          0.9310033647230418,
          0.9572606396636495,
          0.9384104963298432,
          0.9575068189799848,
          0.8934508319021889,
          0.9456349473081602,
          0.9785994958181622,
          0.9750585966112103,
          0.918053922420659,
          0.9643163333252315,
          0.9463986767351437,
          0.9506537089399509,
          0.9675686067544413,
          0.9427290803492913,
          0.9771068966409429,
          0.9015645222186202,
          0.9035452905450314,
          0.9523159925149614,
          0.9761198942826577,
          0.9256512015138572,
          0.9283958801442578,
          0.9201136938877665,
          0.8409214520138234,
          0.9409565158778788,
          0.9205682261743269,
          0.9508215748333896,
          0.9453954018137686,
          0.9517525067424362,
          0.9601866400985083,
          0.9728575335285929,
          0.935481926389482,
          0.9948393239031832,
          0.9920070232515616,
          0.9877423987306784,
          0.9624012965446453,
          0.9918958062528282,
          0.9815694825814332,
          0.9524125582014212,
          0.9724461206107864,
          0.9794110388723898,
          0.9886050617522419,
          0.985379325865849,
          0.9897246002372585,
          0.9771980993945543,
          0.9547683867451816,
          0.9874338798038649,
          0.9850320526506605,
          0.9857215853719198,
          0.9753221908367642,
          0.9973402234201985,
          0.9894184851267943,
          0.9717226166488464,
          0.9685396858387942,
          0.9754468853719198,
          0.978297483100276,
          0.9885960498991118,
          0.9965203285503232,
          0.965852781704625,
          0.9505904781759575,
          0.9732402310782023,
          0.966925083680879,
          0.938294031506517,
          0.9783690658809931,
          0.9458969680545787,
          0.9851129028873112,
          0.9768411408557436,
          0.9569781973386936,
          0.9958249007195041,
          0.9717288663094513,
          0.9973683423953575,
          0.9556823400839521,
          0.9709338296994595,
          0.972334872456547,
          0.9882369781354672,
          0.9465178125566062,
          0.9428103273074366,
          0.9470893794536427,
          0.9426077254145613,
          0.9788227864335669,
          0.9512722211380453,
          0.9913801833509561,
          0.9985821267143169,
          0.9854896958915572,
          0.9875592057459757,
          0.9701271169687629,
          0.9900781623931639,
          0.9548726400330483,
          0.9814659447459786,
          0.9734701076674542,
          0.9845679399140577,
          0.9681960121455327,
          0.9255007284126996,
          0.974421060201849,
          0.9854425479206174,
          0.9846993882464283,
          0.9822268800550314,
          0.995628897776648,
          0.9728271944865726,
          0.9912679048745561,
          0.9734842902598544,
          0.9803426008564189,
          0.9821746219438245,
          0.9815007276559573,
          0.9715759337319207,
          0.9963743934905549,
          0.9671764188143427,
          0.9769187020634392,
          0.9841080412995402,
          0.9686266934212499,
          0.9706582342322024,
          0.9643159202211435,
          0.9868699036060308,
          0.9974216759506943,
          0.986926787206637,
          0.9954250388403938,
          0.9961434321263125,
          0.9940268708872273,
          0.9963398886797693,
          0.9864606907153279,
          0.9982482320852498,
          0.9961668449076121,
          0.9920656963468393,
          0.9898859538421813,
          0.9821282746136766,
          0.9933441372550655,
          0.9764064213292339,
          0.9988542525143304,
          0.9957708408613092,
          0.9965107885742339,
          0.9955764120493812,
          0.9987895132788159,
          0.9988219390707861,
          0.9664679851061531,
          0.9894017174594655,
          0.9995401312601259,
          0.9929354497831147,
          0.9628239512016785,
          0.9995401312601259,
          0.989090862692366,
          0.9883991082206997,
          0.9996526633991402,
          0.9720568638814939,
          0.9878807676108686,
          0.9946906973310097,
          0.9871061645042992,
          0.9962252611693841,
          0.9920416080238579,
          0.996142305687966,
          0.9932853494428454,
          0.9988321172354074,
          0.9955881438752506,
          0.9788588344649011,
          0.9784255034781628,
          0.9825069395541794,
          0.9937490029221262,
          0.987317271139271,
          0.9994979172122701,
          0.9973473132827062,
          0.9927312180873592,
          0.9983112558403487,
          0.9930848386591676,
          0.9835413408924426,
          0.9988113538690833,
          0.9829523806190954,
          0.991387354478094,
          0.9980465425252968,
          0.9861307170929599,
          0.9920356518832676,
          0.9979145739879437,
          0.9907936812936465,
          0.9975819397965753,
          0.9872468249850913,
          0.9982237838256395,
          0.972294217625613,
          0.9890593377790851,
          0.990115328051562,
          0.9869583117697832,
          0.9994979172122701,
          0.999228611910197,
          0.9996022820104647,
          0.9820362160821032,
          0.9963369891139877,
          0.9969456615443338,
          0.9996022820104647,
          0.9995401312601259,
          0.9834865850457036,
          0.9996022820104647,
          0.9991033946017406,
          0.9942515056642065,
          0.9942317468057585,
          0.9803426008564189,
          0.998376325579544,
          0.9983169412142361,
          0.9969278707232953,
          0.9969271827830124,
          0.9890234202918335,
          0.9996022820104647,
          0.9803426008564189,
          0.999294365164136,
          0.9942515056642065,
          0.9827222543389008,
          0.9918372780129449,
          0.9984549903473359,
          0.990213027674913,
          0.9968480245094788,
          0.9771910035816116,
          0.9996022820104647,
          0.9969624068064835,
          0.9915449818489407,
          0.9997399573482592,
          0.9991033946017406,
          0.9994979172122701,
          0.9994979172122701,
          0.9803426008564189,
          0.9975314733083431,
          0.997835172039203,
          0.9953746861966994,
          0.997835172039203,
          0.9951533447641877,
          0.9989936314525069,
          0.9964333329067255,
          0.9996022820104647,
          0.9996022820104647,
          0.9981400810530459,
          0.9996022820104647,
          0.9967152936252752,
          0.9919728992226988,
          0.9973409128649847,
          0.997835172039203,
          0.9988727228785624,
          0.9941394268906506,
          0.9996022820104647,
          0.9968558159042152,
          0.9915748841152625,
          0.9996022820104647,
          0.9938931695182088,
          0.9953746861966994
         ]
        }
       ],
       "layout": {
        "font": {
         "color": "rgb(0,0,0)",
         "family": "Baskerville, monospace",
         "size": 12
        },
        "template": {
         "data": {
          "bar": [
           {
            "error_x": {
             "color": "#2a3f5f"
            },
            "error_y": {
             "color": "#2a3f5f"
            },
            "marker": {
             "line": {
              "color": "#E5ECF6",
              "width": 0.5
             }
            },
            "type": "bar"
           }
          ],
          "barpolar": [
           {
            "marker": {
             "line": {
              "color": "#E5ECF6",
              "width": 0.5
             }
            },
            "type": "barpolar"
           }
          ],
          "carpet": [
           {
            "aaxis": {
             "endlinecolor": "#2a3f5f",
             "gridcolor": "white",
             "linecolor": "white",
             "minorgridcolor": "white",
             "startlinecolor": "#2a3f5f"
            },
            "baxis": {
             "endlinecolor": "#2a3f5f",
             "gridcolor": "white",
             "linecolor": "white",
             "minorgridcolor": "white",
             "startlinecolor": "#2a3f5f"
            },
            "type": "carpet"
           }
          ],
          "choropleth": [
           {
            "colorbar": {
             "outlinewidth": 0,
             "ticks": ""
            },
            "type": "choropleth"
           }
          ],
          "contour": [
           {
            "colorbar": {
             "outlinewidth": 0,
             "ticks": ""
            },
            "colorscale": [
             [
              0,
              "#0d0887"
             ],
             [
              0.1111111111111111,
              "#46039f"
             ],
             [
              0.2222222222222222,
              "#7201a8"
             ],
             [
              0.3333333333333333,
              "#9c179e"
             ],
             [
              0.4444444444444444,
              "#bd3786"
             ],
             [
              0.5555555555555556,
              "#d8576b"
             ],
             [
              0.6666666666666666,
              "#ed7953"
             ],
             [
              0.7777777777777778,
              "#fb9f3a"
             ],
             [
              0.8888888888888888,
              "#fdca26"
             ],
             [
              1,
              "#f0f921"
             ]
            ],
            "type": "contour"
           }
          ],
          "contourcarpet": [
           {
            "colorbar": {
             "outlinewidth": 0,
             "ticks": ""
            },
            "type": "contourcarpet"
           }
          ],
          "heatmap": [
           {
            "colorbar": {
             "outlinewidth": 0,
             "ticks": ""
            },
            "colorscale": [
             [
              0,
              "#0d0887"
             ],
             [
              0.1111111111111111,
              "#46039f"
             ],
             [
              0.2222222222222222,
              "#7201a8"
             ],
             [
              0.3333333333333333,
              "#9c179e"
             ],
             [
              0.4444444444444444,
              "#bd3786"
             ],
             [
              0.5555555555555556,
              "#d8576b"
             ],
             [
              0.6666666666666666,
              "#ed7953"
             ],
             [
              0.7777777777777778,
              "#fb9f3a"
             ],
             [
              0.8888888888888888,
              "#fdca26"
             ],
             [
              1,
              "#f0f921"
             ]
            ],
            "type": "heatmap"
           }
          ],
          "heatmapgl": [
           {
            "colorbar": {
             "outlinewidth": 0,
             "ticks": ""
            },
            "colorscale": [
             [
              0,
              "#0d0887"
             ],
             [
              0.1111111111111111,
              "#46039f"
             ],
             [
              0.2222222222222222,
              "#7201a8"
             ],
             [
              0.3333333333333333,
              "#9c179e"
             ],
             [
              0.4444444444444444,
              "#bd3786"
             ],
             [
              0.5555555555555556,
              "#d8576b"
             ],
             [
              0.6666666666666666,
              "#ed7953"
             ],
             [
              0.7777777777777778,
              "#fb9f3a"
             ],
             [
              0.8888888888888888,
              "#fdca26"
             ],
             [
              1,
              "#f0f921"
             ]
            ],
            "type": "heatmapgl"
           }
          ],
          "histogram": [
           {
            "marker": {
             "colorbar": {
              "outlinewidth": 0,
              "ticks": ""
             }
            },
            "type": "histogram"
           }
          ],
          "histogram2d": [
           {
            "colorbar": {
             "outlinewidth": 0,
             "ticks": ""
            },
            "colorscale": [
             [
              0,
              "#0d0887"
             ],
             [
              0.1111111111111111,
              "#46039f"
             ],
             [
              0.2222222222222222,
              "#7201a8"
             ],
             [
              0.3333333333333333,
              "#9c179e"
             ],
             [
              0.4444444444444444,
              "#bd3786"
             ],
             [
              0.5555555555555556,
              "#d8576b"
             ],
             [
              0.6666666666666666,
              "#ed7953"
             ],
             [
              0.7777777777777778,
              "#fb9f3a"
             ],
             [
              0.8888888888888888,
              "#fdca26"
             ],
             [
              1,
              "#f0f921"
             ]
            ],
            "type": "histogram2d"
           }
          ],
          "histogram2dcontour": [
           {
            "colorbar": {
             "outlinewidth": 0,
             "ticks": ""
            },
            "colorscale": [
             [
              0,
              "#0d0887"
             ],
             [
              0.1111111111111111,
              "#46039f"
             ],
             [
              0.2222222222222222,
              "#7201a8"
             ],
             [
              0.3333333333333333,
              "#9c179e"
             ],
             [
              0.4444444444444444,
              "#bd3786"
             ],
             [
              0.5555555555555556,
              "#d8576b"
             ],
             [
              0.6666666666666666,
              "#ed7953"
             ],
             [
              0.7777777777777778,
              "#fb9f3a"
             ],
             [
              0.8888888888888888,
              "#fdca26"
             ],
             [
              1,
              "#f0f921"
             ]
            ],
            "type": "histogram2dcontour"
           }
          ],
          "mesh3d": [
           {
            "colorbar": {
             "outlinewidth": 0,
             "ticks": ""
            },
            "type": "mesh3d"
           }
          ],
          "parcoords": [
           {
            "line": {
             "colorbar": {
              "outlinewidth": 0,
              "ticks": ""
             }
            },
            "type": "parcoords"
           }
          ],
          "pie": [
           {
            "automargin": true,
            "type": "pie"
           }
          ],
          "scatter": [
           {
            "marker": {
             "colorbar": {
              "outlinewidth": 0,
              "ticks": ""
             }
            },
            "type": "scatter"
           }
          ],
          "scatter3d": [
           {
            "line": {
             "colorbar": {
              "outlinewidth": 0,
              "ticks": ""
             }
            },
            "marker": {
             "colorbar": {
              "outlinewidth": 0,
              "ticks": ""
             }
            },
            "type": "scatter3d"
           }
          ],
          "scattercarpet": [
           {
            "marker": {
             "colorbar": {
              "outlinewidth": 0,
              "ticks": ""
             }
            },
            "type": "scattercarpet"
           }
          ],
          "scattergeo": [
           {
            "marker": {
             "colorbar": {
              "outlinewidth": 0,
              "ticks": ""
             }
            },
            "type": "scattergeo"
           }
          ],
          "scattergl": [
           {
            "marker": {
             "colorbar": {
              "outlinewidth": 0,
              "ticks": ""
             }
            },
            "type": "scattergl"
           }
          ],
          "scattermapbox": [
           {
            "marker": {
             "colorbar": {
              "outlinewidth": 0,
              "ticks": ""
             }
            },
            "type": "scattermapbox"
           }
          ],
          "scatterpolar": [
           {
            "marker": {
             "colorbar": {
              "outlinewidth": 0,
              "ticks": ""
             }
            },
            "type": "scatterpolar"
           }
          ],
          "scatterpolargl": [
           {
            "marker": {
             "colorbar": {
              "outlinewidth": 0,
              "ticks": ""
             }
            },
            "type": "scatterpolargl"
           }
          ],
          "scatterternary": [
           {
            "marker": {
             "colorbar": {
              "outlinewidth": 0,
              "ticks": ""
             }
            },
            "type": "scatterternary"
           }
          ],
          "surface": [
           {
            "colorbar": {
             "outlinewidth": 0,
             "ticks": ""
            },
            "colorscale": [
             [
              0,
              "#0d0887"
             ],
             [
              0.1111111111111111,
              "#46039f"
             ],
             [
              0.2222222222222222,
              "#7201a8"
             ],
             [
              0.3333333333333333,
              "#9c179e"
             ],
             [
              0.4444444444444444,
              "#bd3786"
             ],
             [
              0.5555555555555556,
              "#d8576b"
             ],
             [
              0.6666666666666666,
              "#ed7953"
             ],
             [
              0.7777777777777778,
              "#fb9f3a"
             ],
             [
              0.8888888888888888,
              "#fdca26"
             ],
             [
              1,
              "#f0f921"
             ]
            ],
            "type": "surface"
           }
          ],
          "table": [
           {
            "cells": {
             "fill": {
              "color": "#EBF0F8"
             },
             "line": {
              "color": "white"
             }
            },
            "header": {
             "fill": {
              "color": "#C8D4E3"
             },
             "line": {
              "color": "white"
             }
            },
            "type": "table"
           }
          ]
         },
         "layout": {
          "annotationdefaults": {
           "arrowcolor": "#2a3f5f",
           "arrowhead": 0,
           "arrowwidth": 1
          },
          "coloraxis": {
           "colorbar": {
            "outlinewidth": 0,
            "ticks": ""
           }
          },
          "colorscale": {
           "diverging": [
            [
             0,
             "#8e0152"
            ],
            [
             0.1,
             "#c51b7d"
            ],
            [
             0.2,
             "#de77ae"
            ],
            [
             0.3,
             "#f1b6da"
            ],
            [
             0.4,
             "#fde0ef"
            ],
            [
             0.5,
             "#f7f7f7"
            ],
            [
             0.6,
             "#e6f5d0"
            ],
            [
             0.7,
             "#b8e186"
            ],
            [
             0.8,
             "#7fbc41"
            ],
            [
             0.9,
             "#4d9221"
            ],
            [
             1,
             "#276419"
            ]
           ],
           "sequential": [
            [
             0,
             "#0d0887"
            ],
            [
             0.1111111111111111,
             "#46039f"
            ],
            [
             0.2222222222222222,
             "#7201a8"
            ],
            [
             0.3333333333333333,
             "#9c179e"
            ],
            [
             0.4444444444444444,
             "#bd3786"
            ],
            [
             0.5555555555555556,
             "#d8576b"
            ],
            [
             0.6666666666666666,
             "#ed7953"
            ],
            [
             0.7777777777777778,
             "#fb9f3a"
            ],
            [
             0.8888888888888888,
             "#fdca26"
            ],
            [
             1,
             "#f0f921"
            ]
           ],
           "sequentialminus": [
            [
             0,
             "#0d0887"
            ],
            [
             0.1111111111111111,
             "#46039f"
            ],
            [
             0.2222222222222222,
             "#7201a8"
            ],
            [
             0.3333333333333333,
             "#9c179e"
            ],
            [
             0.4444444444444444,
             "#bd3786"
            ],
            [
             0.5555555555555556,
             "#d8576b"
            ],
            [
             0.6666666666666666,
             "#ed7953"
            ],
            [
             0.7777777777777778,
             "#fb9f3a"
            ],
            [
             0.8888888888888888,
             "#fdca26"
            ],
            [
             1,
             "#f0f921"
            ]
           ]
          },
          "colorway": [
           "#636efa",
           "#EF553B",
           "#00cc96",
           "#ab63fa",
           "#FFA15A",
           "#19d3f3",
           "#FF6692",
           "#B6E880",
           "#FF97FF",
           "#FECB52"
          ],
          "font": {
           "color": "#2a3f5f"
          },
          "geo": {
           "bgcolor": "white",
           "lakecolor": "white",
           "landcolor": "#E5ECF6",
           "showlakes": true,
           "showland": true,
           "subunitcolor": "white"
          },
          "hoverlabel": {
           "align": "left"
          },
          "hovermode": "closest",
          "mapbox": {
           "style": "light"
          },
          "paper_bgcolor": "white",
          "plot_bgcolor": "#E5ECF6",
          "polar": {
           "angularaxis": {
            "gridcolor": "white",
            "linecolor": "white",
            "ticks": ""
           },
           "bgcolor": "#E5ECF6",
           "radialaxis": {
            "gridcolor": "white",
            "linecolor": "white",
            "ticks": ""
           }
          },
          "scene": {
           "xaxis": {
            "backgroundcolor": "#E5ECF6",
            "gridcolor": "white",
            "gridwidth": 2,
            "linecolor": "white",
            "showbackground": true,
            "ticks": "",
            "zerolinecolor": "white"
           },
           "yaxis": {
            "backgroundcolor": "#E5ECF6",
            "gridcolor": "white",
            "gridwidth": 2,
            "linecolor": "white",
            "showbackground": true,
            "ticks": "",
            "zerolinecolor": "white"
           },
           "zaxis": {
            "backgroundcolor": "#E5ECF6",
            "gridcolor": "white",
            "gridwidth": 2,
            "linecolor": "white",
            "showbackground": true,
            "ticks": "",
            "zerolinecolor": "white"
           }
          },
          "shapedefaults": {
           "line": {
            "color": "#2a3f5f"
           }
          },
          "ternary": {
           "aaxis": {
            "gridcolor": "white",
            "linecolor": "white",
            "ticks": ""
           },
           "baxis": {
            "gridcolor": "white",
            "linecolor": "white",
            "ticks": ""
           },
           "bgcolor": "#E5ECF6",
           "caxis": {
            "gridcolor": "white",
            "linecolor": "white",
            "ticks": ""
           }
          },
          "title": {
           "x": 0.05
          },
          "xaxis": {
           "automargin": true,
           "gridcolor": "white",
           "linecolor": "white",
           "ticks": "",
           "title": {
            "standoff": 15
           },
           "zerolinecolor": "white",
           "zerolinewidth": 2
          },
          "yaxis": {
           "automargin": true,
           "gridcolor": "white",
           "linecolor": "white",
           "ticks": "",
           "title": {
            "standoff": 15
           },
           "zerolinecolor": "white",
           "zerolinewidth": 2
          }
         }
        },
        "title": {
         "font": {
          "color": "rgb(0,0,0)",
          "family": "Big Caslon, monospace",
          "size": 20
         },
         "text": "Frequency—Dispersion Chart",
         "x": 0.5,
         "xanchor": "center",
         "y": 0.95,
         "yanchor": "top"
        },
        "xaxis": {
         "title": {
          "text": "Frequency Proportion"
         }
        },
        "yaxis": {
         "title": {
          "text": "Dispersion Value"
         }
        }
       }
      },
      "text/html": [
       "<div>\n",
       "        \n",
       "        \n",
       "            <div id=\"f4472588-9d90-44a5-889b-401aabf63e96\" class=\"plotly-graph-div\" style=\"height:525px; width:100%;\"></div>\n",
       "            <script type=\"text/javascript\">\n",
       "                require([\"plotly\"], function(Plotly) {\n",
       "                    window.PLOTLYENV=window.PLOTLYENV || {};\n",
       "                    \n",
       "                if (document.getElementById(\"f4472588-9d90-44a5-889b-401aabf63e96\")) {\n",
       "                    Plotly.newPlot(\n",
       "                        'f4472588-9d90-44a5-889b-401aabf63e96',\n",
       "                        [{\"mode\": \"markers+text\", \"text\": [\"[0]\", \"[0 1]\", \"[0 2]\", \"[0 3]\", \"[0 4]\", \"[0 5]\", \"[0 6]\", \"[0 1 2]\", \"[0 1 3]\", \"[0 1 4]\", \"[0 1 5]\", \"[0 1 6]\", \"[0 2 3]\", \"[0 2 4]\", \"[0 2 5]\", \"[0 2 6]\", \"[0 2 7]\", \"[0 3 4]\", \"[0 3 5]\", \"[0 3 6]\", \"[0 3 7]\", \"[0 4 5]\", \"[0 4 6]\", \"[0 4 7]\", \"[0 4 8]\", \"[0 5 6]\", \"[0 1 2 3]\", \"[0 1 2 4]\", \"[0 1 2 5]\", \"[0 1 2 6]\", \"[0 1 2 7]\", \"[0 1 3 4]\", \"[0 1 3 5]\", \"[0 1 3 6]\", \"[0 1 3 7]\", \"[0 1 4 5]\", \"[0 1 4 6]\", \"[0 1 4 7]\", \"[0 1 4 8]\", \"[0 1 5 6]\", \"[0 1 5 7]\", \"[0 1 5 8]\", \"[0 1 6 7]\", \"[0 2 3 4]\", \"[0 2 3 5]\", \"[0 2 3 6]\", \"[0 2 3 7]\", \"[0 2 4 5]\", \"[0 2 4 6]\", \"[0 2 4 7]\", \"[0 2 4 8]\", \"[0 2 5 6]\", \"[0 2 5 7]\", \"[0 2 5 8]\", \"[0 2 6 7]\", \"[0 2 6 8]\", \"[0 3 4 5]\", \"[0 3 4 6]\", \"[0 3 4 7]\", \"[0 3 5 6]\", \"[0 3 5 7]\", \"[0 3 5 8]\", \"[0 3 6 7]\", \"[0 3 6 8]\", \"[0 3 6 9]\", \"[0 4 5 6]\", \"[0 4 5 7]\", \"[0 4 6 7]\", \"[0 4 7 8]\", \"[0 1 2 3 4]\", \"[0 1 2 3 5]\", \"[0 1 2 3 6]\", \"[0 1 2 3 7]\", \"[0 1 2 4 5]\", \"[0 1 2 4 6]\", \"[0 1 2 4 7]\", \"[0 1 2 4 8]\", \"[0 1 2 5 6]\", \"[0 1 2 5 7]\", \"[0 1 2 5 8]\", \"[0 1 2 6 7]\", \"[0 1 2 6 8]\", \"[0 1 3 4 5]\", \"[0 1 3 4 6]\", \"[0 1 3 4 7]\", \"[0 1 3 4 8]\", \"[0 1 3 5 6]\", \"[0 1 3 5 7]\", \"[0 1 3 5 8]\", \"[0 1 3 6 7]\", \"[0 1 3 6 8]\", \"[0 1 3 6 9]\", \"[0 1 3 7 8]\", \"[0 1 4 5 6]\", \"[0 1 4 5 7]\", \"[0 1 4 5 8]\", \"[0 1 4 6 7]\", \"[0 1 4 6 8]\", \"[0 1 4 6 9]\", \"[0 1 4 7 8]\", \"[0 1 5 6 7]\", \"[0 1 5 7 8]\", \"[0 2 3 4 5]\", \"[0 2 3 4 6]\", \"[0 2 3 4 7]\", \"[0 2 3 5 6]\", \"[0 2 3 5 7]\", \"[0 2 3 5 8]\", \"[0 2 3 6 7]\", \"[0 2 3 6 8]\", \"[0 2 4 5 6]\", \"[0 2 4 5 7]\", \"[0 2 4 5 8]\", \"[0 2 4 6 7]\", \"[0 2 4 6 8]\", \"[0 2 4 6 9]\", \"[0 2 4 7 8]\", \"[0 2 4 7 9]\", \"[0 2 5 6 7]\", \"[0 2 5 6 8]\", \"[0 2 5 7 8]\", \"[0 3 4 5 6]\", \"[0 3 4 5 7]\", \"[0 3 4 5 8]\", \"[0 3 4 6 7]\", \"[0 3 4 6 8]\", \"[0 3 4 7 8]\", \"[0 3 5 6 7]\", \"[0 3 5 6 8]\", \"[0 3 5 7 8]\", \"[0 3 5 8 9]\", \"[0 3 6 7 8]\", \"[0 3 6 8 9]\", \"[0 4 5 6 7]\", \"[0 4 6 7 8]\", \"[0 1 2 3 4 5]\", \"[0 1 2 3 4 6]\", \"[0 1 2 3 4 7]\", \"[0 1 2 3 4 8]\", \"[0 1 2 3 5 6]\", \"[0 1 2 3 5 7]\", \"[0 1 2 3 5 8]\", \"[0 1 2 3 6 7]\", \"[0 1 2 3 6 8]\", \"[0 1 2 3 6 9]\", \"[0 1 2 3 7 8]\", \"[0 1 2 4 5 6]\", \"[0 1 2 4 5 7]\", \"[0 1 2 4 5 8]\", \"[0 1 2 4 6 7]\", \"[0 1 2 4 6 8]\", \"[0 1 2 4 6 9]\", \"[0 1 2 4 7 8]\", \"[0 1 2 4 7 9]\", \"[0 1 2 5 6 7]\", \"[0 1 2 5 6 8]\", \"[0 1 2 5 6 9]\", \"[0 1 2 5 7 8]\", \"[0 1 2 5 7 9]\", \"[0 1 2 6 7 8]\", \"[0 1 3 4 5 6]\", \"[0 1 3 4 5 7]\", \"[0 1 3 4 5 8]\", \"[0 1 3 4 6 7]\", \"[0 1 3 4 6 8]\", \"[0 1 3 4 6 9]\", \"[0 1 3 4 7 8]\", \"[0 1 3 4 7 9]\", \"[0 1 3 5 6 7]\", \"[0 1 3 5 6 8]\", \"[0 1 3 5 6 9]\", \"[0 1 3 5 7 8]\", \"[0 1 3 5 7 9]\", \"[0 1 3 5 8 9]\", \"[0 1 3 6 7 8]\", \"[0 1 3 6 7 9]\", \"[0 1 3 6 8 9]\", \"[0 1 4 5 6 7]\", \"[0 1 4 5 6 8]\", \"[0 1 4 5 7 8]\", \"[0 1 4 5 8 9]\", \"[0 1 4 6 7 8]\", \"[0 1 4 6 7 9]\", \"[0 1 4 6 8 9]\", \"[0 2 3 4 5 6]\", \"[0 2 3 4 5 7]\", \"[0 2 3 4 5 8]\", \"[0 2 3 4 6 7]\", \"[0 2 3 4 6 8]\", \"[0 2 3 4 6 9]\", \"[0 2 3 4 7 8]\", \"[0 2 3 5 6 7]\", \"[0 2 3 5 6 8]\", \"[0 2 3 5 7 8]\", \"[0 2 3 5 7 9]\", \"[0 2 3 6 7 8]\", \"[0 2 3 6 8 9]\", \"[0 2 4 5 6 7]\", \"[0 2 4 5 6 8]\", \"[0 2 4 5 7 8]\", \"[0 2 4 5 7 9]\", \"[0 2 4 6 7 8]\", \"[0 2 4 6 7 9]\", \"[0 2 4 6 8 9]\", \"[0 2 4 6 8 10]\", \"[0 2 5 6 7 8]\", \"[0 2 5 7 8 9]\", \"[0 3 4 5 6 7]\", \"[0 3 4 5 6 8]\", \"[0 3 4 5 7 8]\", \"[0 3 4 6 7 8]\", \"[0 3 4 7 8 9]\", \"[0 3 5 6 7 8]\", \"[0 3 5 6 8 9]\", \"[0 3 5 7 8 9]\", \"[0 1 2 3 4 5 6]\", \"[0 1 2 3 4 5 7]\", \"[0 1 2 3 4 5 8]\", \"[0 1 2 3 4 6 7]\", \"[0 1 2 3 4 6 8]\", \"[0 1 2 3 4 6 9]\", \"[0 1 2 3 4 7 8]\", \"[0 1 2 3 4 7 9]\", \"[0 1 2 3 5 6 7]\", \"[0 1 2 3 5 6 8]\", \"[0 1 2 3 5 6 9]\", \"[0 1 2 3 5 7 8]\", \"[0 1 2 3 5 7 9]\", \"[0 1 2 3 5 8 9]\", \"[0 1 2 3 6 7 8]\", \"[0 1 2 3 6 7 9]\", \"[0 1 2 4 5 6 7]\", \"[0 1 2 4 5 6 8]\", \"[0 1 2 4 5 6 9]\", \"[0 1 2 4 5 7 8]\", \"[0 1 2 4 5 7 9]\", \"[0 1 2 4 5 8 9]\", \"[0 1 2 4 6 7 8]\", \"[0 1 2 4 6 7 9]\", \"[0 1 2 4 6 8 9]\", \"[0 1 2 4 6 8 10]\", \"[0 1 2 4 7 8 9]\", \"[0 1 2 5 6 7 8]\", \"[0 1 2 5 6 8 9]\", \"[0 1 2 5 7 8 9]\", \"[0 1 3 4 5 6 7]\", \"[0 1 3 4 5 6 8]\", \"[0 1 3 4 5 7 8]\", \"[0 1 3 4 5 7 9]\", \"[0 1 3 4 6 7 8]\", \"[0 1 3 4 6 7 9]\", \"[0 1 3 4 6 8 9]\", \"[0 1 3 4 6 8 10]\", \"[0 1 3 5 6 7 8]\", \"[0 1 3 5 6 7 9]\", \"[0 1 3 5 6 8 9]\", \"[0 1 3 5 6 8 10]\", \"[0 1 3 5 7 8 9]\", \"[0 1 4 5 6 7 8]\", \"[0 1 4 5 7 8 9]\", \"[0 1 4 6 7 8 9]\", \"[0 2 3 4 5 6 7]\", \"[0 2 3 4 5 6 8]\", \"[0 2 3 4 5 7 8]\", \"[0 2 3 4 5 7 9]\", \"[0 2 3 4 6 7 8]\", \"[0 2 3 4 6 7 9]\", \"[0 2 3 4 6 8 9]\", \"[0 2 3 5 6 7 8]\", \"[0 2 3 5 6 7 9]\", \"[0 2 3 5 6 8 9]\", \"[0 2 3 5 7 8 9]\", \"[0 2 3 6 7 8 9]\", \"[0 2 4 5 6 7 8]\", \"[0 2 4 5 6 7 9]\", \"[0 2 4 5 6 8 9]\", \"[0 2 4 5 7 8 9]\", \"[0 2 4 6 7 8 9]\", \"[0 3 4 5 6 7 8]\", \"[0 3 4 6 7 8 9]\", \"[0 3 5 6 7 8 9]\", \"[0 1 2 3 4 5 6 7]\", \"[0 1 2 3 4 5 6 8]\", \"[0 1 2 3 4 5 6 9]\", \"[0 1 2 3 4 5 7 8]\", \"[0 1 2 3 4 5 8 9]\", \"[0 1 2 3 4 6 8 9]\", \"[0 1 2 3 4 6 8 10]\", \"[0 1 2 3 4 7 8 9]\", \"[0 1 2 3 5 6 7 8]\", \"[0 1 2 3 5 6 7 9]\", \"[0 1 2 3 5 6 8 9]\", \"[0 1 2 3 5 6 8 10]\", \"[0 1 2 3 5 7 8 9]\", \"[0 1 2 3 5 7 8 10]\", \"[0 1 2 3 6 7 8 9]\", \"[0 1 2 4 5 6 7 8]\", \"[0 1 2 4 5 6 7 9]\", \"[0 1 2 4 5 6 8 9]\", \"[0 1 2 4 5 6 8 10]\", \"[0 1 2 4 5 7 8 9]\", \"[0 1 2 4 5 7 8 10]\", \"[0 1 2 4 5 7 9 10]\", \"[0 1 2 4 6 7 8 9]\", \"[0 1 2 4 6 7 8 10]\", \"[0 1 3 4 5 6 7 8]\", \"[0 1 3 4 5 6 8 9]\", \"[0 1 3 4 5 7 8 9]\", \"[0 1 3 4 6 7 8 9]\", \"[0 1 3 5 6 7 8 9]\", \"[0 2 3 4 5 6 7 8]\", \"[0 2 3 4 5 6 7 9]\", \"[0 2 3 4 5 6 8 9]\", \"[0 2 3 4 5 7 8 9]\", \"[0 2 3 4 6 7 8 9]\", \"[0 2 3 5 6 7 8 9]\", \"[0 2 3 5 6 8 9 10]\", \"[0 2 4 5 6 7 8 9]\", \"[0 2 4 5 7 8 9 10]\", \"[0 1 2 3 4 5 6 7 9]\", \"[0 1 2 3 4 5 6 8 9]\", \"[0 1 2 3 4 5 6 8 10]\", \"[0 1 2 3 4 5 7 8 9]\", \"[0 1 2 3 4 5 7 8 10]\", \"[0 1 2 3 4 6 7 8 9]\", \"[0 1 2 3 4 6 7 8 10]\", \"[0 1 2 3 4 6 7 9 10]\", \"[0 1 2 3 5 6 7 8 9]\", \"[0 1 2 3 5 6 7 8 10]\", \"[0 1 2 4 5 6 7 8 9]\", \"[0 1 2 4 5 6 8 9 10]\", \"[0 1 3 4 5 6 7 8 9]\", \"[0 2 3 4 5 6 7 8 9]\", \"[0 2 3 4 6 7 8 9 10]\", \"[0 1 2 3 4 5 6 7 8 9]\", \"[0 1 2 3 4 5 6 7 8 10]\", \"[0 1 2 3 4 5 6 7 9 10]\", \"[0 1 2 3 4 5 6 8 9 10]\", \"[0 1 2 3 4 5 7 8 9 10]\", \"[0 1 2 3 4 5 6 7 8 9 10]\", \"[0 1 2 3 4 5 6 7 8 9 10 11]\"], \"textfont\": {\"size\": 14}, \"textposition\": \"bottom center\", \"type\": \"scatter\", \"x\": [0.26840186626247464, 0.06366513777557199, 0.02915241744357314, 0.03616211094627927, 0.03495853491720611, 0.03801670345126206, 0.016807880248943634, 0.013918164232468378, 0.007953600841574216, 0.015219581598332399, 0.010056032840819691, 0.014252505347839619, 0.00792773969885489, 0.0049883289979139695, 0.005417235746613009, 0.005928174626203407, 0.00618438609118734, 0.015960093591446727, 0.007011062734985109, 0.009007147717214283, 0.009680170093601703, 0.011894778686048138, 0.006417059749783054, 0.008207601813185755, 0.0041109228353817745, 0.018167498553451886, 0.002695269481600819, 0.0037750472405496836, 0.004021477096425273, 0.0028933037218810916, 0.0034428674097574086, 0.004822695510096066, 0.0031045116972678944, 0.0019349034187989124, 0.00281189149541854, 0.01069104995061167, 0.0050809534589912045, 0.005852978713465733, 0.005701503545741689, 0.007262367274654642, 0.0048334480300901905, 0.0036494615155000464, 0.0032041320351868826, 0.0018975332115150497, 0.0036148183970945266, 0.003811767226724194, 0.0026873073297947665, 0.002257427835252379, 0.001490376227227755, 0.0022787119278397535, 0.0023520044324387367, 0.006089300284236672, 0.002192345753078649, 0.0027725160495923862, 0.0029773089961404216, 0.0014259611130109876, 0.0038699114301577906, 0.004040019976852729, 0.005647912339951067, 0.00270339181225891, 0.0012548743518427136, 0.0029756882324675172, 0.005583116762581037, 0.003342468671130002, 0.0005332019244360226, 0.005352371955918227, 0.0026523464751938503, 0.0032249742598925353, 0.0046175412853226, 0.0017883370096845434, 0.0011086288718208702, 0.0006145248781596882, 0.000703158253537709, 0.0032423401344679847, 0.0007219785114889143, 0.0009076366147174157, 0.0013062223523854421, 0.0017672493969723764, 0.0008286094665962246, 0.0014699642418213134, 0.002743165971393861, 0.0011925426394379258, 0.0019220852331339436, 0.0015899119450741893, 0.0015906523659113294, 0.0015025734150562505, 0.001745913627900797, 0.0008027117987008106, 0.0005540653569243613, 0.0014832673054708452, 0.0003865838845366339, 0.0008855674567055141, 0.0007410732944256786, 0.001575886058171392, 0.0026584120478806727, 0.002662544071790758, 0.0012055814200825409, 0.0009983003573416892, 0.0023992850563209303, 0.002595460313153809, 0.0033860552766976706, 0.002629472879976165, 0.001114609094633378, 0.001687914603797166, 0.0007152075306157456, 0.0007249899336128408, 0.0013712020457950676, 0.0002889774642628246, 0.0018452717062398029, 0.0008268481647816097, 0.0012093452892308087, 0.0015249832516760348, 0.0009064315522026328, 0.0008567895281513436, 0.0011061119585562295, 0.000738403001106099, 0.002074146468257453, 0.0004541998353515837, 0.0010950604838654194, 0.0017415144666873134, 0.00119056847012035, 0.0016602547319309337, 0.0004949575006323586, 0.0014663562758345462, 0.0029103187721462977, 0.0017610733933580078, 0.0027411683568114398, 0.001958944144962753, 0.0009979903104002299, 0.000599934176500541, 0.0019788433406405267, 0.0015329023144661552, 0.001013234309226472, 0.0005778421701698657, 0.0014435311260716168, 0.0010144130007447112, 0.00023670216165900211, 0.00027112249573748887, 0.00030492655516191634, 0.001665246164907732, 0.0007235983393368502, 0.0002606068741781098, 0.0005680571517709223, 0.0002123700932623365, 0.0010360919219071882, 0.0012888617947143, 0.00042334442241603854, 0.0003752398206270021, 0.0006780695846517164, 0.0006209551930671451, 0.0003112372052380611, 0.0001097948396121425, 0.001743281747266706, 0.0006023695081177161, 0.000581711078381086, 0.0010206643261242443, 0.00044108205198773245, 0.0003045899143605445, 0.0003072216769798441, 0.00029110286178180467, 0.00071960265475261, 0.0011916290546567382, 0.0003148475274694725, 0.0016881417046032425, 0.0010797273514368624, 0.0005226000349572546, 0.003062389505153807, 0.0009156752511213285, 0.00057103884412165, 0.00037477972933155923, 0.0003740871408396895, 0.00010277072149440814, 0.0002989704397130252, 0.0013135411845864777, 0.0002521353441136585, 0.00021141988289892207, 0.0003037096888553621, 0.0012608227677162295, 0.0004125014243352922, 0.0010292038243718904, 0.0006863757981906233, 0.0006431033162719151, 0.0004961111114718143, 0.00048347948323242736, 0.00016611770337417433, 6.622220820981094e-05, 0.000328610288036141, 0.0010400417202903573, 0.0005063555352472611, 0.00020648922585827254, 0.0008904202590665708, 0.0006819348830456026, 0.00048153019475089605, 0.0004544018033164842, 0.0003869604195825389, 0.0008599195662669118, 0.0003691246245878248, 0.00034217487891485365, 0.000283912050844017, 0.0007390986554291025, 0.00022045453383660784, 0.0001174547249614946, 0.0006386307328017444, 0.00037691537691146706, 5.25515053045004e-05, 0.0002496659678707756, 0.00018281067646359618, 0.0007704158713398434, 0.0001593794330294571, 0.0006103810522776588, 0.0011477468774681433, 0.00044284224996173955, 0.0005917318562133285, 0.0004997075970985834, 0.00017305603886307407, 0.0003619360485146326, 0.00018457060809432885, 0.00036721031748570215, 9.343197007691217e-05, 0.00040351177556177984, 0.0003506807768955651, 0.0004275296399542505, 0.0002144702147696464, 0.00038051302373489634, 0.0009910391655550616, 0.0008124606393196756, 6.148562460930752e-05, 2.5074666422569416e-05, 0.001265340395071317, 0.00015351749615998567, 0.00010479882751243523, 9.275218043772221e-05, 0.0018878384537136116, 0.00012991475160935775, 0.00011696786150413761, 0.00010855105444896263, 0.0005592738807733581, 0.00036335411714475085, 4.054574573762853e-05, 0.00020362336476200402, 0.0001861138887400026, 4.054574573762853e-05, 0.00015786588371125208, 0.00015624581201923167, 0.00036232034087097735, 0.000591367351847316, 0.0002515189470922004, 0.000539043319332889, 0.0006006233257640549, 0.000617188954010733, 4.783922711721285e-05, 0.0009244255756339557, 0.00013445431097753102, 0.00010637710366380871, 0.00030885223083978753, 3.417672533425066e-05, 2.0939545889339944e-05, 0.00010364001720063933, 0.00015277283991125848, 0.0003603439194499071, 0.00014032724313098172, 0.0005223890325335253, 0.0001276696057091373, 0.0001950095867890446, 6.998635887667477e-05, 0.0001526614204055957, 0.0002111492074783494, 0.00023100577297774738, 0.0001977429866551215, 0.00037914180010456934, 0.0005344909943741945, 0.00017830789787294426, 6.87607573995861e-05, 7.114199499657693e-05, 0.00013355511023398916, 0.00014895298097074115, 0.00012793717301688742, 4.5462003964721915e-05, 0.0003695974548485551, 0.00019268210663646058, 0.00021139557181527286, 0.0001122617945047854, 0.0007058240238448927, 2.199010445299621e-05, 3.445231400083176e-05, 0.0004588123937171115, 0.00010783040787959661, 3.298515667949432e-05, 2.0272872868814264e-05, 1.1503578044155888e-05, 0.00010995052226498107, 4.5064103687495494e-05, 5.9075997298695855e-05, 6.759385829222995e-05, 4.2072857804330854e-06, 0.00023638074810129379, 0.00010149149129473232, 3.528426432856291e-05, 0.00047479882257726684, 0.0002727345853667201, 2.199010445299621e-05, 1.0756017560411537e-06, 7.710521327623294e-05, 5.9075997298695855e-05, 2.6795267686438208e-05, 6.033818303282578e-05, 6.322604275879835e-05, 0.00032994849009405463, 0.0002514721577485489, 2.0369624607792386e-05, 4.398020890599242e-05, 0.00025025057503672086, 3.0567798698694456e-05, 3.495933064534932e-05, 1.502136789583183e-05, 8.419634587858903e-05, 2.806544862619635e-05, 1.9242032970401766e-06, 0.00010087939312698594, 1.3294159875566707e-05, 0.0007948742653434836, 5.317663950226683e-05, 5.478305770934129e-05, 0.00012248251727582833, 0.00019963984220103514, 2.199010445299621e-05, 4.398020890599242e-05, 6.857198925772395e-05, 2.199010445299621e-05, 0.00011336735686049118, 3.06779705943948e-05, 0.00022255824536549784, 3.988247962670013e-05, 8.304070975868689e-05, 0.0007960633407501669, 3.298515667949432e-05, 0.0003795837888832319, 0.0010788176986893483, 2.199010445299621e-05, 0.002593690199099033, 0.00014452259369881522], \"y\": [0.205033855709285, 0.40183402698667237, 0.4171699989646639, 0.3812172012337287, 0.33278383838666525, 0.45407728789418456, 0.4214979679868285, 0.7074137845192916, 0.6230748342136507, 0.535503946574647, 0.5404813633576597, 0.617760821648677, 0.6064883446019822, 0.7526801202838405, 0.6623679647887457, 0.7232394663641114, 0.7104301541470488, 0.5617577470840427, 0.6116949959266437, 0.7151461707197364, 0.743479059492898, 0.5178511414652864, 0.5904383540239719, 0.6898020670610145, 0.806701132968835, 0.6662346527710001, 0.9098847900521051, 0.9501762587936016, 0.8737933045351566, 0.7987655430558549, 0.8652797605823858, 0.8088711571782554, 0.8114693896991019, 0.8583397817126218, 0.8480850817152965, 0.7512468749090155, 0.6535396482431228, 0.7889319520683392, 0.7973771067539313, 0.7298110989048286, 0.8378816993989973, 0.7761008259746217, 0.9100819931275391, 0.8584560455614999, 0.9142655179426159, 0.800813819567594, 0.850042376429757, 0.9218715387046206, 0.8534718408899467, 0.9421409626322712, 0.8869121241094533, 0.9589440355760636, 0.922199712217422, 0.8916503800029904, 0.8296582812415741, 0.9131992646346282, 0.8804592731022505, 0.8146958468620578, 0.744668978179154, 0.8791622790328883, 0.9116200578298481, 0.8846740348233211, 0.7308387073325004, 0.868242692041024, 0.9476034138217144, 0.9138780934692172, 0.8499095484160959, 0.8406901504454825, 0.7411202636652251, 0.9714613362262466, 0.9271091337276909, 0.9616573125362495, 0.9428998992872539, 0.9392620781753408, 0.9444138571763804, 0.9557260106988043, 0.9776498764862629, 0.9507815678277338, 0.9709696053274397, 0.9288919048297742, 0.9794636659805482, 0.9273602942904507, 0.9362072641133615, 0.9104776684835424, 0.9396282999858593, 0.9001564901072727, 0.9849148091178039, 0.9475665424562436, 0.9381150240394426, 0.9481709301967317, 0.9355625939697815, 0.9443610443561959, 0.9316010844698659, 0.9104893376410716, 0.8295884427707231, 0.8952623369947348, 0.9689632402714788, 0.9548798237010605, 0.9325133748447805, 0.9431584902985408, 0.9228192652099344, 0.9638043042040803, 0.9459354621646194, 0.9670793182004385, 0.9310033647230418, 0.9572606396636495, 0.9384104963298432, 0.9575068189799848, 0.8934508319021889, 0.9456349473081602, 0.9785994958181622, 0.9750585966112103, 0.918053922420659, 0.9643163333252315, 0.9463986767351437, 0.9506537089399509, 0.9675686067544413, 0.9427290803492913, 0.9771068966409429, 0.9015645222186202, 0.9035452905450314, 0.9523159925149614, 0.9761198942826577, 0.9256512015138572, 0.9283958801442578, 0.9201136938877665, 0.8409214520138234, 0.9409565158778788, 0.9205682261743269, 0.9508215748333896, 0.9453954018137686, 0.9517525067424362, 0.9601866400985083, 0.9728575335285929, 0.935481926389482, 0.9948393239031832, 0.9920070232515616, 0.9877423987306784, 0.9624012965446453, 0.9918958062528282, 0.9815694825814332, 0.9524125582014212, 0.9724461206107864, 0.9794110388723898, 0.9886050617522419, 0.985379325865849, 0.9897246002372585, 0.9771980993945543, 0.9547683867451816, 0.9874338798038649, 0.9850320526506605, 0.9857215853719198, 0.9753221908367642, 0.9973402234201985, 0.9894184851267943, 0.9717226166488464, 0.9685396858387942, 0.9754468853719198, 0.978297483100276, 0.9885960498991118, 0.9965203285503232, 0.965852781704625, 0.9505904781759575, 0.9732402310782023, 0.966925083680879, 0.938294031506517, 0.9783690658809931, 0.9458969680545787, 0.9851129028873112, 0.9768411408557436, 0.9569781973386936, 0.9958249007195041, 0.9717288663094513, 0.9973683423953575, 0.9556823400839521, 0.9709338296994595, 0.972334872456547, 0.9882369781354672, 0.9465178125566062, 0.9428103273074366, 0.9470893794536427, 0.9426077254145613, 0.9788227864335669, 0.9512722211380453, 0.9913801833509561, 0.9985821267143169, 0.9854896958915572, 0.9875592057459757, 0.9701271169687629, 0.9900781623931639, 0.9548726400330483, 0.9814659447459786, 0.9734701076674542, 0.9845679399140577, 0.9681960121455327, 0.9255007284126996, 0.974421060201849, 0.9854425479206174, 0.9846993882464283, 0.9822268800550314, 0.995628897776648, 0.9728271944865726, 0.9912679048745561, 0.9734842902598544, 0.9803426008564189, 0.9821746219438245, 0.9815007276559573, 0.9715759337319207, 0.9963743934905549, 0.9671764188143427, 0.9769187020634392, 0.9841080412995402, 0.9686266934212499, 0.9706582342322024, 0.9643159202211435, 0.9868699036060308, 0.9974216759506943, 0.986926787206637, 0.9954250388403938, 0.9961434321263125, 0.9940268708872273, 0.9963398886797693, 0.9864606907153279, 0.9982482320852498, 0.9961668449076121, 0.9920656963468393, 0.9898859538421813, 0.9821282746136766, 0.9933441372550655, 0.9764064213292339, 0.9988542525143304, 0.9957708408613092, 0.9965107885742339, 0.9955764120493812, 0.9987895132788159, 0.9988219390707861, 0.9664679851061531, 0.9894017174594655, 0.9995401312601259, 0.9929354497831147, 0.9628239512016785, 0.9995401312601259, 0.989090862692366, 0.9883991082206997, 0.9996526633991402, 0.9720568638814939, 0.9878807676108686, 0.9946906973310097, 0.9871061645042992, 0.9962252611693841, 0.9920416080238579, 0.996142305687966, 0.9932853494428454, 0.9988321172354074, 0.9955881438752506, 0.9788588344649011, 0.9784255034781628, 0.9825069395541794, 0.9937490029221262, 0.987317271139271, 0.9994979172122701, 0.9973473132827062, 0.9927312180873592, 0.9983112558403487, 0.9930848386591676, 0.9835413408924426, 0.9988113538690833, 0.9829523806190954, 0.991387354478094, 0.9980465425252968, 0.9861307170929599, 0.9920356518832676, 0.9979145739879437, 0.9907936812936465, 0.9975819397965753, 0.9872468249850913, 0.9982237838256395, 0.972294217625613, 0.9890593377790851, 0.990115328051562, 0.9869583117697832, 0.9994979172122701, 0.999228611910197, 0.9996022820104647, 0.9820362160821032, 0.9963369891139877, 0.9969456615443338, 0.9996022820104647, 0.9995401312601259, 0.9834865850457036, 0.9996022820104647, 0.9991033946017406, 0.9942515056642065, 0.9942317468057585, 0.9803426008564189, 0.998376325579544, 0.9983169412142361, 0.9969278707232953, 0.9969271827830124, 0.9890234202918335, 0.9996022820104647, 0.9803426008564189, 0.999294365164136, 0.9942515056642065, 0.9827222543389008, 0.9918372780129449, 0.9984549903473359, 0.990213027674913, 0.9968480245094788, 0.9771910035816116, 0.9996022820104647, 0.9969624068064835, 0.9915449818489407, 0.9997399573482592, 0.9991033946017406, 0.9994979172122701, 0.9994979172122701, 0.9803426008564189, 0.9975314733083431, 0.997835172039203, 0.9953746861966994, 0.997835172039203, 0.9951533447641877, 0.9989936314525069, 0.9964333329067255, 0.9996022820104647, 0.9996022820104647, 0.9981400810530459, 0.9996022820104647, 0.9967152936252752, 0.9919728992226988, 0.9973409128649847, 0.997835172039203, 0.9988727228785624, 0.9941394268906506, 0.9996022820104647, 0.9968558159042152, 0.9915748841152625, 0.9996022820104647, 0.9938931695182088, 0.9953746861966994]}],\n",
       "                        {\"font\": {\"color\": \"rgb(0,0,0)\", \"family\": \"Baskerville, monospace\", \"size\": 12}, \"template\": {\"data\": {\"bar\": [{\"error_x\": {\"color\": \"#2a3f5f\"}, \"error_y\": {\"color\": \"#2a3f5f\"}, \"marker\": {\"line\": {\"color\": \"#E5ECF6\", \"width\": 0.5}}, \"type\": \"bar\"}], \"barpolar\": [{\"marker\": {\"line\": {\"color\": \"#E5ECF6\", \"width\": 0.5}}, \"type\": \"barpolar\"}], \"carpet\": [{\"aaxis\": {\"endlinecolor\": \"#2a3f5f\", \"gridcolor\": \"white\", \"linecolor\": \"white\", \"minorgridcolor\": \"white\", \"startlinecolor\": \"#2a3f5f\"}, \"baxis\": {\"endlinecolor\": \"#2a3f5f\", \"gridcolor\": \"white\", \"linecolor\": \"white\", \"minorgridcolor\": \"white\", \"startlinecolor\": \"#2a3f5f\"}, \"type\": \"carpet\"}], \"choropleth\": [{\"colorbar\": {\"outlinewidth\": 0, \"ticks\": \"\"}, \"type\": \"choropleth\"}], \"contour\": [{\"colorbar\": {\"outlinewidth\": 0, \"ticks\": \"\"}, \"colorscale\": [[0.0, \"#0d0887\"], [0.1111111111111111, \"#46039f\"], [0.2222222222222222, \"#7201a8\"], [0.3333333333333333, \"#9c179e\"], [0.4444444444444444, \"#bd3786\"], [0.5555555555555556, \"#d8576b\"], [0.6666666666666666, \"#ed7953\"], [0.7777777777777778, \"#fb9f3a\"], [0.8888888888888888, \"#fdca26\"], [1.0, \"#f0f921\"]], \"type\": \"contour\"}], \"contourcarpet\": [{\"colorbar\": {\"outlinewidth\": 0, \"ticks\": \"\"}, \"type\": \"contourcarpet\"}], \"heatmap\": [{\"colorbar\": {\"outlinewidth\": 0, \"ticks\": \"\"}, \"colorscale\": [[0.0, \"#0d0887\"], [0.1111111111111111, \"#46039f\"], [0.2222222222222222, \"#7201a8\"], [0.3333333333333333, \"#9c179e\"], [0.4444444444444444, \"#bd3786\"], [0.5555555555555556, \"#d8576b\"], [0.6666666666666666, \"#ed7953\"], [0.7777777777777778, \"#fb9f3a\"], [0.8888888888888888, \"#fdca26\"], [1.0, \"#f0f921\"]], \"type\": \"heatmap\"}], \"heatmapgl\": [{\"colorbar\": {\"outlinewidth\": 0, \"ticks\": \"\"}, \"colorscale\": [[0.0, \"#0d0887\"], [0.1111111111111111, \"#46039f\"], [0.2222222222222222, \"#7201a8\"], [0.3333333333333333, \"#9c179e\"], [0.4444444444444444, \"#bd3786\"], [0.5555555555555556, \"#d8576b\"], [0.6666666666666666, \"#ed7953\"], [0.7777777777777778, \"#fb9f3a\"], [0.8888888888888888, \"#fdca26\"], [1.0, \"#f0f921\"]], \"type\": \"heatmapgl\"}], \"histogram\": [{\"marker\": {\"colorbar\": {\"outlinewidth\": 0, \"ticks\": \"\"}}, \"type\": \"histogram\"}], \"histogram2d\": [{\"colorbar\": {\"outlinewidth\": 0, \"ticks\": \"\"}, \"colorscale\": [[0.0, \"#0d0887\"], [0.1111111111111111, \"#46039f\"], [0.2222222222222222, \"#7201a8\"], [0.3333333333333333, \"#9c179e\"], [0.4444444444444444, \"#bd3786\"], [0.5555555555555556, \"#d8576b\"], [0.6666666666666666, \"#ed7953\"], [0.7777777777777778, \"#fb9f3a\"], [0.8888888888888888, \"#fdca26\"], [1.0, \"#f0f921\"]], \"type\": \"histogram2d\"}], \"histogram2dcontour\": [{\"colorbar\": {\"outlinewidth\": 0, \"ticks\": \"\"}, \"colorscale\": [[0.0, \"#0d0887\"], [0.1111111111111111, \"#46039f\"], [0.2222222222222222, \"#7201a8\"], [0.3333333333333333, \"#9c179e\"], [0.4444444444444444, \"#bd3786\"], [0.5555555555555556, \"#d8576b\"], [0.6666666666666666, \"#ed7953\"], [0.7777777777777778, \"#fb9f3a\"], [0.8888888888888888, \"#fdca26\"], [1.0, \"#f0f921\"]], \"type\": \"histogram2dcontour\"}], \"mesh3d\": [{\"colorbar\": {\"outlinewidth\": 0, \"ticks\": \"\"}, \"type\": \"mesh3d\"}], \"parcoords\": [{\"line\": {\"colorbar\": {\"outlinewidth\": 0, \"ticks\": \"\"}}, \"type\": \"parcoords\"}], \"pie\": [{\"automargin\": true, \"type\": \"pie\"}], \"scatter\": [{\"marker\": {\"colorbar\": {\"outlinewidth\": 0, \"ticks\": \"\"}}, \"type\": \"scatter\"}], \"scatter3d\": [{\"line\": {\"colorbar\": {\"outlinewidth\": 0, \"ticks\": \"\"}}, \"marker\": {\"colorbar\": {\"outlinewidth\": 0, \"ticks\": \"\"}}, \"type\": \"scatter3d\"}], \"scattercarpet\": [{\"marker\": {\"colorbar\": {\"outlinewidth\": 0, \"ticks\": \"\"}}, \"type\": \"scattercarpet\"}], \"scattergeo\": [{\"marker\": {\"colorbar\": {\"outlinewidth\": 0, \"ticks\": \"\"}}, \"type\": \"scattergeo\"}], \"scattergl\": [{\"marker\": {\"colorbar\": {\"outlinewidth\": 0, \"ticks\": \"\"}}, \"type\": \"scattergl\"}], \"scattermapbox\": [{\"marker\": {\"colorbar\": {\"outlinewidth\": 0, \"ticks\": \"\"}}, \"type\": \"scattermapbox\"}], \"scatterpolar\": [{\"marker\": {\"colorbar\": {\"outlinewidth\": 0, \"ticks\": \"\"}}, \"type\": \"scatterpolar\"}], \"scatterpolargl\": [{\"marker\": {\"colorbar\": {\"outlinewidth\": 0, \"ticks\": \"\"}}, \"type\": \"scatterpolargl\"}], \"scatterternary\": [{\"marker\": {\"colorbar\": {\"outlinewidth\": 0, \"ticks\": \"\"}}, \"type\": \"scatterternary\"}], \"surface\": [{\"colorbar\": {\"outlinewidth\": 0, \"ticks\": \"\"}, \"colorscale\": [[0.0, \"#0d0887\"], [0.1111111111111111, \"#46039f\"], [0.2222222222222222, \"#7201a8\"], [0.3333333333333333, \"#9c179e\"], [0.4444444444444444, \"#bd3786\"], [0.5555555555555556, \"#d8576b\"], [0.6666666666666666, \"#ed7953\"], [0.7777777777777778, \"#fb9f3a\"], [0.8888888888888888, \"#fdca26\"], [1.0, \"#f0f921\"]], \"type\": \"surface\"}], \"table\": [{\"cells\": {\"fill\": {\"color\": \"#EBF0F8\"}, \"line\": {\"color\": \"white\"}}, \"header\": {\"fill\": {\"color\": \"#C8D4E3\"}, \"line\": {\"color\": \"white\"}}, \"type\": \"table\"}]}, \"layout\": {\"annotationdefaults\": {\"arrowcolor\": \"#2a3f5f\", \"arrowhead\": 0, \"arrowwidth\": 1}, \"coloraxis\": {\"colorbar\": {\"outlinewidth\": 0, \"ticks\": \"\"}}, \"colorscale\": {\"diverging\": [[0, \"#8e0152\"], [0.1, \"#c51b7d\"], [0.2, \"#de77ae\"], [0.3, \"#f1b6da\"], [0.4, \"#fde0ef\"], [0.5, \"#f7f7f7\"], [0.6, \"#e6f5d0\"], [0.7, \"#b8e186\"], [0.8, \"#7fbc41\"], [0.9, \"#4d9221\"], [1, \"#276419\"]], \"sequential\": [[0.0, \"#0d0887\"], [0.1111111111111111, \"#46039f\"], [0.2222222222222222, \"#7201a8\"], [0.3333333333333333, \"#9c179e\"], [0.4444444444444444, \"#bd3786\"], [0.5555555555555556, \"#d8576b\"], [0.6666666666666666, \"#ed7953\"], [0.7777777777777778, \"#fb9f3a\"], [0.8888888888888888, \"#fdca26\"], [1.0, \"#f0f921\"]], \"sequentialminus\": [[0.0, \"#0d0887\"], [0.1111111111111111, \"#46039f\"], [0.2222222222222222, \"#7201a8\"], [0.3333333333333333, \"#9c179e\"], [0.4444444444444444, \"#bd3786\"], [0.5555555555555556, \"#d8576b\"], [0.6666666666666666, \"#ed7953\"], [0.7777777777777778, \"#fb9f3a\"], [0.8888888888888888, \"#fdca26\"], [1.0, \"#f0f921\"]]}, \"colorway\": [\"#636efa\", \"#EF553B\", \"#00cc96\", \"#ab63fa\", \"#FFA15A\", \"#19d3f3\", \"#FF6692\", \"#B6E880\", \"#FF97FF\", \"#FECB52\"], \"font\": {\"color\": \"#2a3f5f\"}, \"geo\": {\"bgcolor\": \"white\", \"lakecolor\": \"white\", \"landcolor\": \"#E5ECF6\", \"showlakes\": true, \"showland\": true, \"subunitcolor\": \"white\"}, \"hoverlabel\": {\"align\": \"left\"}, \"hovermode\": \"closest\", \"mapbox\": {\"style\": \"light\"}, \"paper_bgcolor\": \"white\", \"plot_bgcolor\": \"#E5ECF6\", \"polar\": {\"angularaxis\": {\"gridcolor\": \"white\", \"linecolor\": \"white\", \"ticks\": \"\"}, \"bgcolor\": \"#E5ECF6\", \"radialaxis\": {\"gridcolor\": \"white\", \"linecolor\": \"white\", \"ticks\": \"\"}}, \"scene\": {\"xaxis\": {\"backgroundcolor\": \"#E5ECF6\", \"gridcolor\": \"white\", \"gridwidth\": 2, \"linecolor\": \"white\", \"showbackground\": true, \"ticks\": \"\", \"zerolinecolor\": \"white\"}, \"yaxis\": {\"backgroundcolor\": \"#E5ECF6\", \"gridcolor\": \"white\", \"gridwidth\": 2, \"linecolor\": \"white\", \"showbackground\": true, \"ticks\": \"\", \"zerolinecolor\": \"white\"}, \"zaxis\": {\"backgroundcolor\": \"#E5ECF6\", \"gridcolor\": \"white\", \"gridwidth\": 2, \"linecolor\": \"white\", \"showbackground\": true, \"ticks\": \"\", \"zerolinecolor\": \"white\"}}, \"shapedefaults\": {\"line\": {\"color\": \"#2a3f5f\"}}, \"ternary\": {\"aaxis\": {\"gridcolor\": \"white\", \"linecolor\": \"white\", \"ticks\": \"\"}, \"baxis\": {\"gridcolor\": \"white\", \"linecolor\": \"white\", \"ticks\": \"\"}, \"bgcolor\": \"#E5ECF6\", \"caxis\": {\"gridcolor\": \"white\", \"linecolor\": \"white\", \"ticks\": \"\"}}, \"title\": {\"x\": 0.05}, \"xaxis\": {\"automargin\": true, \"gridcolor\": \"white\", \"linecolor\": \"white\", \"ticks\": \"\", \"title\": {\"standoff\": 15}, \"zerolinecolor\": \"white\", \"zerolinewidth\": 2}, \"yaxis\": {\"automargin\": true, \"gridcolor\": \"white\", \"linecolor\": \"white\", \"ticks\": \"\", \"title\": {\"standoff\": 15}, \"zerolinecolor\": \"white\", \"zerolinewidth\": 2}}}, \"title\": {\"font\": {\"color\": \"rgb(0,0,0)\", \"family\": \"Big Caslon, monospace\", \"size\": 20}, \"text\": \"Frequency\\u2014Dispersion Chart\", \"x\": 0.5, \"xanchor\": \"center\", \"y\": 0.95, \"yanchor\": \"top\"}, \"xaxis\": {\"title\": {\"text\": \"Frequency Proportion\"}}, \"yaxis\": {\"title\": {\"text\": \"Dispersion Value\"}}},\n",
       "                        {\"responsive\": true}\n",
       "                    ).then(function(){\n",
       "                            \n",
       "var gd = document.getElementById('f4472588-9d90-44a5-889b-401aabf63e96');\n",
       "var x = new MutationObserver(function (mutations, observer) {{\n",
       "        var display = window.getComputedStyle(gd).display;\n",
       "        if (!display || display === 'none') {{\n",
       "            console.log([gd, 'removed!']);\n",
       "            Plotly.purge(gd);\n",
       "            observer.disconnect();\n",
       "        }}\n",
       "}});\n",
       "\n",
       "// Listen for the removal of the full notebook cells\n",
       "var notebookContainer = gd.closest('#notebook-container');\n",
       "if (notebookContainer) {{\n",
       "    x.observe(notebookContainer, {childList: true});\n",
       "}}\n",
       "\n",
       "// Listen for the clearing of the current output cell\n",
       "var outputEl = gd.closest('.output');\n",
       "if (outputEl) {{\n",
       "    x.observe(outputEl, {childList: true});\n",
       "}}\n",
       "\n",
       "                        })\n",
       "                };\n",
       "                });\n",
       "            </script>\n",
       "        </div>"
      ]
     },
     "metadata": {},
     "output_type": "display_data"
    },
    {
     "data": {
      "image/png": "[encoded data removed]",
      "text/plain": [
       "<IPython.core.display.Image object>"
      ]
     },
     "execution_count": 8,
     "metadata": {},
     "output_type": "execute_result"
    }
   ],
   "source": [
    "## plots DKL against frequency\n",
    "\n",
    "fig = go.Figure()\n",
    "fig.add_trace(go.Scatter(x = proportions_data2['Total'], y = proportions_data2['DKL Value'], mode='markers+text', text=proportions_data2.index.values, textposition=\"bottom center\", textfont_size=14))\n",
    "fig.update_layout(xaxis=(dict(title={'text': 'Frequency Proportion'})))\n",
    "fig.update_layout(yaxis=(dict(title={'text': 'Dispersion Value'})))\n",
    "fig.update_layout(title={'text': 'Frequency—Dispersion Chart', 'font':dict(family=\"Big Caslon, monospace\", size=20, color='rgb(0,0,0)'), 'y':0.95, 'x':0.5, 'xanchor': 'center', 'yanchor': 'top'})\n",
    "fig.update_layout(font=dict(family=\"Baskerville, monospace\", size=12, color='rgb(0,0,0)'))\n",
    "img_bytes = fig.to_image(format='png', scale=1)\n",
    "fig.show()\n",
    "Image(img_bytes)"
   ]
  }
 ],
 "metadata": {
  "kernelspec": {
   "display_name": "Python 3",
   "language": "python",
   "name": "python3"
  },
  "language_info": {
   "codemirror_mode": {
    "name": "ipython",
    "version": 3
   },
   "file_extension": ".py",
   "mimetype": "text/x-python",
   "name": "python",
   "nbconvert_exporter": "python",
   "pygments_lexer": "ipython3",
   "version": "3.7.4"
  }
 },
 "nbformat": 4,
 "nbformat_minor": 2
}

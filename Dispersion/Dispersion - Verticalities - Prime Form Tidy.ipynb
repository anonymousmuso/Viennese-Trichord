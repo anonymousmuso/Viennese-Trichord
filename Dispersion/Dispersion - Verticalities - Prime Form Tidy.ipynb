{
 "cells": [
  {
   "cell_type": "markdown",
   "metadata": {},
   "source": [
    "# Introduction\n",
    "This uses keyword analysis (as in Gries, 'A new approach to (key) keywords analysis') to look for key verticalities in the corpus."
   ]
  },
  {
   "cell_type": "markdown",
   "metadata": {},
   "source": [
    "### Imports\n",
    "Import libraries and write settings here."
   ]
  },
  {
   "cell_type": "code",
   "execution_count": 1,
   "metadata": {},
   "outputs": [
    {
     "data": {
      "text/html": [
       "        <script type=\"text/javascript\">\n",
       "        window.PlotlyConfig = {MathJaxConfig: 'local'};\n",
       "        if (window.MathJax) {MathJax.Hub.Config({SVG: {font: \"STIX-Web\"}});}\n",
       "        if (typeof require !== 'undefined') {\n",
       "        require.undef(\"plotly\");\n",
       "        requirejs.config({\n",
       "            paths: {\n",
       "                'plotly': ['https://cdn.plot.ly/plotly-latest.min']\n",
       "            }\n",
       "        });\n",
       "        require(['plotly'], function(Plotly) {\n",
       "            window._Plotly = Plotly;\n",
       "        });\n",
       "        }\n",
       "        </script>\n",
       "        "
      ]
     },
     "metadata": {},
     "output_type": "display_data"
    },
    {
     "data": {
      "text/html": [
       "        <script type=\"text/javascript\">\n",
       "        window.PlotlyConfig = {MathJaxConfig: 'local'};\n",
       "        if (window.MathJax) {MathJax.Hub.Config({SVG: {font: \"STIX-Web\"}});}\n",
       "        if (typeof require !== 'undefined') {\n",
       "        require.undef(\"plotly\");\n",
       "        requirejs.config({\n",
       "            paths: {\n",
       "                'plotly': ['https://cdn.plot.ly/plotly-latest.min']\n",
       "            }\n",
       "        });\n",
       "        require(['plotly'], function(Plotly) {\n",
       "            window._Plotly = Plotly;\n",
       "        });\n",
       "        }\n",
       "        </script>\n",
       "        "
      ]
     },
     "metadata": {},
     "output_type": "display_data"
    }
   ],
   "source": [
    "from music21 import *\n",
    "import os\n",
    "import csv\n",
    "import itertools as it\n",
    "from collections import Counter\n",
    "import pandas as pd\n",
    "import chart_studio.plotly as py\n",
    "import plotly.graph_objects as go\n",
    "from plotly.offline import iplot, init_notebook_mode\n",
    "import cufflinks\n",
    "cufflinks.go_offline(connected=True)\n",
    "init_notebook_mode(connected=True)\n",
    "from IPython.display import Image\n",
    "import math"
   ]
  },
  {
   "cell_type": "code",
   "execution_count": 2,
   "metadata": {},
   "outputs": [
    {
     "name": "stderr",
     "output_type": "stream",
     "text": [
      "/opt/anaconda3/lib/python3.7/site-packages/music21/corpus/corpora.py: WARNING: DPhilCorpus metadata cache: starting processing of paths: 107\n",
      "/opt/anaconda3/lib/python3.7/site-packages/music21/corpus/corpora.py: WARNING: cache: filename: /var/folders/cr/p20lv70n2wbf2w8jfmxbh69w0000gp/T/music21/local-DPhilCorpus.p.gz\n",
      "bundles.py: WARNING: MetadataBundle Modification Time: 1608739421.2281358\n",
      "bundles.py: WARNING: Skipped 107 sources already in cache.\n",
      "/opt/anaconda3/lib/python3.7/site-packages/music21/corpus/corpora.py: WARNING: cache: writing time: 0.141 md items: 107\n",
      "\n",
      "/opt/anaconda3/lib/python3.7/site-packages/music21/corpus/corpora.py: WARNING: cache: filename: /var/folders/cr/p20lv70n2wbf2w8jfmxbh69w0000gp/T/music21/local-DPhilCorpus.p.gz\n"
     ]
    },
    {
     "data": {
      "text/plain": [
       "True"
      ]
     },
     "execution_count": 2,
     "metadata": {},
     "output_type": "execute_result"
    }
   ],
   "source": [
    "## loads corpus\n",
    "\n",
    "properCorpus = corpus.corpora.LocalCorpus('DPhilCorpus')\n",
    "properCorpus.existsInSettings\n",
    "\n",
    "properCorpus.addPath('~/Desktop/Oxford/Corpus/Sounding Corpus (Movements)/XML/')\n",
    "properCorpus.directoryPaths\n",
    "\n",
    "properCorpus.save()\n",
    "properCorpus.existsInSettings"
   ]
  },
  {
   "cell_type": "code",
   "execution_count": 3,
   "metadata": {},
   "outputs": [],
   "source": [
    "## organises corpus\n",
    "\n",
    "pieceName = []\n",
    "\n",
    "listOfWorks = properCorpus.search('Op.')\n",
    "for el in listOfWorks:\n",
    "    pieceName.append(el.sourcePath)"
   ]
  },
  {
   "cell_type": "markdown",
   "metadata": {},
   "source": [
    "# Data Collection\n",
    "Counts total durations of each verticality (normal order) but does not convert this into proportions for each movement."
   ]
  },
  {
   "cell_type": "code",
   "execution_count": 4,
   "metadata": {},
   "outputs": [],
   "source": [
    "## counts total durations\n",
    "\n",
    "listOfAllVerticalities = []\n",
    "listOfTotalResults = []\n",
    "for el in pieceName:\n",
    "    thePiece = corpus.parse(el)\n",
    "    fileTitle = str(el).replace(\"/Users/joshua ballance/Desktop/Oxford/Corpus/Sounding Corpus (Movements)/XML/\", \"\").replace(\".xml\", \"\").replace(\".mxl\", \"\")\n",
    "    opusNumber = fileTitle.replace(\"Op.\", \"\").replace(\" \", \"\").replace(\"i\", \"\").replace(\"v\", \"\")\n",
    "    movementNumber = fileTitle.replace(\"Op.\", \"\").replace(\" \", \"\").replace(\"1\", \"\").replace(\"2\", \"\").replace(\"3\", \"\").replace(\"4\", \"\").replace(\"5\", \"\").replace(\"6\", \"\").replace(\"7\", \"\").replace(\"8\", \"\").replace(\"9\", \"\").replace(\"0\", \"\")\n",
    "    chordifiedPiece = thePiece.chordify()\n",
    "    chords = chordifiedPiece.flat.recurse().getElementsByClass('Chord')\n",
    "    listOfNO = []\n",
    "    listOfDurations = []\n",
    "    listOfNOAndDuration = []\n",
    "    for el in chords:\n",
    "        temp = []\n",
    "        transposedNormalOrder = []\n",
    "        for i in el.primeForm:\n",
    "            transposedNormalOrder.append(i)\n",
    "        temp.append(transposedNormalOrder)\n",
    "        temp.append(el.seconds)\n",
    "        listOfNO.append(str(transposedNormalOrder))\n",
    "        listOfDurations.append(el.seconds)\n",
    "        listOfNOAndDuration.append(temp)\n",
    "        listOfAllVerticalities.append(transposedNormalOrder)\n",
    "    summarisedListOfNO = list(dict.fromkeys(listOfNO))\n",
    "    summarisedListOfNOAndDuration = []\n",
    "    for el in summarisedListOfNO:\n",
    "        temp = []\n",
    "        for i in listOfNOAndDuration:\n",
    "            if el == str(i[0]):\n",
    "                temp.append(i[1])\n",
    "        newTemp = []\n",
    "        newTemp.append(el)\n",
    "        newTemp.append(sum(temp))\n",
    "        summarisedListOfNOAndDuration.append(newTemp)\n",
    "    temp = []\n",
    "    temp.append(fileTitle)\n",
    "    temp.append(opusNumber)\n",
    "    temp.append(sum(listOfDurations))\n",
    "    temp.append(summarisedListOfNOAndDuration)\n",
    "    listOfTotalResults.append(temp)"
   ]
  },
  {
   "cell_type": "code",
   "execution_count": 5,
   "metadata": {},
   "outputs": [],
   "source": [
    "## organises data and writes to CSV\n",
    "\n",
    "newListOfAllVerticalities = []\n",
    "for el in listOfAllVerticalities:\n",
    "    if el in newListOfAllVerticalities:\n",
    "        pass\n",
    "    else:\n",
    "        newListOfAllVerticalities.append(el)\n",
    "\n",
    "newNewListOfAllVerticalities = sorted(newListOfAllVerticalities, key=len) \n",
    "\n",
    "newNewListOfAllVerticalities.sort(key=lambda x: x)\n",
    "newNewListOfAllVerticalities = sorted(newNewListOfAllVerticalities, key=len)\n",
    "\n",
    "finalListForCSV = []\n",
    "firstLine = ['Title', 'Duration']\n",
    "for el in newNewListOfAllVerticalities:\n",
    "    firstLine.append(str(el).replace(\",\", \"\"))\n",
    "finalListForCSV.append(firstLine)\n",
    "\n",
    "listOfTotalResults.sort(key=lambda x: int(x[1]))\n",
    "for el in listOfTotalResults:\n",
    "    newLine = []\n",
    "    newLine.append(el[0])\n",
    "    newLine.append(el[2])\n",
    "    tempListOfNO = []\n",
    "    for j in el[3]:\n",
    "        tempListOfNO.append(j[0])\n",
    "    for i in newNewListOfAllVerticalities:\n",
    "        if str(i) in tempListOfNO:\n",
    "            for j in el[3]:\n",
    "                if j[0] == str(i):\n",
    "                    newLine.append(j[1])\n",
    "        else:\n",
    "            newLine.append(0)\n",
    "    finalListForCSV.append(newLine)\n",
    "\n",
    "csvOut=open(\"/Users/joshua ballance/Desktop/verticalities_pf_absolute_values.csv\", \"w\") #open csv file, n.b. this is overwriting the file\n",
    "titleWriter = csv.writer(csvOut, delimiter=',', quotechar='|')\n",
    "csvOut.close()\n",
    "\n",
    "for el in finalListForCSV:\n",
    "    csvOut=open(\"/Users/joshua ballance/Desktop/verticalities_pf_absolute_values.csv\", \"a\") #open csv file, n.b. this is appending the file\n",
    "    barlineWriter = csv.writer(csvOut, delimiter=',', quotechar='|')\n",
    "    barlineWriter.writerow(el)\n",
    "    csvOut.close()"
   ]
  },
  {
   "cell_type": "code",
   "execution_count": 6,
   "metadata": {},
   "outputs": [],
   "source": [
    "## loads data\n",
    "\n",
    "data2 = pd.read_csv('/Users/joshua ballance/Desktop/verticalities_pf_absolute_values.csv', index_col=0)\n",
    "proportions_data2 = pd.read_csv('/Users/joshua ballance/Desktop/verticalitiespf.csv', index_col=0)"
   ]
  },
  {
   "cell_type": "markdown",
   "metadata": {},
   "source": [
    "# DKL Analysis"
   ]
  },
  {
   "cell_type": "code",
   "execution_count": 7,
   "metadata": {},
   "outputs": [],
   "source": [
    "## calculates DKL values by using proportions data weighted by total number of trigrams in each movement to facilitate inter-movement comparison\n",
    "\n",
    "DKL_values = []\n",
    "corpus_duration = sum(data2.iloc[:, 0:1].values.flat)\n",
    "for i in range(1,len(data2.columns)):\n",
    "    list_of_plog_values = []\n",
    "    summed_verticality_durations = sum(data2.iloc[:, i:i+1].values.flat)\n",
    "    for j in range(0, len(data2.index)):\n",
    "        movement_duration = float(data2.iloc[j:j+1, 0:1].values)\n",
    "        verticality_duration = float(data2.iloc[j:j+1, i:i+1].values)\n",
    "        verticality_proportion = verticality_duration/summed_verticality_durations\n",
    "        movement_proportion = movement_duration/corpus_duration\n",
    "        if verticality_proportion == 0:\n",
    "            list_of_plog_values.append(0)\n",
    "        else:\n",
    "            plog2pq_value = verticality_proportion*(math.log2(verticality_proportion/movement_proportion))\n",
    "            list_of_plog_values.append(plog2pq_value)\n",
    "    verticality_plog_value = sum(list_of_plog_values)\n",
    "    DKL_value = 1-(math.exp(-verticality_plog_value))\n",
    "    DKL_values.append(DKL_value)     \n",
    "    \n",
    "totals = []\n",
    "for k in range(0, len(proportions_data2.columns)):\n",
    "    summed_proportion = sum(proportions_data2.iloc[:, k:k+1].values.flat)\n",
    "    totals.append(summed_proportion)\n",
    "total_proportions = []\n",
    "for j in totals:\n",
    "    new_total = j/sum(totals)\n",
    "    total_proportions.append(new_total)\n",
    "    \n",
    "proportions_data2 = proportions_data2.transpose()\n",
    "proportions_data2['Total'] = total_proportions\n",
    "proportions_data2['DKL Value'] = DKL_values"
   ]
  },
  {
   "cell_type": "code",
   "execution_count": 8,
   "metadata": {},
   "outputs": [
    {
     "data": {
      "application/vnd.plotly.v1+json": {
       "config": {
        "plotlyServerURL": "https://plot.ly"
       },
       "data": [
        {
         "mode": "markers+text",
         "text": [
          "[0]",
          "[0 1]",
          "[0 2]",
          "[0 3]",
          "[0 4]",
          "[0 5]",
          "[0 6]",
          "[0 1 2]",
          "[0 1 3]",
          "[0 1 4]",
          "[0 1 5]",
          "[0 1 6]",
          "[0 2 4]",
          "[0 2 5]",
          "[0 2 6]",
          "[0 2 7]",
          "[0 3 6]",
          "[0 3 7]",
          "[0 4 8]",
          "[0 1 2 3]",
          "[0 1 2 4]",
          "[0 1 2 5]",
          "[0 1 2 6]",
          "[0 1 2 7]",
          "[0 1 3 4]",
          "[0 1 3 5]",
          "[0 1 3 6]",
          "[0 1 3 7]",
          "[0 1 4 5]",
          "[0 1 4 6]",
          "[0 1 4 7]",
          "[0 1 4 8]",
          "[0 1 5 6]",
          "[0 1 5 7]",
          "[0 1 5 8]",
          "[0 1 6 7]",
          "[0 2 3 5]",
          "[0 2 3 6]",
          "[0 2 3 7]",
          "[0 2 4 6]",
          "[0 2 4 7]",
          "[0 2 4 8]",
          "[0 2 5 7]",
          "[0 2 5 8]",
          "[0 2 6 8]",
          "[0 3 4 7]",
          "[0 3 5 8]",
          "[0 3 6 9]",
          "[0 1 2 3 4]",
          "[0 1 2 3 5]",
          "[0 1 2 3 6]",
          "[0 1 2 3 7]",
          "[0 1 2 4 5]",
          "[0 1 2 4 6]",
          "[0 1 2 4 7]",
          "[0 1 2 4 8]",
          "[0 1 2 5 6]",
          "[0 1 2 5 7]",
          "[0 1 2 5 8]",
          "[0 1 2 6 7]",
          "[0 1 2 6 8]",
          "[0 1 3 4 6]",
          "[0 1 3 4 7]",
          "[0 1 3 4 8]",
          "[0 1 3 5 6]",
          "[0 1 3 5 7]",
          "[0 1 3 5 8]",
          "[0 1 3 6 7]",
          "[0 1 3 6 8]",
          "[0 1 3 6 9]",
          "[0 1 3 7 8]",
          "[0 1 4 5 7]",
          "[0 1 4 5 8]",
          "[0 1 4 6 8]",
          "[0 1 4 6 9]",
          "[0 1 4 7 8]",
          "[0 2 3 4 6]",
          "[0 2 3 4 7]",
          "[0 2 3 5 7]",
          "[0 2 3 5 8]",
          "[0 2 3 6 8]",
          "[0 2 4 5 8]",
          "[0 2 4 6 8]",
          "[0 2 4 6 9]",
          "[0 2 4 7 9]",
          "[0 3 4 5 8]",
          "[0 1 2 3 4 5]",
          "[0 1 2 3 4 6]",
          "[0 1 2 3 4 7]",
          "[0 1 2 3 4 8]",
          "[0 1 2 3 5 6]",
          "[0 1 2 3 5 7]",
          "[0 1 2 3 5 8]",
          "[0 1 2 3 6 7]",
          "[0 1 2 3 6 8]",
          "[0 1 2 3 6 9]",
          "[0 1 2 3 7 8]",
          "[0 1 2 4 5 6]",
          "[0 1 2 4 5 7]",
          "[0 1 2 4 5 8]",
          "[0 1 2 4 6 7]",
          "[0 1 2 4 6 8]",
          "[0 1 2 4 6 9]",
          "[0 1 2 4 7 8]",
          "[0 1 2 4 7 9]",
          "[0 1 2 5 6 7]",
          "[0 1 2 5 6 8]",
          "[0 1 2 5 6 9]",
          "[0 1 2 5 7 8]",
          "[0 1 2 5 7 9]",
          "[0 1 2 6 7 8]",
          "[0 1 3 4 5 7]",
          "[0 1 3 4 5 8]",
          "[0 1 3 4 6 7]",
          "[0 1 3 4 6 8]",
          "[0 1 3 4 6 9]",
          "[0 1 3 4 7 8]",
          "[0 1 3 4 7 9]",
          "[0 1 3 5 6 8]",
          "[0 1 3 5 6 9]",
          "[0 1 3 5 7 8]",
          "[0 1 3 5 7 9]",
          "[0 1 3 5 8 9]",
          "[0 1 3 6 7 9]",
          "[0 1 3 6 8 9]",
          "[0 1 4 5 6 8]",
          "[0 1 4 5 8 9]",
          "[0 1 4 6 7 9]",
          "[0 2 3 4 5 7]",
          "[0 2 3 4 5 8]",
          "[0 2 3 4 6 8]",
          "[0 2 3 4 6 9]",
          "[0 2 3 5 6 8]",
          "[0 2 3 5 7 9]",
          "[0 2 4 5 7 9]",
          "[0 2 4 6 8 10]",
          "[0 1 2 3 4 5 6]",
          "[0 1 2 3 4 5 7]",
          "[0 1 2 3 4 5 8]",
          "[0 1 2 3 4 6 7]",
          "[0 1 2 3 4 6 8]",
          "[0 1 2 3 4 6 9]",
          "[0 1 2 3 4 7 8]",
          "[0 1 2 3 4 7 9]",
          "[0 1 2 3 5 6 7]",
          "[0 1 2 3 5 6 8]",
          "[0 1 2 3 5 6 9]",
          "[0 1 2 3 5 7 8]",
          "[0 1 2 3 5 7 9]",
          "[0 1 2 3 5 8 9]",
          "[0 1 2 3 6 7 8]",
          "[0 1 2 3 6 7 9]",
          "[0 1 2 4 5 6 8]",
          "[0 1 2 4 5 6 9]",
          "[0 1 2 4 5 7 8]",
          "[0 1 2 4 5 7 9]",
          "[0 1 2 4 5 8 9]",
          "[0 1 2 4 6 7 8]",
          "[0 1 2 4 6 7 9]",
          "[0 1 2 4 6 8 9]",
          "[0 1 2 4 6 8 10]",
          "[0 1 2 4 7 8 9]",
          "[0 1 2 5 6 8 9]",
          "[0 1 3 4 5 6 8]",
          "[0 1 3 4 5 7 8]",
          "[0 1 3 4 5 7 9]",
          "[0 1 3 4 6 7 9]",
          "[0 1 3 4 6 8 9]",
          "[0 1 3 4 6 8 10]",
          "[0 1 3 5 6 7 9]",
          "[0 1 3 5 6 8 10]",
          "[0 2 3 4 5 6 8]",
          "[0 2 3 4 5 7 9]",
          "[0 2 3 4 6 7 9]",
          "[0 1 2 3 4 5 6 7]",
          "[0 1 2 3 4 5 6 8]",
          "[0 1 2 3 4 5 6 9]",
          "[0 1 2 3 4 5 7 8]",
          "[0 1 2 3 4 5 7 9]",
          "[0 1 2 3 4 5 8 9]",
          "[0 1 2 3 4 6 7 8]",
          "[0 1 2 3 4 6 7 9]",
          "[0 1 2 3 4 6 8 9]",
          "[0 1 2 3 4 6 8 10]",
          "[0 1 2 3 4 7 8 9]",
          "[0 1 2 3 5 6 7 8]",
          "[0 1 2 3 5 6 7 9]",
          "[0 1 2 3 5 6 8 9]",
          "[0 1 2 3 5 6 8 10]",
          "[0 1 2 3 5 7 8 9]",
          "[0 1 2 3 5 7 8 10]",
          "[0 1 2 3 6 7 8 9]",
          "[0 1 2 4 5 6 7 9]",
          "[0 1 2 4 5 6 8 9]",
          "[0 1 2 4 5 6 8 10]",
          "[0 1 2 4 5 7 8 9]",
          "[0 1 2 4 5 7 8 10]",
          "[0 1 2 4 5 7 9 10]",
          "[0 1 2 4 6 7 8 10]",
          "[0 1 3 4 5 6 7 9]",
          "[0 1 3 4 5 6 8 9]",
          "[0 2 3 4 5 6 7 9]",
          "[0 1 2 3 4 5 6 7 9]",
          "[0 1 2 3 4 5 6 8 9]",
          "[0 1 2 3 4 5 6 8 10]",
          "[0 1 2 3 4 5 7 8 9]",
          "[0 1 2 3 4 5 7 8 10]",
          "[0 1 2 3 4 6 7 8 9]",
          "[0 1 2 3 4 6 7 8 10]",
          "[0 1 2 3 4 6 7 9 10]",
          "[0 1 2 3 5 6 7 8 10]",
          "[0 1 2 4 5 6 8 9 10]",
          "[0 1 2 3 4 5 6 7 8 9]",
          "[0 1 2 3 4 5 6 7 8 10]",
          "[0 1 2 3 4 5 6 7 9 10]",
          "[0 1 2 3 4 5 6 8 9 10]",
          "[0 1 2 3 4 5 7 8 9 10]",
          "[0 1 2 3 4 5 6 7 8 9 10]",
          "[0 1 2 3 4 5 6 7 8 9 10 11]"
         ],
         "textfont": {
          "size": 14
         },
         "textposition": "top center",
         "type": "scatter",
         "x": [
          0.2692148118029664,
          0.06374363989096314,
          0.029148379448548103,
          0.03619330034562512,
          0.03496751097400378,
          0.037488216088544864,
          0.016833307306026734,
          0.013912278967996971,
          0.015875684600657868,
          0.03117492070549283,
          0.022081681980341696,
          0.03235166236776075,
          0.005020293772091387,
          0.012422085002603086,
          0.012332737473261166,
          0.006181549074037512,
          0.00902309273197785,
          0.01784827286337266,
          0.004108624979771033,
          0.0026952694816008145,
          0.005670616092082848,
          0.007883663878928585,
          0.008241327385806426,
          0.003442554790787726,
          0.004822382891126383,
          0.005356689785042408,
          0.004638021689459346,
          0.005918392990995141,
          0.010688408107950666,
          0.011168409220517693,
          0.011411511615509618,
          0.01012734615276228,
          0.007257320623323457,
          0.007715306654502266,
          0.003625917148431616,
          0.0032037438312383258,
          0.003614193159155167,
          0.007844622664909784,
          0.005275326999629386,
          0.0014901026856292852,
          0.0035008450976079363,
          0.002415386897596644,
          0.0021628792442215054,
          0.006112183998813008,
          0.0014259611130109854,
          0.005646041765660086,
          0.002975688232467513,
          0.0005332019244360218,
          0.0017883370096845412,
          0.0022232379664542455,
          0.002272062182450756,
          0.0012781945622711121,
          0.005160931532064954,
          0.0019313238007197201,
          0.002866033676483229,
          0.0027485888666114004,
          0.0033398529559621535,
          0.0019228935425645373,
          0.0030028665562874656,
          0.0061236095252186025,
          0.0011925426394379238,
          0.002313349062892819,
          0.00449864191436631,
          0.0015010205992620413,
          0.001745913627900795,
          0.001659501326852152,
          0.0011539995334249008,
          0.0026872959097591757,
          0.0016349912059773943,
          0.0018988017659319835,
          0.003368904924811034,
          0.00450368375412047,
          0.005593814074211672,
          0.003008517277244292,
          0.00437812839696145,
          0.002595460313153805,
          0.0016879146037971635,
          0.0012101650312481022,
          0.002896185297471098,
          0.001286967774663053,
          0.002568362631468919,
          0.0026675049455606365,
          0.0011061119585562278,
          0.0007376265932089945,
          0.00045419983535158306,
          0.0014659680718859924,
          0.0010144130007447097,
          0.0004028198650331758,
          0.001040761959180227,
          0.0003049265551619159,
          0.002384536200690661,
          0.0010646086064060468,
          0.0008503977106486785,
          0.00208307137185959,
          0.0004620360611331114,
          0.0010360919219071867,
          0.0012884735907657465,
          0.0004233444224160379,
          0.001057174703672603,
          0.0017222963647281493,
          0.0011912176292916898,
          0.0004279155223024515,
          0.0002816862666295609,
          0.0023848322477444104,
          0.0007851801845813111,
          0.0005793818546897746,
          0.0016249152092033792,
          0.0008839243019494705,
          0.0005559488505770987,
          0.0003068334730312918,
          0.00028993824993614904,
          0.0022316707749470924,
          0.0009244521718500264,
          0.0016865888888090328,
          0.0018161085792260997,
          0.0010223076320558363,
          0.003988073232133983,
          0.0009156752511213271,
          0.0008284051247509385,
          0.000374087140839689,
          0.00010121790570020098,
          0.0006739447968817324,
          0.0017970206678189027,
          0.000580544507486746,
          0.00030370968885536163,
          0.0013018326565350802,
          0.0006863757981906222,
          0.0004930054798833996,
          6.622220820981085e-05,
          0.00048721331316849386,
          0.0007902675860912768,
          0.00020610102190972044,
          0.00048153019475089535,
          0.0010255911523842816,
          0.00022006632988805575,
          5.255150530450032e-05,
          0.000361936048514632,
          0.0007069596406278531,
          0.0007360313644371525,
          0.0006847993219242271,
          0.0004734891587127008,
          0.0005620763487108371,
          0.0005756440324828872,
          0.00021447021476964608,
          0.0004732652041726179,
          0.0011887821522101815,
          0.001004053719089354,
          0.00016786272827311598,
          7.014846643873947e-05,
          0.0014056676382022965,
          0.0003106069719741338,
          0.0001723949730663658,
          0.0020401116701706527,
          0.00012991475160935756,
          0.0007326039997206624,
          0.00023648822746584963,
          0.000919617800223264,
          0.0003633541171447503,
          0.000218077235713469,
          0.00030648697406553935,
          0.00018533748084289883,
          0.0004020896787115017,
          0.00025898950151383556,
          0.0004465285338812443,
          0.0005382669114357847,
          0.0008530964041265025,
          0.0005823302214914065,
          0.0009578258930711015,
          0.00013445431097753083,
          0.0005398580038175341,
          2.093954588933991e-05,
          0.0001276696057091371,
          0.0002035414691106639,
          0.0005902910075829179,
          0.00011226179450478522,
          0.0007498042327508841,
          2.1990104452996177e-05,
          9.47904970336574e-05,
          1.9242032970401736e-06,
          0.0004580359858200073,
          0.00010149149129473217,
          8.41963458785889e-05,
          0.00012820003248738878,
          3.2985156679494266e-05,
          1.9884668920262485e-05,
          1.1503578044155869e-05,
          0.00012497189016081272,
          0.00029653626143604395,
          0.00015995539042568157,
          0.0001266698555909256,
          4.207285780433079e-06,
          0.0002363807481012934,
          7.024359497391212e-05,
          0.0008047473126713202,
          0.0002727345853667197,
          2.1990104452996177e-05,
          2.9141050382237456e-05,
          7.710521327623282e-05,
          2.6795267686438167e-05,
          3.056779869869441e-05,
          6.244963486169475e-05,
          0.0002502505750367205,
          5.317663950226675e-05,
          0.00101743251070898,
          5.317663950226675e-05,
          0.00016815041456983218,
          0.00012248251727582814,
          0.00026821183145875864,
          0.00010503081421168293,
          4.3980208905992354e-05,
          2.1990104452996177e-05,
          3.067797059439475e-05,
          0.0007960633407501657,
          3.2985156679494266e-05,
          0.0003795837888832313,
          0.0010788176986893468,
          2.1990104452996177e-05,
          0.002593690199099029,
          0.000144522593698815
         ],
         "y": [
          0.205033855709285,
          0.40183402698667237,
          0.4171699989646639,
          0.3812172012337287,
          0.33278383838666525,
          0.45407728789418456,
          0.4214979679868285,
          0.7074137845192916,
          0.5173963107471836,
          0.4937347954197854,
          0.4427026218097938,
          0.5518660312385227,
          0.7526801202838405,
          0.5222717668402961,
          0.5437073853363655,
          0.7104301541470488,
          0.7151461707197364,
          0.6816457410042216,
          0.806701132968835,
          0.9098847900521051,
          0.8554095251930006,
          0.7821134236760705,
          0.7852980545204686,
          0.8652797605823858,
          0.8088711571782554,
          0.7600960559240704,
          0.8128384995830942,
          0.7569371164415366,
          0.7512468749090155,
          0.8217420138320704,
          0.6808008619746797,
          0.6945424164686675,
          0.7298110989048286,
          0.7206070362481178,
          0.7761008259746217,
          0.9100819931275391,
          0.9142655179426159,
          0.7276187878096668,
          0.7621838782996166,
          0.8534718408899467,
          0.8892573899197935,
          0.8869121241094533,
          0.922199712217422,
          0.8355361522871165,
          0.9131992646346282,
          0.744668978179154,
          0.8846740348233211,
          0.9476034138217144,
          0.9714613362262466,
          0.8756763937253215,
          0.9142691768301029,
          0.8998998336113352,
          0.9011736702254003,
          0.929159913474189,
          0.9025606081883487,
          0.9164021107347813,
          0.8516907322889575,
          0.9471668174778269,
          0.8817832292120954,
          0.9219058709827843,
          0.9273602942904507,
          0.8807781524864763,
          0.885400053472712,
          0.9001564901072727,
          0.9849148091178039,
          0.9077173670639185,
          0.9033116946831078,
          0.9352888002996808,
          0.8750935396244472,
          0.8953173497992732,
          0.9239281342078722,
          0.7536174915389606,
          0.8284130725829688,
          0.9250652453718606,
          0.9169583824256434,
          0.9431584902985408,
          0.9670793182004385,
          0.9245733486977933,
          0.9200189646270683,
          0.9098729066663156,
          0.865937401454414,
          0.8571006507581898,
          0.9463986767351437,
          0.9506537089399509,
          0.9427290803492913,
          0.9256512015138572,
          0.9948393239031832,
          0.9776734433678286,
          0.9543165058153311,
          0.9624012965446453,
          0.9882941202628587,
          0.9559726551165273,
          0.9296631910539386,
          0.9631116119969136,
          0.9662621285182827,
          0.9886050617522419,
          0.985379325865849,
          0.9897246002372585,
          0.9659208801162733,
          0.9411382402964983,
          0.9728945349448466,
          0.9730803859907762,
          0.9389383217677955,
          0.945284313300875,
          0.9810264887221272,
          0.9894184851267943,
          0.9037783923024563,
          0.9464500514465274,
          0.932227691223202,
          0.978297483100276,
          0.9885960498991118,
          0.9582689375429084,
          0.8972529638912264,
          0.9732402310782023,
          0.9405674453432792,
          0.9123797936653808,
          0.945412292422753,
          0.9458969680545787,
          0.9587957600868138,
          0.9569781973386936,
          0.9958249007195041,
          0.9609262775324332,
          0.9771518481256827,
          0.9566990307931384,
          0.972334872456547,
          0.9044847577012414,
          0.9470893794536427,
          0.9788227864335669,
          0.9985821267143169,
          0.9769394821810129,
          0.9510581598814785,
          0.9900781623931639,
          0.9734701076674542,
          0.9558147785209519,
          0.995628897776648,
          0.9803426008564189,
          0.9868699036060308,
          0.9954851072228337,
          0.9717547432033453,
          0.9612839218271695,
          0.9921278647752156,
          0.985939083229932,
          0.989998991491967,
          0.9864606907153279,
          0.995614659088984,
          0.993397191140588,
          0.9758312604383208,
          0.9936375460130751,
          0.970429272655335,
          0.9922999036462014,
          0.9703916881165238,
          0.995798190762722,
          0.9942238766187792,
          0.9955764120493812,
          0.9945230512422105,
          0.9960758927661781,
          0.9686384084537035,
          0.9894017174594655,
          0.9904136704565595,
          0.9801142968665952,
          0.9628239512016785,
          0.9993946111484284,
          0.9883991082206997,
          0.9897285005232144,
          0.9946906973310097,
          0.9805428295241378,
          0.9805848004043198,
          0.9907489726900357,
          0.9932853494428454,
          0.9775497358159169,
          0.9784255034781628,
          0.9927312180873592,
          0.9935293557367967,
          0.9957898288917433,
          0.9994979172122701,
          0.9990438009317913,
          0.9996022820104647,
          0.9654646360992396,
          0.9803426008564189,
          0.9963369891139877,
          0.9983169412142361,
          0.9994979172122701,
          0.98610024472828,
          0.9996022820104647,
          0.9995401312601259,
          0.9834865850457036,
          0.9990543154543866,
          0.9955921402776272,
          0.995255337950455,
          0.9885124043443128,
          0.9803426008564189,
          0.998376325579544,
          0.996404563358967,
          0.9906034720170146,
          0.9890234202918335,
          0.9996022820104647,
          0.9958447167374322,
          0.999294365164136,
          0.9827222543389008,
          0.9915449818489407,
          0.9984549903473359,
          0.9969624068064835,
          0.997835172039203,
          0.993254825746487,
          0.997835172039203,
          0.9890568806112443,
          0.9989936314525069,
          0.9964018027220438,
          0.9989703845774002,
          0.9996022820104647,
          0.9996022820104647,
          0.9919728992226988,
          0.9941394268906506,
          0.9996022820104647,
          0.9968558159042152,
          0.9915748841152625,
          0.9996022820104647,
          0.9938931695182088,
          0.9953746861966994
         ]
        }
       ],
       "layout": {
        "font": {
         "color": "rgb(0,0,0)",
         "family": "Baskerville, monospace",
         "size": 12
        },
        "template": {
         "data": {
          "bar": [
           {
            "error_x": {
             "color": "#2a3f5f"
            },
            "error_y": {
             "color": "#2a3f5f"
            },
            "marker": {
             "line": {
              "color": "#E5ECF6",
              "width": 0.5
             }
            },
            "type": "bar"
           }
          ],
          "barpolar": [
           {
            "marker": {
             "line": {
              "color": "#E5ECF6",
              "width": 0.5
             }
            },
            "type": "barpolar"
           }
          ],
          "carpet": [
           {
            "aaxis": {
             "endlinecolor": "#2a3f5f",
             "gridcolor": "white",
             "linecolor": "white",
             "minorgridcolor": "white",
             "startlinecolor": "#2a3f5f"
            },
            "baxis": {
             "endlinecolor": "#2a3f5f",
             "gridcolor": "white",
             "linecolor": "white",
             "minorgridcolor": "white",
             "startlinecolor": "#2a3f5f"
            },
            "type": "carpet"
           }
          ],
          "choropleth": [
           {
            "colorbar": {
             "outlinewidth": 0,
             "ticks": ""
            },
            "type": "choropleth"
           }
          ],
          "contour": [
           {
            "colorbar": {
             "outlinewidth": 0,
             "ticks": ""
            },
            "colorscale": [
             [
              0,
              "#0d0887"
             ],
             [
              0.1111111111111111,
              "#46039f"
             ],
             [
              0.2222222222222222,
              "#7201a8"
             ],
             [
              0.3333333333333333,
              "#9c179e"
             ],
             [
              0.4444444444444444,
              "#bd3786"
             ],
             [
              0.5555555555555556,
              "#d8576b"
             ],
             [
              0.6666666666666666,
              "#ed7953"
             ],
             [
              0.7777777777777778,
              "#fb9f3a"
             ],
             [
              0.8888888888888888,
              "#fdca26"
             ],
             [
              1,
              "#f0f921"
             ]
            ],
            "type": "contour"
           }
          ],
          "contourcarpet": [
           {
            "colorbar": {
             "outlinewidth": 0,
             "ticks": ""
            },
            "type": "contourcarpet"
           }
          ],
          "heatmap": [
           {
            "colorbar": {
             "outlinewidth": 0,
             "ticks": ""
            },
            "colorscale": [
             [
              0,
              "#0d0887"
             ],
             [
              0.1111111111111111,
              "#46039f"
             ],
             [
              0.2222222222222222,
              "#7201a8"
             ],
             [
              0.3333333333333333,
              "#9c179e"
             ],
             [
              0.4444444444444444,
              "#bd3786"
             ],
             [
              0.5555555555555556,
              "#d8576b"
             ],
             [
              0.6666666666666666,
              "#ed7953"
             ],
             [
              0.7777777777777778,
              "#fb9f3a"
             ],
             [
              0.8888888888888888,
              "#fdca26"
             ],
             [
              1,
              "#f0f921"
             ]
            ],
            "type": "heatmap"
           }
          ],
          "heatmapgl": [
           {
            "colorbar": {
             "outlinewidth": 0,
             "ticks": ""
            },
            "colorscale": [
             [
              0,
              "#0d0887"
             ],
             [
              0.1111111111111111,
              "#46039f"
             ],
             [
              0.2222222222222222,
              "#7201a8"
             ],
             [
              0.3333333333333333,
              "#9c179e"
             ],
             [
              0.4444444444444444,
              "#bd3786"
             ],
             [
              0.5555555555555556,
              "#d8576b"
             ],
             [
              0.6666666666666666,
              "#ed7953"
             ],
             [
              0.7777777777777778,
              "#fb9f3a"
             ],
             [
              0.8888888888888888,
              "#fdca26"
             ],
             [
              1,
              "#f0f921"
             ]
            ],
            "type": "heatmapgl"
           }
          ],
          "histogram": [
           {
            "marker": {
             "colorbar": {
              "outlinewidth": 0,
              "ticks": ""
             }
            },
            "type": "histogram"
           }
          ],
          "histogram2d": [
           {
            "colorbar": {
             "outlinewidth": 0,
             "ticks": ""
            },
            "colorscale": [
             [
              0,
              "#0d0887"
             ],
             [
              0.1111111111111111,
              "#46039f"
             ],
             [
              0.2222222222222222,
              "#7201a8"
             ],
             [
              0.3333333333333333,
              "#9c179e"
             ],
             [
              0.4444444444444444,
              "#bd3786"
             ],
             [
              0.5555555555555556,
              "#d8576b"
             ],
             [
              0.6666666666666666,
              "#ed7953"
             ],
             [
              0.7777777777777778,
              "#fb9f3a"
             ],
             [
              0.8888888888888888,
              "#fdca26"
             ],
             [
              1,
              "#f0f921"
             ]
            ],
            "type": "histogram2d"
           }
          ],
          "histogram2dcontour": [
           {
            "colorbar": {
             "outlinewidth": 0,
             "ticks": ""
            },
            "colorscale": [
             [
              0,
              "#0d0887"
             ],
             [
              0.1111111111111111,
              "#46039f"
             ],
             [
              0.2222222222222222,
              "#7201a8"
             ],
             [
              0.3333333333333333,
              "#9c179e"
             ],
             [
              0.4444444444444444,
              "#bd3786"
             ],
             [
              0.5555555555555556,
              "#d8576b"
             ],
             [
              0.6666666666666666,
              "#ed7953"
             ],
             [
              0.7777777777777778,
              "#fb9f3a"
             ],
             [
              0.8888888888888888,
              "#fdca26"
             ],
             [
              1,
              "#f0f921"
             ]
            ],
            "type": "histogram2dcontour"
           }
          ],
          "mesh3d": [
           {
            "colorbar": {
             "outlinewidth": 0,
             "ticks": ""
            },
            "type": "mesh3d"
           }
          ],
          "parcoords": [
           {
            "line": {
             "colorbar": {
              "outlinewidth": 0,
              "ticks": ""
             }
            },
            "type": "parcoords"
           }
          ],
          "pie": [
           {
            "automargin": true,
            "type": "pie"
           }
          ],
          "scatter": [
           {
            "marker": {
             "colorbar": {
              "outlinewidth": 0,
              "ticks": ""
             }
            },
            "type": "scatter"
           }
          ],
          "scatter3d": [
           {
            "line": {
             "colorbar": {
              "outlinewidth": 0,
              "ticks": ""
             }
            },
            "marker": {
             "colorbar": {
              "outlinewidth": 0,
              "ticks": ""
             }
            },
            "type": "scatter3d"
           }
          ],
          "scattercarpet": [
           {
            "marker": {
             "colorbar": {
              "outlinewidth": 0,
              "ticks": ""
             }
            },
            "type": "scattercarpet"
           }
          ],
          "scattergeo": [
           {
            "marker": {
             "colorbar": {
              "outlinewidth": 0,
              "ticks": ""
             }
            },
            "type": "scattergeo"
           }
          ],
          "scattergl": [
           {
            "marker": {
             "colorbar": {
              "outlinewidth": 0,
              "ticks": ""
             }
            },
            "type": "scattergl"
           }
          ],
          "scattermapbox": [
           {
            "marker": {
             "colorbar": {
              "outlinewidth": 0,
              "ticks": ""
             }
            },
            "type": "scattermapbox"
           }
          ],
          "scatterpolar": [
           {
            "marker": {
             "colorbar": {
              "outlinewidth": 0,
              "ticks": ""
             }
            },
            "type": "scatterpolar"
           }
          ],
          "scatterpolargl": [
           {
            "marker": {
             "colorbar": {
              "outlinewidth": 0,
              "ticks": ""
             }
            },
            "type": "scatterpolargl"
           }
          ],
          "scatterternary": [
           {
            "marker": {
             "colorbar": {
              "outlinewidth": 0,
              "ticks": ""
             }
            },
            "type": "scatterternary"
           }
          ],
          "surface": [
           {
            "colorbar": {
             "outlinewidth": 0,
             "ticks": ""
            },
            "colorscale": [
             [
              0,
              "#0d0887"
             ],
             [
              0.1111111111111111,
              "#46039f"
             ],
             [
              0.2222222222222222,
              "#7201a8"
             ],
             [
              0.3333333333333333,
              "#9c179e"
             ],
             [
              0.4444444444444444,
              "#bd3786"
             ],
             [
              0.5555555555555556,
              "#d8576b"
             ],
             [
              0.6666666666666666,
              "#ed7953"
             ],
             [
              0.7777777777777778,
              "#fb9f3a"
             ],
             [
              0.8888888888888888,
              "#fdca26"
             ],
             [
              1,
              "#f0f921"
             ]
            ],
            "type": "surface"
           }
          ],
          "table": [
           {
            "cells": {
             "fill": {
              "color": "#EBF0F8"
             },
             "line": {
              "color": "white"
             }
            },
            "header": {
             "fill": {
              "color": "#C8D4E3"
             },
             "line": {
              "color": "white"
             }
            },
            "type": "table"
           }
          ]
         },
         "layout": {
          "annotationdefaults": {
           "arrowcolor": "#2a3f5f",
           "arrowhead": 0,
           "arrowwidth": 1
          },
          "coloraxis": {
           "colorbar": {
            "outlinewidth": 0,
            "ticks": ""
           }
          },
          "colorscale": {
           "diverging": [
            [
             0,
             "#8e0152"
            ],
            [
             0.1,
             "#c51b7d"
            ],
            [
             0.2,
             "#de77ae"
            ],
            [
             0.3,
             "#f1b6da"
            ],
            [
             0.4,
             "#fde0ef"
            ],
            [
             0.5,
             "#f7f7f7"
            ],
            [
             0.6,
             "#e6f5d0"
            ],
            [
             0.7,
             "#b8e186"
            ],
            [
             0.8,
             "#7fbc41"
            ],
            [
             0.9,
             "#4d9221"
            ],
            [
             1,
             "#276419"
            ]
           ],
           "sequential": [
            [
             0,
             "#0d0887"
            ],
            [
             0.1111111111111111,
             "#46039f"
            ],
            [
             0.2222222222222222,
             "#7201a8"
            ],
            [
             0.3333333333333333,
             "#9c179e"
            ],
            [
             0.4444444444444444,
             "#bd3786"
            ],
            [
             0.5555555555555556,
             "#d8576b"
            ],
            [
             0.6666666666666666,
             "#ed7953"
            ],
            [
             0.7777777777777778,
             "#fb9f3a"
            ],
            [
             0.8888888888888888,
             "#fdca26"
            ],
            [
             1,
             "#f0f921"
            ]
           ],
           "sequentialminus": [
            [
             0,
             "#0d0887"
            ],
            [
             0.1111111111111111,
             "#46039f"
            ],
            [
             0.2222222222222222,
             "#7201a8"
            ],
            [
             0.3333333333333333,
             "#9c179e"
            ],
            [
             0.4444444444444444,
             "#bd3786"
            ],
            [
             0.5555555555555556,
             "#d8576b"
            ],
            [
             0.6666666666666666,
             "#ed7953"
            ],
            [
             0.7777777777777778,
             "#fb9f3a"
            ],
            [
             0.8888888888888888,
             "#fdca26"
            ],
            [
             1,
             "#f0f921"
            ]
           ]
          },
          "colorway": [
           "#636efa",
           "#EF553B",
           "#00cc96",
           "#ab63fa",
           "#FFA15A",
           "#19d3f3",
           "#FF6692",
           "#B6E880",
           "#FF97FF",
           "#FECB52"
          ],
          "font": {
           "color": "#2a3f5f"
          },
          "geo": {
           "bgcolor": "white",
           "lakecolor": "white",
           "landcolor": "#E5ECF6",
           "showlakes": true,
           "showland": true,
           "subunitcolor": "white"
          },
          "hoverlabel": {
           "align": "left"
          },
          "hovermode": "closest",
          "mapbox": {
           "style": "light"
          },
          "paper_bgcolor": "white",
          "plot_bgcolor": "#E5ECF6",
          "polar": {
           "angularaxis": {
            "gridcolor": "white",
            "linecolor": "white",
            "ticks": ""
           },
           "bgcolor": "#E5ECF6",
           "radialaxis": {
            "gridcolor": "white",
            "linecolor": "white",
            "ticks": ""
           }
          },
          "scene": {
           "xaxis": {
            "backgroundcolor": "#E5ECF6",
            "gridcolor": "white",
            "gridwidth": 2,
            "linecolor": "white",
            "showbackground": true,
            "ticks": "",
            "zerolinecolor": "white"
           },
           "yaxis": {
            "backgroundcolor": "#E5ECF6",
            "gridcolor": "white",
            "gridwidth": 2,
            "linecolor": "white",
            "showbackground": true,
            "ticks": "",
            "zerolinecolor": "white"
           },
           "zaxis": {
            "backgroundcolor": "#E5ECF6",
            "gridcolor": "white",
            "gridwidth": 2,
            "linecolor": "white",
            "showbackground": true,
            "ticks": "",
            "zerolinecolor": "white"
           }
          },
          "shapedefaults": {
           "line": {
            "color": "#2a3f5f"
           }
          },
          "ternary": {
           "aaxis": {
            "gridcolor": "white",
            "linecolor": "white",
            "ticks": ""
           },
           "baxis": {
            "gridcolor": "white",
            "linecolor": "white",
            "ticks": ""
           },
           "bgcolor": "#E5ECF6",
           "caxis": {
            "gridcolor": "white",
            "linecolor": "white",
            "ticks": ""
           }
          },
          "title": {
           "x": 0.05
          },
          "xaxis": {
           "automargin": true,
           "gridcolor": "white",
           "linecolor": "white",
           "ticks": "",
           "title": {
            "standoff": 15
           },
           "zerolinecolor": "white",
           "zerolinewidth": 2
          },
          "yaxis": {
           "automargin": true,
           "gridcolor": "white",
           "linecolor": "white",
           "ticks": "",
           "title": {
            "standoff": 15
           },
           "zerolinecolor": "white",
           "zerolinewidth": 2
          }
         }
        },
        "title": {
         "font": {
          "color": "rgb(0,0,0)",
          "family": "Big Caslon, monospace",
          "size": 20
         },
         "text": "Frequency—Dispersion Chart",
         "x": 0.5,
         "xanchor": "center",
         "y": 0.95,
         "yanchor": "top"
        },
        "xaxis": {
         "title": {
          "text": "Frequency Proportion"
         }
        },
        "yaxis": {
         "title": {
          "text": "Dispersion Value"
         }
        }
       }
      },
      "text/html": [
       "<div>\n",
       "        \n",
       "        \n",
       "            <div id=\"a5118f42-538b-4f0c-9939-94970b2b4dee\" class=\"plotly-graph-div\" style=\"height:525px; width:100%;\"></div>\n",
       "            <script type=\"text/javascript\">\n",
       "                require([\"plotly\"], function(Plotly) {\n",
       "                    window.PLOTLYENV=window.PLOTLYENV || {};\n",
       "                    \n",
       "                if (document.getElementById(\"a5118f42-538b-4f0c-9939-94970b2b4dee\")) {\n",
       "                    Plotly.newPlot(\n",
       "                        'a5118f42-538b-4f0c-9939-94970b2b4dee',\n",
       "                        [{\"mode\": \"markers+text\", \"text\": [\"[0]\", \"[0 1]\", \"[0 2]\", \"[0 3]\", \"[0 4]\", \"[0 5]\", \"[0 6]\", \"[0 1 2]\", \"[0 1 3]\", \"[0 1 4]\", \"[0 1 5]\", \"[0 1 6]\", \"[0 2 4]\", \"[0 2 5]\", \"[0 2 6]\", \"[0 2 7]\", \"[0 3 6]\", \"[0 3 7]\", \"[0 4 8]\", \"[0 1 2 3]\", \"[0 1 2 4]\", \"[0 1 2 5]\", \"[0 1 2 6]\", \"[0 1 2 7]\", \"[0 1 3 4]\", \"[0 1 3 5]\", \"[0 1 3 6]\", \"[0 1 3 7]\", \"[0 1 4 5]\", \"[0 1 4 6]\", \"[0 1 4 7]\", \"[0 1 4 8]\", \"[0 1 5 6]\", \"[0 1 5 7]\", \"[0 1 5 8]\", \"[0 1 6 7]\", \"[0 2 3 5]\", \"[0 2 3 6]\", \"[0 2 3 7]\", \"[0 2 4 6]\", \"[0 2 4 7]\", \"[0 2 4 8]\", \"[0 2 5 7]\", \"[0 2 5 8]\", \"[0 2 6 8]\", \"[0 3 4 7]\", \"[0 3 5 8]\", \"[0 3 6 9]\", \"[0 1 2 3 4]\", \"[0 1 2 3 5]\", \"[0 1 2 3 6]\", \"[0 1 2 3 7]\", \"[0 1 2 4 5]\", \"[0 1 2 4 6]\", \"[0 1 2 4 7]\", \"[0 1 2 4 8]\", \"[0 1 2 5 6]\", \"[0 1 2 5 7]\", \"[0 1 2 5 8]\", \"[0 1 2 6 7]\", \"[0 1 2 6 8]\", \"[0 1 3 4 6]\", \"[0 1 3 4 7]\", \"[0 1 3 4 8]\", \"[0 1 3 5 6]\", \"[0 1 3 5 7]\", \"[0 1 3 5 8]\", \"[0 1 3 6 7]\", \"[0 1 3 6 8]\", \"[0 1 3 6 9]\", \"[0 1 3 7 8]\", \"[0 1 4 5 7]\", \"[0 1 4 5 8]\", \"[0 1 4 6 8]\", \"[0 1 4 6 9]\", \"[0 1 4 7 8]\", \"[0 2 3 4 6]\", \"[0 2 3 4 7]\", \"[0 2 3 5 7]\", \"[0 2 3 5 8]\", \"[0 2 3 6 8]\", \"[0 2 4 5 8]\", \"[0 2 4 6 8]\", \"[0 2 4 6 9]\", \"[0 2 4 7 9]\", \"[0 3 4 5 8]\", \"[0 1 2 3 4 5]\", \"[0 1 2 3 4 6]\", \"[0 1 2 3 4 7]\", \"[0 1 2 3 4 8]\", \"[0 1 2 3 5 6]\", \"[0 1 2 3 5 7]\", \"[0 1 2 3 5 8]\", \"[0 1 2 3 6 7]\", \"[0 1 2 3 6 8]\", \"[0 1 2 3 6 9]\", \"[0 1 2 3 7 8]\", \"[0 1 2 4 5 6]\", \"[0 1 2 4 5 7]\", \"[0 1 2 4 5 8]\", \"[0 1 2 4 6 7]\", \"[0 1 2 4 6 8]\", \"[0 1 2 4 6 9]\", \"[0 1 2 4 7 8]\", \"[0 1 2 4 7 9]\", \"[0 1 2 5 6 7]\", \"[0 1 2 5 6 8]\", \"[0 1 2 5 6 9]\", \"[0 1 2 5 7 8]\", \"[0 1 2 5 7 9]\", \"[0 1 2 6 7 8]\", \"[0 1 3 4 5 7]\", \"[0 1 3 4 5 8]\", \"[0 1 3 4 6 7]\", \"[0 1 3 4 6 8]\", \"[0 1 3 4 6 9]\", \"[0 1 3 4 7 8]\", \"[0 1 3 4 7 9]\", \"[0 1 3 5 6 8]\", \"[0 1 3 5 6 9]\", \"[0 1 3 5 7 8]\", \"[0 1 3 5 7 9]\", \"[0 1 3 5 8 9]\", \"[0 1 3 6 7 9]\", \"[0 1 3 6 8 9]\", \"[0 1 4 5 6 8]\", \"[0 1 4 5 8 9]\", \"[0 1 4 6 7 9]\", \"[0 2 3 4 5 7]\", \"[0 2 3 4 5 8]\", \"[0 2 3 4 6 8]\", \"[0 2 3 4 6 9]\", \"[0 2 3 5 6 8]\", \"[0 2 3 5 7 9]\", \"[0 2 4 5 7 9]\", \"[0 2 4 6 8 10]\", \"[0 1 2 3 4 5 6]\", \"[0 1 2 3 4 5 7]\", \"[0 1 2 3 4 5 8]\", \"[0 1 2 3 4 6 7]\", \"[0 1 2 3 4 6 8]\", \"[0 1 2 3 4 6 9]\", \"[0 1 2 3 4 7 8]\", \"[0 1 2 3 4 7 9]\", \"[0 1 2 3 5 6 7]\", \"[0 1 2 3 5 6 8]\", \"[0 1 2 3 5 6 9]\", \"[0 1 2 3 5 7 8]\", \"[0 1 2 3 5 7 9]\", \"[0 1 2 3 5 8 9]\", \"[0 1 2 3 6 7 8]\", \"[0 1 2 3 6 7 9]\", \"[0 1 2 4 5 6 8]\", \"[0 1 2 4 5 6 9]\", \"[0 1 2 4 5 7 8]\", \"[0 1 2 4 5 7 9]\", \"[0 1 2 4 5 8 9]\", \"[0 1 2 4 6 7 8]\", \"[0 1 2 4 6 7 9]\", \"[0 1 2 4 6 8 9]\", \"[0 1 2 4 6 8 10]\", \"[0 1 2 4 7 8 9]\", \"[0 1 2 5 6 8 9]\", \"[0 1 3 4 5 6 8]\", \"[0 1 3 4 5 7 8]\", \"[0 1 3 4 5 7 9]\", \"[0 1 3 4 6 7 9]\", \"[0 1 3 4 6 8 9]\", \"[0 1 3 4 6 8 10]\", \"[0 1 3 5 6 7 9]\", \"[0 1 3 5 6 8 10]\", \"[0 2 3 4 5 6 8]\", \"[0 2 3 4 5 7 9]\", \"[0 2 3 4 6 7 9]\", \"[0 1 2 3 4 5 6 7]\", \"[0 1 2 3 4 5 6 8]\", \"[0 1 2 3 4 5 6 9]\", \"[0 1 2 3 4 5 7 8]\", \"[0 1 2 3 4 5 7 9]\", \"[0 1 2 3 4 5 8 9]\", \"[0 1 2 3 4 6 7 8]\", \"[0 1 2 3 4 6 7 9]\", \"[0 1 2 3 4 6 8 9]\", \"[0 1 2 3 4 6 8 10]\", \"[0 1 2 3 4 7 8 9]\", \"[0 1 2 3 5 6 7 8]\", \"[0 1 2 3 5 6 7 9]\", \"[0 1 2 3 5 6 8 9]\", \"[0 1 2 3 5 6 8 10]\", \"[0 1 2 3 5 7 8 9]\", \"[0 1 2 3 5 7 8 10]\", \"[0 1 2 3 6 7 8 9]\", \"[0 1 2 4 5 6 7 9]\", \"[0 1 2 4 5 6 8 9]\", \"[0 1 2 4 5 6 8 10]\", \"[0 1 2 4 5 7 8 9]\", \"[0 1 2 4 5 7 8 10]\", \"[0 1 2 4 5 7 9 10]\", \"[0 1 2 4 6 7 8 10]\", \"[0 1 3 4 5 6 7 9]\", \"[0 1 3 4 5 6 8 9]\", \"[0 2 3 4 5 6 7 9]\", \"[0 1 2 3 4 5 6 7 9]\", \"[0 1 2 3 4 5 6 8 9]\", \"[0 1 2 3 4 5 6 8 10]\", \"[0 1 2 3 4 5 7 8 9]\", \"[0 1 2 3 4 5 7 8 10]\", \"[0 1 2 3 4 6 7 8 9]\", \"[0 1 2 3 4 6 7 8 10]\", \"[0 1 2 3 4 6 7 9 10]\", \"[0 1 2 3 5 6 7 8 10]\", \"[0 1 2 4 5 6 8 9 10]\", \"[0 1 2 3 4 5 6 7 8 9]\", \"[0 1 2 3 4 5 6 7 8 10]\", \"[0 1 2 3 4 5 6 7 9 10]\", \"[0 1 2 3 4 5 6 8 9 10]\", \"[0 1 2 3 4 5 7 8 9 10]\", \"[0 1 2 3 4 5 6 7 8 9 10]\", \"[0 1 2 3 4 5 6 7 8 9 10 11]\"], \"textfont\": {\"size\": 14}, \"textposition\": \"top center\", \"type\": \"scatter\", \"x\": [0.2692148118029664, 0.06374363989096314, 0.029148379448548103, 0.03619330034562512, 0.03496751097400378, 0.037488216088544864, 0.016833307306026734, 0.013912278967996971, 0.015875684600657868, 0.03117492070549283, 0.022081681980341696, 0.03235166236776075, 0.005020293772091387, 0.012422085002603086, 0.012332737473261166, 0.006181549074037512, 0.00902309273197785, 0.01784827286337266, 0.004108624979771033, 0.0026952694816008145, 0.005670616092082848, 0.007883663878928585, 0.008241327385806426, 0.003442554790787726, 0.004822382891126383, 0.005356689785042408, 0.004638021689459346, 0.005918392990995141, 0.010688408107950666, 0.011168409220517693, 0.011411511615509618, 0.01012734615276228, 0.007257320623323457, 0.007715306654502266, 0.003625917148431616, 0.0032037438312383258, 0.003614193159155167, 0.007844622664909784, 0.005275326999629386, 0.0014901026856292852, 0.0035008450976079363, 0.002415386897596644, 0.0021628792442215054, 0.006112183998813008, 0.0014259611130109854, 0.005646041765660086, 0.002975688232467513, 0.0005332019244360218, 0.0017883370096845412, 0.0022232379664542455, 0.002272062182450756, 0.0012781945622711121, 0.005160931532064954, 0.0019313238007197201, 0.002866033676483229, 0.0027485888666114004, 0.0033398529559621535, 0.0019228935425645373, 0.0030028665562874656, 0.0061236095252186025, 0.0011925426394379238, 0.002313349062892819, 0.00449864191436631, 0.0015010205992620413, 0.001745913627900795, 0.001659501326852152, 0.0011539995334249008, 0.0026872959097591757, 0.0016349912059773943, 0.0018988017659319835, 0.003368904924811034, 0.00450368375412047, 0.005593814074211672, 0.003008517277244292, 0.00437812839696145, 0.002595460313153805, 0.0016879146037971635, 0.0012101650312481022, 0.002896185297471098, 0.001286967774663053, 0.002568362631468919, 0.0026675049455606365, 0.0011061119585562278, 0.0007376265932089945, 0.00045419983535158306, 0.0014659680718859924, 0.0010144130007447097, 0.0004028198650331758, 0.001040761959180227, 0.0003049265551619159, 0.002384536200690661, 0.0010646086064060468, 0.0008503977106486785, 0.00208307137185959, 0.0004620360611331114, 0.0010360919219071867, 0.0012884735907657465, 0.0004233444224160379, 0.001057174703672603, 0.0017222963647281493, 0.0011912176292916898, 0.0004279155223024515, 0.0002816862666295609, 0.0023848322477444104, 0.0007851801845813111, 0.0005793818546897746, 0.0016249152092033792, 0.0008839243019494705, 0.0005559488505770987, 0.0003068334730312918, 0.00028993824993614904, 0.0022316707749470924, 0.0009244521718500264, 0.0016865888888090328, 0.0018161085792260997, 0.0010223076320558363, 0.003988073232133983, 0.0009156752511213271, 0.0008284051247509385, 0.000374087140839689, 0.00010121790570020098, 0.0006739447968817324, 0.0017970206678189027, 0.000580544507486746, 0.00030370968885536163, 0.0013018326565350802, 0.0006863757981906222, 0.0004930054798833996, 6.622220820981085e-05, 0.00048721331316849386, 0.0007902675860912768, 0.00020610102190972044, 0.00048153019475089535, 0.0010255911523842816, 0.00022006632988805575, 5.255150530450032e-05, 0.000361936048514632, 0.0007069596406278531, 0.0007360313644371525, 0.0006847993219242271, 0.0004734891587127008, 0.0005620763487108371, 0.0005756440324828872, 0.00021447021476964608, 0.0004732652041726179, 0.0011887821522101815, 0.001004053719089354, 0.00016786272827311598, 7.014846643873947e-05, 0.0014056676382022965, 0.0003106069719741338, 0.0001723949730663658, 0.0020401116701706527, 0.00012991475160935756, 0.0007326039997206624, 0.00023648822746584963, 0.000919617800223264, 0.0003633541171447503, 0.000218077235713469, 0.00030648697406553935, 0.00018533748084289883, 0.0004020896787115017, 0.00025898950151383556, 0.0004465285338812443, 0.0005382669114357847, 0.0008530964041265025, 0.0005823302214914065, 0.0009578258930711015, 0.00013445431097753083, 0.0005398580038175341, 2.093954588933991e-05, 0.0001276696057091371, 0.0002035414691106639, 0.0005902910075829179, 0.00011226179450478522, 0.0007498042327508841, 2.1990104452996177e-05, 9.47904970336574e-05, 1.9242032970401736e-06, 0.0004580359858200073, 0.00010149149129473217, 8.41963458785889e-05, 0.00012820003248738878, 3.2985156679494266e-05, 1.9884668920262485e-05, 1.1503578044155869e-05, 0.00012497189016081272, 0.00029653626143604395, 0.00015995539042568157, 0.0001266698555909256, 4.207285780433079e-06, 0.0002363807481012934, 7.024359497391212e-05, 0.0008047473126713202, 0.0002727345853667197, 2.1990104452996177e-05, 2.9141050382237456e-05, 7.710521327623282e-05, 2.6795267686438167e-05, 3.056779869869441e-05, 6.244963486169475e-05, 0.0002502505750367205, 5.317663950226675e-05, 0.00101743251070898, 5.317663950226675e-05, 0.00016815041456983218, 0.00012248251727582814, 0.00026821183145875864, 0.00010503081421168293, 4.3980208905992354e-05, 2.1990104452996177e-05, 3.067797059439475e-05, 0.0007960633407501657, 3.2985156679494266e-05, 0.0003795837888832313, 0.0010788176986893468, 2.1990104452996177e-05, 0.002593690199099029, 0.000144522593698815], \"y\": [0.205033855709285, 0.40183402698667237, 0.4171699989646639, 0.3812172012337287, 0.33278383838666525, 0.45407728789418456, 0.4214979679868285, 0.7074137845192916, 0.5173963107471836, 0.4937347954197854, 0.4427026218097938, 0.5518660312385227, 0.7526801202838405, 0.5222717668402961, 0.5437073853363655, 0.7104301541470488, 0.7151461707197364, 0.6816457410042216, 0.806701132968835, 0.9098847900521051, 0.8554095251930006, 0.7821134236760705, 0.7852980545204686, 0.8652797605823858, 0.8088711571782554, 0.7600960559240704, 0.8128384995830942, 0.7569371164415366, 0.7512468749090155, 0.8217420138320704, 0.6808008619746797, 0.6945424164686675, 0.7298110989048286, 0.7206070362481178, 0.7761008259746217, 0.9100819931275391, 0.9142655179426159, 0.7276187878096668, 0.7621838782996166, 0.8534718408899467, 0.8892573899197935, 0.8869121241094533, 0.922199712217422, 0.8355361522871165, 0.9131992646346282, 0.744668978179154, 0.8846740348233211, 0.9476034138217144, 0.9714613362262466, 0.8756763937253215, 0.9142691768301029, 0.8998998336113352, 0.9011736702254003, 0.929159913474189, 0.9025606081883487, 0.9164021107347813, 0.8516907322889575, 0.9471668174778269, 0.8817832292120954, 0.9219058709827843, 0.9273602942904507, 0.8807781524864763, 0.885400053472712, 0.9001564901072727, 0.9849148091178039, 0.9077173670639185, 0.9033116946831078, 0.9352888002996808, 0.8750935396244472, 0.8953173497992732, 0.9239281342078722, 0.7536174915389606, 0.8284130725829688, 0.9250652453718606, 0.9169583824256434, 0.9431584902985408, 0.9670793182004385, 0.9245733486977933, 0.9200189646270683, 0.9098729066663156, 0.865937401454414, 0.8571006507581898, 0.9463986767351437, 0.9506537089399509, 0.9427290803492913, 0.9256512015138572, 0.9948393239031832, 0.9776734433678286, 0.9543165058153311, 0.9624012965446453, 0.9882941202628587, 0.9559726551165273, 0.9296631910539386, 0.9631116119969136, 0.9662621285182827, 0.9886050617522419, 0.985379325865849, 0.9897246002372585, 0.9659208801162733, 0.9411382402964983, 0.9728945349448466, 0.9730803859907762, 0.9389383217677955, 0.945284313300875, 0.9810264887221272, 0.9894184851267943, 0.9037783923024563, 0.9464500514465274, 0.932227691223202, 0.978297483100276, 0.9885960498991118, 0.9582689375429084, 0.8972529638912264, 0.9732402310782023, 0.9405674453432792, 0.9123797936653808, 0.945412292422753, 0.9458969680545787, 0.9587957600868138, 0.9569781973386936, 0.9958249007195041, 0.9609262775324332, 0.9771518481256827, 0.9566990307931384, 0.972334872456547, 0.9044847577012414, 0.9470893794536427, 0.9788227864335669, 0.9985821267143169, 0.9769394821810129, 0.9510581598814785, 0.9900781623931639, 0.9734701076674542, 0.9558147785209519, 0.995628897776648, 0.9803426008564189, 0.9868699036060308, 0.9954851072228337, 0.9717547432033453, 0.9612839218271695, 0.9921278647752156, 0.985939083229932, 0.989998991491967, 0.9864606907153279, 0.995614659088984, 0.993397191140588, 0.9758312604383208, 0.9936375460130751, 0.970429272655335, 0.9922999036462014, 0.9703916881165238, 0.995798190762722, 0.9942238766187792, 0.9955764120493812, 0.9945230512422105, 0.9960758927661781, 0.9686384084537035, 0.9894017174594655, 0.9904136704565595, 0.9801142968665952, 0.9628239512016785, 0.9993946111484284, 0.9883991082206997, 0.9897285005232144, 0.9946906973310097, 0.9805428295241378, 0.9805848004043198, 0.9907489726900357, 0.9932853494428454, 0.9775497358159169, 0.9784255034781628, 0.9927312180873592, 0.9935293557367967, 0.9957898288917433, 0.9994979172122701, 0.9990438009317913, 0.9996022820104647, 0.9654646360992396, 0.9803426008564189, 0.9963369891139877, 0.9983169412142361, 0.9994979172122701, 0.98610024472828, 0.9996022820104647, 0.9995401312601259, 0.9834865850457036, 0.9990543154543866, 0.9955921402776272, 0.995255337950455, 0.9885124043443128, 0.9803426008564189, 0.998376325579544, 0.996404563358967, 0.9906034720170146, 0.9890234202918335, 0.9996022820104647, 0.9958447167374322, 0.999294365164136, 0.9827222543389008, 0.9915449818489407, 0.9984549903473359, 0.9969624068064835, 0.997835172039203, 0.993254825746487, 0.997835172039203, 0.9890568806112443, 0.9989936314525069, 0.9964018027220438, 0.9989703845774002, 0.9996022820104647, 0.9996022820104647, 0.9919728992226988, 0.9941394268906506, 0.9996022820104647, 0.9968558159042152, 0.9915748841152625, 0.9996022820104647, 0.9938931695182088, 0.9953746861966994]}],\n",
       "                        {\"font\": {\"color\": \"rgb(0,0,0)\", \"family\": \"Baskerville, monospace\", \"size\": 12}, \"template\": {\"data\": {\"bar\": [{\"error_x\": {\"color\": \"#2a3f5f\"}, \"error_y\": {\"color\": \"#2a3f5f\"}, \"marker\": {\"line\": {\"color\": \"#E5ECF6\", \"width\": 0.5}}, \"type\": \"bar\"}], \"barpolar\": [{\"marker\": {\"line\": {\"color\": \"#E5ECF6\", \"width\": 0.5}}, \"type\": \"barpolar\"}], \"carpet\": [{\"aaxis\": {\"endlinecolor\": \"#2a3f5f\", \"gridcolor\": \"white\", \"linecolor\": \"white\", \"minorgridcolor\": \"white\", \"startlinecolor\": \"#2a3f5f\"}, \"baxis\": {\"endlinecolor\": \"#2a3f5f\", \"gridcolor\": \"white\", \"linecolor\": \"white\", \"minorgridcolor\": \"white\", \"startlinecolor\": \"#2a3f5f\"}, \"type\": \"carpet\"}], \"choropleth\": [{\"colorbar\": {\"outlinewidth\": 0, \"ticks\": \"\"}, \"type\": \"choropleth\"}], \"contour\": [{\"colorbar\": {\"outlinewidth\": 0, \"ticks\": \"\"}, \"colorscale\": [[0.0, \"#0d0887\"], [0.1111111111111111, \"#46039f\"], [0.2222222222222222, \"#7201a8\"], [0.3333333333333333, \"#9c179e\"], [0.4444444444444444, \"#bd3786\"], [0.5555555555555556, \"#d8576b\"], [0.6666666666666666, \"#ed7953\"], [0.7777777777777778, \"#fb9f3a\"], [0.8888888888888888, \"#fdca26\"], [1.0, \"#f0f921\"]], \"type\": \"contour\"}], \"contourcarpet\": [{\"colorbar\": {\"outlinewidth\": 0, \"ticks\": \"\"}, \"type\": \"contourcarpet\"}], \"heatmap\": [{\"colorbar\": {\"outlinewidth\": 0, \"ticks\": \"\"}, \"colorscale\": [[0.0, \"#0d0887\"], [0.1111111111111111, \"#46039f\"], [0.2222222222222222, \"#7201a8\"], [0.3333333333333333, \"#9c179e\"], [0.4444444444444444, \"#bd3786\"], [0.5555555555555556, \"#d8576b\"], [0.6666666666666666, \"#ed7953\"], [0.7777777777777778, \"#fb9f3a\"], [0.8888888888888888, \"#fdca26\"], [1.0, \"#f0f921\"]], \"type\": \"heatmap\"}], \"heatmapgl\": [{\"colorbar\": {\"outlinewidth\": 0, \"ticks\": \"\"}, \"colorscale\": [[0.0, \"#0d0887\"], [0.1111111111111111, \"#46039f\"], [0.2222222222222222, \"#7201a8\"], [0.3333333333333333, \"#9c179e\"], [0.4444444444444444, \"#bd3786\"], [0.5555555555555556, \"#d8576b\"], [0.6666666666666666, \"#ed7953\"], [0.7777777777777778, \"#fb9f3a\"], [0.8888888888888888, \"#fdca26\"], [1.0, \"#f0f921\"]], \"type\": \"heatmapgl\"}], \"histogram\": [{\"marker\": {\"colorbar\": {\"outlinewidth\": 0, \"ticks\": \"\"}}, \"type\": \"histogram\"}], \"histogram2d\": [{\"colorbar\": {\"outlinewidth\": 0, \"ticks\": \"\"}, \"colorscale\": [[0.0, \"#0d0887\"], [0.1111111111111111, \"#46039f\"], [0.2222222222222222, \"#7201a8\"], [0.3333333333333333, \"#9c179e\"], [0.4444444444444444, \"#bd3786\"], [0.5555555555555556, \"#d8576b\"], [0.6666666666666666, \"#ed7953\"], [0.7777777777777778, \"#fb9f3a\"], [0.8888888888888888, \"#fdca26\"], [1.0, \"#f0f921\"]], \"type\": \"histogram2d\"}], \"histogram2dcontour\": [{\"colorbar\": {\"outlinewidth\": 0, \"ticks\": \"\"}, \"colorscale\": [[0.0, \"#0d0887\"], [0.1111111111111111, \"#46039f\"], [0.2222222222222222, \"#7201a8\"], [0.3333333333333333, \"#9c179e\"], [0.4444444444444444, \"#bd3786\"], [0.5555555555555556, \"#d8576b\"], [0.6666666666666666, \"#ed7953\"], [0.7777777777777778, \"#fb9f3a\"], [0.8888888888888888, \"#fdca26\"], [1.0, \"#f0f921\"]], \"type\": \"histogram2dcontour\"}], \"mesh3d\": [{\"colorbar\": {\"outlinewidth\": 0, \"ticks\": \"\"}, \"type\": \"mesh3d\"}], \"parcoords\": [{\"line\": {\"colorbar\": {\"outlinewidth\": 0, \"ticks\": \"\"}}, \"type\": \"parcoords\"}], \"pie\": [{\"automargin\": true, \"type\": \"pie\"}], \"scatter\": [{\"marker\": {\"colorbar\": {\"outlinewidth\": 0, \"ticks\": \"\"}}, \"type\": \"scatter\"}], \"scatter3d\": [{\"line\": {\"colorbar\": {\"outlinewidth\": 0, \"ticks\": \"\"}}, \"marker\": {\"colorbar\": {\"outlinewidth\": 0, \"ticks\": \"\"}}, \"type\": \"scatter3d\"}], \"scattercarpet\": [{\"marker\": {\"colorbar\": {\"outlinewidth\": 0, \"ticks\": \"\"}}, \"type\": \"scattercarpet\"}], \"scattergeo\": [{\"marker\": {\"colorbar\": {\"outlinewidth\": 0, \"ticks\": \"\"}}, \"type\": \"scattergeo\"}], \"scattergl\": [{\"marker\": {\"colorbar\": {\"outlinewidth\": 0, \"ticks\": \"\"}}, \"type\": \"scattergl\"}], \"scattermapbox\": [{\"marker\": {\"colorbar\": {\"outlinewidth\": 0, \"ticks\": \"\"}}, \"type\": \"scattermapbox\"}], \"scatterpolar\": [{\"marker\": {\"colorbar\": {\"outlinewidth\": 0, \"ticks\": \"\"}}, \"type\": \"scatterpolar\"}], \"scatterpolargl\": [{\"marker\": {\"colorbar\": {\"outlinewidth\": 0, \"ticks\": \"\"}}, \"type\": \"scatterpolargl\"}], \"scatterternary\": [{\"marker\": {\"colorbar\": {\"outlinewidth\": 0, \"ticks\": \"\"}}, \"type\": \"scatterternary\"}], \"surface\": [{\"colorbar\": {\"outlinewidth\": 0, \"ticks\": \"\"}, \"colorscale\": [[0.0, \"#0d0887\"], [0.1111111111111111, \"#46039f\"], [0.2222222222222222, \"#7201a8\"], [0.3333333333333333, \"#9c179e\"], [0.4444444444444444, \"#bd3786\"], [0.5555555555555556, \"#d8576b\"], [0.6666666666666666, \"#ed7953\"], [0.7777777777777778, \"#fb9f3a\"], [0.8888888888888888, \"#fdca26\"], [1.0, \"#f0f921\"]], \"type\": \"surface\"}], \"table\": [{\"cells\": {\"fill\": {\"color\": \"#EBF0F8\"}, \"line\": {\"color\": \"white\"}}, \"header\": {\"fill\": {\"color\": \"#C8D4E3\"}, \"line\": {\"color\": \"white\"}}, \"type\": \"table\"}]}, \"layout\": {\"annotationdefaults\": {\"arrowcolor\": \"#2a3f5f\", \"arrowhead\": 0, \"arrowwidth\": 1}, \"coloraxis\": {\"colorbar\": {\"outlinewidth\": 0, \"ticks\": \"\"}}, \"colorscale\": {\"diverging\": [[0, \"#8e0152\"], [0.1, \"#c51b7d\"], [0.2, \"#de77ae\"], [0.3, \"#f1b6da\"], [0.4, \"#fde0ef\"], [0.5, \"#f7f7f7\"], [0.6, \"#e6f5d0\"], [0.7, \"#b8e186\"], [0.8, \"#7fbc41\"], [0.9, \"#4d9221\"], [1, \"#276419\"]], \"sequential\": [[0.0, \"#0d0887\"], [0.1111111111111111, \"#46039f\"], [0.2222222222222222, \"#7201a8\"], [0.3333333333333333, \"#9c179e\"], [0.4444444444444444, \"#bd3786\"], [0.5555555555555556, \"#d8576b\"], [0.6666666666666666, \"#ed7953\"], [0.7777777777777778, \"#fb9f3a\"], [0.8888888888888888, \"#fdca26\"], [1.0, \"#f0f921\"]], \"sequentialminus\": [[0.0, \"#0d0887\"], [0.1111111111111111, \"#46039f\"], [0.2222222222222222, \"#7201a8\"], [0.3333333333333333, \"#9c179e\"], [0.4444444444444444, \"#bd3786\"], [0.5555555555555556, \"#d8576b\"], [0.6666666666666666, \"#ed7953\"], [0.7777777777777778, \"#fb9f3a\"], [0.8888888888888888, \"#fdca26\"], [1.0, \"#f0f921\"]]}, \"colorway\": [\"#636efa\", \"#EF553B\", \"#00cc96\", \"#ab63fa\", \"#FFA15A\", \"#19d3f3\", \"#FF6692\", \"#B6E880\", \"#FF97FF\", \"#FECB52\"], \"font\": {\"color\": \"#2a3f5f\"}, \"geo\": {\"bgcolor\": \"white\", \"lakecolor\": \"white\", \"landcolor\": \"#E5ECF6\", \"showlakes\": true, \"showland\": true, \"subunitcolor\": \"white\"}, \"hoverlabel\": {\"align\": \"left\"}, \"hovermode\": \"closest\", \"mapbox\": {\"style\": \"light\"}, \"paper_bgcolor\": \"white\", \"plot_bgcolor\": \"#E5ECF6\", \"polar\": {\"angularaxis\": {\"gridcolor\": \"white\", \"linecolor\": \"white\", \"ticks\": \"\"}, \"bgcolor\": \"#E5ECF6\", \"radialaxis\": {\"gridcolor\": \"white\", \"linecolor\": \"white\", \"ticks\": \"\"}}, \"scene\": {\"xaxis\": {\"backgroundcolor\": \"#E5ECF6\", \"gridcolor\": \"white\", \"gridwidth\": 2, \"linecolor\": \"white\", \"showbackground\": true, \"ticks\": \"\", \"zerolinecolor\": \"white\"}, \"yaxis\": {\"backgroundcolor\": \"#E5ECF6\", \"gridcolor\": \"white\", \"gridwidth\": 2, \"linecolor\": \"white\", \"showbackground\": true, \"ticks\": \"\", \"zerolinecolor\": \"white\"}, \"zaxis\": {\"backgroundcolor\": \"#E5ECF6\", \"gridcolor\": \"white\", \"gridwidth\": 2, \"linecolor\": \"white\", \"showbackground\": true, \"ticks\": \"\", \"zerolinecolor\": \"white\"}}, \"shapedefaults\": {\"line\": {\"color\": \"#2a3f5f\"}}, \"ternary\": {\"aaxis\": {\"gridcolor\": \"white\", \"linecolor\": \"white\", \"ticks\": \"\"}, \"baxis\": {\"gridcolor\": \"white\", \"linecolor\": \"white\", \"ticks\": \"\"}, \"bgcolor\": \"#E5ECF6\", \"caxis\": {\"gridcolor\": \"white\", \"linecolor\": \"white\", \"ticks\": \"\"}}, \"title\": {\"x\": 0.05}, \"xaxis\": {\"automargin\": true, \"gridcolor\": \"white\", \"linecolor\": \"white\", \"ticks\": \"\", \"title\": {\"standoff\": 15}, \"zerolinecolor\": \"white\", \"zerolinewidth\": 2}, \"yaxis\": {\"automargin\": true, \"gridcolor\": \"white\", \"linecolor\": \"white\", \"ticks\": \"\", \"title\": {\"standoff\": 15}, \"zerolinecolor\": \"white\", \"zerolinewidth\": 2}}}, \"title\": {\"font\": {\"color\": \"rgb(0,0,0)\", \"family\": \"Big Caslon, monospace\", \"size\": 20}, \"text\": \"Frequency\\u2014Dispersion Chart\", \"x\": 0.5, \"xanchor\": \"center\", \"y\": 0.95, \"yanchor\": \"top\"}, \"xaxis\": {\"title\": {\"text\": \"Frequency Proportion\"}}, \"yaxis\": {\"title\": {\"text\": \"Dispersion Value\"}}},\n",
       "                        {\"responsive\": true}\n",
       "                    ).then(function(){\n",
       "                            \n",
       "var gd = document.getElementById('a5118f42-538b-4f0c-9939-94970b2b4dee');\n",
       "var x = new MutationObserver(function (mutations, observer) {{\n",
       "        var display = window.getComputedStyle(gd).display;\n",
       "        if (!display || display === 'none') {{\n",
       "            console.log([gd, 'removed!']);\n",
       "            Plotly.purge(gd);\n",
       "            observer.disconnect();\n",
       "        }}\n",
       "}});\n",
       "\n",
       "// Listen for the removal of the full notebook cells\n",
       "var notebookContainer = gd.closest('#notebook-container');\n",
       "if (notebookContainer) {{\n",
       "    x.observe(notebookContainer, {childList: true});\n",
       "}}\n",
       "\n",
       "// Listen for the clearing of the current output cell\n",
       "var outputEl = gd.closest('.output');\n",
       "if (outputEl) {{\n",
       "    x.observe(outputEl, {childList: true});\n",
       "}}\n",
       "\n",
       "                        })\n",
       "                };\n",
       "                });\n",
       "            </script>\n",
       "        </div>"
      ]
     },
     "metadata": {},
     "output_type": "display_data"
    },
    {
     "data": {
      "image/png": "[encoded data removed]",
      "text/plain": [
       "<IPython.core.display.Image object>"
      ]
     },
     "execution_count": 8,
     "metadata": {},
     "output_type": "execute_result"
    }
   ],
   "source": [
    "## plots DKL against frequency\n",
    "\n",
    "fig = go.Figure()\n",
    "fig.add_trace(go.Scatter(x = proportions_data2['Total'], y = proportions_data2['DKL Value'], mode='markers+text', text=proportions_data2.index.values, textposition=\"top center\", textfont_size=14))\n",
    "fig.update_layout(xaxis=(dict(title={'text': 'Frequency Proportion'})))\n",
    "fig.update_layout(yaxis=(dict(title={'text': 'Dispersion Value'})))\n",
    "fig.update_layout(title={'text': 'Frequency—Dispersion Chart', 'font':dict(family=\"Big Caslon, monospace\", size=20, color='rgb(0,0,0)'), 'y':0.95, 'x':0.5, 'xanchor': 'center', 'yanchor': 'top'})\n",
    "fig.update_layout(font=dict(family=\"Baskerville, monospace\", size=12, color='rgb(0,0,0)'))\n",
    "img_bytes = fig.to_image(format='png', scale=1)\n",
    "fig.show()\n",
    "Image(img_bytes)"
   ]
  }
 ],
 "metadata": {
  "kernelspec": {
   "display_name": "Python 3",
   "language": "python",
   "name": "python3"
  },
  "language_info": {
   "codemirror_mode": {
    "name": "ipython",
    "version": 3
   },
   "file_extension": ".py",
   "mimetype": "text/x-python",
   "name": "python",
   "nbconvert_exporter": "python",
   "pygments_lexer": "ipython3",
   "version": "3.7.4"
  }
 },
 "nbformat": 4,
 "nbformat_minor": 2
}

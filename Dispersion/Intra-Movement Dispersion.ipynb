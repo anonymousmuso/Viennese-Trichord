{
 "cells": [
  {
   "cell_type": "markdown",
   "metadata": {},
   "source": [
    "# Introduction\n",
    "Calculates intra-movement DKL values for each movement (as divided into 6 parts) and graphs this against frequency."
   ]
  },
  {
   "cell_type": "markdown",
   "metadata": {},
   "source": [
    "# Setup"
   ]
  },
  {
   "cell_type": "code",
   "execution_count": 3,
   "metadata": {},
   "outputs": [
    {
     "data": {
      "text/html": [
       "        <script type=\"text/javascript\">\n",
       "        window.PlotlyConfig = {MathJaxConfig: 'local'};\n",
       "        if (window.MathJax) {MathJax.Hub.Config({SVG: {font: \"STIX-Web\"}});}\n",
       "        if (typeof require !== 'undefined') {\n",
       "        require.undef(\"plotly\");\n",
       "        requirejs.config({\n",
       "            paths: {\n",
       "                'plotly': ['https://cdn.plot.ly/plotly-latest.min']\n",
       "            }\n",
       "        });\n",
       "        require(['plotly'], function(Plotly) {\n",
       "            window._Plotly = Plotly;\n",
       "        });\n",
       "        }\n",
       "        </script>\n",
       "        "
      ]
     },
     "metadata": {},
     "output_type": "display_data"
    },
    {
     "data": {
      "text/html": [
       "        <script type=\"text/javascript\">\n",
       "        window.PlotlyConfig = {MathJaxConfig: 'local'};\n",
       "        if (window.MathJax) {MathJax.Hub.Config({SVG: {font: \"STIX-Web\"}});}\n",
       "        if (typeof require !== 'undefined') {\n",
       "        require.undef(\"plotly\");\n",
       "        requirejs.config({\n",
       "            paths: {\n",
       "                'plotly': ['https://cdn.plot.ly/plotly-latest.min']\n",
       "            }\n",
       "        });\n",
       "        require(['plotly'], function(Plotly) {\n",
       "            window._Plotly = Plotly;\n",
       "        });\n",
       "        }\n",
       "        </script>\n",
       "        "
      ]
     },
     "metadata": {},
     "output_type": "display_data"
    }
   ],
   "source": [
    "from music21 import *\n",
    "import os\n",
    "import csv\n",
    "import pandas as pd\n",
    "import chart_studio.plotly as py\n",
    "import plotly.graph_objects as go\n",
    "from plotly.offline import iplot, init_notebook_mode\n",
    "import cufflinks\n",
    "cufflinks.go_offline(connected=True)\n",
    "init_notebook_mode(connected=True)\n",
    "import statsmodels\n",
    "from IPython.display import Image\n",
    "import math"
   ]
  },
  {
   "cell_type": "markdown",
   "metadata": {},
   "source": [
    "# Verticalities"
   ]
  },
  {
   "cell_type": "code",
   "execution_count": 20,
   "metadata": {},
   "outputs": [
    {
     "name": "stderr",
     "output_type": "stream",
     "text": [
      "/opt/anaconda3/lib/python3.7/site-packages/music21/corpus/corpora.py: WARNING: DPhilCorpus metadata cache: starting processing of paths: 107\n",
      "/opt/anaconda3/lib/python3.7/site-packages/music21/corpus/corpora.py: WARNING: cache: filename: /var/folders/cr/p20lv70n2wbf2w8jfmxbh69w0000gp/T/music21/local-DPhilCorpus.p.gz\n",
      "bundles.py: WARNING: MetadataBundle Modification Time: 1608726106.311569\n",
      "bundles.py: WARNING: Skipped 56 sources already in cache.\n",
      "bundles.py: WARNING: updated 1 of 51 files; total errors: 0 ... last file: /Users/joshua ballance/Desktop/Oxford/Corpus/Sounding Corpus (Movements)/XML/Op. 27 i.xml\n",
      "bundles.py: WARNING: updated 2 of 51 files; total errors: 0 ... last file: /Users/joshua ballance/Desktop/Oxford/Corpus/Sounding Corpus (Movements)/XML/Op. 27 ii.xml\n",
      "bundles.py: WARNING: updated 3 of 51 files; total errors: 0 ... last file: /Users/joshua ballance/Desktop/Oxford/Corpus/Sounding Corpus (Movements)/XML/Op. 27 iii.xml\n",
      "bundles.py: WARNING: updated 4 of 51 files; total errors: 0 ... last file: /Users/joshua ballance/Desktop/Oxford/Corpus/Sounding Corpus (Movements)/XML/Op. 28 i.xml\n",
      "bundles.py: WARNING: updated 5 of 51 files; total errors: 0 ... last file: /Users/joshua ballance/Desktop/Oxford/Corpus/Sounding Corpus (Movements)/XML/Op. 28 ii.xml\n",
      "bundles.py: WARNING: updated 6 of 51 files; total errors: 0 ... last file: /Users/joshua ballance/Desktop/Oxford/Corpus/Sounding Corpus (Movements)/XML/Op. 26.xml\n",
      "bundles.py: WARNING: updated 7 of 51 files; total errors: 0 ... last file: /Users/joshua ballance/Desktop/Oxford/Corpus/Sounding Corpus (Movements)/XML/Op. 28 iii.xml\n",
      "bundles.py: WARNING: updated 8 of 51 files; total errors: 0 ... last file: /Users/joshua ballance/Desktop/Oxford/Corpus/Sounding Corpus (Movements)/XML/Op. 29 i.xml\n",
      "bundles.py: WARNING: updated 9 of 51 files; total errors: 0 ... last file: /Users/joshua ballance/Desktop/Oxford/Corpus/Sounding Corpus (Movements)/XML/Op. 29 ii.xml\n",
      "bundles.py: WARNING: updated 10 of 51 files; total errors: 0 ... last file: /Users/joshua ballance/Desktop/Oxford/Corpus/Sounding Corpus (Movements)/XML/Op. 3 i.xml\n",
      "bundles.py: WARNING: updated 11 of 51 files; total errors: 0 ... last file: /Users/joshua ballance/Desktop/Oxford/Corpus/Sounding Corpus (Movements)/XML/Op. 3 ii.xml\n",
      "bundles.py: WARNING: updated 12 of 51 files; total errors: 0 ... last file: /Users/joshua ballance/Desktop/Oxford/Corpus/Sounding Corpus (Movements)/XML/Op. 3 iii.xml\n",
      "bundles.py: WARNING: updated 13 of 51 files; total errors: 0 ... last file: /Users/joshua ballance/Desktop/Oxford/Corpus/Sounding Corpus (Movements)/XML/Op. 3 iv.xml\n",
      "bundles.py: WARNING: updated 14 of 51 files; total errors: 0 ... last file: /Users/joshua ballance/Desktop/Oxford/Corpus/Sounding Corpus (Movements)/XML/Op. 3 v.xml\n",
      "bundles.py: WARNING: updated 15 of 51 files; total errors: 0 ... last file: /Users/joshua ballance/Desktop/Oxford/Corpus/Sounding Corpus (Movements)/XML/Op. 29 iii.xml\n",
      "bundles.py: WARNING: updated 16 of 51 files; total errors: 0 ... last file: /Users/joshua ballance/Desktop/Oxford/Corpus/Sounding Corpus (Movements)/XML/Op. 31 i.xml\n",
      "bundles.py: WARNING: updated 17 of 51 files; total errors: 0 ... last file: /Users/joshua ballance/Desktop/Oxford/Corpus/Sounding Corpus (Movements)/XML/Op. 30.xml\n",
      "bundles.py: WARNING: updated 18 of 51 files; total errors: 0 ... last file: /Users/joshua ballance/Desktop/Oxford/Corpus/Sounding Corpus (Movements)/XML/Op. 31 ii.xml\n",
      "bundles.py: WARNING: updated 19 of 51 files; total errors: 0 ... last file: /Users/joshua ballance/Desktop/Oxford/Corpus/Sounding Corpus (Movements)/XML/Op. 31 iv.xml\n",
      "bundles.py: WARNING: updated 20 of 51 files; total errors: 0 ... last file: /Users/joshua ballance/Desktop/Oxford/Corpus/Sounding Corpus (Movements)/XML/Op. 31 iii.xml\n",
      "bundles.py: WARNING: updated 21 of 51 files; total errors: 0 ... last file: /Users/joshua ballance/Desktop/Oxford/Corpus/Sounding Corpus (Movements)/XML/Op. 31 v.xml\n",
      "bundles.py: WARNING: updated 22 of 51 files; total errors: 0 ... last file: /Users/joshua ballance/Desktop/Oxford/Corpus/Sounding Corpus (Movements)/XML/Op. 31 vi.xml\n",
      "bundles.py: WARNING: updated 23 of 51 files; total errors: 0 ... last file: /Users/joshua ballance/Desktop/Oxford/Corpus/Sounding Corpus (Movements)/XML/Op. 4 i.xml\n",
      "bundles.py: WARNING: updated 24 of 51 files; total errors: 0 ... last file: /Users/joshua ballance/Desktop/Oxford/Corpus/Sounding Corpus (Movements)/XML/Op. 4 ii.xml\n",
      "bundles.py: WARNING: updated 25 of 51 files; total errors: 0 ... last file: /Users/joshua ballance/Desktop/Oxford/Corpus/Sounding Corpus (Movements)/XML/Op. 4 iii.xml\n",
      "bundles.py: WARNING: updated 26 of 51 files; total errors: 0 ... last file: /Users/joshua ballance/Desktop/Oxford/Corpus/Sounding Corpus (Movements)/XML/Op. 4 iv.xml\n",
      "bundles.py: WARNING: updated 27 of 51 files; total errors: 0 ... last file: /Users/joshua ballance/Desktop/Oxford/Corpus/Sounding Corpus (Movements)/XML/Op. 4 v.xml\n",
      "bundles.py: WARNING: updated 28 of 51 files; total errors: 0 ... last file: /Users/joshua ballance/Desktop/Oxford/Corpus/Sounding Corpus (Movements)/XML/Op. 5 ii.xml\n",
      "bundles.py: WARNING: updated 29 of 51 files; total errors: 0 ... last file: /Users/joshua ballance/Desktop/Oxford/Corpus/Sounding Corpus (Movements)/XML/Op. 1.xml\n",
      "bundles.py: WARNING: updated 30 of 51 files; total errors: 0 ... last file: /Users/joshua ballance/Desktop/Oxford/Corpus/Sounding Corpus (Movements)/XML/Op. 5 iii.xml\n",
      "bundles.py: WARNING: updated 31 of 51 files; total errors: 0 ... last file: /Users/joshua ballance/Desktop/Oxford/Corpus/Sounding Corpus (Movements)/XML/Op. 5 iv.xml\n",
      "bundles.py: WARNING: updated 32 of 51 files; total errors: 0 ... last file: /Users/joshua ballance/Desktop/Oxford/Corpus/Sounding Corpus (Movements)/XML/Op. 5 v.xml\n",
      "bundles.py: WARNING: updated 33 of 51 files; total errors: 0 ... last file: /Users/joshua ballance/Desktop/Oxford/Corpus/Sounding Corpus (Movements)/XML/Op. 5 i.xml\n",
      "bundles.py: WARNING: updated 34 of 51 files; total errors: 0 ... last file: /Users/joshua ballance/Desktop/Oxford/Corpus/Sounding Corpus (Movements)/XML/Op. 6 i.xml\n",
      "bundles.py: WARNING: updated 35 of 51 files; total errors: 0 ... last file: /Users/joshua ballance/Desktop/Oxford/Corpus/Sounding Corpus (Movements)/XML/Op. 6 iii.xml\n",
      "bundles.py: WARNING: updated 36 of 51 files; total errors: 0 ... last file: /Users/joshua ballance/Desktop/Oxford/Corpus/Sounding Corpus (Movements)/XML/Op. 6 ii.xml\n",
      "bundles.py: WARNING: updated 37 of 51 files; total errors: 0 ... last file: /Users/joshua ballance/Desktop/Oxford/Corpus/Sounding Corpus (Movements)/XML/Op. 6 iv.xml\n",
      "bundles.py: WARNING: updated 38 of 51 files; total errors: 0 ... last file: /Users/joshua ballance/Desktop/Oxford/Corpus/Sounding Corpus (Movements)/XML/Op. 6 v.xml\n",
      "bundles.py: WARNING: updated 39 of 51 files; total errors: 0 ... last file: /Users/joshua ballance/Desktop/Oxford/Corpus/Sounding Corpus (Movements)/XML/Op. 7 i.xml\n",
      "bundles.py: WARNING: updated 40 of 51 files; total errors: 0 ... last file: /Users/joshua ballance/Desktop/Oxford/Corpus/Sounding Corpus (Movements)/XML/Op. 7 iii.xml\n",
      "bundles.py: WARNING: updated 41 of 51 files; total errors: 0 ... last file: /Users/joshua ballance/Desktop/Oxford/Corpus/Sounding Corpus (Movements)/XML/Op. 6 vi.xml\n",
      "bundles.py: WARNING: updated 42 of 51 files; total errors: 0 ... last file: /Users/joshua ballance/Desktop/Oxford/Corpus/Sounding Corpus (Movements)/XML/Op. 7 iv.xml\n",
      "bundles.py: WARNING: updated 43 of 51 files; total errors: 0 ... last file: /Users/joshua ballance/Desktop/Oxford/Corpus/Sounding Corpus (Movements)/XML/Op. 8 i.xml\n",
      "bundles.py: WARNING: updated 44 of 51 files; total errors: 0 ... last file: /Users/joshua ballance/Desktop/Oxford/Corpus/Sounding Corpus (Movements)/XML/Op. 7 ii.xml\n",
      "bundles.py: WARNING: updated 45 of 51 files; total errors: 0 ... last file: /Users/joshua ballance/Desktop/Oxford/Corpus/Sounding Corpus (Movements)/XML/Op. 9 i.xml\n",
      "bundles.py: WARNING: updated 46 of 51 files; total errors: 0 ... last file: /Users/joshua ballance/Desktop/Oxford/Corpus/Sounding Corpus (Movements)/XML/Op. 9 ii.xml\n",
      "bundles.py: WARNING: updated 47 of 51 files; total errors: 0 ... last file: /Users/joshua ballance/Desktop/Oxford/Corpus/Sounding Corpus (Movements)/XML/Op. 9 iii.xml\n",
      "bundles.py: WARNING: updated 48 of 51 files; total errors: 0 ... last file: /Users/joshua ballance/Desktop/Oxford/Corpus/Sounding Corpus (Movements)/XML/Op. 8 ii.xml\n",
      "bundles.py: WARNING: updated 49 of 51 files; total errors: 0 ... last file: /Users/joshua ballance/Desktop/Oxford/Corpus/Sounding Corpus (Movements)/XML/Op. 9 iv.xml\n"
     ]
    },
    {
     "name": "stderr",
     "output_type": "stream",
     "text": [
      "bundles.py: WARNING: updated 50 of 51 files; total errors: 0 ... last file: /Users/joshua ballance/Desktop/Oxford/Corpus/Sounding Corpus (Movements)/XML/Op. 9 v.xml\n",
      "bundles.py: WARNING: updated 51 of 51 files; total errors: 0 ... last file: /Users/joshua ballance/Desktop/Oxford/Corpus/Sounding Corpus (Movements)/XML/Op. 9 vi.xml\n",
      "/opt/anaconda3/lib/python3.7/site-packages/music21/corpus/corpora.py: WARNING: cache: writing time: 63.825 md items: 107\n",
      "\n",
      "/opt/anaconda3/lib/python3.7/site-packages/music21/corpus/corpora.py: WARNING: cache: filename: /var/folders/cr/p20lv70n2wbf2w8jfmxbh69w0000gp/T/music21/local-DPhilCorpus.p.gz\n"
     ]
    },
    {
     "data": {
      "text/plain": [
       "True"
      ]
     },
     "execution_count": 20,
     "metadata": {},
     "output_type": "execute_result"
    }
   ],
   "source": [
    "## load corpus\n",
    "\n",
    "properCorpus = corpus.corpora.LocalCorpus('DPhilCorpus')\n",
    "properCorpus.existsInSettings\n",
    "\n",
    "properCorpus.addPath('~/Desktop/Oxford/Corpus/Sounding Corpus (Movements)/XML/')\n",
    "properCorpus.directoryPaths\n",
    "\n",
    "properCorpus.save()\n",
    "properCorpus.existsInSettings"
   ]
  },
  {
   "cell_type": "code",
   "execution_count": 21,
   "metadata": {},
   "outputs": [],
   "source": [
    "## organise corpus\n",
    "\n",
    "pieceName = []\n",
    "\n",
    "listOfWorks = properCorpus.search('Op.')\n",
    "for el in listOfWorks:\n",
    "    pieceName.append(el.sourcePath)"
   ]
  },
  {
   "cell_type": "code",
   "execution_count": 22,
   "metadata": {},
   "outputs": [],
   "source": [
    "## record the offset of each VT in each movement\n",
    "\n",
    "list_of_info = []\n",
    "for el in pieceName:\n",
    "    thePiece = corpus.parse(el)\n",
    "    fileTitle = str(el).replace(\"/Users/joshua ballance/Desktop/Oxford/Corpus/Sounding Corpus (Movements)/XML/\", \"\").replace(\".xml\", \"\").replace(\".mxl\", \"\")\n",
    "    opusNumber = fileTitle.replace(\"Op.\", \"\").replace(\" \", \"\").replace(\"i\", \"\").replace(\"v\", \"\")\n",
    "    movementNumber = fileTitle.replace(\"Op.\", \"\").replace(\" \", \"\").replace(\"1\", \"\").replace(\"2\", \"\").replace(\"3\", \"\").replace(\"4\", \"\").replace(\"5\", \"\").replace(\"6\", \"\").replace(\"7\", \"\").replace(\"8\", \"\").replace(\"9\", \"\").replace(\"0\", \"\")\n",
    "    chordifiedPiece = thePiece.chordify()\n",
    "    chords = chordifiedPiece.flat.recurse().getElementsByClass('Chord')\n",
    "    rests = chordifiedPiece.flat.recurse().getElementsByClass('Chord')\n",
    "    listOfOffsetsandDurations = []\n",
    "    for i in range(0, len(chords)-1):\n",
    "        temp = []\n",
    "        if str(chords[i].primeForm) == '[0, 1, 6]':\n",
    "            offset_position = chords[i].offset\n",
    "            list_of_duration_values = []\n",
    "            for j in chords:\n",
    "                if j.offset < offset_position:\n",
    "                    list_of_duration_values.append(j.seconds)\n",
    "            for k in rests:\n",
    "                if k.offset < offset_position:\n",
    "                    list_of_duration_values.append(k.seconds)\n",
    "            listOfOffsetsandDurations.append([sum(list_of_duration_values), chords[i].seconds])\n",
    "    all_chord_durations = []\n",
    "    all_rest_durations = []\n",
    "    for l in chords:\n",
    "        all_chord_durations.append(l.seconds)\n",
    "    for m in rests:\n",
    "        all_rest_durations.append(m.seconds)\n",
    "    temp = []\n",
    "    temp.append(fileTitle)\n",
    "    temp.append(listOfOffsetsandDurations)\n",
    "    temp.append(sum(all_chord_durations)+sum(all_rest_durations))\n",
    "    list_of_info.append(temp)"
   ]
  },
  {
   "cell_type": "code",
   "execution_count": 23,
   "metadata": {},
   "outputs": [
    {
     "name": "stdout",
     "output_type": "stream",
     "text": [
      "[['Op. 1', 0.8294466438490942], ['Op. 10 i', 0.79504452134466], ['Op. 10 ii', 0.0], ['Op. 10 iii', 0.924601093047248], ['Op. 10 iv', 0.6423876831769093], ['Op. 10 v', 0.924601093047248], ['Op. 11 i', 0.924601093047248], ['Op. 11 ii', 0.8009127098106901], ['Op. 11 iii', 0.0], ['Op. 12 i', 0.8637535256547648], ['Op. 12 ii', 0.7403762987030913], ['Op. 12 iii', 0.8111243971624382], ['Op. 12 iv', 0.924601093047248], ['Op. 13 i', 0.8111243971624381], ['Op. 13 ii', 0.924601093047248], ['Op. 13 iii', 0.6390066177039198], ['Op. 13 iv', 0.6378221330842966], ['Op. 14 i', 0.2932071174329802], ['Op. 14 ii', 0.7253359670250838], ['Op. 14 iii', 0.347210045255555], ['Op. 14 iv', 0.3702113512281978], ['Op. 14 v', 0.48161086479913806], ['Op. 14 vi', 0.5273587084484699], ['Op. 15 i', 0.79504452134466], ['Op. 15 ii', 0.149874656606939], ['Op. 15 iii', 0.29650380506528184], ['Op. 15 iv', 0.6620855427944148], ['Op. 15 v', 0.46582038847240215], ['Op. 16 i', 0.1591653779406107], ['Op. 16 ii', 0.0], ['Op. 16 iii', 0.6756118815659695], ['Op. 16 iv', 0.0], ['Op. 16 v', 0.6469478489502463], ['Op. 17 i', 0.5276021353566742], ['Op. 17 ii', 0.6391764677014299], ['Op. 17 iii', 0.29137548919286793], ['Op. 18 i', 0.28334978339088135], ['Op. 18 ii', 0.2795709012296004], ['Op. 18 iii', 0.31896608166649], ['Op. 19 i', 0.79504452134466], ['Op. 19 ii', 0.6764487449831401], ['Op. 2', 0.7292572529602546], ['Op. 20 i', 0.0880930944697722], ['Op. 20 ii', 0.05331512400902361], ['Op. 21 i', 0.3874031228587409], ['Op. 21 ii', 0.0972312482326636], ['Op. 22 i', 0.79504452134466], ['Op. 22 ii', 0.31657485060658475], ['Op. 23 i', 0.79504452134466], ['Op. 23 ii', 0.4731944935738376], ['Op. 23 iii', 0.5047335054353245], ['Op. 24 i', 0.42607164694560085], ['Op. 24 ii', 0.4974911686013095], ['Op. 24 iii', 0.6327892698764517], ['Op. 25 i', 0.0], ['Op. 25 ii', 0.3193858040026476], ['Op. 25 iii', 0.924601093047248], ['Op. 26', 0.7304177354564801], ['Op. 27 i', 0.4938866827503492], ['Op. 27 ii', 0.05287427995835414], ['Op. 27 iii', 0.7086757542525448], ['Op. 28 i', 0.6641943984950992], ['Op. 28 ii', 0.924601093047248], ['Op. 28 iii', 0.79504452134466], ['Op. 29 i', 0.924601093047248], ['Op. 29 ii', 0.5449101123675819], ['Op. 29 iii', 0.5121222707760051], ['Op. 3 i', 0.0], ['Op. 3 ii', 0.8009127098106901], ['Op. 3 iii', 0.0], ['Op. 3 iv', 0.8752825083076089], ['Op. 3 v', 0.0], ['Op. 30', 0.796865395004203], ['Op. 31 i', 0.0], ['Op. 31 ii', 0.15259840204369257], ['Op. 31 iii', 0.6703307559233762], ['Op. 31 iv', 0.0], ['Op. 31 v', 0.6756118815659695], ['Op. 31 vi', 0.07845545736700499], ['Op. 4 i', 0.924601093047248], ['Op. 4 ii', 0.8174712124998434], ['Op. 4 iii', 0.924601093047248], ['Op. 4 iv', 0.0], ['Op. 4 v', 0.924601093047248], ['Op. 5 i', 0.79504452134466], ['Op. 5 ii', 0.924601093047248], ['Op. 5 iii', 0.523118261905178], ['Op. 5 iv', 0.3966169589854177], ['Op. 5 v', 0.0], ['Op. 6 i', 0.924601093047248], ['Op. 6 ii', 0.924601093047248], ['Op. 6 iii', 0.79504452134466], ['Op. 6 iv', 0.0], ['Op. 6 v', 0.0], ['Op. 6 vi', 0.0], ['Op. 7 i', 0.692513298089926], ['Op. 7 ii', 0.7205254745913483], ['Op. 7 iii', 0.924601093047248], ['Op. 7 iv', 0.8447990276069941], ['Op. 8 i', 0.6595003483039203], ['Op. 8 ii', 0.924601093047248], ['Op. 9 i', 0.5596060971289929], ['Op. 9 ii', 0.924601093047248], ['Op. 9 iii', 0.8654968790458037], ['Op. 9 iv', 0.6372393056272577], ['Op. 9 v', 0.4847146251328135], ['Op. 9 vi', 0.8380970171129963]]\n"
     ]
    }
   ],
   "source": [
    "## segment each movement into 6 parts and count the number of VT instances in each part; then return DKL values\n",
    "\n",
    "DKL_values = []\n",
    "for i in list_of_info:\n",
    "    total_offsets_range = i[2]/6\n",
    "    offsets_partitions = []\n",
    "    for j in range(0, 7):\n",
    "        offsets_partitions.append(j*total_offsets_range)\n",
    "    list_of_partitioned_verticality_values = []\n",
    "    \n",
    "    for l in range(0, len(offsets_partitions)):\n",
    "        temp = []\n",
    "        for k in i[1]:\n",
    "            val = k[0]\n",
    "            if val > offsets_partitions[l]:\n",
    "                if val <= offsets_partitions[l+1]:\n",
    "                    temp.append(k[1])\n",
    "        list_of_partitioned_verticality_values.append(temp)\n",
    "    \n",
    "    \n",
    "    \n",
    "    list_of_partition_number_counts = []\n",
    "\n",
    "    for k in list_of_partitioned_verticality_values:\n",
    "        list_of_partition_number_counts.append(sum(k))\n",
    "    \n",
    "    \n",
    "    list_of_plog_values = []\n",
    "    for l in list_of_partition_number_counts:\n",
    "        if l == 0:\n",
    "            list_of_plog_values.append(0)\n",
    "        else:\n",
    "            p_value = l/sum(list_of_partition_number_counts)\n",
    "            plog2pq_value = p_value*math.log2(p_value/(1/6))\n",
    "            list_of_plog_values.append(plog2pq_value)\n",
    "    verticality_plog_value = sum(list_of_plog_values)\n",
    "    DKL_value = 1-(math.exp(-verticality_plog_value))\n",
    "    DKL_values.append([i[0], DKL_value])\n",
    "print(DKL_values)"
   ]
  },
  {
   "cell_type": "code",
   "execution_count": 24,
   "metadata": {},
   "outputs": [],
   "source": [
    "## plot frequency against DKL\n",
    "\n",
    "verticalities_url_pf = 'https://raw.githubusercontent.com/anonymousmuso/Viennese-Trichord/main/Data/Verticalities%20-%20Prime%20Form.csv'\n",
    "verticalities_pf = pd.read_csv(verticalities_url_pf, error_bad_lines=False)\n",
    "verticalities_pf = verticalities_pf.set_index('Title').iloc[:, 11:12]\n",
    "\n",
    "sorted_DKL_values = []\n",
    "for i in verticalities_pf.index.values.flat:\n",
    "    for j in DKL_values:\n",
    "        if i == j[0]:\n",
    "            sorted_DKL_values.append(j[1])\n",
    "verticalities_pf['DKL Values'] = sorted_DKL_values"
   ]
  },
  {
   "cell_type": "code",
   "execution_count": 25,
   "metadata": {
    "scrolled": false
   },
   "outputs": [
    {
     "data": {
      "application/vnd.plotly.v1+json": {
       "config": {
        "plotlyServerURL": "https://plot.ly"
       },
       "data": [
        {
         "marker": {
          "color": "rgb(3,199,45)",
          "line": {
           "color": "rgb(3,35,134)",
           "width": 1.5
          }
         },
         "mode": "markers+text",
         "opacity": 0.6,
         "text": [
          "Op. 18 i",
          "Op. 29 ii",
          "Op. 20 ii",
          "Op. 21 ii",
          "Op. 15 ii",
          "Op. 9 iv",
          "Op. 18 iii",
          "Op. 13 iii",
          "Op. 16 i",
          "Op. 27 ii",
          "Op. 9 v",
          "Op. 5 iv"
         ],
         "textfont": {
          "size": 9
         },
         "textposition": "bottom center",
         "type": "scatter",
         "x": [
          7.0776255707762425,
          7.265000505919263,
          7.491038701024662,
          8.012729289692183,
          8.449612403100767,
          8.547008547008549,
          8.716495968620602,
          9.484873262469339,
          11.607142857142858,
          12.5,
          12.605042016806722,
          14.146341463414632
         ],
         "y": [
          0.28334978339088135,
          0.5449101123675819,
          0.05331512400902361,
          0.0972312482326636,
          0.149874656606939,
          0.6372393056272577,
          0.31896608166649,
          0.6390066177039198,
          0.1591653779406107,
          0.05287427995835414,
          0.4847146251328135,
          0.3966169589854177
         ]
        },
        {
         "marker": {
          "color": "rgb(3,199,45)",
          "line": {
           "color": "rgb(3,35,134)",
           "width": 1.5
          }
         },
         "mode": "markers",
         "opacity": 0.6,
         "text": [
          "Op. 11 iii",
          "Op. 25 i",
          "Op. 3 i",
          "Op. 6 v",
          "Op. 3 iii",
          "Op. 16 ii",
          "Op. 3 v",
          "Op. 6 iv",
          "Op. 31 i",
          "Op. 5 v",
          "Op. 4 iv",
          "Op. 6 vi",
          "Op. 16 iv",
          "Op. 10 ii",
          "Op. 31 iv",
          "Op. 1",
          "Op. 4 i",
          "Op. 6 ii",
          "Op. 15 i",
          "Op. 13 ii",
          "Op. 19 i",
          "Op. 10 iii",
          "Op. 26",
          "Op. 29 i",
          "Op. 25 iii",
          "Op. 3 iv",
          "Op. 6 i",
          "Op. 13 i",
          "Op. 31 v",
          "Op. 28 ii",
          "Op. 4 v",
          "Op. 8 ii",
          "Op. 9 ii",
          "Op. 5 ii",
          "Op. 23 i",
          "Op. 12 iii",
          "Op. 3 ii",
          "Op. 28 iii",
          "Op. 4 iii",
          "Op. 5 i",
          "Op. 10 v",
          "Op. 7 iii",
          "Op. 22 i",
          "Op. 31 iii",
          "Op. 30",
          "Op. 12 iv",
          "Op. 28 i",
          "Op. 23 iii",
          "Op. 29 iii",
          "Op. 23 ii",
          "Op. 2",
          "Op. 14 ii",
          "Op. 14 iv",
          "Op. 12 i",
          "Op. 7 ii",
          "Op. 11 ii",
          "Op. 8 i",
          "Op. 24 iii",
          "Op. 4 ii",
          "Op. 31 ii",
          "Op. 12 ii",
          "Op. 21 i",
          "Op. 9 iii",
          "Op. 10 i",
          "Op. 15 iv",
          "Op. 17 ii",
          "Op. 27 iii",
          "Op. 13 iv",
          "Op. 7 i",
          "Op. 16 iii",
          "Op. 11 i",
          "Op. 10 iv",
          "Op. 6 iii",
          "Op. 22 ii",
          "Op. 7 iv",
          "Op. 17 i",
          "Op. 24 ii",
          "Op. 31 vi",
          "Op. 25 ii",
          "Op. 19 ii",
          "Op. 16 v",
          "Op. 15 iii",
          "Op. 5 iii",
          "Op. 18 ii",
          "Op. 14 i",
          "Op. 17 iii",
          "Op. 14 v",
          "Op. 15 v",
          "Op. 9 vi",
          "Op. 24 i",
          "Op. 14 iii",
          "Op. 14 vi",
          "Op. 9 i"
         ],
         "textfont": {
          "size": 9
         },
         "textposition": "bottom center",
         "type": "scatter",
         "x": [
          0,
          0,
          0,
          0,
          0,
          0,
          0,
          0,
          0,
          0,
          0,
          0,
          0,
          0,
          0,
          0.031646098336526124,
          0.08445945945945961,
          0.1306762495916367,
          0.4166666666666666,
          0.4682305567261308,
          0.470588235294118,
          0.4716981132075472,
          0.5515038995052515,
          0.7914572864321623,
          0.8250257820556908,
          0.8379888268156414,
          0.8510638297872339,
          0.8556685883196922,
          0.8862629246676506,
          0.9264758284831924,
          0.9596928982725528,
          0.9729203826820184,
          1.0132995566814436,
          1.0309278350515465,
          1.2133468149646105,
          1.2489072061945792,
          1.3123359580052496,
          1.316135825217163,
          1.3368983957219254,
          1.388696014442426,
          1.4962593516209477,
          1.5094339622641522,
          1.5424164524421697,
          1.6157535975763708,
          1.7928032344643186,
          1.830384380719952,
          1.8578143616640748,
          1.935902185994812,
          2.124332073504492,
          2.294847754263771,
          2.311352571998354,
          2.3180154534363577,
          2.3697610654132384,
          2.4911032028469746,
          2.5454349350159062,
          2.680965147453082,
          2.6813186813186807,
          2.697495183044313,
          2.7674683028339744,
          2.7692307692307705,
          2.8248587570621466,
          2.839756592292055,
          2.904148783977108,
          2.9090909090909087,
          3.045685279187818,
          3.14245810055866,
          3.1542913032846935,
          3.2483291640219467,
          3.252032520325204,
          3.361344537815126,
          3.37837837837838,
          3.645833333333333,
          3.7037037037036984,
          3.7979679566508966,
          3.8768276473194496,
          3.932584269662912,
          3.9337474120082816,
          4.225352112676063,
          4.3280182232346265,
          4.504504504504505,
          4.650182635571789,
          4.655493482309124,
          4.710878241625194,
          4.787234042553191,
          4.943638105061519,
          4.986149584487533,
          5.248738861371974,
          5.5232558139534875,
          5.590062111801244,
          5.976335316531861,
          6.279880868406608,
          6.777378815080793,
          6.993656196812628
         ],
         "y": [
          0,
          0,
          0,
          0,
          0,
          0,
          0,
          0,
          0,
          0,
          0,
          0,
          0,
          0,
          0,
          0.8294466438490942,
          0.924601093047248,
          0.924601093047248,
          0.79504452134466,
          0.924601093047248,
          0.79504452134466,
          0.924601093047248,
          0.7304177354564801,
          0.924601093047248,
          0.924601093047248,
          0.8752825083076089,
          0.924601093047248,
          0.8111243971624381,
          0.6756118815659695,
          0.924601093047248,
          0.924601093047248,
          0.924601093047248,
          0.924601093047248,
          0.924601093047248,
          0.79504452134466,
          0.8111243971624382,
          0.8009127098106901,
          0.79504452134466,
          0.924601093047248,
          0.79504452134466,
          0.924601093047248,
          0.924601093047248,
          0.79504452134466,
          0.6703307559233762,
          0.796865395004203,
          0.924601093047248,
          0.6641943984950992,
          0.5047335054353245,
          0.5121222707760051,
          0.4731944935738376,
          0.7292572529602546,
          0.7253359670250838,
          0.3702113512281978,
          0.8637535256547648,
          0.7205254745913483,
          0.8009127098106901,
          0.6595003483039203,
          0.6327892698764517,
          0.8174712124998434,
          0.15259840204369257,
          0.7403762987030913,
          0.3874031228587409,
          0.8654968790458037,
          0.79504452134466,
          0.6620855427944148,
          0.6391764677014299,
          0.7086757542525448,
          0.6378221330842966,
          0.692513298089926,
          0.6756118815659695,
          0.924601093047248,
          0.6423876831769093,
          0.79504452134466,
          0.31657485060658475,
          0.8447990276069941,
          0.5276021353566742,
          0.4974911686013095,
          0.07845545736700499,
          0.3193858040026476,
          0.6764487449831401,
          0.6469478489502463,
          0.29650380506528184,
          0.523118261905178,
          0.2795709012296004,
          0.2932071174329802,
          0.29137548919286793,
          0.48161086479913806,
          0.46582038847240215,
          0.8380970171129963,
          0.42607164694560085,
          0.347210045255555,
          0.5273587084484699,
          0.5596060971289929
         ]
        },
        {
         "marker": {
          "color": "rgb(3,199,45)",
          "line": {
           "color": "rgb(3,35,134)",
           "width": 1.5
          }
         },
         "mode": "markers+text",
         "opacity": 0.6,
         "text": [
          "Op. 27 i"
         ],
         "textfont": {
          "size": 9
         },
         "textposition": "top center",
         "type": "scatter",
         "x": [
          12.543554006968641
         ],
         "y": [
          0.4938866827503492
         ]
        },
        {
         "marker": {
          "color": "rgb(3,199,45)",
          "line": {
           "color": "rgb(3,35,134)",
           "width": 1.5
          }
         },
         "mode": "markers+text",
         "opacity": 0.6,
         "text": [
          "Op. 20 i"
         ],
         "textfont": {
          "size": 9
         },
         "textposition": "top center",
         "type": "scatter",
         "x": [
          12.559859277751979
         ],
         "y": [
          0.0880930944697722
         ]
        }
       ],
       "layout": {
        "font": {
         "color": "rgb(0,0,0)",
         "family": "Baskerville, monospace",
         "size": 12
        },
        "margin": {
         "b": 0,
         "l": 0,
         "r": 0,
         "t": 0
        },
        "showlegend": false,
        "template": {
         "data": {
          "bar": [
           {
            "error_x": {
             "color": "#2a3f5f"
            },
            "error_y": {
             "color": "#2a3f5f"
            },
            "marker": {
             "line": {
              "color": "#E5ECF6",
              "width": 0.5
             }
            },
            "type": "bar"
           }
          ],
          "barpolar": [
           {
            "marker": {
             "line": {
              "color": "#E5ECF6",
              "width": 0.5
             }
            },
            "type": "barpolar"
           }
          ],
          "carpet": [
           {
            "aaxis": {
             "endlinecolor": "#2a3f5f",
             "gridcolor": "white",
             "linecolor": "white",
             "minorgridcolor": "white",
             "startlinecolor": "#2a3f5f"
            },
            "baxis": {
             "endlinecolor": "#2a3f5f",
             "gridcolor": "white",
             "linecolor": "white",
             "minorgridcolor": "white",
             "startlinecolor": "#2a3f5f"
            },
            "type": "carpet"
           }
          ],
          "choropleth": [
           {
            "colorbar": {
             "outlinewidth": 0,
             "ticks": ""
            },
            "type": "choropleth"
           }
          ],
          "contour": [
           {
            "colorbar": {
             "outlinewidth": 0,
             "ticks": ""
            },
            "colorscale": [
             [
              0,
              "#0d0887"
             ],
             [
              0.1111111111111111,
              "#46039f"
             ],
             [
              0.2222222222222222,
              "#7201a8"
             ],
             [
              0.3333333333333333,
              "#9c179e"
             ],
             [
              0.4444444444444444,
              "#bd3786"
             ],
             [
              0.5555555555555556,
              "#d8576b"
             ],
             [
              0.6666666666666666,
              "#ed7953"
             ],
             [
              0.7777777777777778,
              "#fb9f3a"
             ],
             [
              0.8888888888888888,
              "#fdca26"
             ],
             [
              1,
              "#f0f921"
             ]
            ],
            "type": "contour"
           }
          ],
          "contourcarpet": [
           {
            "colorbar": {
             "outlinewidth": 0,
             "ticks": ""
            },
            "type": "contourcarpet"
           }
          ],
          "heatmap": [
           {
            "colorbar": {
             "outlinewidth": 0,
             "ticks": ""
            },
            "colorscale": [
             [
              0,
              "#0d0887"
             ],
             [
              0.1111111111111111,
              "#46039f"
             ],
             [
              0.2222222222222222,
              "#7201a8"
             ],
             [
              0.3333333333333333,
              "#9c179e"
             ],
             [
              0.4444444444444444,
              "#bd3786"
             ],
             [
              0.5555555555555556,
              "#d8576b"
             ],
             [
              0.6666666666666666,
              "#ed7953"
             ],
             [
              0.7777777777777778,
              "#fb9f3a"
             ],
             [
              0.8888888888888888,
              "#fdca26"
             ],
             [
              1,
              "#f0f921"
             ]
            ],
            "type": "heatmap"
           }
          ],
          "heatmapgl": [
           {
            "colorbar": {
             "outlinewidth": 0,
             "ticks": ""
            },
            "colorscale": [
             [
              0,
              "#0d0887"
             ],
             [
              0.1111111111111111,
              "#46039f"
             ],
             [
              0.2222222222222222,
              "#7201a8"
             ],
             [
              0.3333333333333333,
              "#9c179e"
             ],
             [
              0.4444444444444444,
              "#bd3786"
             ],
             [
              0.5555555555555556,
              "#d8576b"
             ],
             [
              0.6666666666666666,
              "#ed7953"
             ],
             [
              0.7777777777777778,
              "#fb9f3a"
             ],
             [
              0.8888888888888888,
              "#fdca26"
             ],
             [
              1,
              "#f0f921"
             ]
            ],
            "type": "heatmapgl"
           }
          ],
          "histogram": [
           {
            "marker": {
             "colorbar": {
              "outlinewidth": 0,
              "ticks": ""
             }
            },
            "type": "histogram"
           }
          ],
          "histogram2d": [
           {
            "colorbar": {
             "outlinewidth": 0,
             "ticks": ""
            },
            "colorscale": [
             [
              0,
              "#0d0887"
             ],
             [
              0.1111111111111111,
              "#46039f"
             ],
             [
              0.2222222222222222,
              "#7201a8"
             ],
             [
              0.3333333333333333,
              "#9c179e"
             ],
             [
              0.4444444444444444,
              "#bd3786"
             ],
             [
              0.5555555555555556,
              "#d8576b"
             ],
             [
              0.6666666666666666,
              "#ed7953"
             ],
             [
              0.7777777777777778,
              "#fb9f3a"
             ],
             [
              0.8888888888888888,
              "#fdca26"
             ],
             [
              1,
              "#f0f921"
             ]
            ],
            "type": "histogram2d"
           }
          ],
          "histogram2dcontour": [
           {
            "colorbar": {
             "outlinewidth": 0,
             "ticks": ""
            },
            "colorscale": [
             [
              0,
              "#0d0887"
             ],
             [
              0.1111111111111111,
              "#46039f"
             ],
             [
              0.2222222222222222,
              "#7201a8"
             ],
             [
              0.3333333333333333,
              "#9c179e"
             ],
             [
              0.4444444444444444,
              "#bd3786"
             ],
             [
              0.5555555555555556,
              "#d8576b"
             ],
             [
              0.6666666666666666,
              "#ed7953"
             ],
             [
              0.7777777777777778,
              "#fb9f3a"
             ],
             [
              0.8888888888888888,
              "#fdca26"
             ],
             [
              1,
              "#f0f921"
             ]
            ],
            "type": "histogram2dcontour"
           }
          ],
          "mesh3d": [
           {
            "colorbar": {
             "outlinewidth": 0,
             "ticks": ""
            },
            "type": "mesh3d"
           }
          ],
          "parcoords": [
           {
            "line": {
             "colorbar": {
              "outlinewidth": 0,
              "ticks": ""
             }
            },
            "type": "parcoords"
           }
          ],
          "pie": [
           {
            "automargin": true,
            "type": "pie"
           }
          ],
          "scatter": [
           {
            "marker": {
             "colorbar": {
              "outlinewidth": 0,
              "ticks": ""
             }
            },
            "type": "scatter"
           }
          ],
          "scatter3d": [
           {
            "line": {
             "colorbar": {
              "outlinewidth": 0,
              "ticks": ""
             }
            },
            "marker": {
             "colorbar": {
              "outlinewidth": 0,
              "ticks": ""
             }
            },
            "type": "scatter3d"
           }
          ],
          "scattercarpet": [
           {
            "marker": {
             "colorbar": {
              "outlinewidth": 0,
              "ticks": ""
             }
            },
            "type": "scattercarpet"
           }
          ],
          "scattergeo": [
           {
            "marker": {
             "colorbar": {
              "outlinewidth": 0,
              "ticks": ""
             }
            },
            "type": "scattergeo"
           }
          ],
          "scattergl": [
           {
            "marker": {
             "colorbar": {
              "outlinewidth": 0,
              "ticks": ""
             }
            },
            "type": "scattergl"
           }
          ],
          "scattermapbox": [
           {
            "marker": {
             "colorbar": {
              "outlinewidth": 0,
              "ticks": ""
             }
            },
            "type": "scattermapbox"
           }
          ],
          "scatterpolar": [
           {
            "marker": {
             "colorbar": {
              "outlinewidth": 0,
              "ticks": ""
             }
            },
            "type": "scatterpolar"
           }
          ],
          "scatterpolargl": [
           {
            "marker": {
             "colorbar": {
              "outlinewidth": 0,
              "ticks": ""
             }
            },
            "type": "scatterpolargl"
           }
          ],
          "scatterternary": [
           {
            "marker": {
             "colorbar": {
              "outlinewidth": 0,
              "ticks": ""
             }
            },
            "type": "scatterternary"
           }
          ],
          "surface": [
           {
            "colorbar": {
             "outlinewidth": 0,
             "ticks": ""
            },
            "colorscale": [
             [
              0,
              "#0d0887"
             ],
             [
              0.1111111111111111,
              "#46039f"
             ],
             [
              0.2222222222222222,
              "#7201a8"
             ],
             [
              0.3333333333333333,
              "#9c179e"
             ],
             [
              0.4444444444444444,
              "#bd3786"
             ],
             [
              0.5555555555555556,
              "#d8576b"
             ],
             [
              0.6666666666666666,
              "#ed7953"
             ],
             [
              0.7777777777777778,
              "#fb9f3a"
             ],
             [
              0.8888888888888888,
              "#fdca26"
             ],
             [
              1,
              "#f0f921"
             ]
            ],
            "type": "surface"
           }
          ],
          "table": [
           {
            "cells": {
             "fill": {
              "color": "#EBF0F8"
             },
             "line": {
              "color": "white"
             }
            },
            "header": {
             "fill": {
              "color": "#C8D4E3"
             },
             "line": {
              "color": "white"
             }
            },
            "type": "table"
           }
          ]
         },
         "layout": {
          "annotationdefaults": {
           "arrowcolor": "#2a3f5f",
           "arrowhead": 0,
           "arrowwidth": 1
          },
          "coloraxis": {
           "colorbar": {
            "outlinewidth": 0,
            "ticks": ""
           }
          },
          "colorscale": {
           "diverging": [
            [
             0,
             "#8e0152"
            ],
            [
             0.1,
             "#c51b7d"
            ],
            [
             0.2,
             "#de77ae"
            ],
            [
             0.3,
             "#f1b6da"
            ],
            [
             0.4,
             "#fde0ef"
            ],
            [
             0.5,
             "#f7f7f7"
            ],
            [
             0.6,
             "#e6f5d0"
            ],
            [
             0.7,
             "#b8e186"
            ],
            [
             0.8,
             "#7fbc41"
            ],
            [
             0.9,
             "#4d9221"
            ],
            [
             1,
             "#276419"
            ]
           ],
           "sequential": [
            [
             0,
             "#0d0887"
            ],
            [
             0.1111111111111111,
             "#46039f"
            ],
            [
             0.2222222222222222,
             "#7201a8"
            ],
            [
             0.3333333333333333,
             "#9c179e"
            ],
            [
             0.4444444444444444,
             "#bd3786"
            ],
            [
             0.5555555555555556,
             "#d8576b"
            ],
            [
             0.6666666666666666,
             "#ed7953"
            ],
            [
             0.7777777777777778,
             "#fb9f3a"
            ],
            [
             0.8888888888888888,
             "#fdca26"
            ],
            [
             1,
             "#f0f921"
            ]
           ],
           "sequentialminus": [
            [
             0,
             "#0d0887"
            ],
            [
             0.1111111111111111,
             "#46039f"
            ],
            [
             0.2222222222222222,
             "#7201a8"
            ],
            [
             0.3333333333333333,
             "#9c179e"
            ],
            [
             0.4444444444444444,
             "#bd3786"
            ],
            [
             0.5555555555555556,
             "#d8576b"
            ],
            [
             0.6666666666666666,
             "#ed7953"
            ],
            [
             0.7777777777777778,
             "#fb9f3a"
            ],
            [
             0.8888888888888888,
             "#fdca26"
            ],
            [
             1,
             "#f0f921"
            ]
           ]
          },
          "colorway": [
           "#636efa",
           "#EF553B",
           "#00cc96",
           "#ab63fa",
           "#FFA15A",
           "#19d3f3",
           "#FF6692",
           "#B6E880",
           "#FF97FF",
           "#FECB52"
          ],
          "font": {
           "color": "#2a3f5f"
          },
          "geo": {
           "bgcolor": "white",
           "lakecolor": "white",
           "landcolor": "#E5ECF6",
           "showlakes": true,
           "showland": true,
           "subunitcolor": "white"
          },
          "hoverlabel": {
           "align": "left"
          },
          "hovermode": "closest",
          "mapbox": {
           "style": "light"
          },
          "paper_bgcolor": "white",
          "plot_bgcolor": "#E5ECF6",
          "polar": {
           "angularaxis": {
            "gridcolor": "white",
            "linecolor": "white",
            "ticks": ""
           },
           "bgcolor": "#E5ECF6",
           "radialaxis": {
            "gridcolor": "white",
            "linecolor": "white",
            "ticks": ""
           }
          },
          "scene": {
           "xaxis": {
            "backgroundcolor": "#E5ECF6",
            "gridcolor": "white",
            "gridwidth": 2,
            "linecolor": "white",
            "showbackground": true,
            "ticks": "",
            "zerolinecolor": "white"
           },
           "yaxis": {
            "backgroundcolor": "#E5ECF6",
            "gridcolor": "white",
            "gridwidth": 2,
            "linecolor": "white",
            "showbackground": true,
            "ticks": "",
            "zerolinecolor": "white"
           },
           "zaxis": {
            "backgroundcolor": "#E5ECF6",
            "gridcolor": "white",
            "gridwidth": 2,
            "linecolor": "white",
            "showbackground": true,
            "ticks": "",
            "zerolinecolor": "white"
           }
          },
          "shapedefaults": {
           "line": {
            "color": "#2a3f5f"
           }
          },
          "ternary": {
           "aaxis": {
            "gridcolor": "white",
            "linecolor": "white",
            "ticks": ""
           },
           "baxis": {
            "gridcolor": "white",
            "linecolor": "white",
            "ticks": ""
           },
           "bgcolor": "#E5ECF6",
           "caxis": {
            "gridcolor": "white",
            "linecolor": "white",
            "ticks": ""
           }
          },
          "title": {
           "x": 0.05
          },
          "xaxis": {
           "automargin": true,
           "gridcolor": "white",
           "linecolor": "white",
           "ticks": "",
           "title": {
            "standoff": 15
           },
           "zerolinecolor": "white",
           "zerolinewidth": 2
          },
          "yaxis": {
           "automargin": true,
           "gridcolor": "white",
           "linecolor": "white",
           "ticks": "",
           "title": {
            "standoff": 15
           },
           "zerolinecolor": "white",
           "zerolinewidth": 2
          }
         }
        },
        "xaxis": {
         "title": {
          "text": "Frequency (%)"
         }
        },
        "yaxis": {
         "title": {
          "text": "Dispersion (Normalised D<sub>KL</sub>)"
         }
        }
       }
      },
      "text/html": [
       "<div>\n",
       "        \n",
       "        \n",
       "            <div id=\"3b9525c2-ae28-4417-af06-fc27ca91e4ff\" class=\"plotly-graph-div\" style=\"height:525px; width:100%;\"></div>\n",
       "            <script type=\"text/javascript\">\n",
       "                require([\"plotly\"], function(Plotly) {\n",
       "                    window.PLOTLYENV=window.PLOTLYENV || {};\n",
       "                    \n",
       "                if (document.getElementById(\"3b9525c2-ae28-4417-af06-fc27ca91e4ff\")) {\n",
       "                    Plotly.newPlot(\n",
       "                        '3b9525c2-ae28-4417-af06-fc27ca91e4ff',\n",
       "                        [{\"marker\": {\"color\": \"rgb(3,199,45)\", \"line\": {\"color\": \"rgb(3,35,134)\", \"width\": 1.5}}, \"mode\": \"markers+text\", \"opacity\": 0.6, \"text\": [\"Op. 18 i\", \"Op. 29 ii\", \"Op. 20 ii\", \"Op. 21 ii\", \"Op. 15 ii\", \"Op. 9 iv\", \"Op. 18 iii\", \"Op. 13 iii\", \"Op. 16 i\", \"Op. 27 ii\", \"Op. 9 v\", \"Op. 5 iv\"], \"textfont\": {\"size\": 9}, \"textposition\": \"bottom center\", \"type\": \"scatter\", \"x\": [7.0776255707762425, 7.265000505919263, 7.491038701024662, 8.012729289692183, 8.449612403100767, 8.547008547008549, 8.716495968620602, 9.484873262469339, 11.607142857142858, 12.5, 12.605042016806722, 14.146341463414632], \"y\": [0.28334978339088135, 0.5449101123675819, 0.05331512400902361, 0.0972312482326636, 0.149874656606939, 0.6372393056272577, 0.31896608166649, 0.6390066177039198, 0.1591653779406107, 0.05287427995835414, 0.4847146251328135, 0.3966169589854177]}, {\"marker\": {\"color\": \"rgb(3,199,45)\", \"line\": {\"color\": \"rgb(3,35,134)\", \"width\": 1.5}}, \"mode\": \"markers\", \"opacity\": 0.6, \"text\": [\"Op. 11 iii\", \"Op. 25 i\", \"Op. 3 i\", \"Op. 6 v\", \"Op. 3 iii\", \"Op. 16 ii\", \"Op. 3 v\", \"Op. 6 iv\", \"Op. 31 i\", \"Op. 5 v\", \"Op. 4 iv\", \"Op. 6 vi\", \"Op. 16 iv\", \"Op. 10 ii\", \"Op. 31 iv\", \"Op. 1\", \"Op. 4 i\", \"Op. 6 ii\", \"Op. 15 i\", \"Op. 13 ii\", \"Op. 19 i\", \"Op. 10 iii\", \"Op. 26\", \"Op. 29 i\", \"Op. 25 iii\", \"Op. 3 iv\", \"Op. 6 i\", \"Op. 13 i\", \"Op. 31 v\", \"Op. 28 ii\", \"Op. 4 v\", \"Op. 8 ii\", \"Op. 9 ii\", \"Op. 5 ii\", \"Op. 23 i\", \"Op. 12 iii\", \"Op. 3 ii\", \"Op. 28 iii\", \"Op. 4 iii\", \"Op. 5 i\", \"Op. 10 v\", \"Op. 7 iii\", \"Op. 22 i\", \"Op. 31 iii\", \"Op. 30\", \"Op. 12 iv\", \"Op. 28 i\", \"Op. 23 iii\", \"Op. 29 iii\", \"Op. 23 ii\", \"Op. 2\", \"Op. 14 ii\", \"Op. 14 iv\", \"Op. 12 i\", \"Op. 7 ii\", \"Op. 11 ii\", \"Op. 8 i\", \"Op. 24 iii\", \"Op. 4 ii\", \"Op. 31 ii\", \"Op. 12 ii\", \"Op. 21 i\", \"Op. 9 iii\", \"Op. 10 i\", \"Op. 15 iv\", \"Op. 17 ii\", \"Op. 27 iii\", \"Op. 13 iv\", \"Op. 7 i\", \"Op. 16 iii\", \"Op. 11 i\", \"Op. 10 iv\", \"Op. 6 iii\", \"Op. 22 ii\", \"Op. 7 iv\", \"Op. 17 i\", \"Op. 24 ii\", \"Op. 31 vi\", \"Op. 25 ii\", \"Op. 19 ii\", \"Op. 16 v\", \"Op. 15 iii\", \"Op. 5 iii\", \"Op. 18 ii\", \"Op. 14 i\", \"Op. 17 iii\", \"Op. 14 v\", \"Op. 15 v\", \"Op. 9 vi\", \"Op. 24 i\", \"Op. 14 iii\", \"Op. 14 vi\", \"Op. 9 i\"], \"textfont\": {\"size\": 9}, \"textposition\": \"bottom center\", \"type\": \"scatter\", \"x\": [0.0, 0.0, 0.0, 0.0, 0.0, 0.0, 0.0, 0.0, 0.0, 0.0, 0.0, 0.0, 0.0, 0.0, 0.0, 0.031646098336526124, 0.08445945945945961, 0.1306762495916367, 0.4166666666666666, 0.4682305567261308, 0.470588235294118, 0.4716981132075472, 0.5515038995052515, 0.7914572864321623, 0.8250257820556908, 0.8379888268156414, 0.8510638297872339, 0.8556685883196922, 0.8862629246676506, 0.9264758284831924, 0.9596928982725528, 0.9729203826820184, 1.0132995566814436, 1.0309278350515465, 1.2133468149646105, 1.2489072061945792, 1.3123359580052496, 1.316135825217163, 1.3368983957219254, 1.388696014442426, 1.4962593516209477, 1.5094339622641522, 1.5424164524421697, 1.6157535975763708, 1.7928032344643186, 1.830384380719952, 1.8578143616640748, 1.935902185994812, 2.124332073504492, 2.294847754263771, 2.311352571998354, 2.3180154534363577, 2.3697610654132384, 2.4911032028469746, 2.5454349350159062, 2.680965147453082, 2.6813186813186807, 2.697495183044313, 2.7674683028339744, 2.7692307692307705, 2.8248587570621466, 2.839756592292055, 2.904148783977108, 2.9090909090909087, 3.045685279187818, 3.14245810055866, 3.1542913032846935, 3.2483291640219467, 3.252032520325204, 3.361344537815126, 3.37837837837838, 3.645833333333333, 3.7037037037036984, 3.7979679566508966, 3.8768276473194496, 3.932584269662912, 3.9337474120082816, 4.225352112676063, 4.3280182232346265, 4.504504504504505, 4.650182635571789, 4.655493482309124, 4.710878241625194, 4.787234042553191, 4.943638105061519, 4.986149584487533, 5.248738861371974, 5.5232558139534875, 5.590062111801244, 5.976335316531861, 6.279880868406608, 6.777378815080793, 6.993656196812628], \"y\": [0.0, 0.0, 0.0, 0.0, 0.0, 0.0, 0.0, 0.0, 0.0, 0.0, 0.0, 0.0, 0.0, 0.0, 0.0, 0.8294466438490942, 0.924601093047248, 0.924601093047248, 0.79504452134466, 0.924601093047248, 0.79504452134466, 0.924601093047248, 0.7304177354564801, 0.924601093047248, 0.924601093047248, 0.8752825083076089, 0.924601093047248, 0.8111243971624381, 0.6756118815659695, 0.924601093047248, 0.924601093047248, 0.924601093047248, 0.924601093047248, 0.924601093047248, 0.79504452134466, 0.8111243971624382, 0.8009127098106901, 0.79504452134466, 0.924601093047248, 0.79504452134466, 0.924601093047248, 0.924601093047248, 0.79504452134466, 0.6703307559233762, 0.796865395004203, 0.924601093047248, 0.6641943984950992, 0.5047335054353245, 0.5121222707760051, 0.4731944935738376, 0.7292572529602546, 0.7253359670250838, 0.3702113512281978, 0.8637535256547648, 0.7205254745913483, 0.8009127098106901, 0.6595003483039203, 0.6327892698764517, 0.8174712124998434, 0.15259840204369257, 0.7403762987030913, 0.3874031228587409, 0.8654968790458037, 0.79504452134466, 0.6620855427944148, 0.6391764677014299, 0.7086757542525448, 0.6378221330842966, 0.692513298089926, 0.6756118815659695, 0.924601093047248, 0.6423876831769093, 0.79504452134466, 0.31657485060658475, 0.8447990276069941, 0.5276021353566742, 0.4974911686013095, 0.07845545736700499, 0.3193858040026476, 0.6764487449831401, 0.6469478489502463, 0.29650380506528184, 0.523118261905178, 0.2795709012296004, 0.2932071174329802, 0.29137548919286793, 0.48161086479913806, 0.46582038847240215, 0.8380970171129963, 0.42607164694560085, 0.347210045255555, 0.5273587084484699, 0.5596060971289929]}, {\"marker\": {\"color\": \"rgb(3,199,45)\", \"line\": {\"color\": \"rgb(3,35,134)\", \"width\": 1.5}}, \"mode\": \"markers+text\", \"opacity\": 0.6, \"text\": [\"Op. 27 i\"], \"textfont\": {\"size\": 9}, \"textposition\": \"top center\", \"type\": \"scatter\", \"x\": [12.543554006968641], \"y\": [0.4938866827503492]}, {\"marker\": {\"color\": \"rgb(3,199,45)\", \"line\": {\"color\": \"rgb(3,35,134)\", \"width\": 1.5}}, \"mode\": \"markers+text\", \"opacity\": 0.6, \"text\": [\"Op. 20 i\"], \"textfont\": {\"size\": 9}, \"textposition\": \"top center\", \"type\": \"scatter\", \"x\": [12.559859277751979], \"y\": [0.0880930944697722]}],\n",
       "                        {\"font\": {\"color\": \"rgb(0,0,0)\", \"family\": \"Baskerville, monospace\", \"size\": 12}, \"margin\": {\"b\": 0, \"l\": 0, \"r\": 0, \"t\": 0}, \"showlegend\": false, \"template\": {\"data\": {\"bar\": [{\"error_x\": {\"color\": \"#2a3f5f\"}, \"error_y\": {\"color\": \"#2a3f5f\"}, \"marker\": {\"line\": {\"color\": \"#E5ECF6\", \"width\": 0.5}}, \"type\": \"bar\"}], \"barpolar\": [{\"marker\": {\"line\": {\"color\": \"#E5ECF6\", \"width\": 0.5}}, \"type\": \"barpolar\"}], \"carpet\": [{\"aaxis\": {\"endlinecolor\": \"#2a3f5f\", \"gridcolor\": \"white\", \"linecolor\": \"white\", \"minorgridcolor\": \"white\", \"startlinecolor\": \"#2a3f5f\"}, \"baxis\": {\"endlinecolor\": \"#2a3f5f\", \"gridcolor\": \"white\", \"linecolor\": \"white\", \"minorgridcolor\": \"white\", \"startlinecolor\": \"#2a3f5f\"}, \"type\": \"carpet\"}], \"choropleth\": [{\"colorbar\": {\"outlinewidth\": 0, \"ticks\": \"\"}, \"type\": \"choropleth\"}], \"contour\": [{\"colorbar\": {\"outlinewidth\": 0, \"ticks\": \"\"}, \"colorscale\": [[0.0, \"#0d0887\"], [0.1111111111111111, \"#46039f\"], [0.2222222222222222, \"#7201a8\"], [0.3333333333333333, \"#9c179e\"], [0.4444444444444444, \"#bd3786\"], [0.5555555555555556, \"#d8576b\"], [0.6666666666666666, \"#ed7953\"], [0.7777777777777778, \"#fb9f3a\"], [0.8888888888888888, \"#fdca26\"], [1.0, \"#f0f921\"]], \"type\": \"contour\"}], \"contourcarpet\": [{\"colorbar\": {\"outlinewidth\": 0, \"ticks\": \"\"}, \"type\": \"contourcarpet\"}], \"heatmap\": [{\"colorbar\": {\"outlinewidth\": 0, \"ticks\": \"\"}, \"colorscale\": [[0.0, \"#0d0887\"], [0.1111111111111111, \"#46039f\"], [0.2222222222222222, \"#7201a8\"], [0.3333333333333333, \"#9c179e\"], [0.4444444444444444, \"#bd3786\"], [0.5555555555555556, \"#d8576b\"], [0.6666666666666666, \"#ed7953\"], [0.7777777777777778, \"#fb9f3a\"], [0.8888888888888888, \"#fdca26\"], [1.0, \"#f0f921\"]], \"type\": \"heatmap\"}], \"heatmapgl\": [{\"colorbar\": {\"outlinewidth\": 0, \"ticks\": \"\"}, \"colorscale\": [[0.0, \"#0d0887\"], [0.1111111111111111, \"#46039f\"], [0.2222222222222222, \"#7201a8\"], [0.3333333333333333, \"#9c179e\"], [0.4444444444444444, \"#bd3786\"], [0.5555555555555556, \"#d8576b\"], [0.6666666666666666, \"#ed7953\"], [0.7777777777777778, \"#fb9f3a\"], [0.8888888888888888, \"#fdca26\"], [1.0, \"#f0f921\"]], \"type\": \"heatmapgl\"}], \"histogram\": [{\"marker\": {\"colorbar\": {\"outlinewidth\": 0, \"ticks\": \"\"}}, \"type\": \"histogram\"}], \"histogram2d\": [{\"colorbar\": {\"outlinewidth\": 0, \"ticks\": \"\"}, \"colorscale\": [[0.0, \"#0d0887\"], [0.1111111111111111, \"#46039f\"], [0.2222222222222222, \"#7201a8\"], [0.3333333333333333, \"#9c179e\"], [0.4444444444444444, \"#bd3786\"], [0.5555555555555556, \"#d8576b\"], [0.6666666666666666, \"#ed7953\"], [0.7777777777777778, \"#fb9f3a\"], [0.8888888888888888, \"#fdca26\"], [1.0, \"#f0f921\"]], \"type\": \"histogram2d\"}], \"histogram2dcontour\": [{\"colorbar\": {\"outlinewidth\": 0, \"ticks\": \"\"}, \"colorscale\": [[0.0, \"#0d0887\"], [0.1111111111111111, \"#46039f\"], [0.2222222222222222, \"#7201a8\"], [0.3333333333333333, \"#9c179e\"], [0.4444444444444444, \"#bd3786\"], [0.5555555555555556, \"#d8576b\"], [0.6666666666666666, \"#ed7953\"], [0.7777777777777778, \"#fb9f3a\"], [0.8888888888888888, \"#fdca26\"], [1.0, \"#f0f921\"]], \"type\": \"histogram2dcontour\"}], \"mesh3d\": [{\"colorbar\": {\"outlinewidth\": 0, \"ticks\": \"\"}, \"type\": \"mesh3d\"}], \"parcoords\": [{\"line\": {\"colorbar\": {\"outlinewidth\": 0, \"ticks\": \"\"}}, \"type\": \"parcoords\"}], \"pie\": [{\"automargin\": true, \"type\": \"pie\"}], \"scatter\": [{\"marker\": {\"colorbar\": {\"outlinewidth\": 0, \"ticks\": \"\"}}, \"type\": \"scatter\"}], \"scatter3d\": [{\"line\": {\"colorbar\": {\"outlinewidth\": 0, \"ticks\": \"\"}}, \"marker\": {\"colorbar\": {\"outlinewidth\": 0, \"ticks\": \"\"}}, \"type\": \"scatter3d\"}], \"scattercarpet\": [{\"marker\": {\"colorbar\": {\"outlinewidth\": 0, \"ticks\": \"\"}}, \"type\": \"scattercarpet\"}], \"scattergeo\": [{\"marker\": {\"colorbar\": {\"outlinewidth\": 0, \"ticks\": \"\"}}, \"type\": \"scattergeo\"}], \"scattergl\": [{\"marker\": {\"colorbar\": {\"outlinewidth\": 0, \"ticks\": \"\"}}, \"type\": \"scattergl\"}], \"scattermapbox\": [{\"marker\": {\"colorbar\": {\"outlinewidth\": 0, \"ticks\": \"\"}}, \"type\": \"scattermapbox\"}], \"scatterpolar\": [{\"marker\": {\"colorbar\": {\"outlinewidth\": 0, \"ticks\": \"\"}}, \"type\": \"scatterpolar\"}], \"scatterpolargl\": [{\"marker\": {\"colorbar\": {\"outlinewidth\": 0, \"ticks\": \"\"}}, \"type\": \"scatterpolargl\"}], \"scatterternary\": [{\"marker\": {\"colorbar\": {\"outlinewidth\": 0, \"ticks\": \"\"}}, \"type\": \"scatterternary\"}], \"surface\": [{\"colorbar\": {\"outlinewidth\": 0, \"ticks\": \"\"}, \"colorscale\": [[0.0, \"#0d0887\"], [0.1111111111111111, \"#46039f\"], [0.2222222222222222, \"#7201a8\"], [0.3333333333333333, \"#9c179e\"], [0.4444444444444444, \"#bd3786\"], [0.5555555555555556, \"#d8576b\"], [0.6666666666666666, \"#ed7953\"], [0.7777777777777778, \"#fb9f3a\"], [0.8888888888888888, \"#fdca26\"], [1.0, \"#f0f921\"]], \"type\": \"surface\"}], \"table\": [{\"cells\": {\"fill\": {\"color\": \"#EBF0F8\"}, \"line\": {\"color\": \"white\"}}, \"header\": {\"fill\": {\"color\": \"#C8D4E3\"}, \"line\": {\"color\": \"white\"}}, \"type\": \"table\"}]}, \"layout\": {\"annotationdefaults\": {\"arrowcolor\": \"#2a3f5f\", \"arrowhead\": 0, \"arrowwidth\": 1}, \"coloraxis\": {\"colorbar\": {\"outlinewidth\": 0, \"ticks\": \"\"}}, \"colorscale\": {\"diverging\": [[0, \"#8e0152\"], [0.1, \"#c51b7d\"], [0.2, \"#de77ae\"], [0.3, \"#f1b6da\"], [0.4, \"#fde0ef\"], [0.5, \"#f7f7f7\"], [0.6, \"#e6f5d0\"], [0.7, \"#b8e186\"], [0.8, \"#7fbc41\"], [0.9, \"#4d9221\"], [1, \"#276419\"]], \"sequential\": [[0.0, \"#0d0887\"], [0.1111111111111111, \"#46039f\"], [0.2222222222222222, \"#7201a8\"], [0.3333333333333333, \"#9c179e\"], [0.4444444444444444, \"#bd3786\"], [0.5555555555555556, \"#d8576b\"], [0.6666666666666666, \"#ed7953\"], [0.7777777777777778, \"#fb9f3a\"], [0.8888888888888888, \"#fdca26\"], [1.0, \"#f0f921\"]], \"sequentialminus\": [[0.0, \"#0d0887\"], [0.1111111111111111, \"#46039f\"], [0.2222222222222222, \"#7201a8\"], [0.3333333333333333, \"#9c179e\"], [0.4444444444444444, \"#bd3786\"], [0.5555555555555556, \"#d8576b\"], [0.6666666666666666, \"#ed7953\"], [0.7777777777777778, \"#fb9f3a\"], [0.8888888888888888, \"#fdca26\"], [1.0, \"#f0f921\"]]}, \"colorway\": [\"#636efa\", \"#EF553B\", \"#00cc96\", \"#ab63fa\", \"#FFA15A\", \"#19d3f3\", \"#FF6692\", \"#B6E880\", \"#FF97FF\", \"#FECB52\"], \"font\": {\"color\": \"#2a3f5f\"}, \"geo\": {\"bgcolor\": \"white\", \"lakecolor\": \"white\", \"landcolor\": \"#E5ECF6\", \"showlakes\": true, \"showland\": true, \"subunitcolor\": \"white\"}, \"hoverlabel\": {\"align\": \"left\"}, \"hovermode\": \"closest\", \"mapbox\": {\"style\": \"light\"}, \"paper_bgcolor\": \"white\", \"plot_bgcolor\": \"#E5ECF6\", \"polar\": {\"angularaxis\": {\"gridcolor\": \"white\", \"linecolor\": \"white\", \"ticks\": \"\"}, \"bgcolor\": \"#E5ECF6\", \"radialaxis\": {\"gridcolor\": \"white\", \"linecolor\": \"white\", \"ticks\": \"\"}}, \"scene\": {\"xaxis\": {\"backgroundcolor\": \"#E5ECF6\", \"gridcolor\": \"white\", \"gridwidth\": 2, \"linecolor\": \"white\", \"showbackground\": true, \"ticks\": \"\", \"zerolinecolor\": \"white\"}, \"yaxis\": {\"backgroundcolor\": \"#E5ECF6\", \"gridcolor\": \"white\", \"gridwidth\": 2, \"linecolor\": \"white\", \"showbackground\": true, \"ticks\": \"\", \"zerolinecolor\": \"white\"}, \"zaxis\": {\"backgroundcolor\": \"#E5ECF6\", \"gridcolor\": \"white\", \"gridwidth\": 2, \"linecolor\": \"white\", \"showbackground\": true, \"ticks\": \"\", \"zerolinecolor\": \"white\"}}, \"shapedefaults\": {\"line\": {\"color\": \"#2a3f5f\"}}, \"ternary\": {\"aaxis\": {\"gridcolor\": \"white\", \"linecolor\": \"white\", \"ticks\": \"\"}, \"baxis\": {\"gridcolor\": \"white\", \"linecolor\": \"white\", \"ticks\": \"\"}, \"bgcolor\": \"#E5ECF6\", \"caxis\": {\"gridcolor\": \"white\", \"linecolor\": \"white\", \"ticks\": \"\"}}, \"title\": {\"x\": 0.05}, \"xaxis\": {\"automargin\": true, \"gridcolor\": \"white\", \"linecolor\": \"white\", \"ticks\": \"\", \"title\": {\"standoff\": 15}, \"zerolinecolor\": \"white\", \"zerolinewidth\": 2}, \"yaxis\": {\"automargin\": true, \"gridcolor\": \"white\", \"linecolor\": \"white\", \"ticks\": \"\", \"title\": {\"standoff\": 15}, \"zerolinecolor\": \"white\", \"zerolinewidth\": 2}}}, \"xaxis\": {\"title\": {\"text\": \"Frequency (%)\"}}, \"yaxis\": {\"title\": {\"text\": \"Dispersion (Normalised D<sub>KL</sub>)\"}}},\n",
       "                        {\"responsive\": true}\n",
       "                    ).then(function(){\n",
       "                            \n",
       "var gd = document.getElementById('3b9525c2-ae28-4417-af06-fc27ca91e4ff');\n",
       "var x = new MutationObserver(function (mutations, observer) {{\n",
       "        var display = window.getComputedStyle(gd).display;\n",
       "        if (!display || display === 'none') {{\n",
       "            console.log([gd, 'removed!']);\n",
       "            Plotly.purge(gd);\n",
       "            observer.disconnect();\n",
       "        }}\n",
       "}});\n",
       "\n",
       "// Listen for the removal of the full notebook cells\n",
       "var notebookContainer = gd.closest('#notebook-container');\n",
       "if (notebookContainer) {{\n",
       "    x.observe(notebookContainer, {childList: true});\n",
       "}}\n",
       "\n",
       "// Listen for the clearing of the current output cell\n",
       "var outputEl = gd.closest('.output');\n",
       "if (outputEl) {{\n",
       "    x.observe(outputEl, {childList: true});\n",
       "}}\n",
       "\n",
       "                        })\n",
       "                };\n",
       "                });\n",
       "            </script>\n",
       "        </div>"
      ]
     },
     "metadata": {},
     "output_type": "display_data"
    },
    {
     "data": {
      "image/png": "[encoded data removed]",
      "text/plain": [
       "<IPython.core.display.Image object>"
      ]
     },
     "execution_count": 25,
     "metadata": {},
     "output_type": "execute_result"
    }
   ],
   "source": [
    "## plot frequency against DKL with anomalies marked\n",
    "\n",
    "organised_data = verticalities_pf.sort_values(by='[0 1 6]')\n",
    "organised_data = organised_data.iloc[len(organised_data.index)-16:, :]\n",
    "\n",
    "organised_data = verticalities_pf.sort_values(by='[0 1 6]')\n",
    "first_organised_data = organised_data.iloc[len(organised_data.index)-14:, :]\n",
    "second_organised_data = organised_data.iloc[:len(organised_data.index)-14, :]\n",
    "\n",
    "third_organised_data = first_organised_data.iloc[10:11, :]\n",
    "fourth_organised_data = first_organised_data.iloc[11:12, :]\n",
    "first_organised_data = first_organised_data.drop('Op. 27 i').drop('Op. 20 i')\n",
    "\n",
    "fig = go.Figure()\n",
    "fig.add_trace(go.Scatter(x = first_organised_data['[0 1 6]'], y = first_organised_data['DKL Values'], mode='markers+text', text=first_organised_data.index.values, textposition=\"bottom center\", textfont_size=9))\n",
    "fig.add_trace(go.Scatter(x = second_organised_data['[0 1 6]'], y = second_organised_data['DKL Values'], mode='markers', text=second_organised_data.index.values, textposition=\"bottom center\", textfont_size=9))\n",
    "fig.add_trace(go.Scatter(x = third_organised_data['[0 1 6]'], y = third_organised_data['DKL Values'], mode='markers+text', text=third_organised_data.index.values, textposition=\"top center\", textfont_size=9))\n",
    "fig.add_trace(go.Scatter(x = fourth_organised_data['[0 1 6]'], y = fourth_organised_data['DKL Values'], mode='markers+text', text=fourth_organised_data.index.values, textposition=\"top center\", textfont_size=9))\n",
    "fig.update_layout(xaxis=(dict(title={'text': 'Frequency (%)'})))\n",
    "fig.update_layout(yaxis=(dict(title={'text': 'Dispersion (Normalised D<sub>KL</sub>)'})))\n",
    "fig.update_traces(marker_color='rgb(3,199,45)', marker_line_color='rgb(3,35,134)', marker_line_width=1.5, opacity=0.6)\n",
    "fig.update_layout(font=dict(family=\"Baskerville, monospace\", size=12, color='rgb(0,0,0)'))\n",
    "fig.update_layout(showlegend=False)\n",
    "fig.update_layout(margin={'l': 0, 'r': 0, 't': 0, 'b': 0})\n",
    "img_bytes = fig.to_image(format=\"png\", width=800, height=400, scale=1)\n",
    "fig.show()\n",
    "Image(img_bytes)"
   ]
  },
  {
   "cell_type": "markdown",
   "metadata": {},
   "source": [
    "# Linear Harmonies"
   ]
  },
  {
   "cell_type": "code",
   "execution_count": 5,
   "metadata": {},
   "outputs": [
    {
     "name": "stderr",
     "output_type": "stream",
     "text": [
      "/opt/anaconda3/lib/python3.7/site-packages/music21/corpus/corpora.py: WARNING: DPhilCorpus_Linear_Trigrams metadata cache: starting processing of paths: 107\n",
      "/opt/anaconda3/lib/python3.7/site-packages/music21/corpus/corpora.py: WARNING: cache: filename: /var/folders/cr/p20lv70n2wbf2w8jfmxbh69w0000gp/T/music21/local-DPhilCorpus_Linear_Trigrams.p.gz\n",
      "bundles.py: WARNING: MetadataBundle Modification Time: 1608723146.6487072\n",
      "bundles.py: WARNING: Skipped 0 sources already in cache.\n",
      "bundles.py: WARNING: updated 1 of 107 files; total errors: 0 ... last file: /Users/joshua ballance/Desktop/Oxford/Corpus/Sounding Corpus (Movements) Linear/Trigrams/XML/Op. 10 i.xml\n",
      "bundles.py: WARNING: updated 2 of 107 files; total errors: 0 ... last file: /Users/joshua ballance/Desktop/Oxford/Corpus/Sounding Corpus (Movements) Linear/Trigrams/XML/Op. 10 ii.xml\n",
      "bundles.py: WARNING: updated 3 of 107 files; total errors: 0 ... last file: /Users/joshua ballance/Desktop/Oxford/Corpus/Sounding Corpus (Movements) Linear/Trigrams/XML/Op. 10 iv.xml\n",
      "bundles.py: WARNING: updated 4 of 107 files; total errors: 0 ... last file: /Users/joshua ballance/Desktop/Oxford/Corpus/Sounding Corpus (Movements) Linear/Trigrams/XML/Op. 10 iii.xml\n",
      "bundles.py: WARNING: updated 5 of 107 files; total errors: 0 ... last file: /Users/joshua ballance/Desktop/Oxford/Corpus/Sounding Corpus (Movements) Linear/Trigrams/XML/Op. 10 v.xml\n",
      "bundles.py: WARNING: updated 6 of 107 files; total errors: 0 ... last file: /Users/joshua ballance/Desktop/Oxford/Corpus/Sounding Corpus (Movements) Linear/Trigrams/XML/Op. 11 i.xml\n",
      "bundles.py: WARNING: updated 7 of 107 files; total errors: 0 ... last file: /Users/joshua ballance/Desktop/Oxford/Corpus/Sounding Corpus (Movements) Linear/Trigrams/XML/Op. 11 iii.xml\n",
      "bundles.py: WARNING: updated 8 of 107 files; total errors: 0 ... last file: /Users/joshua ballance/Desktop/Oxford/Corpus/Sounding Corpus (Movements) Linear/Trigrams/XML/Op. 11 ii.xml\n",
      "bundles.py: WARNING: updated 9 of 107 files; total errors: 0 ... last file: /Users/joshua ballance/Desktop/Oxford/Corpus/Sounding Corpus (Movements) Linear/Trigrams/XML/Op. 12 i.xml\n",
      "bundles.py: WARNING: updated 10 of 107 files; total errors: 0 ... last file: /Users/joshua ballance/Desktop/Oxford/Corpus/Sounding Corpus (Movements) Linear/Trigrams/XML/Op. 12 ii.xml\n",
      "bundles.py: WARNING: updated 11 of 107 files; total errors: 0 ... last file: /Users/joshua ballance/Desktop/Oxford/Corpus/Sounding Corpus (Movements) Linear/Trigrams/XML/Op. 12 iii.xml\n",
      "bundles.py: WARNING: updated 12 of 107 files; total errors: 0 ... last file: /Users/joshua ballance/Desktop/Oxford/Corpus/Sounding Corpus (Movements) Linear/Trigrams/XML/Op. 12 iv.xml\n",
      "bundles.py: WARNING: updated 13 of 107 files; total errors: 0 ... last file: /Users/joshua ballance/Desktop/Oxford/Corpus/Sounding Corpus (Movements) Linear/Trigrams/XML/Op. 13 i.xml\n",
      "bundles.py: WARNING: updated 14 of 107 files; total errors: 0 ... last file: /Users/joshua ballance/Desktop/Oxford/Corpus/Sounding Corpus (Movements) Linear/Trigrams/XML/Op. 13 ii.xml\n",
      "bundles.py: WARNING: updated 15 of 107 files; total errors: 0 ... last file: /Users/joshua ballance/Desktop/Oxford/Corpus/Sounding Corpus (Movements) Linear/Trigrams/XML/Op. 13 iii.xml\n",
      "bundles.py: WARNING: updated 16 of 107 files; total errors: 0 ... last file: /Users/joshua ballance/Desktop/Oxford/Corpus/Sounding Corpus (Movements) Linear/Trigrams/XML/Op. 14 i.xml\n",
      "bundles.py: WARNING: updated 17 of 107 files; total errors: 0 ... last file: /Users/joshua ballance/Desktop/Oxford/Corpus/Sounding Corpus (Movements) Linear/Trigrams/XML/Op. 13 iv.xml\n",
      "bundles.py: WARNING: updated 18 of 107 files; total errors: 0 ... last file: /Users/joshua ballance/Desktop/Oxford/Corpus/Sounding Corpus (Movements) Linear/Trigrams/XML/Op. 14 ii.xml\n",
      "bundles.py: WARNING: updated 19 of 107 files; total errors: 0 ... last file: /Users/joshua ballance/Desktop/Oxford/Corpus/Sounding Corpus (Movements) Linear/Trigrams/XML/Op. 14 iii.xml\n",
      "bundles.py: WARNING: updated 20 of 107 files; total errors: 0 ... last file: /Users/joshua ballance/Desktop/Oxford/Corpus/Sounding Corpus (Movements) Linear/Trigrams/XML/Op. 1.xml\n",
      "bundles.py: WARNING: updated 21 of 107 files; total errors: 0 ... last file: /Users/joshua ballance/Desktop/Oxford/Corpus/Sounding Corpus (Movements) Linear/Trigrams/XML/Op. 14 iv.xml\n",
      "bundles.py: WARNING: updated 22 of 107 files; total errors: 0 ... last file: /Users/joshua ballance/Desktop/Oxford/Corpus/Sounding Corpus (Movements) Linear/Trigrams/XML/Op. 14 v.xml\n",
      "bundles.py: WARNING: updated 23 of 107 files; total errors: 0 ... last file: /Users/joshua ballance/Desktop/Oxford/Corpus/Sounding Corpus (Movements) Linear/Trigrams/XML/Op. 14 vi.xml\n",
      "bundles.py: WARNING: updated 24 of 107 files; total errors: 0 ... last file: /Users/joshua ballance/Desktop/Oxford/Corpus/Sounding Corpus (Movements) Linear/Trigrams/XML/Op. 15 i.xml\n",
      "bundles.py: WARNING: updated 25 of 107 files; total errors: 0 ... last file: /Users/joshua ballance/Desktop/Oxford/Corpus/Sounding Corpus (Movements) Linear/Trigrams/XML/Op. 15 iv.xml\n",
      "bundles.py: WARNING: updated 26 of 107 files; total errors: 0 ... last file: /Users/joshua ballance/Desktop/Oxford/Corpus/Sounding Corpus (Movements) Linear/Trigrams/XML/Op. 15 iii.xml\n",
      "bundles.py: WARNING: updated 27 of 107 files; total errors: 0 ... last file: /Users/joshua ballance/Desktop/Oxford/Corpus/Sounding Corpus (Movements) Linear/Trigrams/XML/Op. 16 i.xml\n",
      "bundles.py: WARNING: updated 28 of 107 files; total errors: 0 ... last file: /Users/joshua ballance/Desktop/Oxford/Corpus/Sounding Corpus (Movements) Linear/Trigrams/XML/Op. 16 ii.xml\n",
      "bundles.py: WARNING: updated 29 of 107 files; total errors: 0 ... last file: /Users/joshua ballance/Desktop/Oxford/Corpus/Sounding Corpus (Movements) Linear/Trigrams/XML/Op. 15 v.xml\n",
      "bundles.py: WARNING: updated 30 of 107 files; total errors: 0 ... last file: /Users/joshua ballance/Desktop/Oxford/Corpus/Sounding Corpus (Movements) Linear/Trigrams/XML/Op. 16 iii.xml\n",
      "bundles.py: WARNING: updated 31 of 107 files; total errors: 0 ... last file: /Users/joshua ballance/Desktop/Oxford/Corpus/Sounding Corpus (Movements) Linear/Trigrams/XML/Op. 16 iv.xml\n",
      "bundles.py: WARNING: updated 32 of 107 files; total errors: 0 ... last file: /Users/joshua ballance/Desktop/Oxford/Corpus/Sounding Corpus (Movements) Linear/Trigrams/XML/Op. 16 v.xml\n",
      "bundles.py: WARNING: updated 33 of 107 files; total errors: 0 ... last file: /Users/joshua ballance/Desktop/Oxford/Corpus/Sounding Corpus (Movements) Linear/Trigrams/XML/Op. 17 i.xml\n",
      "bundles.py: WARNING: updated 34 of 107 files; total errors: 0 ... last file: /Users/joshua ballance/Desktop/Oxford/Corpus/Sounding Corpus (Movements) Linear/Trigrams/XML/Op. 15 ii.xml\n",
      "bundles.py: WARNING: updated 35 of 107 files; total errors: 0 ... last file: /Users/joshua ballance/Desktop/Oxford/Corpus/Sounding Corpus (Movements) Linear/Trigrams/XML/Op. 17 ii.xml\n",
      "bundles.py: WARNING: updated 36 of 107 files; total errors: 0 ... last file: /Users/joshua ballance/Desktop/Oxford/Corpus/Sounding Corpus (Movements) Linear/Trigrams/XML/Op. 17 iii.xml\n",
      "bundles.py: WARNING: updated 37 of 107 files; total errors: 0 ... last file: /Users/joshua ballance/Desktop/Oxford/Corpus/Sounding Corpus (Movements) Linear/Trigrams/XML/Op. 18 i.xml\n",
      "bundles.py: WARNING: updated 38 of 107 files; total errors: 0 ... last file: /Users/joshua ballance/Desktop/Oxford/Corpus/Sounding Corpus (Movements) Linear/Trigrams/XML/Op. 18 iii.xml\n",
      "bundles.py: WARNING: updated 39 of 107 files; total errors: 0 ... last file: /Users/joshua ballance/Desktop/Oxford/Corpus/Sounding Corpus (Movements) Linear/Trigrams/XML/Op. 18 ii.xml\n",
      "bundles.py: WARNING: updated 40 of 107 files; total errors: 0 ... last file: /Users/joshua ballance/Desktop/Oxford/Corpus/Sounding Corpus (Movements) Linear/Trigrams/XML/Op. 2.xml\n",
      "bundles.py: WARNING: updated 41 of 107 files; total errors: 0 ... last file: /Users/joshua ballance/Desktop/Oxford/Corpus/Sounding Corpus (Movements) Linear/Trigrams/XML/Op. 20 i.xml\n",
      "bundles.py: WARNING: updated 42 of 107 files; total errors: 0 ... last file: /Users/joshua ballance/Desktop/Oxford/Corpus/Sounding Corpus (Movements) Linear/Trigrams/XML/Op. 19 ii.xml\n",
      "bundles.py: WARNING: updated 43 of 107 files; total errors: 0 ... last file: /Users/joshua ballance/Desktop/Oxford/Corpus/Sounding Corpus (Movements) Linear/Trigrams/XML/Op. 21 i.xml\n"
     ]
    },
    {
     "name": "stderr",
     "output_type": "stream",
     "text": [
      "bundles.py: WARNING: updated 44 of 107 files; total errors: 0 ... last file: /Users/joshua ballance/Desktop/Oxford/Corpus/Sounding Corpus (Movements) Linear/Trigrams/XML/Op. 21 ii.xml\n",
      "bundles.py: WARNING: updated 45 of 107 files; total errors: 0 ... last file: /Users/joshua ballance/Desktop/Oxford/Corpus/Sounding Corpus (Movements) Linear/Trigrams/XML/Op. 22 i.xml\n",
      "bundles.py: WARNING: updated 46 of 107 files; total errors: 0 ... last file: /Users/joshua ballance/Desktop/Oxford/Corpus/Sounding Corpus (Movements) Linear/Trigrams/XML/Op. 20 ii.xml\n",
      "bundles.py: WARNING: updated 47 of 107 files; total errors: 0 ... last file: /Users/joshua ballance/Desktop/Oxford/Corpus/Sounding Corpus (Movements) Linear/Trigrams/XML/Op. 22 ii.xml\n",
      "bundles.py: WARNING: updated 48 of 107 files; total errors: 0 ... last file: /Users/joshua ballance/Desktop/Oxford/Corpus/Sounding Corpus (Movements) Linear/Trigrams/XML/Op. 19 i.xml\n",
      "bundles.py: WARNING: updated 49 of 107 files; total errors: 0 ... last file: /Users/joshua ballance/Desktop/Oxford/Corpus/Sounding Corpus (Movements) Linear/Trigrams/XML/Op. 23 iii.xml\n",
      "bundles.py: WARNING: updated 50 of 107 files; total errors: 0 ... last file: /Users/joshua ballance/Desktop/Oxford/Corpus/Sounding Corpus (Movements) Linear/Trigrams/XML/Op. 23 ii.xml\n",
      "bundles.py: WARNING: updated 51 of 107 files; total errors: 0 ... last file: /Users/joshua ballance/Desktop/Oxford/Corpus/Sounding Corpus (Movements) Linear/Trigrams/XML/Op. 24 ii.xml\n",
      "bundles.py: WARNING: updated 52 of 107 files; total errors: 0 ... last file: /Users/joshua ballance/Desktop/Oxford/Corpus/Sounding Corpus (Movements) Linear/Trigrams/XML/Op. 24 iii.xml\n",
      "bundles.py: WARNING: updated 53 of 107 files; total errors: 0 ... last file: /Users/joshua ballance/Desktop/Oxford/Corpus/Sounding Corpus (Movements) Linear/Trigrams/XML/Op. 24 i.xml\n",
      "bundles.py: WARNING: updated 54 of 107 files; total errors: 0 ... last file: /Users/joshua ballance/Desktop/Oxford/Corpus/Sounding Corpus (Movements) Linear/Trigrams/XML/Op. 25 i.xml\n",
      "bundles.py: WARNING: updated 55 of 107 files; total errors: 0 ... last file: /Users/joshua ballance/Desktop/Oxford/Corpus/Sounding Corpus (Movements) Linear/Trigrams/XML/Op. 25 ii.xml\n",
      "bundles.py: WARNING: updated 56 of 107 files; total errors: 0 ... last file: /Users/joshua ballance/Desktop/Oxford/Corpus/Sounding Corpus (Movements) Linear/Trigrams/XML/Op. 26.xml\n",
      "bundles.py: WARNING: updated 57 of 107 files; total errors: 0 ... last file: /Users/joshua ballance/Desktop/Oxford/Corpus/Sounding Corpus (Movements) Linear/Trigrams/XML/Op. 25 iii.xml\n",
      "bundles.py: WARNING: updated 58 of 107 files; total errors: 0 ... last file: /Users/joshua ballance/Desktop/Oxford/Corpus/Sounding Corpus (Movements) Linear/Trigrams/XML/Op. 27 ii.xml\n",
      "bundles.py: WARNING: updated 59 of 107 files; total errors: 0 ... last file: /Users/joshua ballance/Desktop/Oxford/Corpus/Sounding Corpus (Movements) Linear/Trigrams/XML/Op. 27 i.xml\n",
      "bundles.py: WARNING: updated 60 of 107 files; total errors: 0 ... last file: /Users/joshua ballance/Desktop/Oxford/Corpus/Sounding Corpus (Movements) Linear/Trigrams/XML/Op. 28 i.xml\n",
      "bundles.py: WARNING: updated 61 of 107 files; total errors: 0 ... last file: /Users/joshua ballance/Desktop/Oxford/Corpus/Sounding Corpus (Movements) Linear/Trigrams/XML/Op. 28 ii.xml\n",
      "bundles.py: WARNING: updated 62 of 107 files; total errors: 0 ... last file: /Users/joshua ballance/Desktop/Oxford/Corpus/Sounding Corpus (Movements) Linear/Trigrams/XML/Op. 28 iii.xml\n",
      "bundles.py: WARNING: updated 63 of 107 files; total errors: 0 ... last file: /Users/joshua ballance/Desktop/Oxford/Corpus/Sounding Corpus (Movements) Linear/Trigrams/XML/Op. 29 i.xml\n",
      "bundles.py: WARNING: updated 64 of 107 files; total errors: 0 ... last file: /Users/joshua ballance/Desktop/Oxford/Corpus/Sounding Corpus (Movements) Linear/Trigrams/XML/Op. 29 ii.xml\n",
      "bundles.py: WARNING: updated 65 of 107 files; total errors: 0 ... last file: /Users/joshua ballance/Desktop/Oxford/Corpus/Sounding Corpus (Movements) Linear/Trigrams/XML/Op. 29 iii.xml\n",
      "bundles.py: WARNING: updated 66 of 107 files; total errors: 0 ... last file: /Users/joshua ballance/Desktop/Oxford/Corpus/Sounding Corpus (Movements) Linear/Trigrams/XML/Op. 27 iii.xml\n",
      "bundles.py: WARNING: updated 67 of 107 files; total errors: 0 ... last file: /Users/joshua ballance/Desktop/Oxford/Corpus/Sounding Corpus (Movements) Linear/Trigrams/XML/Op. 3 ii.xml\n",
      "bundles.py: WARNING: updated 68 of 107 files; total errors: 0 ... last file: /Users/joshua ballance/Desktop/Oxford/Corpus/Sounding Corpus (Movements) Linear/Trigrams/XML/Op. 3 iii.xml\n",
      "bundles.py: WARNING: updated 69 of 107 files; total errors: 0 ... last file: /Users/joshua ballance/Desktop/Oxford/Corpus/Sounding Corpus (Movements) Linear/Trigrams/XML/Op. 3 i.xml\n",
      "bundles.py: WARNING: updated 70 of 107 files; total errors: 0 ... last file: /Users/joshua ballance/Desktop/Oxford/Corpus/Sounding Corpus (Movements) Linear/Trigrams/XML/Op. 23 i.xml\n",
      "bundles.py: WARNING: updated 71 of 107 files; total errors: 0 ... last file: /Users/joshua ballance/Desktop/Oxford/Corpus/Sounding Corpus (Movements) Linear/Trigrams/XML/Op. 3 iv.xml\n",
      "bundles.py: WARNING: updated 72 of 107 files; total errors: 0 ... last file: /Users/joshua ballance/Desktop/Oxford/Corpus/Sounding Corpus (Movements) Linear/Trigrams/XML/Op. 31 i.xml\n",
      "bundles.py: WARNING: updated 73 of 107 files; total errors: 0 ... last file: /Users/joshua ballance/Desktop/Oxford/Corpus/Sounding Corpus (Movements) Linear/Trigrams/XML/Op. 3 v.xml\n",
      "bundles.py: WARNING: updated 74 of 107 files; total errors: 0 ... last file: /Users/joshua ballance/Desktop/Oxford/Corpus/Sounding Corpus (Movements) Linear/Trigrams/XML/Op. 31 ii.xml\n",
      "bundles.py: WARNING: updated 75 of 107 files; total errors: 0 ... last file: /Users/joshua ballance/Desktop/Oxford/Corpus/Sounding Corpus (Movements) Linear/Trigrams/XML/Op. 31 iii.xml\n",
      "bundles.py: WARNING: updated 76 of 107 files; total errors: 0 ... last file: /Users/joshua ballance/Desktop/Oxford/Corpus/Sounding Corpus (Movements) Linear/Trigrams/XML/Op. 31 iv.xml\n",
      "bundles.py: WARNING: updated 77 of 107 files; total errors: 0 ... last file: /Users/joshua ballance/Desktop/Oxford/Corpus/Sounding Corpus (Movements) Linear/Trigrams/XML/Op. 31 vi.xml\n",
      "bundles.py: WARNING: updated 78 of 107 files; total errors: 0 ... last file: /Users/joshua ballance/Desktop/Oxford/Corpus/Sounding Corpus (Movements) Linear/Trigrams/XML/Op. 31 v.xml\n",
      "bundles.py: WARNING: updated 79 of 107 files; total errors: 0 ... last file: /Users/joshua ballance/Desktop/Oxford/Corpus/Sounding Corpus (Movements) Linear/Trigrams/XML/Op. 4 i.xml\n",
      "bundles.py: WARNING: updated 80 of 107 files; total errors: 0 ... last file: /Users/joshua ballance/Desktop/Oxford/Corpus/Sounding Corpus (Movements) Linear/Trigrams/XML/Op. 4 ii.xml\n",
      "bundles.py: WARNING: updated 81 of 107 files; total errors: 0 ... last file: /Users/joshua ballance/Desktop/Oxford/Corpus/Sounding Corpus (Movements) Linear/Trigrams/XML/Op. 4 iv.xml\n",
      "bundles.py: WARNING: updated 82 of 107 files; total errors: 0 ... last file: /Users/joshua ballance/Desktop/Oxford/Corpus/Sounding Corpus (Movements) Linear/Trigrams/XML/Op. 4 v.xml\n",
      "bundles.py: WARNING: updated 83 of 107 files; total errors: 0 ... last file: /Users/joshua ballance/Desktop/Oxford/Corpus/Sounding Corpus (Movements) Linear/Trigrams/XML/Op. 4 iii.xml\n",
      "bundles.py: WARNING: updated 84 of 107 files; total errors: 0 ... last file: /Users/joshua ballance/Desktop/Oxford/Corpus/Sounding Corpus (Movements) Linear/Trigrams/XML/Op. 5 ii.xml\n",
      "bundles.py: WARNING: updated 85 of 107 files; total errors: 0 ... last file: /Users/joshua ballance/Desktop/Oxford/Corpus/Sounding Corpus (Movements) Linear/Trigrams/XML/Op. 5 iii.xml\n",
      "bundles.py: WARNING: updated 86 of 107 files; total errors: 0 ... last file: /Users/joshua ballance/Desktop/Oxford/Corpus/Sounding Corpus (Movements) Linear/Trigrams/XML/Op. 30.xml\n",
      "bundles.py: WARNING: updated 87 of 107 files; total errors: 0 ... last file: /Users/joshua ballance/Desktop/Oxford/Corpus/Sounding Corpus (Movements) Linear/Trigrams/XML/Op. 5 iv.xml\n",
      "bundles.py: WARNING: updated 88 of 107 files; total errors: 0 ... last file: /Users/joshua ballance/Desktop/Oxford/Corpus/Sounding Corpus (Movements) Linear/Trigrams/XML/Op. 6 i.xml\n"
     ]
    },
    {
     "name": "stderr",
     "output_type": "stream",
     "text": [
      "bundles.py: WARNING: updated 89 of 107 files; total errors: 0 ... last file: /Users/joshua ballance/Desktop/Oxford/Corpus/Sounding Corpus (Movements) Linear/Trigrams/XML/Op. 5 v.xml\n",
      "bundles.py: WARNING: updated 90 of 107 files; total errors: 0 ... last file: /Users/joshua ballance/Desktop/Oxford/Corpus/Sounding Corpus (Movements) Linear/Trigrams/XML/Op. 6 iii.xml\n",
      "bundles.py: WARNING: updated 91 of 107 files; total errors: 0 ... last file: /Users/joshua ballance/Desktop/Oxford/Corpus/Sounding Corpus (Movements) Linear/Trigrams/XML/Op. 5 i.xml\n",
      "bundles.py: WARNING: updated 92 of 107 files; total errors: 0 ... last file: /Users/joshua ballance/Desktop/Oxford/Corpus/Sounding Corpus (Movements) Linear/Trigrams/XML/Op. 6 ii.xml\n",
      "bundles.py: WARNING: updated 93 of 107 files; total errors: 0 ... last file: /Users/joshua ballance/Desktop/Oxford/Corpus/Sounding Corpus (Movements) Linear/Trigrams/XML/Op. 6 v.xml\n",
      "bundles.py: WARNING: updated 94 of 107 files; total errors: 0 ... last file: /Users/joshua ballance/Desktop/Oxford/Corpus/Sounding Corpus (Movements) Linear/Trigrams/XML/Op. 6 iv.xml\n",
      "bundles.py: WARNING: updated 95 of 107 files; total errors: 0 ... last file: /Users/joshua ballance/Desktop/Oxford/Corpus/Sounding Corpus (Movements) Linear/Trigrams/XML/Op. 6 vi.xml\n",
      "bundles.py: WARNING: updated 96 of 107 files; total errors: 0 ... last file: /Users/joshua ballance/Desktop/Oxford/Corpus/Sounding Corpus (Movements) Linear/Trigrams/XML/Op. 7 iii.xml\n",
      "bundles.py: WARNING: updated 97 of 107 files; total errors: 0 ... last file: /Users/joshua ballance/Desktop/Oxford/Corpus/Sounding Corpus (Movements) Linear/Trigrams/XML/Op. 7 i.xml\n",
      "bundles.py: WARNING: updated 98 of 107 files; total errors: 0 ... last file: /Users/joshua ballance/Desktop/Oxford/Corpus/Sounding Corpus (Movements) Linear/Trigrams/XML/Op. 8 i.xml\n",
      "bundles.py: WARNING: updated 99 of 107 files; total errors: 0 ... last file: /Users/joshua ballance/Desktop/Oxford/Corpus/Sounding Corpus (Movements) Linear/Trigrams/XML/Op. 8 ii.xml\n",
      "bundles.py: WARNING: updated 100 of 107 files; total errors: 0 ... last file: /Users/joshua ballance/Desktop/Oxford/Corpus/Sounding Corpus (Movements) Linear/Trigrams/XML/Op. 9 i.xml\n",
      "bundles.py: WARNING: updated 101 of 107 files; total errors: 0 ... last file: /Users/joshua ballance/Desktop/Oxford/Corpus/Sounding Corpus (Movements) Linear/Trigrams/XML/Op. 9 ii.xml\n",
      "bundles.py: WARNING: updated 102 of 107 files; total errors: 0 ... last file: /Users/joshua ballance/Desktop/Oxford/Corpus/Sounding Corpus (Movements) Linear/Trigrams/XML/Op. 9 iii.xml\n",
      "bundles.py: WARNING: updated 103 of 107 files; total errors: 0 ... last file: /Users/joshua ballance/Desktop/Oxford/Corpus/Sounding Corpus (Movements) Linear/Trigrams/XML/Op. 9 iv.xml\n",
      "bundles.py: WARNING: updated 104 of 107 files; total errors: 0 ... last file: /Users/joshua ballance/Desktop/Oxford/Corpus/Sounding Corpus (Movements) Linear/Trigrams/XML/Op. 9 v.xml\n",
      "bundles.py: WARNING: updated 105 of 107 files; total errors: 0 ... last file: /Users/joshua ballance/Desktop/Oxford/Corpus/Sounding Corpus (Movements) Linear/Trigrams/XML/Op. 9 vi.xml\n",
      "bundles.py: WARNING: updated 106 of 107 files; total errors: 0 ... last file: /Users/joshua ballance/Desktop/Oxford/Corpus/Sounding Corpus (Movements) Linear/Trigrams/XML/Op. 7 iv.xml\n",
      "bundles.py: WARNING: updated 107 of 107 files; total errors: 0 ... last file: /Users/joshua ballance/Desktop/Oxford/Corpus/Sounding Corpus (Movements) Linear/Trigrams/XML/Op. 7 ii.xml\n",
      "/opt/anaconda3/lib/python3.7/site-packages/music21/corpus/corpora.py: WARNING: cache: writing time: 585.383 md items: 107\n",
      "\n",
      "/opt/anaconda3/lib/python3.7/site-packages/music21/corpus/corpora.py: WARNING: cache: filename: /var/folders/cr/p20lv70n2wbf2w8jfmxbh69w0000gp/T/music21/local-DPhilCorpus_Linear_Trigrams.p.gz\n"
     ]
    },
    {
     "data": {
      "text/plain": [
       "True"
      ]
     },
     "execution_count": 5,
     "metadata": {},
     "output_type": "execute_result"
    }
   ],
   "source": [
    "## this loads the corpus\n",
    "\n",
    "linear_corpus_trigrams = corpus.corpora.LocalCorpus('DPhilCorpus_Linear_Trigrams')\n",
    "linear_corpus_trigrams.existsInSettings\n",
    "\n",
    "linear_corpus_trigrams.addPath('~/Desktop/Oxford/Corpus/Sounding Corpus (Movements) Linear/Trigrams/XML/')\n",
    "linear_corpus_trigrams.directoryPaths\n",
    "\n",
    "linear_corpus_trigrams.save()\n",
    "linear_corpus_trigrams.existsInSettings"
   ]
  },
  {
   "cell_type": "code",
   "execution_count": 6,
   "metadata": {},
   "outputs": [],
   "source": [
    "## this organises the corpus\n",
    "\n",
    "pieceName = []\n",
    "\n",
    "listOfWorks = linear_corpus_trigrams.search('Op.')\n",
    "for el in listOfWorks:\n",
    "    pieceName.append(el.sourcePath)"
   ]
  },
  {
   "cell_type": "code",
   "execution_count": 7,
   "metadata": {},
   "outputs": [],
   "source": [
    "## this records the offset of each VT in each movement\n",
    "\n",
    "list_of_info = []\n",
    "for el in pieceName:\n",
    "    thePiece = corpus.parse(el)\n",
    "    fileTitle = str(el).replace(\"/Users/joshua ballance/Desktop/Oxford/Corpus/Sounding Corpus (Movements) Linear/Trigrams/XML/\", \"\").replace(\".xml\", \"\").replace(\".mxl\", \"\")\n",
    "    opusNumber = fileTitle.replace(\"Op.\", \"\").replace(\" \", \"\").replace(\"i\", \"\").replace(\"v\", \"\")\n",
    "    movementNumber = fileTitle.replace(\"Op.\", \"\").replace(\" \", \"\").replace(\"1\", \"\").replace(\"2\", \"\").replace(\"3\", \"\").replace(\"4\", \"\").replace(\"5\", \"\").replace(\"6\", \"\").replace(\"7\", \"\").replace(\"8\", \"\").replace(\"9\", \"\").replace(\"0\", \"\")\n",
    "    chordifiedPiece = thePiece.chordify()\n",
    "    chords = chordifiedPiece.flat.recurse().getElementsByClass('Chord')\n",
    "    rests = chordifiedPiece.flat.recurse().getElementsByClass('Chord')\n",
    "    piece_duration = sum(i.seconds for i in chords)+sum(j.seconds for j in rests)\n",
    "    \n",
    "    three_note_list = []\n",
    "    for h in range(0,len(thePiece.parts)):\n",
    "        current_part = thePiece.parts[h]\n",
    "        listOfNotes = current_part.flat.getElementsByClass(note.Note)\n",
    "        listOfRests = current_part.flat.getElementsByClass(note.Rest)\n",
    "        \n",
    "        for i in range(0,len(listOfNotes)-2):\n",
    "            temp_list_of_notes = []\n",
    "            firstNote = listOfNotes[i]\n",
    "            secondNote = listOfNotes[i+1]\n",
    "            thirdNote = listOfNotes[i+2]\n",
    "            rhythmicDifference = secondNote.offset-firstNote.offset\n",
    "            if firstNote.quarterLength == rhythmicDifference:\n",
    "                if 'start' in str(firstNote.tie):\n",
    "                    pass\n",
    "                elif 'stop' in str(secondNote.tie):\n",
    "                    pass\n",
    "                elif 'continue' in str(firstNote.tie):\n",
    "                    pass\n",
    "                elif 'continue' in str(secondNote.tie):\n",
    "                    pass\n",
    "                else:\n",
    "                    temp_list_of_notes.append(firstNote)\n",
    "                    temp_list_of_notes.append(secondNote)\n",
    "                    rhythmicDifference = thirdNote.offset-secondNote.offset\n",
    "                    if secondNote.quarterLength == rhythmicDifference:\n",
    "                        if 'start' in str(secondNote.tie):\n",
    "                            pass\n",
    "                        elif 'stop' in str(thirdNote.tie):\n",
    "                            pass\n",
    "                        elif 'continue' in str(secondNote.tie):\n",
    "                            pass\n",
    "                        elif 'continue' in str(thirdNote.tie):\n",
    "                            pass\n",
    "                        else:\n",
    "                            temp_list_of_notes.append(thirdNote)\n",
    "                    else:\n",
    "                        barNumber = thirdNote.measureNumber\n",
    "                        singleBar = current_part.measure(barNumber)\n",
    "                        barLength = singleBar.quarterLength\n",
    "                        if rhythmicDifference < barLength/2:\n",
    "                            temp_list_of_notes.append(thirdNote)\n",
    "            else:\n",
    "                barNumber = secondNote.measureNumber\n",
    "                singleBar = current_part.measure(barNumber)\n",
    "                barLength = singleBar.quarterLength\n",
    "                if rhythmicDifference < barLength/2:\n",
    "                    temp_list_of_notes.append(firstNote)\n",
    "                    temp_list_of_notes.append(secondNote)\n",
    "                    rhythmicDifference = thirdNote.offset-secondNote.offset\n",
    "                    if secondNote.quarterLength == rhythmicDifference:\n",
    "                        if 'start' in str(secondNote.tie):\n",
    "                            pass\n",
    "                        elif 'stop' in str(thirdNote.tie):\n",
    "                            pass\n",
    "                        elif 'continue' in str(secondNote.tie):\n",
    "                            pass\n",
    "                        elif 'continue' in str(thirdNote.tie):\n",
    "                            pass\n",
    "                        else:\n",
    "                            temp_list_of_notes.append(thirdNote)\n",
    "                    else:\n",
    "                        barNumber = thirdNote.measureNumber\n",
    "                        singleBar = current_part.measure(barNumber)\n",
    "                        barLength = singleBar.quarterLength\n",
    "                        if rhythmicDifference < barLength/2:\n",
    "                            temp_list_of_notes.append(thirdNote)\n",
    "            if len(temp_list_of_notes) == 3:\n",
    "                three_note_list.append(temp_list_of_notes)\n",
    "    normal_order_list = []\n",
    "    listOfOffsetsandDurations = []\n",
    "    for j in three_note_list:\n",
    "        temp_chord = chord.Chord(j)\n",
    "        if str(temp_chord.primeForm) == '[0, 1, 6]':\n",
    "            offset_position = j[0].offset\n",
    "            list_of_duration_values = []\n",
    "            for k in chords:\n",
    "                if k.offset < offset_position:\n",
    "                    list_of_duration_values.append(k.seconds)\n",
    "            for l in rests:\n",
    "                if l.offset < offset_position:\n",
    "                    list_of_duration_values.append(l.seconds)\n",
    "            listOfOffsetsandDurations.append(sum(list_of_duration_values))\n",
    "    \n",
    "    temp = []\n",
    "    temp.append(fileTitle)\n",
    "    temp.append(listOfOffsetsandDurations)\n",
    "    temp.append(piece_duration)\n",
    "    list_of_info.append(temp)"
   ]
  },
  {
   "cell_type": "code",
   "execution_count": 17,
   "metadata": {},
   "outputs": [],
   "source": [
    "## this function calculates DKL values for any number of segments\n",
    "\n",
    "def DKL_calculation(segment_number):\n",
    "    DKL_values = []\n",
    "    for i in list_of_info:\n",
    "        total_offsets_range = i[2]/segment_number\n",
    "        offsets_partitions = []\n",
    "        for j in range(0, segment_number+1):\n",
    "            offsets_partitions.append(j*total_offsets_range)\n",
    "        list_of_partitioned_verticality_values = []\n",
    "\n",
    "        for l in range(0, len(offsets_partitions)-1):\n",
    "            temp = []\n",
    "            for k in i[1]:\n",
    "                val = k\n",
    "                if val > offsets_partitions[l]:\n",
    "                    if val <= offsets_partitions[l+1]:\n",
    "                        temp.append(1)\n",
    "            list_of_partitioned_verticality_values.append(temp)\n",
    "\n",
    "\n",
    "\n",
    "        list_of_partition_number_counts = []\n",
    "\n",
    "        for k in list_of_partitioned_verticality_values:\n",
    "            list_of_partition_number_counts.append(sum(k))\n",
    "\n",
    "\n",
    "        list_of_plog_values = []\n",
    "        for l in list_of_partition_number_counts:\n",
    "            if l == 0:\n",
    "                list_of_plog_values.append(0)\n",
    "            else:\n",
    "                p_value = l/sum(list_of_partition_number_counts)\n",
    "                plog2pq_value = p_value*math.log2(p_value/(1/segment_number))\n",
    "                list_of_plog_values.append(plog2pq_value)\n",
    "        verticality_plog_value = sum(list_of_plog_values)\n",
    "        DKL_value = 1-(math.exp(-verticality_plog_value))\n",
    "        DKL_values.append([i[0], DKL_value])\n",
    "    \n",
    "    sorted_DKL_values = []\n",
    "    for i in frequencies_pf.index.values.flat:\n",
    "        for j in DKL_values:\n",
    "            if i == j[0]:\n",
    "                sorted_DKL_values.append(j[1])\n",
    "    column_title = 'DKL Values'\n",
    "    frequencies_pf[column_title] = sorted_DKL_values\n",
    "    return(frequencies_pf)"
   ]
  },
  {
   "cell_type": "code",
   "execution_count": 18,
   "metadata": {},
   "outputs": [
    {
     "data": {
      "text/html": [
       "<div>\n",
       "<style scoped>\n",
       "    .dataframe tbody tr th:only-of-type {\n",
       "        vertical-align: middle;\n",
       "    }\n",
       "\n",
       "    .dataframe tbody tr th {\n",
       "        vertical-align: top;\n",
       "    }\n",
       "\n",
       "    .dataframe thead th {\n",
       "        text-align: right;\n",
       "    }\n",
       "</style>\n",
       "<table border=\"1\" class=\"dataframe\">\n",
       "  <thead>\n",
       "    <tr style=\"text-align: right;\">\n",
       "      <th></th>\n",
       "      <th>[0, 1, 6]</th>\n",
       "      <th>DKL Values</th>\n",
       "    </tr>\n",
       "    <tr>\n",
       "      <th>Title</th>\n",
       "      <th></th>\n",
       "      <th></th>\n",
       "    </tr>\n",
       "  </thead>\n",
       "  <tbody>\n",
       "    <tr>\n",
       "      <th>Op. 1</th>\n",
       "      <td>2.969333</td>\n",
       "      <td>0.242008</td>\n",
       "    </tr>\n",
       "    <tr>\n",
       "      <th>Op. 10 i</th>\n",
       "      <td>0.000000</td>\n",
       "      <td>0.000000</td>\n",
       "    </tr>\n",
       "    <tr>\n",
       "      <th>Op. 10 ii</th>\n",
       "      <td>10.909091</td>\n",
       "      <td>0.486583</td>\n",
       "    </tr>\n",
       "    <tr>\n",
       "      <th>Op. 10 iii</th>\n",
       "      <td>0.970874</td>\n",
       "      <td>0.795045</td>\n",
       "    </tr>\n",
       "    <tr>\n",
       "      <th>Op. 10 iv</th>\n",
       "      <td>10.000000</td>\n",
       "      <td>0.795045</td>\n",
       "    </tr>\n",
       "    <tr>\n",
       "      <th>...</th>\n",
       "      <td>...</td>\n",
       "      <td>...</td>\n",
       "    </tr>\n",
       "    <tr>\n",
       "      <th>Op. 9 ii</th>\n",
       "      <td>3.225806</td>\n",
       "      <td>0.795045</td>\n",
       "    </tr>\n",
       "    <tr>\n",
       "      <th>Op. 9 iii</th>\n",
       "      <td>6.779661</td>\n",
       "      <td>0.830293</td>\n",
       "    </tr>\n",
       "    <tr>\n",
       "      <th>Op. 9 iv</th>\n",
       "      <td>2.985075</td>\n",
       "      <td>0.795045</td>\n",
       "    </tr>\n",
       "    <tr>\n",
       "      <th>Op. 9 v</th>\n",
       "      <td>0.000000</td>\n",
       "      <td>0.000000</td>\n",
       "    </tr>\n",
       "    <tr>\n",
       "      <th>Op. 9 vi</th>\n",
       "      <td>16.666667</td>\n",
       "      <td>0.811124</td>\n",
       "    </tr>\n",
       "  </tbody>\n",
       "</table>\n",
       "<p>107 rows × 2 columns</p>\n",
       "</div>"
      ],
      "text/plain": [
       "            [0, 1, 6]  DKL Values\n",
       "Title                            \n",
       "Op. 1        2.969333    0.242008\n",
       "Op. 10 i     0.000000    0.000000\n",
       "Op. 10 ii   10.909091    0.486583\n",
       "Op. 10 iii   0.970874    0.795045\n",
       "Op. 10 iv   10.000000    0.795045\n",
       "...               ...         ...\n",
       "Op. 9 ii     3.225806    0.795045\n",
       "Op. 9 iii    6.779661    0.830293\n",
       "Op. 9 iv     2.985075    0.795045\n",
       "Op. 9 v      0.000000    0.000000\n",
       "Op. 9 vi    16.666667    0.811124\n",
       "\n",
       "[107 rows x 2 columns]"
      ]
     },
     "execution_count": 18,
     "metadata": {},
     "output_type": "execute_result"
    }
   ],
   "source": [
    "## this calculates DKL values for a 6-segment partition\n",
    "\n",
    "linear_units_pf_url = 'https://raw.githubusercontent.com/anonymousmuso/Viennese-Trichord/main/Data/Linear%20Harmonies%20-%20Prime%20Form.csv'\n",
    "frequencies_pf = pd.read_csv(linear_units_pf_url, error_bad_lines=False)\n",
    "frequencies_pf = frequencies_pf.rename(columns={\"Unnamed: 0\": \"Title\"}).set_index('Title').iloc[:len(frequencies_pf.index.values)-1, 11:12]\n",
    "DKL_calculation(6)"
   ]
  },
  {
   "cell_type": "code",
   "execution_count": 19,
   "metadata": {},
   "outputs": [
    {
     "data": {
      "application/vnd.plotly.v1+json": {
       "config": {
        "plotlyServerURL": "https://plot.ly"
       },
       "data": [
        {
         "marker": {
          "color": "rgb(3,199,45)",
          "line": {
           "color": "rgb(3,35,134)",
           "width": 1.5
          }
         },
         "mode": "markers",
         "opacity": 0.6,
         "text": [
          "Op. 31 ii",
          "Op. 10 i",
          "Op. 9 v",
          "Op. 28 i",
          "Op. 28 ii",
          "Op. 28 iii",
          "Op. 29 i",
          "Op. 11 ii",
          "Op. 11 iii",
          "Op. 29 ii",
          "Op. 29 iii",
          "Op. 7 i",
          "Op. 31 iv",
          "Op. 31 vi",
          "Op. 26",
          "Op. 31 v",
          "Op. 30",
          "Op. 31 iii",
          "Op. 25 ii",
          "Op. 6 vi",
          "Op. 10 iii",
          "Op. 6 v",
          "Op. 6 i",
          "Op. 6 iv",
          "Op. 24 ii",
          "Op. 16 ii",
          "Op. 6 ii",
          "Op. 2",
          "Op. 25 i",
          "Op. 23 ii",
          "Op. 1",
          "Op. 4 v",
          "Op. 9 iv",
          "Op. 24 i",
          "Op. 5 iii",
          "Op. 9 ii",
          "Op. 6 iii",
          "Op. 5 v",
          "Op. 25 iii",
          "Op. 19 ii",
          "Op. 9 i",
          "Op. 19 i",
          "Op. 17 i",
          "Op. 5 i",
          "Op. 31 i",
          "Op. 27 iii",
          "Op. 21 ii",
          "Op. 23 i",
          "Op. 12 i",
          "Op. 3 iv",
          "Op. 7 ii",
          "Op. 15 i",
          "Op. 9 iii",
          "Op. 23 iii",
          "Op. 18 iii",
          "Op. 18 i",
          "Op. 20 i",
          "Op. 4 i",
          "Op. 24 iii",
          "Op. 5 ii",
          "Op. 17 iii",
          "Op. 3 i",
          "Op. 27 ii",
          "Op. 10 v",
          "Op. 13 ii",
          "Op. 7 iv",
          "Op. 10 iv",
          "Op. 27 i",
          "Op. 4 iv",
          "Op. 3 iii",
          "Op. 13 iv",
          "Op. 3 v",
          "Op. 15 v",
          "Op. 13 iii",
          "Op. 10 ii",
          "Op. 16 i",
          "Op. 14 vi",
          "Op. 15 iii",
          "Op. 4 ii",
          "Op. 8 i",
          "Op. 4 iii",
          "Op. 14 ii",
          "Op. 14 v",
          "Op. 12 iii",
          "Op. 8 ii",
          "Op. 11 i",
          "Op. 15 iv",
          "Op. 16 iv",
          "Op. 22 ii",
          "Op. 18 ii",
          "Op. 15 ii",
          "Op. 14 iii",
          "Op. 5 iv",
          "Op. 14 iv",
          "Op. 13 i",
          "Op. 12 iv",
          "Op. 12 ii",
          "Op. 21 i",
          "Op. 14 i",
          "Op. 9 vi",
          "Op. 20 ii",
          "Op. 16 iii",
          "Op. 17 ii"
         ],
         "textfont": {
          "size": 9
         },
         "textposition": "bottom center",
         "type": "scatter",
         "x": [
          0,
          0,
          0,
          0,
          0,
          0,
          0,
          0,
          0,
          0,
          0,
          0,
          0,
          0,
          0.24154589371980675,
          0.3676470588235294,
          0.5076142131979695,
          0.5194805194805194,
          0.6666666666666667,
          0.7246376811594203,
          0.9708737864077668,
          1.11731843575419,
          1.7241379310344829,
          2.010050251256281,
          2.272727272727273,
          2.380952380952381,
          2.380952380952381,
          2.4029574861367835,
          2.608695652173913,
          2.898550724637681,
          2.96933311698848,
          2.9702970297029703,
          2.985074626865672,
          3.1963470319634704,
          3.205128205128205,
          3.2258064516129035,
          3.333333333333333,
          3.571428571428571,
          3.636363636363636,
          3.7593984962406015,
          4,
          4.215456674473068,
          4.705882352941177,
          4.827586206896552,
          4.938271604938271,
          5.042016806722689,
          5.225225225225224,
          5.764966740576496,
          6.25,
          6.382978723404255,
          6.543967280163599,
          6.769230769230768,
          6.779661016949151,
          6.954436450839328,
          7.368421052631577,
          8.143322475570033,
          8.203125,
          8.466819221967963,
          8.536585365853659,
          8.620689655172415,
          8.75,
          9.16030534351145,
          9.375,
          9.433962264150944,
          9.433962264150944,
          9.473684210526317,
          10,
          10,
          10,
          10.20408163265306,
          10.236220472440944,
          10.548523206751057,
          10.548523206751057,
          10.793650793650794,
          10.909090909090908,
          10.948905109489052,
          10.970464135021098,
          11.111111111111109,
          11.221122112211221,
          11.363636363636365,
          11.673151750972762,
          11.98044009779951,
          12.07729468599034,
          12.23404255319149,
          12.5,
          12.5,
          12.8,
          12.987012987012985,
          13.090909090909092,
          13.439635535307517,
          13.445378151260504,
          13.86861313868613,
          13.888888888888891,
          14.081632653061225,
          14.285714285714285,
          15.887850467289717,
          16.044776119402982,
          16.25,
          16.459627329192546,
          16.666666666666664,
          17.99787007454739,
          18.181818181818183,
          18.907563025210084
         ],
         "y": [
          0,
          0,
          0,
          0,
          0,
          0,
          0,
          0,
          0,
          0,
          0,
          0,
          0,
          0,
          0.924601093047248,
          0.924601093047248,
          0.924601093047248,
          0.79504452134466,
          0.924601093047248,
          0.924601093047248,
          0.79504452134466,
          0.79504452134466,
          0.924601093047248,
          0.6620855427944148,
          0.924601093047248,
          0.79504452134466,
          0.32715522693801735,
          0.5037368620741266,
          0.6321205588285577,
          0.6321205588285577,
          0.24200837579387746,
          0.486582880967408,
          0.79504452134466,
          0.6423876831769091,
          0.23128455143979088,
          0.79504452134466,
          0.79504452134466,
          0.7364028618842733,
          0.79504452134466,
          0.32982227572525424,
          0.924601093047248,
          0.2524217829330301,
          0.3977863339227359,
          0.3555287535822048,
          0.924601093047248,
          0.6756118815659695,
          0.63474630194485,
          0.2783484797056438,
          0.8009127098106902,
          0.46517440917542163,
          0.7028885066299343,
          0.13411427348765836,
          0.8302934273102744,
          0.16820316455897755,
          0.32109746733304356,
          0.21890299492719,
          0.1811689618071547,
          0.23574318734961575,
          0.924601093047248,
          0.4847146251328135,
          0.10842476858042738,
          0.6200717759298424,
          0.28346868942621073,
          0.8447990276069941,
          0.5221809411142426,
          0.32145384522491327,
          0.79504452134466,
          0.6516227880847316,
          0.6620855427944148,
          0.34887224093566915,
          0.21091317166800005,
          0.5179563377037345,
          0.4755954916253603,
          0.3779342091238127,
          0.486582880967408,
          0.6431189476640591,
          0.6072715886910758,
          0.4791220760764413,
          0.39735914176924003,
          0.35319285429100933,
          0.2047107591641757,
          0.41046668559015087,
          0.3938738732541128,
          0.4089906233975431,
          0.24803545936372673,
          0.8111243971624381,
          0.20764479714766138,
          0.5221809411142426,
          0.2989346016479547,
          0.19336049478043837,
          0.08947469931489815,
          0.12980544511512504,
          0.6372393056272576,
          0.08422075818327068,
          0.27923399941666494,
          0.3790494981409973,
          0.24354926794109943,
          0.35090106202905424,
          0.22781443374951438,
          0.8111243971624381,
          0.10240693727818428,
          0.6219637838449992,
          0.21949313697845618
         ]
        },
        {
         "marker": {
          "color": "rgb(3,199,45)",
          "line": {
           "color": "rgb(3,35,134)",
           "width": 1.5
          }
         },
         "mode": "markers+text",
         "opacity": 0.6,
         "text": [
          "Op. 3 ii"
         ],
         "textfont": {
          "size": 9
         },
         "textposition": "bottom center",
         "type": "scatter",
         "x": [
          21.12676056338028
         ],
         "y": [
          0.1283909206171936
         ]
        },
        {
         "marker": {
          "color": "rgb(3,199,45)",
          "line": {
           "color": "rgb(3,35,134)",
           "width": 1.5
          }
         },
         "mode": "markers",
         "opacity": 0.6,
         "text": [
          "Op. 16 v",
          "Op. 22 i"
         ],
         "textfont": {
          "size": 9
         },
         "textposition": "top center",
         "type": "scatter",
         "x": [
          24.13793103448276,
          24.84472049689441
         ],
         "y": [
          0.2550860158708532,
          0.1493400579969567
         ]
        },
        {
         "marker": {
          "color": "rgb(3,199,45)",
          "line": {
           "color": "rgb(3,35,134)",
           "width": 1.5
          }
         },
         "mode": "markers+text",
         "opacity": 0.6,
         "text": [
          "Op. 7 iii"
         ],
         "textfont": {
          "size": 9
         },
         "textposition": "top center",
         "type": "scatter",
         "x": [
          32.25806451612903
         ],
         "y": [
          0.79504452134466
         ]
        }
       ],
       "layout": {
        "font": {
         "color": "rgb(0,0,0)",
         "family": "Baskerville, monospace",
         "size": 12
        },
        "margin": {
         "b": 0,
         "l": 0,
         "r": 0,
         "t": 0
        },
        "showlegend": false,
        "template": {
         "data": {
          "bar": [
           {
            "error_x": {
             "color": "#2a3f5f"
            },
            "error_y": {
             "color": "#2a3f5f"
            },
            "marker": {
             "line": {
              "color": "#E5ECF6",
              "width": 0.5
             }
            },
            "type": "bar"
           }
          ],
          "barpolar": [
           {
            "marker": {
             "line": {
              "color": "#E5ECF6",
              "width": 0.5
             }
            },
            "type": "barpolar"
           }
          ],
          "carpet": [
           {
            "aaxis": {
             "endlinecolor": "#2a3f5f",
             "gridcolor": "white",
             "linecolor": "white",
             "minorgridcolor": "white",
             "startlinecolor": "#2a3f5f"
            },
            "baxis": {
             "endlinecolor": "#2a3f5f",
             "gridcolor": "white",
             "linecolor": "white",
             "minorgridcolor": "white",
             "startlinecolor": "#2a3f5f"
            },
            "type": "carpet"
           }
          ],
          "choropleth": [
           {
            "colorbar": {
             "outlinewidth": 0,
             "ticks": ""
            },
            "type": "choropleth"
           }
          ],
          "contour": [
           {
            "colorbar": {
             "outlinewidth": 0,
             "ticks": ""
            },
            "colorscale": [
             [
              0,
              "#0d0887"
             ],
             [
              0.1111111111111111,
              "#46039f"
             ],
             [
              0.2222222222222222,
              "#7201a8"
             ],
             [
              0.3333333333333333,
              "#9c179e"
             ],
             [
              0.4444444444444444,
              "#bd3786"
             ],
             [
              0.5555555555555556,
              "#d8576b"
             ],
             [
              0.6666666666666666,
              "#ed7953"
             ],
             [
              0.7777777777777778,
              "#fb9f3a"
             ],
             [
              0.8888888888888888,
              "#fdca26"
             ],
             [
              1,
              "#f0f921"
             ]
            ],
            "type": "contour"
           }
          ],
          "contourcarpet": [
           {
            "colorbar": {
             "outlinewidth": 0,
             "ticks": ""
            },
            "type": "contourcarpet"
           }
          ],
          "heatmap": [
           {
            "colorbar": {
             "outlinewidth": 0,
             "ticks": ""
            },
            "colorscale": [
             [
              0,
              "#0d0887"
             ],
             [
              0.1111111111111111,
              "#46039f"
             ],
             [
              0.2222222222222222,
              "#7201a8"
             ],
             [
              0.3333333333333333,
              "#9c179e"
             ],
             [
              0.4444444444444444,
              "#bd3786"
             ],
             [
              0.5555555555555556,
              "#d8576b"
             ],
             [
              0.6666666666666666,
              "#ed7953"
             ],
             [
              0.7777777777777778,
              "#fb9f3a"
             ],
             [
              0.8888888888888888,
              "#fdca26"
             ],
             [
              1,
              "#f0f921"
             ]
            ],
            "type": "heatmap"
           }
          ],
          "heatmapgl": [
           {
            "colorbar": {
             "outlinewidth": 0,
             "ticks": ""
            },
            "colorscale": [
             [
              0,
              "#0d0887"
             ],
             [
              0.1111111111111111,
              "#46039f"
             ],
             [
              0.2222222222222222,
              "#7201a8"
             ],
             [
              0.3333333333333333,
              "#9c179e"
             ],
             [
              0.4444444444444444,
              "#bd3786"
             ],
             [
              0.5555555555555556,
              "#d8576b"
             ],
             [
              0.6666666666666666,
              "#ed7953"
             ],
             [
              0.7777777777777778,
              "#fb9f3a"
             ],
             [
              0.8888888888888888,
              "#fdca26"
             ],
             [
              1,
              "#f0f921"
             ]
            ],
            "type": "heatmapgl"
           }
          ],
          "histogram": [
           {
            "marker": {
             "colorbar": {
              "outlinewidth": 0,
              "ticks": ""
             }
            },
            "type": "histogram"
           }
          ],
          "histogram2d": [
           {
            "colorbar": {
             "outlinewidth": 0,
             "ticks": ""
            },
            "colorscale": [
             [
              0,
              "#0d0887"
             ],
             [
              0.1111111111111111,
              "#46039f"
             ],
             [
              0.2222222222222222,
              "#7201a8"
             ],
             [
              0.3333333333333333,
              "#9c179e"
             ],
             [
              0.4444444444444444,
              "#bd3786"
             ],
             [
              0.5555555555555556,
              "#d8576b"
             ],
             [
              0.6666666666666666,
              "#ed7953"
             ],
             [
              0.7777777777777778,
              "#fb9f3a"
             ],
             [
              0.8888888888888888,
              "#fdca26"
             ],
             [
              1,
              "#f0f921"
             ]
            ],
            "type": "histogram2d"
           }
          ],
          "histogram2dcontour": [
           {
            "colorbar": {
             "outlinewidth": 0,
             "ticks": ""
            },
            "colorscale": [
             [
              0,
              "#0d0887"
             ],
             [
              0.1111111111111111,
              "#46039f"
             ],
             [
              0.2222222222222222,
              "#7201a8"
             ],
             [
              0.3333333333333333,
              "#9c179e"
             ],
             [
              0.4444444444444444,
              "#bd3786"
             ],
             [
              0.5555555555555556,
              "#d8576b"
             ],
             [
              0.6666666666666666,
              "#ed7953"
             ],
             [
              0.7777777777777778,
              "#fb9f3a"
             ],
             [
              0.8888888888888888,
              "#fdca26"
             ],
             [
              1,
              "#f0f921"
             ]
            ],
            "type": "histogram2dcontour"
           }
          ],
          "mesh3d": [
           {
            "colorbar": {
             "outlinewidth": 0,
             "ticks": ""
            },
            "type": "mesh3d"
           }
          ],
          "parcoords": [
           {
            "line": {
             "colorbar": {
              "outlinewidth": 0,
              "ticks": ""
             }
            },
            "type": "parcoords"
           }
          ],
          "pie": [
           {
            "automargin": true,
            "type": "pie"
           }
          ],
          "scatter": [
           {
            "marker": {
             "colorbar": {
              "outlinewidth": 0,
              "ticks": ""
             }
            },
            "type": "scatter"
           }
          ],
          "scatter3d": [
           {
            "line": {
             "colorbar": {
              "outlinewidth": 0,
              "ticks": ""
             }
            },
            "marker": {
             "colorbar": {
              "outlinewidth": 0,
              "ticks": ""
             }
            },
            "type": "scatter3d"
           }
          ],
          "scattercarpet": [
           {
            "marker": {
             "colorbar": {
              "outlinewidth": 0,
              "ticks": ""
             }
            },
            "type": "scattercarpet"
           }
          ],
          "scattergeo": [
           {
            "marker": {
             "colorbar": {
              "outlinewidth": 0,
              "ticks": ""
             }
            },
            "type": "scattergeo"
           }
          ],
          "scattergl": [
           {
            "marker": {
             "colorbar": {
              "outlinewidth": 0,
              "ticks": ""
             }
            },
            "type": "scattergl"
           }
          ],
          "scattermapbox": [
           {
            "marker": {
             "colorbar": {
              "outlinewidth": 0,
              "ticks": ""
             }
            },
            "type": "scattermapbox"
           }
          ],
          "scatterpolar": [
           {
            "marker": {
             "colorbar": {
              "outlinewidth": 0,
              "ticks": ""
             }
            },
            "type": "scatterpolar"
           }
          ],
          "scatterpolargl": [
           {
            "marker": {
             "colorbar": {
              "outlinewidth": 0,
              "ticks": ""
             }
            },
            "type": "scatterpolargl"
           }
          ],
          "scatterternary": [
           {
            "marker": {
             "colorbar": {
              "outlinewidth": 0,
              "ticks": ""
             }
            },
            "type": "scatterternary"
           }
          ],
          "surface": [
           {
            "colorbar": {
             "outlinewidth": 0,
             "ticks": ""
            },
            "colorscale": [
             [
              0,
              "#0d0887"
             ],
             [
              0.1111111111111111,
              "#46039f"
             ],
             [
              0.2222222222222222,
              "#7201a8"
             ],
             [
              0.3333333333333333,
              "#9c179e"
             ],
             [
              0.4444444444444444,
              "#bd3786"
             ],
             [
              0.5555555555555556,
              "#d8576b"
             ],
             [
              0.6666666666666666,
              "#ed7953"
             ],
             [
              0.7777777777777778,
              "#fb9f3a"
             ],
             [
              0.8888888888888888,
              "#fdca26"
             ],
             [
              1,
              "#f0f921"
             ]
            ],
            "type": "surface"
           }
          ],
          "table": [
           {
            "cells": {
             "fill": {
              "color": "#EBF0F8"
             },
             "line": {
              "color": "white"
             }
            },
            "header": {
             "fill": {
              "color": "#C8D4E3"
             },
             "line": {
              "color": "white"
             }
            },
            "type": "table"
           }
          ]
         },
         "layout": {
          "annotationdefaults": {
           "arrowcolor": "#2a3f5f",
           "arrowhead": 0,
           "arrowwidth": 1
          },
          "coloraxis": {
           "colorbar": {
            "outlinewidth": 0,
            "ticks": ""
           }
          },
          "colorscale": {
           "diverging": [
            [
             0,
             "#8e0152"
            ],
            [
             0.1,
             "#c51b7d"
            ],
            [
             0.2,
             "#de77ae"
            ],
            [
             0.3,
             "#f1b6da"
            ],
            [
             0.4,
             "#fde0ef"
            ],
            [
             0.5,
             "#f7f7f7"
            ],
            [
             0.6,
             "#e6f5d0"
            ],
            [
             0.7,
             "#b8e186"
            ],
            [
             0.8,
             "#7fbc41"
            ],
            [
             0.9,
             "#4d9221"
            ],
            [
             1,
             "#276419"
            ]
           ],
           "sequential": [
            [
             0,
             "#0d0887"
            ],
            [
             0.1111111111111111,
             "#46039f"
            ],
            [
             0.2222222222222222,
             "#7201a8"
            ],
            [
             0.3333333333333333,
             "#9c179e"
            ],
            [
             0.4444444444444444,
             "#bd3786"
            ],
            [
             0.5555555555555556,
             "#d8576b"
            ],
            [
             0.6666666666666666,
             "#ed7953"
            ],
            [
             0.7777777777777778,
             "#fb9f3a"
            ],
            [
             0.8888888888888888,
             "#fdca26"
            ],
            [
             1,
             "#f0f921"
            ]
           ],
           "sequentialminus": [
            [
             0,
             "#0d0887"
            ],
            [
             0.1111111111111111,
             "#46039f"
            ],
            [
             0.2222222222222222,
             "#7201a8"
            ],
            [
             0.3333333333333333,
             "#9c179e"
            ],
            [
             0.4444444444444444,
             "#bd3786"
            ],
            [
             0.5555555555555556,
             "#d8576b"
            ],
            [
             0.6666666666666666,
             "#ed7953"
            ],
            [
             0.7777777777777778,
             "#fb9f3a"
            ],
            [
             0.8888888888888888,
             "#fdca26"
            ],
            [
             1,
             "#f0f921"
            ]
           ]
          },
          "colorway": [
           "#636efa",
           "#EF553B",
           "#00cc96",
           "#ab63fa",
           "#FFA15A",
           "#19d3f3",
           "#FF6692",
           "#B6E880",
           "#FF97FF",
           "#FECB52"
          ],
          "font": {
           "color": "#2a3f5f"
          },
          "geo": {
           "bgcolor": "white",
           "lakecolor": "white",
           "landcolor": "#E5ECF6",
           "showlakes": true,
           "showland": true,
           "subunitcolor": "white"
          },
          "hoverlabel": {
           "align": "left"
          },
          "hovermode": "closest",
          "mapbox": {
           "style": "light"
          },
          "paper_bgcolor": "white",
          "plot_bgcolor": "#E5ECF6",
          "polar": {
           "angularaxis": {
            "gridcolor": "white",
            "linecolor": "white",
            "ticks": ""
           },
           "bgcolor": "#E5ECF6",
           "radialaxis": {
            "gridcolor": "white",
            "linecolor": "white",
            "ticks": ""
           }
          },
          "scene": {
           "xaxis": {
            "backgroundcolor": "#E5ECF6",
            "gridcolor": "white",
            "gridwidth": 2,
            "linecolor": "white",
            "showbackground": true,
            "ticks": "",
            "zerolinecolor": "white"
           },
           "yaxis": {
            "backgroundcolor": "#E5ECF6",
            "gridcolor": "white",
            "gridwidth": 2,
            "linecolor": "white",
            "showbackground": true,
            "ticks": "",
            "zerolinecolor": "white"
           },
           "zaxis": {
            "backgroundcolor": "#E5ECF6",
            "gridcolor": "white",
            "gridwidth": 2,
            "linecolor": "white",
            "showbackground": true,
            "ticks": "",
            "zerolinecolor": "white"
           }
          },
          "shapedefaults": {
           "line": {
            "color": "#2a3f5f"
           }
          },
          "ternary": {
           "aaxis": {
            "gridcolor": "white",
            "linecolor": "white",
            "ticks": ""
           },
           "baxis": {
            "gridcolor": "white",
            "linecolor": "white",
            "ticks": ""
           },
           "bgcolor": "#E5ECF6",
           "caxis": {
            "gridcolor": "white",
            "linecolor": "white",
            "ticks": ""
           }
          },
          "title": {
           "x": 0.05
          },
          "xaxis": {
           "automargin": true,
           "gridcolor": "white",
           "linecolor": "white",
           "ticks": "",
           "title": {
            "standoff": 15
           },
           "zerolinecolor": "white",
           "zerolinewidth": 2
          },
          "yaxis": {
           "automargin": true,
           "gridcolor": "white",
           "linecolor": "white",
           "ticks": "",
           "title": {
            "standoff": 15
           },
           "zerolinecolor": "white",
           "zerolinewidth": 2
          }
         }
        },
        "xaxis": {
         "title": {
          "text": "Frequency (%)"
         }
        },
        "yaxis": {
         "title": {
          "text": "Dispersion (Normalised D<sub>KL</sub>)"
         }
        }
       }
      },
      "text/html": [
       "<div>\n",
       "        \n",
       "        \n",
       "            <div id=\"f4c88d16-e161-43b6-90e8-bab934402ac7\" class=\"plotly-graph-div\" style=\"height:525px; width:100%;\"></div>\n",
       "            <script type=\"text/javascript\">\n",
       "                require([\"plotly\"], function(Plotly) {\n",
       "                    window.PLOTLYENV=window.PLOTLYENV || {};\n",
       "                    \n",
       "                if (document.getElementById(\"f4c88d16-e161-43b6-90e8-bab934402ac7\")) {\n",
       "                    Plotly.newPlot(\n",
       "                        'f4c88d16-e161-43b6-90e8-bab934402ac7',\n",
       "                        [{\"marker\": {\"color\": \"rgb(3,199,45)\", \"line\": {\"color\": \"rgb(3,35,134)\", \"width\": 1.5}}, \"mode\": \"markers\", \"opacity\": 0.6, \"text\": [\"Op. 31 ii\", \"Op. 10 i\", \"Op. 9 v\", \"Op. 28 i\", \"Op. 28 ii\", \"Op. 28 iii\", \"Op. 29 i\", \"Op. 11 ii\", \"Op. 11 iii\", \"Op. 29 ii\", \"Op. 29 iii\", \"Op. 7 i\", \"Op. 31 iv\", \"Op. 31 vi\", \"Op. 26\", \"Op. 31 v\", \"Op. 30\", \"Op. 31 iii\", \"Op. 25 ii\", \"Op. 6 vi\", \"Op. 10 iii\", \"Op. 6 v\", \"Op. 6 i\", \"Op. 6 iv\", \"Op. 24 ii\", \"Op. 16 ii\", \"Op. 6 ii\", \"Op. 2\", \"Op. 25 i\", \"Op. 23 ii\", \"Op. 1\", \"Op. 4 v\", \"Op. 9 iv\", \"Op. 24 i\", \"Op. 5 iii\", \"Op. 9 ii\", \"Op. 6 iii\", \"Op. 5 v\", \"Op. 25 iii\", \"Op. 19 ii\", \"Op. 9 i\", \"Op. 19 i\", \"Op. 17 i\", \"Op. 5 i\", \"Op. 31 i\", \"Op. 27 iii\", \"Op. 21 ii\", \"Op. 23 i\", \"Op. 12 i\", \"Op. 3 iv\", \"Op. 7 ii\", \"Op. 15 i\", \"Op. 9 iii\", \"Op. 23 iii\", \"Op. 18 iii\", \"Op. 18 i\", \"Op. 20 i\", \"Op. 4 i\", \"Op. 24 iii\", \"Op. 5 ii\", \"Op. 17 iii\", \"Op. 3 i\", \"Op. 27 ii\", \"Op. 10 v\", \"Op. 13 ii\", \"Op. 7 iv\", \"Op. 10 iv\", \"Op. 27 i\", \"Op. 4 iv\", \"Op. 3 iii\", \"Op. 13 iv\", \"Op. 3 v\", \"Op. 15 v\", \"Op. 13 iii\", \"Op. 10 ii\", \"Op. 16 i\", \"Op. 14 vi\", \"Op. 15 iii\", \"Op. 4 ii\", \"Op. 8 i\", \"Op. 4 iii\", \"Op. 14 ii\", \"Op. 14 v\", \"Op. 12 iii\", \"Op. 8 ii\", \"Op. 11 i\", \"Op. 15 iv\", \"Op. 16 iv\", \"Op. 22 ii\", \"Op. 18 ii\", \"Op. 15 ii\", \"Op. 14 iii\", \"Op. 5 iv\", \"Op. 14 iv\", \"Op. 13 i\", \"Op. 12 iv\", \"Op. 12 ii\", \"Op. 21 i\", \"Op. 14 i\", \"Op. 9 vi\", \"Op. 20 ii\", \"Op. 16 iii\", \"Op. 17 ii\"], \"textfont\": {\"size\": 9}, \"textposition\": \"bottom center\", \"type\": \"scatter\", \"x\": [0.0, 0.0, 0.0, 0.0, 0.0, 0.0, 0.0, 0.0, 0.0, 0.0, 0.0, 0.0, 0.0, 0.0, 0.24154589371980675, 0.3676470588235294, 0.5076142131979695, 0.5194805194805194, 0.6666666666666667, 0.7246376811594203, 0.9708737864077668, 1.11731843575419, 1.7241379310344829, 2.010050251256281, 2.272727272727273, 2.380952380952381, 2.380952380952381, 2.4029574861367835, 2.608695652173913, 2.898550724637681, 2.96933311698848, 2.9702970297029703, 2.985074626865672, 3.1963470319634704, 3.205128205128205, 3.2258064516129035, 3.333333333333333, 3.571428571428571, 3.636363636363636, 3.7593984962406015, 4.0, 4.215456674473068, 4.705882352941177, 4.827586206896552, 4.938271604938271, 5.042016806722689, 5.225225225225224, 5.764966740576496, 6.25, 6.382978723404255, 6.543967280163599, 6.769230769230768, 6.779661016949151, 6.954436450839328, 7.368421052631577, 8.143322475570033, 8.203125, 8.466819221967963, 8.536585365853659, 8.620689655172415, 8.75, 9.16030534351145, 9.375, 9.433962264150944, 9.433962264150944, 9.473684210526317, 10.0, 10.0, 10.0, 10.20408163265306, 10.236220472440944, 10.548523206751057, 10.548523206751057, 10.793650793650794, 10.909090909090908, 10.948905109489052, 10.970464135021098, 11.111111111111109, 11.221122112211221, 11.363636363636365, 11.673151750972762, 11.98044009779951, 12.07729468599034, 12.23404255319149, 12.5, 12.5, 12.8, 12.987012987012985, 13.090909090909092, 13.439635535307517, 13.445378151260504, 13.86861313868613, 13.888888888888891, 14.081632653061225, 14.285714285714285, 15.887850467289717, 16.044776119402982, 16.25, 16.459627329192546, 16.666666666666664, 17.99787007454739, 18.181818181818183, 18.907563025210084], \"y\": [0.0, 0.0, 0.0, 0.0, 0.0, 0.0, 0.0, 0.0, 0.0, 0.0, 0.0, 0.0, 0.0, 0.0, 0.924601093047248, 0.924601093047248, 0.924601093047248, 0.79504452134466, 0.924601093047248, 0.924601093047248, 0.79504452134466, 0.79504452134466, 0.924601093047248, 0.6620855427944148, 0.924601093047248, 0.79504452134466, 0.32715522693801735, 0.5037368620741266, 0.6321205588285577, 0.6321205588285577, 0.24200837579387746, 0.486582880967408, 0.79504452134466, 0.6423876831769091, 0.23128455143979088, 0.79504452134466, 0.79504452134466, 0.7364028618842733, 0.79504452134466, 0.32982227572525424, 0.924601093047248, 0.2524217829330301, 0.3977863339227359, 0.3555287535822048, 0.924601093047248, 0.6756118815659695, 0.63474630194485, 0.2783484797056438, 0.8009127098106902, 0.46517440917542163, 0.7028885066299343, 0.13411427348765836, 0.8302934273102744, 0.16820316455897755, 0.32109746733304356, 0.21890299492719, 0.1811689618071547, 0.23574318734961575, 0.924601093047248, 0.4847146251328135, 0.10842476858042738, 0.6200717759298424, 0.28346868942621073, 0.8447990276069941, 0.5221809411142426, 0.32145384522491327, 0.79504452134466, 0.6516227880847316, 0.6620855427944148, 0.34887224093566915, 0.21091317166800005, 0.5179563377037345, 0.4755954916253603, 0.3779342091238127, 0.486582880967408, 0.6431189476640591, 0.6072715886910758, 0.4791220760764413, 0.39735914176924003, 0.35319285429100933, 0.2047107591641757, 0.41046668559015087, 0.3938738732541128, 0.4089906233975431, 0.24803545936372673, 0.8111243971624381, 0.20764479714766138, 0.5221809411142426, 0.2989346016479547, 0.19336049478043837, 0.08947469931489815, 0.12980544511512504, 0.6372393056272576, 0.08422075818327068, 0.27923399941666494, 0.3790494981409973, 0.24354926794109943, 0.35090106202905424, 0.22781443374951438, 0.8111243971624381, 0.10240693727818428, 0.6219637838449992, 0.21949313697845618]}, {\"marker\": {\"color\": \"rgb(3,199,45)\", \"line\": {\"color\": \"rgb(3,35,134)\", \"width\": 1.5}}, \"mode\": \"markers+text\", \"opacity\": 0.6, \"text\": [\"Op. 3 ii\"], \"textfont\": {\"size\": 9}, \"textposition\": \"bottom center\", \"type\": \"scatter\", \"x\": [21.12676056338028], \"y\": [0.1283909206171936]}, {\"marker\": {\"color\": \"rgb(3,199,45)\", \"line\": {\"color\": \"rgb(3,35,134)\", \"width\": 1.5}}, \"mode\": \"markers\", \"opacity\": 0.6, \"text\": [\"Op. 16 v\", \"Op. 22 i\"], \"textfont\": {\"size\": 9}, \"textposition\": \"top center\", \"type\": \"scatter\", \"x\": [24.13793103448276, 24.84472049689441], \"y\": [0.2550860158708532, 0.1493400579969567]}, {\"marker\": {\"color\": \"rgb(3,199,45)\", \"line\": {\"color\": \"rgb(3,35,134)\", \"width\": 1.5}}, \"mode\": \"markers+text\", \"opacity\": 0.6, \"text\": [\"Op. 7 iii\"], \"textfont\": {\"size\": 9}, \"textposition\": \"top center\", \"type\": \"scatter\", \"x\": [32.25806451612903], \"y\": [0.79504452134466]}],\n",
       "                        {\"font\": {\"color\": \"rgb(0,0,0)\", \"family\": \"Baskerville, monospace\", \"size\": 12}, \"margin\": {\"b\": 0, \"l\": 0, \"r\": 0, \"t\": 0}, \"showlegend\": false, \"template\": {\"data\": {\"bar\": [{\"error_x\": {\"color\": \"#2a3f5f\"}, \"error_y\": {\"color\": \"#2a3f5f\"}, \"marker\": {\"line\": {\"color\": \"#E5ECF6\", \"width\": 0.5}}, \"type\": \"bar\"}], \"barpolar\": [{\"marker\": {\"line\": {\"color\": \"#E5ECF6\", \"width\": 0.5}}, \"type\": \"barpolar\"}], \"carpet\": [{\"aaxis\": {\"endlinecolor\": \"#2a3f5f\", \"gridcolor\": \"white\", \"linecolor\": \"white\", \"minorgridcolor\": \"white\", \"startlinecolor\": \"#2a3f5f\"}, \"baxis\": {\"endlinecolor\": \"#2a3f5f\", \"gridcolor\": \"white\", \"linecolor\": \"white\", \"minorgridcolor\": \"white\", \"startlinecolor\": \"#2a3f5f\"}, \"type\": \"carpet\"}], \"choropleth\": [{\"colorbar\": {\"outlinewidth\": 0, \"ticks\": \"\"}, \"type\": \"choropleth\"}], \"contour\": [{\"colorbar\": {\"outlinewidth\": 0, \"ticks\": \"\"}, \"colorscale\": [[0.0, \"#0d0887\"], [0.1111111111111111, \"#46039f\"], [0.2222222222222222, \"#7201a8\"], [0.3333333333333333, \"#9c179e\"], [0.4444444444444444, \"#bd3786\"], [0.5555555555555556, \"#d8576b\"], [0.6666666666666666, \"#ed7953\"], [0.7777777777777778, \"#fb9f3a\"], [0.8888888888888888, \"#fdca26\"], [1.0, \"#f0f921\"]], \"type\": \"contour\"}], \"contourcarpet\": [{\"colorbar\": {\"outlinewidth\": 0, \"ticks\": \"\"}, \"type\": \"contourcarpet\"}], \"heatmap\": [{\"colorbar\": {\"outlinewidth\": 0, \"ticks\": \"\"}, \"colorscale\": [[0.0, \"#0d0887\"], [0.1111111111111111, \"#46039f\"], [0.2222222222222222, \"#7201a8\"], [0.3333333333333333, \"#9c179e\"], [0.4444444444444444, \"#bd3786\"], [0.5555555555555556, \"#d8576b\"], [0.6666666666666666, \"#ed7953\"], [0.7777777777777778, \"#fb9f3a\"], [0.8888888888888888, \"#fdca26\"], [1.0, \"#f0f921\"]], \"type\": \"heatmap\"}], \"heatmapgl\": [{\"colorbar\": {\"outlinewidth\": 0, \"ticks\": \"\"}, \"colorscale\": [[0.0, \"#0d0887\"], [0.1111111111111111, \"#46039f\"], [0.2222222222222222, \"#7201a8\"], [0.3333333333333333, \"#9c179e\"], [0.4444444444444444, \"#bd3786\"], [0.5555555555555556, \"#d8576b\"], [0.6666666666666666, \"#ed7953\"], [0.7777777777777778, \"#fb9f3a\"], [0.8888888888888888, \"#fdca26\"], [1.0, \"#f0f921\"]], \"type\": \"heatmapgl\"}], \"histogram\": [{\"marker\": {\"colorbar\": {\"outlinewidth\": 0, \"ticks\": \"\"}}, \"type\": \"histogram\"}], \"histogram2d\": [{\"colorbar\": {\"outlinewidth\": 0, \"ticks\": \"\"}, \"colorscale\": [[0.0, \"#0d0887\"], [0.1111111111111111, \"#46039f\"], [0.2222222222222222, \"#7201a8\"], [0.3333333333333333, \"#9c179e\"], [0.4444444444444444, \"#bd3786\"], [0.5555555555555556, \"#d8576b\"], [0.6666666666666666, \"#ed7953\"], [0.7777777777777778, \"#fb9f3a\"], [0.8888888888888888, \"#fdca26\"], [1.0, \"#f0f921\"]], \"type\": \"histogram2d\"}], \"histogram2dcontour\": [{\"colorbar\": {\"outlinewidth\": 0, \"ticks\": \"\"}, \"colorscale\": [[0.0, \"#0d0887\"], [0.1111111111111111, \"#46039f\"], [0.2222222222222222, \"#7201a8\"], [0.3333333333333333, \"#9c179e\"], [0.4444444444444444, \"#bd3786\"], [0.5555555555555556, \"#d8576b\"], [0.6666666666666666, \"#ed7953\"], [0.7777777777777778, \"#fb9f3a\"], [0.8888888888888888, \"#fdca26\"], [1.0, \"#f0f921\"]], \"type\": \"histogram2dcontour\"}], \"mesh3d\": [{\"colorbar\": {\"outlinewidth\": 0, \"ticks\": \"\"}, \"type\": \"mesh3d\"}], \"parcoords\": [{\"line\": {\"colorbar\": {\"outlinewidth\": 0, \"ticks\": \"\"}}, \"type\": \"parcoords\"}], \"pie\": [{\"automargin\": true, \"type\": \"pie\"}], \"scatter\": [{\"marker\": {\"colorbar\": {\"outlinewidth\": 0, \"ticks\": \"\"}}, \"type\": \"scatter\"}], \"scatter3d\": [{\"line\": {\"colorbar\": {\"outlinewidth\": 0, \"ticks\": \"\"}}, \"marker\": {\"colorbar\": {\"outlinewidth\": 0, \"ticks\": \"\"}}, \"type\": \"scatter3d\"}], \"scattercarpet\": [{\"marker\": {\"colorbar\": {\"outlinewidth\": 0, \"ticks\": \"\"}}, \"type\": \"scattercarpet\"}], \"scattergeo\": [{\"marker\": {\"colorbar\": {\"outlinewidth\": 0, \"ticks\": \"\"}}, \"type\": \"scattergeo\"}], \"scattergl\": [{\"marker\": {\"colorbar\": {\"outlinewidth\": 0, \"ticks\": \"\"}}, \"type\": \"scattergl\"}], \"scattermapbox\": [{\"marker\": {\"colorbar\": {\"outlinewidth\": 0, \"ticks\": \"\"}}, \"type\": \"scattermapbox\"}], \"scatterpolar\": [{\"marker\": {\"colorbar\": {\"outlinewidth\": 0, \"ticks\": \"\"}}, \"type\": \"scatterpolar\"}], \"scatterpolargl\": [{\"marker\": {\"colorbar\": {\"outlinewidth\": 0, \"ticks\": \"\"}}, \"type\": \"scatterpolargl\"}], \"scatterternary\": [{\"marker\": {\"colorbar\": {\"outlinewidth\": 0, \"ticks\": \"\"}}, \"type\": \"scatterternary\"}], \"surface\": [{\"colorbar\": {\"outlinewidth\": 0, \"ticks\": \"\"}, \"colorscale\": [[0.0, \"#0d0887\"], [0.1111111111111111, \"#46039f\"], [0.2222222222222222, \"#7201a8\"], [0.3333333333333333, \"#9c179e\"], [0.4444444444444444, \"#bd3786\"], [0.5555555555555556, \"#d8576b\"], [0.6666666666666666, \"#ed7953\"], [0.7777777777777778, \"#fb9f3a\"], [0.8888888888888888, \"#fdca26\"], [1.0, \"#f0f921\"]], \"type\": \"surface\"}], \"table\": [{\"cells\": {\"fill\": {\"color\": \"#EBF0F8\"}, \"line\": {\"color\": \"white\"}}, \"header\": {\"fill\": {\"color\": \"#C8D4E3\"}, \"line\": {\"color\": \"white\"}}, \"type\": \"table\"}]}, \"layout\": {\"annotationdefaults\": {\"arrowcolor\": \"#2a3f5f\", \"arrowhead\": 0, \"arrowwidth\": 1}, \"coloraxis\": {\"colorbar\": {\"outlinewidth\": 0, \"ticks\": \"\"}}, \"colorscale\": {\"diverging\": [[0, \"#8e0152\"], [0.1, \"#c51b7d\"], [0.2, \"#de77ae\"], [0.3, \"#f1b6da\"], [0.4, \"#fde0ef\"], [0.5, \"#f7f7f7\"], [0.6, \"#e6f5d0\"], [0.7, \"#b8e186\"], [0.8, \"#7fbc41\"], [0.9, \"#4d9221\"], [1, \"#276419\"]], \"sequential\": [[0.0, \"#0d0887\"], [0.1111111111111111, \"#46039f\"], [0.2222222222222222, \"#7201a8\"], [0.3333333333333333, \"#9c179e\"], [0.4444444444444444, \"#bd3786\"], [0.5555555555555556, \"#d8576b\"], [0.6666666666666666, \"#ed7953\"], [0.7777777777777778, \"#fb9f3a\"], [0.8888888888888888, \"#fdca26\"], [1.0, \"#f0f921\"]], \"sequentialminus\": [[0.0, \"#0d0887\"], [0.1111111111111111, \"#46039f\"], [0.2222222222222222, \"#7201a8\"], [0.3333333333333333, \"#9c179e\"], [0.4444444444444444, \"#bd3786\"], [0.5555555555555556, \"#d8576b\"], [0.6666666666666666, \"#ed7953\"], [0.7777777777777778, \"#fb9f3a\"], [0.8888888888888888, \"#fdca26\"], [1.0, \"#f0f921\"]]}, \"colorway\": [\"#636efa\", \"#EF553B\", \"#00cc96\", \"#ab63fa\", \"#FFA15A\", \"#19d3f3\", \"#FF6692\", \"#B6E880\", \"#FF97FF\", \"#FECB52\"], \"font\": {\"color\": \"#2a3f5f\"}, \"geo\": {\"bgcolor\": \"white\", \"lakecolor\": \"white\", \"landcolor\": \"#E5ECF6\", \"showlakes\": true, \"showland\": true, \"subunitcolor\": \"white\"}, \"hoverlabel\": {\"align\": \"left\"}, \"hovermode\": \"closest\", \"mapbox\": {\"style\": \"light\"}, \"paper_bgcolor\": \"white\", \"plot_bgcolor\": \"#E5ECF6\", \"polar\": {\"angularaxis\": {\"gridcolor\": \"white\", \"linecolor\": \"white\", \"ticks\": \"\"}, \"bgcolor\": \"#E5ECF6\", \"radialaxis\": {\"gridcolor\": \"white\", \"linecolor\": \"white\", \"ticks\": \"\"}}, \"scene\": {\"xaxis\": {\"backgroundcolor\": \"#E5ECF6\", \"gridcolor\": \"white\", \"gridwidth\": 2, \"linecolor\": \"white\", \"showbackground\": true, \"ticks\": \"\", \"zerolinecolor\": \"white\"}, \"yaxis\": {\"backgroundcolor\": \"#E5ECF6\", \"gridcolor\": \"white\", \"gridwidth\": 2, \"linecolor\": \"white\", \"showbackground\": true, \"ticks\": \"\", \"zerolinecolor\": \"white\"}, \"zaxis\": {\"backgroundcolor\": \"#E5ECF6\", \"gridcolor\": \"white\", \"gridwidth\": 2, \"linecolor\": \"white\", \"showbackground\": true, \"ticks\": \"\", \"zerolinecolor\": \"white\"}}, \"shapedefaults\": {\"line\": {\"color\": \"#2a3f5f\"}}, \"ternary\": {\"aaxis\": {\"gridcolor\": \"white\", \"linecolor\": \"white\", \"ticks\": \"\"}, \"baxis\": {\"gridcolor\": \"white\", \"linecolor\": \"white\", \"ticks\": \"\"}, \"bgcolor\": \"#E5ECF6\", \"caxis\": {\"gridcolor\": \"white\", \"linecolor\": \"white\", \"ticks\": \"\"}}, \"title\": {\"x\": 0.05}, \"xaxis\": {\"automargin\": true, \"gridcolor\": \"white\", \"linecolor\": \"white\", \"ticks\": \"\", \"title\": {\"standoff\": 15}, \"zerolinecolor\": \"white\", \"zerolinewidth\": 2}, \"yaxis\": {\"automargin\": true, \"gridcolor\": \"white\", \"linecolor\": \"white\", \"ticks\": \"\", \"title\": {\"standoff\": 15}, \"zerolinecolor\": \"white\", \"zerolinewidth\": 2}}}, \"xaxis\": {\"title\": {\"text\": \"Frequency (%)\"}}, \"yaxis\": {\"title\": {\"text\": \"Dispersion (Normalised D<sub>KL</sub>)\"}}},\n",
       "                        {\"responsive\": true}\n",
       "                    ).then(function(){\n",
       "                            \n",
       "var gd = document.getElementById('f4c88d16-e161-43b6-90e8-bab934402ac7');\n",
       "var x = new MutationObserver(function (mutations, observer) {{\n",
       "        var display = window.getComputedStyle(gd).display;\n",
       "        if (!display || display === 'none') {{\n",
       "            console.log([gd, 'removed!']);\n",
       "            Plotly.purge(gd);\n",
       "            observer.disconnect();\n",
       "        }}\n",
       "}});\n",
       "\n",
       "// Listen for the removal of the full notebook cells\n",
       "var notebookContainer = gd.closest('#notebook-container');\n",
       "if (notebookContainer) {{\n",
       "    x.observe(notebookContainer, {childList: true});\n",
       "}}\n",
       "\n",
       "// Listen for the clearing of the current output cell\n",
       "var outputEl = gd.closest('.output');\n",
       "if (outputEl) {{\n",
       "    x.observe(outputEl, {childList: true});\n",
       "}}\n",
       "\n",
       "                        })\n",
       "                };\n",
       "                });\n",
       "            </script>\n",
       "        </div>"
      ]
     },
     "metadata": {},
     "output_type": "display_data"
    },
    {
     "data": {
      "image/png": "[encoded data removed]",
      "text/plain": [
       "<IPython.core.display.Image object>"
      ]
     },
     "execution_count": 19,
     "metadata": {},
     "output_type": "execute_result"
    }
   ],
   "source": [
    "## this plots DKL values against frequency, with anomalies marked\n",
    "\n",
    "organised_data = frequencies_pf.sort_values(by='[0, 1, 6]')\n",
    "first_organised_data = organised_data.iloc[:len(organised_data.index)-4, :]\n",
    "second_organised_data = organised_data.iloc[len(organised_data.index)-4:len(organised_data.index)-3, :]\n",
    "third_organised_data = organised_data.iloc[len(organised_data.index)-3:len(organised_data.index)-1, :]\n",
    "fourth_organised_data = organised_data.iloc[len(organised_data.index)-1:, :]\n",
    "\n",
    "fig = go.Figure()\n",
    "fig.add_trace(go.Scatter(x = first_organised_data['[0, 1, 6]'], y = first_organised_data['DKL Values'], mode='markers', text=first_organised_data.index.values, textposition=\"bottom center\", textfont_size=9))\n",
    "fig.add_trace(go.Scatter(x = second_organised_data['[0, 1, 6]'], y = second_organised_data['DKL Values'], mode='markers+text', text=second_organised_data.index.values, textposition=\"bottom center\", textfont_size=9))\n",
    "fig.add_trace(go.Scatter(x = third_organised_data['[0, 1, 6]'], y = third_organised_data['DKL Values'], mode='markers', text=third_organised_data.index.values, textposition=\"top center\", textfont_size=9))\n",
    "fig.add_trace(go.Scatter(x = fourth_organised_data['[0, 1, 6]'], y = fourth_organised_data['DKL Values'], mode='markers+text', text=fourth_organised_data.index.values, textposition=\"top center\", textfont_size=9))\n",
    "fig.update_layout(xaxis=(dict(title={'text': 'Frequency (%)'})))\n",
    "fig.update_layout(yaxis=(dict(title={'text': 'Dispersion (Normalised D<sub>KL</sub>)'})))\n",
    "fig.update_traces(marker_color='rgb(3,199,45)', marker_line_color='rgb(3,35,134)', marker_line_width=1.5, opacity=0.6)\n",
    "fig.update_layout(font=dict(family=\"Baskerville, monospace\", size=12, color='rgb(0,0,0)'))\n",
    "fig.update_layout(showlegend=False)\n",
    "fig.update_layout(margin={'l': 0, 'r': 0, 't': 0, 'b': 0})\n",
    "img_bytes = fig.to_image(format=\"png\", width=800, height=400, scale=1)\n",
    "fig.show()\n",
    "Image(img_bytes)"
   ]
  },
  {
   "cell_type": "code",
   "execution_count": null,
   "metadata": {},
   "outputs": [],
   "source": []
  }
 ],
 "metadata": {
  "kernelspec": {
   "display_name": "Python 3",
   "language": "python",
   "name": "python3"
  },
  "language_info": {
   "codemirror_mode": {
    "name": "ipython",
    "version": 3
   },
   "file_extension": ".py",
   "mimetype": "text/x-python",
   "name": "python",
   "nbconvert_exporter": "python",
   "pygments_lexer": "ipython3",
   "version": "3.7.4"
  }
 },
 "nbformat": 4,
 "nbformat_minor": 2
}
